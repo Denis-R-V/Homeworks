{
 "cells": [
  {
   "cell_type": "markdown",
   "metadata": {},
   "source": [
    "[![Open In Colab](https://colab.research.google.com/assets/colab-badge.svg)](https://colab.research.google.com/github/Denis-R-V/Homeworks/blob/main/Part_3/Task_4_ML2.ipynb)"
   ]
  },
  {
   "cell_type": "code",
   "execution_count": 1,
   "metadata": {},
   "outputs": [],
   "source": [
    "import pandas as pd\n",
    "import numpy as np\n",
    "from sklearn.model_selection import train_test_split, cross_val_score, GridSearchCV\n",
    "from sklearn.preprocessing import LabelEncoder\n",
    "from sklearn.tree import DecisionTreeClassifier\n",
    "from sklearn.ensemble import BaggingClassifier, RandomForestClassifier, GradientBoostingClassifier, StackingClassifier\n",
    "from sklearn.metrics import accuracy_score\n",
    "from xgboost import XGBClassifier\n",
    "from lightgbm import LGBMClassifier\n",
    "from catboost import CatBoostClassifier\n",
    "import optuna\n",
    "import plotly.express as px"
   ]
  },
  {
   "cell_type": "markdown",
   "metadata": {},
   "source": [
    "https://archive.ics.uci.edu/ml/datasets/wine+quality"
   ]
  },
  {
   "cell_type": "code",
   "execution_count": 2,
   "metadata": {},
   "outputs": [],
   "source": [
    "# данные можно взять с сайта\n",
    "link = 'https://archive.ics.uci.edu/ml/machine-learning-databases/wine-quality/winequality-red.csv'\n",
    "data = pd.read_csv(link, sep = ';')"
   ]
  },
  {
   "cell_type": "code",
   "execution_count": 3,
   "metadata": {},
   "outputs": [
    {
     "data": {
      "text/html": [
       "<div>\n",
       "<style scoped>\n",
       "    .dataframe tbody tr th:only-of-type {\n",
       "        vertical-align: middle;\n",
       "    }\n",
       "\n",
       "    .dataframe tbody tr th {\n",
       "        vertical-align: top;\n",
       "    }\n",
       "\n",
       "    .dataframe thead th {\n",
       "        text-align: right;\n",
       "    }\n",
       "</style>\n",
       "<table border=\"1\" class=\"dataframe\">\n",
       "  <thead>\n",
       "    <tr style=\"text-align: right;\">\n",
       "      <th></th>\n",
       "      <th>fixed acidity</th>\n",
       "      <th>volatile acidity</th>\n",
       "      <th>citric acid</th>\n",
       "      <th>residual sugar</th>\n",
       "      <th>chlorides</th>\n",
       "      <th>free sulfur dioxide</th>\n",
       "      <th>total sulfur dioxide</th>\n",
       "      <th>density</th>\n",
       "      <th>pH</th>\n",
       "      <th>sulphates</th>\n",
       "      <th>alcohol</th>\n",
       "      <th>quality</th>\n",
       "    </tr>\n",
       "  </thead>\n",
       "  <tbody>\n",
       "    <tr>\n",
       "      <th>0</th>\n",
       "      <td>7.4</td>\n",
       "      <td>0.70</td>\n",
       "      <td>0.00</td>\n",
       "      <td>1.9</td>\n",
       "      <td>0.076</td>\n",
       "      <td>11.0</td>\n",
       "      <td>34.0</td>\n",
       "      <td>0.9978</td>\n",
       "      <td>3.51</td>\n",
       "      <td>0.56</td>\n",
       "      <td>9.4</td>\n",
       "      <td>5</td>\n",
       "    </tr>\n",
       "    <tr>\n",
       "      <th>1</th>\n",
       "      <td>7.8</td>\n",
       "      <td>0.88</td>\n",
       "      <td>0.00</td>\n",
       "      <td>2.6</td>\n",
       "      <td>0.098</td>\n",
       "      <td>25.0</td>\n",
       "      <td>67.0</td>\n",
       "      <td>0.9968</td>\n",
       "      <td>3.20</td>\n",
       "      <td>0.68</td>\n",
       "      <td>9.8</td>\n",
       "      <td>5</td>\n",
       "    </tr>\n",
       "    <tr>\n",
       "      <th>2</th>\n",
       "      <td>7.8</td>\n",
       "      <td>0.76</td>\n",
       "      <td>0.04</td>\n",
       "      <td>2.3</td>\n",
       "      <td>0.092</td>\n",
       "      <td>15.0</td>\n",
       "      <td>54.0</td>\n",
       "      <td>0.9970</td>\n",
       "      <td>3.26</td>\n",
       "      <td>0.65</td>\n",
       "      <td>9.8</td>\n",
       "      <td>5</td>\n",
       "    </tr>\n",
       "  </tbody>\n",
       "</table>\n",
       "</div>"
      ],
      "text/plain": [
       "   fixed acidity  volatile acidity  citric acid  residual sugar  chlorides  \\\n",
       "0            7.4              0.70         0.00             1.9      0.076   \n",
       "1            7.8              0.88         0.00             2.6      0.098   \n",
       "2            7.8              0.76         0.04             2.3      0.092   \n",
       "\n",
       "   free sulfur dioxide  total sulfur dioxide  density    pH  sulphates  \\\n",
       "0                 11.0                  34.0   0.9978  3.51       0.56   \n",
       "1                 25.0                  67.0   0.9968  3.20       0.68   \n",
       "2                 15.0                  54.0   0.9970  3.26       0.65   \n",
       "\n",
       "   alcohol  quality  \n",
       "0      9.4        5  \n",
       "1      9.8        5  \n",
       "2      9.8        5  "
      ]
     },
     "execution_count": 3,
     "metadata": {},
     "output_type": "execute_result"
    }
   ],
   "source": [
    "# загразка датасета из локального файла\n",
    "data = pd.read_csv('winequality-red.csv', sep = ';')\n",
    "data.head(3)"
   ]
  },
  {
   "cell_type": "markdown",
   "metadata": {},
   "source": [
    "# 1.Разделите выборку на обучающую и тестовую в отношении 70%/30%"
   ]
  },
  {
   "cell_type": "markdown",
   "metadata": {},
   "source": [
    "Разделим выборку на признаки и целевую переменную"
   ]
  },
  {
   "cell_type": "code",
   "execution_count": 4,
   "metadata": {},
   "outputs": [
    {
     "data": {
      "text/html": [
       "<div>\n",
       "<style scoped>\n",
       "    .dataframe tbody tr th:only-of-type {\n",
       "        vertical-align: middle;\n",
       "    }\n",
       "\n",
       "    .dataframe tbody tr th {\n",
       "        vertical-align: top;\n",
       "    }\n",
       "\n",
       "    .dataframe thead th {\n",
       "        text-align: right;\n",
       "    }\n",
       "</style>\n",
       "<table border=\"1\" class=\"dataframe\">\n",
       "  <thead>\n",
       "    <tr style=\"text-align: right;\">\n",
       "      <th></th>\n",
       "      <th>fixed acidity</th>\n",
       "      <th>volatile acidity</th>\n",
       "      <th>citric acid</th>\n",
       "      <th>residual sugar</th>\n",
       "      <th>chlorides</th>\n",
       "      <th>free sulfur dioxide</th>\n",
       "      <th>total sulfur dioxide</th>\n",
       "      <th>density</th>\n",
       "      <th>pH</th>\n",
       "      <th>sulphates</th>\n",
       "      <th>alcohol</th>\n",
       "    </tr>\n",
       "  </thead>\n",
       "  <tbody>\n",
       "    <tr>\n",
       "      <th>0</th>\n",
       "      <td>7.4</td>\n",
       "      <td>0.70</td>\n",
       "      <td>0.00</td>\n",
       "      <td>1.9</td>\n",
       "      <td>0.076</td>\n",
       "      <td>11.0</td>\n",
       "      <td>34.0</td>\n",
       "      <td>0.9978</td>\n",
       "      <td>3.51</td>\n",
       "      <td>0.56</td>\n",
       "      <td>9.4</td>\n",
       "    </tr>\n",
       "    <tr>\n",
       "      <th>1</th>\n",
       "      <td>7.8</td>\n",
       "      <td>0.88</td>\n",
       "      <td>0.00</td>\n",
       "      <td>2.6</td>\n",
       "      <td>0.098</td>\n",
       "      <td>25.0</td>\n",
       "      <td>67.0</td>\n",
       "      <td>0.9968</td>\n",
       "      <td>3.20</td>\n",
       "      <td>0.68</td>\n",
       "      <td>9.8</td>\n",
       "    </tr>\n",
       "    <tr>\n",
       "      <th>2</th>\n",
       "      <td>7.8</td>\n",
       "      <td>0.76</td>\n",
       "      <td>0.04</td>\n",
       "      <td>2.3</td>\n",
       "      <td>0.092</td>\n",
       "      <td>15.0</td>\n",
       "      <td>54.0</td>\n",
       "      <td>0.9970</td>\n",
       "      <td>3.26</td>\n",
       "      <td>0.65</td>\n",
       "      <td>9.8</td>\n",
       "    </tr>\n",
       "  </tbody>\n",
       "</table>\n",
       "</div>"
      ],
      "text/plain": [
       "   fixed acidity  volatile acidity  citric acid  residual sugar  chlorides  \\\n",
       "0            7.4              0.70         0.00             1.9      0.076   \n",
       "1            7.8              0.88         0.00             2.6      0.098   \n",
       "2            7.8              0.76         0.04             2.3      0.092   \n",
       "\n",
       "   free sulfur dioxide  total sulfur dioxide  density    pH  sulphates  \\\n",
       "0                 11.0                  34.0   0.9978  3.51       0.56   \n",
       "1                 25.0                  67.0   0.9968  3.20       0.68   \n",
       "2                 15.0                  54.0   0.9970  3.26       0.65   \n",
       "\n",
       "   alcohol  \n",
       "0      9.4  \n",
       "1      9.8  \n",
       "2      9.8  "
      ]
     },
     "execution_count": 4,
     "metadata": {},
     "output_type": "execute_result"
    }
   ],
   "source": [
    "X = data.iloc[:,:11].copy()\n",
    "X.head(3)"
   ]
  },
  {
   "cell_type": "code",
   "execution_count": 5,
   "metadata": {},
   "outputs": [
    {
     "data": {
      "text/plain": [
       "0    5\n",
       "1    5\n",
       "2    5\n",
       "Name: quality, dtype: int64"
      ]
     },
     "execution_count": 5,
     "metadata": {},
     "output_type": "execute_result"
    }
   ],
   "source": [
    "y = data['quality'].copy()\n",
    "y.head(3)"
   ]
  },
  {
   "cell_type": "markdown",
   "metadata": {},
   "source": [
    "XGBoost ругается на целевую переменную:  \n",
    "ValueError: Invalid classes inferred from unique values of `y`.  Expected: [0 1 2 3 4 5], got [3 4 5 6 7 8]  \n",
    "Для устранения ошибки можно кодировать целевую переменную с помощью LabelEncoder"
   ]
  },
  {
   "cell_type": "code",
   "execution_count": 6,
   "metadata": {},
   "outputs": [],
   "source": [
    "y_encoder = LabelEncoder()\n",
    "# преобразованный y_train и y_test\n",
    "y_enc = y_encoder.fit_transform(y)"
   ]
  },
  {
   "cell_type": "code",
   "execution_count": 7,
   "metadata": {},
   "outputs": [
    {
     "data": {
      "text/plain": [
       "array([5, 5, 5, ..., 6, 5, 6], dtype=int64)"
      ]
     },
     "execution_count": 7,
     "metadata": {},
     "output_type": "execute_result"
    }
   ],
   "source": [
    "# Обратное преобразование для получение исходных целевых переменных после предсказания\n",
    "y_encoder.inverse_transform(y_enc)"
   ]
  },
  {
   "cell_type": "code",
   "execution_count": 8,
   "metadata": {},
   "outputs": [
    {
     "data": {
      "text/plain": [
       "array([ True])"
      ]
     },
     "execution_count": 8,
     "metadata": {},
     "output_type": "execute_result"
    }
   ],
   "source": [
    "# элементы целевой переменной до преобразования и после прямого и обратного преобразований равны\n",
    "(y == y_encoder.inverse_transform(y_enc)).unique()"
   ]
  },
  {
   "cell_type": "markdown",
   "metadata": {},
   "source": [
    "Разделим выборку на обучающую и тестовую"
   ]
  },
  {
   "cell_type": "code",
   "execution_count": 9,
   "metadata": {},
   "outputs": [],
   "source": [
    "# для повторяемости результата зафиксируем randome state\n",
    "RANDOM_STATE = 42"
   ]
  },
  {
   "cell_type": "code",
   "execution_count": 10,
   "metadata": {},
   "outputs": [
    {
     "data": {
      "text/plain": [
       "((1119, 11), (480, 11), (1119,), (480,))"
      ]
     },
     "execution_count": 10,
     "metadata": {},
     "output_type": "execute_result"
    }
   ],
   "source": [
    "# Разбиваем выборку на обучающую и тестовую с помьщью функции train_test_split\n",
    "X_train, X_test, y_train, y_test = train_test_split(X, y_enc, train_size=0.7, random_state=RANDOM_STATE)  # добавляем random stete для повторяемости результата\n",
    "\n",
    "# Выводим размеры тестовой и обучающей выборок и целевой переменной\n",
    "X_train.shape, X_test.shape, y_train.shape, y_test.shape"
   ]
  },
  {
   "cell_type": "markdown",
   "metadata": {},
   "source": [
    "# 2.Оцените качество по метрике accuracy для классификаторов:\n",
    "- DecisionTreeClassifier\n",
    "- BaggingClassifier со 100 деревьями\n",
    "- RandomForestClassifier со 100 деревьями\n",
    "## Сравните результаты и напишите какой вывод можно сделать."
   ]
  },
  {
   "cell_type": "markdown",
   "metadata": {},
   "source": [
    "DecisionTreeClassifier"
   ]
  },
  {
   "cell_type": "code",
   "execution_count": 11,
   "metadata": {},
   "outputs": [
    {
     "name": "stdout",
     "output_type": "stream",
     "text": [
      "Accuracy DecisionTreeClassifier: 0.572917\n"
     ]
    }
   ],
   "source": [
    "DecTreeClas = DecisionTreeClassifier(random_state=RANDOM_STATE)\n",
    "DecTreeClas.fit(X_train, y_train)\n",
    "DecTreeClas_accaracy = accuracy_score(y_test, DecTreeClas.predict(X_test))\n",
    "print(f\"Accuracy DecisionTreeClassifier: {DecTreeClas_accaracy:.6f}\")"
   ]
  },
  {
   "cell_type": "markdown",
   "metadata": {},
   "source": [
    "BaggingClassifier со 100 деревьями"
   ]
  },
  {
   "cell_type": "code",
   "execution_count": 12,
   "metadata": {},
   "outputs": [
    {
     "name": "stdout",
     "output_type": "stream",
     "text": [
      "Accuracy BaggingClassifier: 0.641667\n"
     ]
    }
   ],
   "source": [
    "BaggClas = BaggingClassifier(n_estimators=100, random_state=RANDOM_STATE)\n",
    "BaggClas.fit(X_train, y_train)\n",
    "BaggClas_accaracy = accuracy_score(y_test, BaggClas.predict(X_test))\n",
    "print(f\"Accuracy BaggingClassifier: {BaggClas_accaracy:.6f}\")"
   ]
  },
  {
   "cell_type": "markdown",
   "metadata": {},
   "source": [
    "RandomForestClassifier со 100 деревьями"
   ]
  },
  {
   "cell_type": "code",
   "execution_count": 13,
   "metadata": {},
   "outputs": [
    {
     "name": "stdout",
     "output_type": "stream",
     "text": [
      "Accuracy RandomForestClassifier: 0.654167\n"
     ]
    }
   ],
   "source": [
    "RandFrstClas = RandomForestClassifier(n_estimators=100, random_state=RANDOM_STATE)\n",
    "RandFrstClas.fit(X_train, y_train)\n",
    "RandFrstClas_accaracy = accuracy_score(y_test, RandFrstClas.predict(X_test))\n",
    "print(f\"Accuracy RandomForestClassifier: {RandFrstClas_accaracy:.6f}\")"
   ]
  },
  {
   "cell_type": "markdown",
   "metadata": {},
   "source": [
    "Вывод: ансамблевые методы классификации (BaggingClassifier и RandomForestClassifier) отработали значительно лучше, чем простое дерево решений."
   ]
  },
  {
   "cell_type": "markdown",
   "metadata": {},
   "source": [
    "# 3.Посчитайте качество на тестовой выборке по метрике accuracy для классификатора RandomForestClassifier, используя значения деревьев: 10, 50, 100, 200, далее с шагом 200 до 5000 деревьев. Постройте график зависимости качества от числа деревьев."
   ]
  },
  {
   "cell_type": "markdown",
   "metadata": {},
   "source": [
    "Список количества деревьев для цикла"
   ]
  },
  {
   "cell_type": "code",
   "execution_count": 14,
   "metadata": {},
   "outputs": [
    {
     "name": "stdout",
     "output_type": "stream",
     "text": [
      "[10, 50, 100, 200, 400, 600, 800, 1000, 1200, 1400, 1600, 1800, 2000, 2200, 2400, 2600, 2800, 3000, 3200, 3400, 3600, 3800, 4000, 4200, 4400, 4600, 4800, 5000]\n"
     ]
    }
   ],
   "source": [
    "n_estimators = [10, 50, 100] + list(range(200, 5001, 200))\n",
    "print(n_estimators)"
   ]
  },
  {
   "cell_type": "markdown",
   "metadata": {},
   "source": [
    "Обучение моделей по заданному количеству деревьев из списка и расчет метрик accuracy на тестовых данных"
   ]
  },
  {
   "cell_type": "code",
   "execution_count": 15,
   "metadata": {},
   "outputs": [
    {
     "data": {
      "text/plain": [
       "{10: 0.6333333333333333,\n",
       " 50: 0.6520833333333333,\n",
       " 100: 0.6541666666666667,\n",
       " 200: 0.6645833333333333,\n",
       " 400: 0.6625,\n",
       " 600: 0.6645833333333333,\n",
       " 800: 0.6645833333333333,\n",
       " 1000: 0.6645833333333333,\n",
       " 1200: 0.6604166666666667,\n",
       " 1400: 0.6645833333333333,\n",
       " 1600: 0.6604166666666667,\n",
       " 1800: 0.6625,\n",
       " 2000: 0.66875,\n",
       " 2200: 0.66875,\n",
       " 2400: 0.66875,\n",
       " 2600: 0.6666666666666666,\n",
       " 2800: 0.66875,\n",
       " 3000: 0.6708333333333333,\n",
       " 3200: 0.66875,\n",
       " 3400: 0.6645833333333333,\n",
       " 3600: 0.6645833333333333,\n",
       " 3800: 0.66875,\n",
       " 4000: 0.66875,\n",
       " 4200: 0.6708333333333333,\n",
       " 4400: 0.6666666666666666,\n",
       " 4600: 0.6645833333333333,\n",
       " 4800: 0.6666666666666666,\n",
       " 5000: 0.66875}"
      ]
     },
     "execution_count": 15,
     "metadata": {},
     "output_type": "execute_result"
    }
   ],
   "source": [
    "RandFrstClas_estim_accuracy = {}\n",
    "for i in n_estimators:\n",
    "    RandFrstClas_temp = RandomForestClassifier(n_estimators=i, random_state=RANDOM_STATE)\n",
    "    RandFrstClas_temp.fit(X_train, y_train)\n",
    "    RandFrstClas_temp_accaracy = accuracy_score(y_test, RandFrstClas_temp.predict(X_test))\n",
    "    RandFrstClas_estim_accuracy[i] = RandFrstClas_temp_accaracy\n",
    "RandFrstClas_estim_accuracy"
   ]
  },
  {
   "cell_type": "markdown",
   "metadata": {},
   "source": [
    "Визуализация результатов"
   ]
  },
  {
   "cell_type": "code",
   "execution_count": 16,
   "metadata": {},
   "outputs": [
    {
     "data": {
      "application/vnd.plotly.v1+json": {
       "config": {
        "plotlyServerURL": "https://plot.ly"
       },
       "data": [
        {
         "hovertemplate": "Метрика=accuracy<br>Количество деревьев=%{x}<br>Значение метрики=%{y}<extra></extra>",
         "legendgroup": "accuracy",
         "line": {
          "color": "red",
          "dash": "solid"
         },
         "marker": {
          "symbol": "circle"
         },
         "mode": "markers+lines",
         "name": "accuracy",
         "orientation": "v",
         "showlegend": true,
         "type": "scatter",
         "x": [
          10,
          50,
          100,
          200,
          400,
          600,
          800,
          1000,
          1200,
          1400,
          1600,
          1800,
          2000,
          2200,
          2400,
          2600,
          2800,
          3000,
          3200,
          3400,
          3600,
          3800,
          4000,
          4200,
          4400,
          4600,
          4800,
          5000
         ],
         "xaxis": "x",
         "y": [
          0.6333333333333333,
          0.6520833333333333,
          0.6541666666666667,
          0.6645833333333333,
          0.6625,
          0.6645833333333333,
          0.6645833333333333,
          0.6645833333333333,
          0.6604166666666667,
          0.6645833333333333,
          0.6604166666666667,
          0.6625,
          0.66875,
          0.66875,
          0.66875,
          0.6666666666666666,
          0.66875,
          0.6708333333333333,
          0.66875,
          0.6645833333333333,
          0.6645833333333333,
          0.66875,
          0.66875,
          0.6708333333333333,
          0.6666666666666666,
          0.6645833333333333,
          0.6666666666666666,
          0.66875
         ],
         "yaxis": "y"
        }
       ],
       "layout": {
        "legend": {
         "title": {
          "text": "Метрика"
         },
         "tracegroupgap": 0
        },
        "template": {
         "data": {
          "bar": [
           {
            "error_x": {
             "color": "#2a3f5f"
            },
            "error_y": {
             "color": "#2a3f5f"
            },
            "marker": {
             "line": {
              "color": "#E5ECF6",
              "width": 0.5
             },
             "pattern": {
              "fillmode": "overlay",
              "size": 10,
              "solidity": 0.2
             }
            },
            "type": "bar"
           }
          ],
          "barpolar": [
           {
            "marker": {
             "line": {
              "color": "#E5ECF6",
              "width": 0.5
             },
             "pattern": {
              "fillmode": "overlay",
              "size": 10,
              "solidity": 0.2
             }
            },
            "type": "barpolar"
           }
          ],
          "carpet": [
           {
            "aaxis": {
             "endlinecolor": "#2a3f5f",
             "gridcolor": "white",
             "linecolor": "white",
             "minorgridcolor": "white",
             "startlinecolor": "#2a3f5f"
            },
            "baxis": {
             "endlinecolor": "#2a3f5f",
             "gridcolor": "white",
             "linecolor": "white",
             "minorgridcolor": "white",
             "startlinecolor": "#2a3f5f"
            },
            "type": "carpet"
           }
          ],
          "choropleth": [
           {
            "colorbar": {
             "outlinewidth": 0,
             "ticks": ""
            },
            "type": "choropleth"
           }
          ],
          "contour": [
           {
            "colorbar": {
             "outlinewidth": 0,
             "ticks": ""
            },
            "colorscale": [
             [
              0,
              "#0d0887"
             ],
             [
              0.1111111111111111,
              "#46039f"
             ],
             [
              0.2222222222222222,
              "#7201a8"
             ],
             [
              0.3333333333333333,
              "#9c179e"
             ],
             [
              0.4444444444444444,
              "#bd3786"
             ],
             [
              0.5555555555555556,
              "#d8576b"
             ],
             [
              0.6666666666666666,
              "#ed7953"
             ],
             [
              0.7777777777777778,
              "#fb9f3a"
             ],
             [
              0.8888888888888888,
              "#fdca26"
             ],
             [
              1,
              "#f0f921"
             ]
            ],
            "type": "contour"
           }
          ],
          "contourcarpet": [
           {
            "colorbar": {
             "outlinewidth": 0,
             "ticks": ""
            },
            "type": "contourcarpet"
           }
          ],
          "heatmap": [
           {
            "colorbar": {
             "outlinewidth": 0,
             "ticks": ""
            },
            "colorscale": [
             [
              0,
              "#0d0887"
             ],
             [
              0.1111111111111111,
              "#46039f"
             ],
             [
              0.2222222222222222,
              "#7201a8"
             ],
             [
              0.3333333333333333,
              "#9c179e"
             ],
             [
              0.4444444444444444,
              "#bd3786"
             ],
             [
              0.5555555555555556,
              "#d8576b"
             ],
             [
              0.6666666666666666,
              "#ed7953"
             ],
             [
              0.7777777777777778,
              "#fb9f3a"
             ],
             [
              0.8888888888888888,
              "#fdca26"
             ],
             [
              1,
              "#f0f921"
             ]
            ],
            "type": "heatmap"
           }
          ],
          "heatmapgl": [
           {
            "colorbar": {
             "outlinewidth": 0,
             "ticks": ""
            },
            "colorscale": [
             [
              0,
              "#0d0887"
             ],
             [
              0.1111111111111111,
              "#46039f"
             ],
             [
              0.2222222222222222,
              "#7201a8"
             ],
             [
              0.3333333333333333,
              "#9c179e"
             ],
             [
              0.4444444444444444,
              "#bd3786"
             ],
             [
              0.5555555555555556,
              "#d8576b"
             ],
             [
              0.6666666666666666,
              "#ed7953"
             ],
             [
              0.7777777777777778,
              "#fb9f3a"
             ],
             [
              0.8888888888888888,
              "#fdca26"
             ],
             [
              1,
              "#f0f921"
             ]
            ],
            "type": "heatmapgl"
           }
          ],
          "histogram": [
           {
            "marker": {
             "pattern": {
              "fillmode": "overlay",
              "size": 10,
              "solidity": 0.2
             }
            },
            "type": "histogram"
           }
          ],
          "histogram2d": [
           {
            "colorbar": {
             "outlinewidth": 0,
             "ticks": ""
            },
            "colorscale": [
             [
              0,
              "#0d0887"
             ],
             [
              0.1111111111111111,
              "#46039f"
             ],
             [
              0.2222222222222222,
              "#7201a8"
             ],
             [
              0.3333333333333333,
              "#9c179e"
             ],
             [
              0.4444444444444444,
              "#bd3786"
             ],
             [
              0.5555555555555556,
              "#d8576b"
             ],
             [
              0.6666666666666666,
              "#ed7953"
             ],
             [
              0.7777777777777778,
              "#fb9f3a"
             ],
             [
              0.8888888888888888,
              "#fdca26"
             ],
             [
              1,
              "#f0f921"
             ]
            ],
            "type": "histogram2d"
           }
          ],
          "histogram2dcontour": [
           {
            "colorbar": {
             "outlinewidth": 0,
             "ticks": ""
            },
            "colorscale": [
             [
              0,
              "#0d0887"
             ],
             [
              0.1111111111111111,
              "#46039f"
             ],
             [
              0.2222222222222222,
              "#7201a8"
             ],
             [
              0.3333333333333333,
              "#9c179e"
             ],
             [
              0.4444444444444444,
              "#bd3786"
             ],
             [
              0.5555555555555556,
              "#d8576b"
             ],
             [
              0.6666666666666666,
              "#ed7953"
             ],
             [
              0.7777777777777778,
              "#fb9f3a"
             ],
             [
              0.8888888888888888,
              "#fdca26"
             ],
             [
              1,
              "#f0f921"
             ]
            ],
            "type": "histogram2dcontour"
           }
          ],
          "mesh3d": [
           {
            "colorbar": {
             "outlinewidth": 0,
             "ticks": ""
            },
            "type": "mesh3d"
           }
          ],
          "parcoords": [
           {
            "line": {
             "colorbar": {
              "outlinewidth": 0,
              "ticks": ""
             }
            },
            "type": "parcoords"
           }
          ],
          "pie": [
           {
            "automargin": true,
            "type": "pie"
           }
          ],
          "scatter": [
           {
            "fillpattern": {
             "fillmode": "overlay",
             "size": 10,
             "solidity": 0.2
            },
            "type": "scatter"
           }
          ],
          "scatter3d": [
           {
            "line": {
             "colorbar": {
              "outlinewidth": 0,
              "ticks": ""
             }
            },
            "marker": {
             "colorbar": {
              "outlinewidth": 0,
              "ticks": ""
             }
            },
            "type": "scatter3d"
           }
          ],
          "scattercarpet": [
           {
            "marker": {
             "colorbar": {
              "outlinewidth": 0,
              "ticks": ""
             }
            },
            "type": "scattercarpet"
           }
          ],
          "scattergeo": [
           {
            "marker": {
             "colorbar": {
              "outlinewidth": 0,
              "ticks": ""
             }
            },
            "type": "scattergeo"
           }
          ],
          "scattergl": [
           {
            "marker": {
             "colorbar": {
              "outlinewidth": 0,
              "ticks": ""
             }
            },
            "type": "scattergl"
           }
          ],
          "scattermapbox": [
           {
            "marker": {
             "colorbar": {
              "outlinewidth": 0,
              "ticks": ""
             }
            },
            "type": "scattermapbox"
           }
          ],
          "scatterpolar": [
           {
            "marker": {
             "colorbar": {
              "outlinewidth": 0,
              "ticks": ""
             }
            },
            "type": "scatterpolar"
           }
          ],
          "scatterpolargl": [
           {
            "marker": {
             "colorbar": {
              "outlinewidth": 0,
              "ticks": ""
             }
            },
            "type": "scatterpolargl"
           }
          ],
          "scatterternary": [
           {
            "marker": {
             "colorbar": {
              "outlinewidth": 0,
              "ticks": ""
             }
            },
            "type": "scatterternary"
           }
          ],
          "surface": [
           {
            "colorbar": {
             "outlinewidth": 0,
             "ticks": ""
            },
            "colorscale": [
             [
              0,
              "#0d0887"
             ],
             [
              0.1111111111111111,
              "#46039f"
             ],
             [
              0.2222222222222222,
              "#7201a8"
             ],
             [
              0.3333333333333333,
              "#9c179e"
             ],
             [
              0.4444444444444444,
              "#bd3786"
             ],
             [
              0.5555555555555556,
              "#d8576b"
             ],
             [
              0.6666666666666666,
              "#ed7953"
             ],
             [
              0.7777777777777778,
              "#fb9f3a"
             ],
             [
              0.8888888888888888,
              "#fdca26"
             ],
             [
              1,
              "#f0f921"
             ]
            ],
            "type": "surface"
           }
          ],
          "table": [
           {
            "cells": {
             "fill": {
              "color": "#EBF0F8"
             },
             "line": {
              "color": "white"
             }
            },
            "header": {
             "fill": {
              "color": "#C8D4E3"
             },
             "line": {
              "color": "white"
             }
            },
            "type": "table"
           }
          ]
         },
         "layout": {
          "annotationdefaults": {
           "arrowcolor": "#2a3f5f",
           "arrowhead": 0,
           "arrowwidth": 1
          },
          "autotypenumbers": "strict",
          "coloraxis": {
           "colorbar": {
            "outlinewidth": 0,
            "ticks": ""
           }
          },
          "colorscale": {
           "diverging": [
            [
             0,
             "#8e0152"
            ],
            [
             0.1,
             "#c51b7d"
            ],
            [
             0.2,
             "#de77ae"
            ],
            [
             0.3,
             "#f1b6da"
            ],
            [
             0.4,
             "#fde0ef"
            ],
            [
             0.5,
             "#f7f7f7"
            ],
            [
             0.6,
             "#e6f5d0"
            ],
            [
             0.7,
             "#b8e186"
            ],
            [
             0.8,
             "#7fbc41"
            ],
            [
             0.9,
             "#4d9221"
            ],
            [
             1,
             "#276419"
            ]
           ],
           "sequential": [
            [
             0,
             "#0d0887"
            ],
            [
             0.1111111111111111,
             "#46039f"
            ],
            [
             0.2222222222222222,
             "#7201a8"
            ],
            [
             0.3333333333333333,
             "#9c179e"
            ],
            [
             0.4444444444444444,
             "#bd3786"
            ],
            [
             0.5555555555555556,
             "#d8576b"
            ],
            [
             0.6666666666666666,
             "#ed7953"
            ],
            [
             0.7777777777777778,
             "#fb9f3a"
            ],
            [
             0.8888888888888888,
             "#fdca26"
            ],
            [
             1,
             "#f0f921"
            ]
           ],
           "sequentialminus": [
            [
             0,
             "#0d0887"
            ],
            [
             0.1111111111111111,
             "#46039f"
            ],
            [
             0.2222222222222222,
             "#7201a8"
            ],
            [
             0.3333333333333333,
             "#9c179e"
            ],
            [
             0.4444444444444444,
             "#bd3786"
            ],
            [
             0.5555555555555556,
             "#d8576b"
            ],
            [
             0.6666666666666666,
             "#ed7953"
            ],
            [
             0.7777777777777778,
             "#fb9f3a"
            ],
            [
             0.8888888888888888,
             "#fdca26"
            ],
            [
             1,
             "#f0f921"
            ]
           ]
          },
          "colorway": [
           "#636efa",
           "#EF553B",
           "#00cc96",
           "#ab63fa",
           "#FFA15A",
           "#19d3f3",
           "#FF6692",
           "#B6E880",
           "#FF97FF",
           "#FECB52"
          ],
          "font": {
           "color": "#2a3f5f"
          },
          "geo": {
           "bgcolor": "white",
           "lakecolor": "white",
           "landcolor": "#E5ECF6",
           "showlakes": true,
           "showland": true,
           "subunitcolor": "white"
          },
          "hoverlabel": {
           "align": "left"
          },
          "hovermode": "closest",
          "mapbox": {
           "style": "light"
          },
          "paper_bgcolor": "white",
          "plot_bgcolor": "#E5ECF6",
          "polar": {
           "angularaxis": {
            "gridcolor": "white",
            "linecolor": "white",
            "ticks": ""
           },
           "bgcolor": "#E5ECF6",
           "radialaxis": {
            "gridcolor": "white",
            "linecolor": "white",
            "ticks": ""
           }
          },
          "scene": {
           "xaxis": {
            "backgroundcolor": "#E5ECF6",
            "gridcolor": "white",
            "gridwidth": 2,
            "linecolor": "white",
            "showbackground": true,
            "ticks": "",
            "zerolinecolor": "white"
           },
           "yaxis": {
            "backgroundcolor": "#E5ECF6",
            "gridcolor": "white",
            "gridwidth": 2,
            "linecolor": "white",
            "showbackground": true,
            "ticks": "",
            "zerolinecolor": "white"
           },
           "zaxis": {
            "backgroundcolor": "#E5ECF6",
            "gridcolor": "white",
            "gridwidth": 2,
            "linecolor": "white",
            "showbackground": true,
            "ticks": "",
            "zerolinecolor": "white"
           }
          },
          "shapedefaults": {
           "line": {
            "color": "#2a3f5f"
           }
          },
          "ternary": {
           "aaxis": {
            "gridcolor": "white",
            "linecolor": "white",
            "ticks": ""
           },
           "baxis": {
            "gridcolor": "white",
            "linecolor": "white",
            "ticks": ""
           },
           "bgcolor": "#E5ECF6",
           "caxis": {
            "gridcolor": "white",
            "linecolor": "white",
            "ticks": ""
           }
          },
          "title": {
           "x": 0.05
          },
          "xaxis": {
           "automargin": true,
           "gridcolor": "white",
           "linecolor": "white",
           "ticks": "",
           "title": {
            "standoff": 15
           },
           "zerolinecolor": "white",
           "zerolinewidth": 2
          },
          "yaxis": {
           "automargin": true,
           "gridcolor": "white",
           "linecolor": "white",
           "ticks": "",
           "title": {
            "standoff": 15
           },
           "zerolinecolor": "white",
           "zerolinewidth": 2
          }
         }
        },
        "title": {
         "text": "Зависимость качества классификатора RandomForestClassifier от количества деревьев"
        },
        "xaxis": {
         "anchor": "y",
         "domain": [
          0,
          1
         ],
         "title": {
          "text": "Количество деревьев"
         }
        },
        "yaxis": {
         "anchor": "x",
         "domain": [
          0,
          1
         ],
         "title": {
          "text": "Значение метрики"
         }
        }
       }
      }
     },
     "metadata": {},
     "output_type": "display_data"
    }
   ],
   "source": [
    "fig = px.line(pd.DataFrame(data=[RandFrstClas_estim_accuracy]).T.rename(columns={0:'accuracy'}),\n",
    "              labels={'index':'Количество деревьев', 'value':'Значение метрики', 'variable':'Метрика'},\n",
    "              title=\"Зависимость качества классификатора RandomForestClassifier от количества деревьев\",\n",
    "              color_discrete_sequence=['red'],\n",
    "              markers=True)\n",
    "fig.show()"
   ]
  },
  {
   "cell_type": "markdown",
   "metadata": {},
   "source": [
    "Выводы:\n",
    "- при увеличении количества деревьев до 200 качество классификатора RandomForestClassifier растет;\n",
    "- дальнейшее увеличение количества деревьев свыше 200 качество классификатора RandomForestClassifier существенно не повышает."
   ]
  },
  {
   "cell_type": "markdown",
   "metadata": {},
   "source": [
    "# 4.Обучите реализации градиентного бустинга с параметрами по умолчанию из библиотек sklearn и xgboost. Сравните значение метрики accuracy по cross_val_score"
   ]
  },
  {
   "cell_type": "markdown",
   "metadata": {},
   "source": [
    "Градиентный бустинг с параметрами по умолчанию из библиотеки sklearn"
   ]
  },
  {
   "cell_type": "code",
   "execution_count": 17,
   "metadata": {},
   "outputs": [
    {
     "name": "stdout",
     "output_type": "stream",
     "text": [
      "accuracy GradientBoostingClassifier cross_val_score: 0.5653\n"
     ]
    }
   ],
   "source": [
    "GradBst = GradientBoostingClassifier(random_state=RANDOM_STATE)\n",
    "GradBst_accuracy = cross_val_score(GradBst, X, y_enc, cv=5, scoring='accuracy').mean()\n",
    "print(f\"accuracy GradientBoostingClassifier cross_val_score: {GradBst_accuracy:.4f}\")"
   ]
  },
  {
   "cell_type": "markdown",
   "metadata": {},
   "source": [
    "Градиентный бустинг с параметрами по умолчанию из библиотеки xgboost"
   ]
  },
  {
   "cell_type": "code",
   "execution_count": 18,
   "metadata": {},
   "outputs": [
    {
     "name": "stdout",
     "output_type": "stream",
     "text": [
      "accuracy XGBClassifier cross_val_score: 0.5472\n"
     ]
    }
   ],
   "source": [
    "XGBClas = XGBClassifier(random_state=RANDOM_STATE)\n",
    "XGBClas_accuracy = cross_val_score(XGBClas, X, y_enc, cv=5, scoring='accuracy').mean()\n",
    "print(f\"accuracy XGBClassifier cross_val_score: {XGBClas_accuracy:.4f}\")"
   ]
  },
  {
   "cell_type": "markdown",
   "metadata": {},
   "source": [
    "Вывод: с параметрами по умолчанию у GradientBoostingClassifier значение метрики accuracy несколько лучше, чем у XGBClassifier, но скорость работы в 3.5 раза дольше"
   ]
  },
  {
   "cell_type": "markdown",
   "metadata": {},
   "source": [
    "# 5.Подберите оптимальные параметры этих алгоритмов с помощью GridSearchCV(cv=3).\n",
    "Параметры для оптимизации:\n",
    "- скорость обучения\n",
    "- количество деревьев\n",
    "- глубина деревьев  \n",
    "Сравните значение метрики accuracy и скорость работы. Выведите лучшие параметры алгоритмов."
   ]
  },
  {
   "cell_type": "markdown",
   "metadata": {},
   "source": [
    "Параметры для оптимизации"
   ]
  },
  {
   "cell_type": "code",
   "execution_count": 30,
   "metadata": {},
   "outputs": [],
   "source": [
    "parameters = {'learning_rate': [0.0001, 0.001, 0.01, 0.03, 0.06, 0.1, 0.2, 0.3], \n",
    "              'n_estimators':[1, 5, 10, 100, 200, 300, 400, 500, 600, 700],\n",
    "              'max_depth': np.arange(1,7,1)\n",
    "              }"
   ]
  },
  {
   "cell_type": "markdown",
   "metadata": {},
   "source": [
    "Подбор оптимальных параметров для GradientBoostingClassifier с помощью GridSearchCV"
   ]
  },
  {
   "cell_type": "code",
   "execution_count": 20,
   "metadata": {},
   "outputs": [
    {
     "name": "stdout",
     "output_type": "stream",
     "text": [
      "Подобранные параметры для GradientBoostingClassifier:\n"
     ]
    },
    {
     "data": {
      "text/plain": [
       "{'learning_rate': 0.2, 'max_depth': 5, 'n_estimators': 100}"
      ]
     },
     "metadata": {},
     "output_type": "display_data"
    }
   ],
   "source": [
    "GradBst_best = GridSearchCV(GradientBoostingClassifier(random_state=RANDOM_STATE), cv=3,\n",
    "                            param_grid=parameters,\n",
    "                            scoring=('accuracy'))\n",
    "GradBst_best.fit(X_train, y_train)\n",
    "print(\"Подобранные параметры для GradientBoostingClassifier:\")\n",
    "display(GradBst_best.best_params_)"
   ]
  },
  {
   "cell_type": "markdown",
   "metadata": {},
   "source": [
    "Подбор оптимальных параметров для XGBClassifier с помощью GridSearchCV"
   ]
  },
  {
   "cell_type": "code",
   "execution_count": 21,
   "metadata": {},
   "outputs": [
    {
     "name": "stdout",
     "output_type": "stream",
     "text": [
      "Подобранные параметры для XGBClassifier:\n"
     ]
    },
    {
     "data": {
      "text/plain": [
       "{'learning_rate': 0.1, 'max_depth': 4, 'n_estimators': 300}"
      ]
     },
     "metadata": {},
     "output_type": "display_data"
    }
   ],
   "source": [
    "XGBClas_best = GridSearchCV(XGBClassifier(random_state=RANDOM_STATE), cv=3,\n",
    "                            param_grid=parameters,\n",
    "                            scoring=('accuracy'))\n",
    "XGBClas_best.fit(X_train, y_train)\n",
    "\n",
    "print(\"Подобранные параметры для XGBClassifier:\")\n",
    "display(XGBClas_best.best_params_)"
   ]
  },
  {
   "cell_type": "markdown",
   "metadata": {},
   "source": [
    "Сравнение метрик на тестовых данных"
   ]
  },
  {
   "cell_type": "code",
   "execution_count": 22,
   "metadata": {},
   "outputs": [
    {
     "name": "stdout",
     "output_type": "stream",
     "text": [
      "accuracy GradientBoostingClassifier best model test: 0.641667\n",
      "accuracy XGBClassifier best model test:              0.650000\n"
     ]
    }
   ],
   "source": [
    "GradBst_best_accuracy = accuracy_score(y_test, GradBst_best.predict(X_test))\n",
    "XGBClas_best_accuracy = accuracy_score(y_test, XGBClas_best.predict(X_test))\n",
    "print(f\"accuracy GradientBoostingClassifier best model test: {GradBst_best_accuracy:.6f}\")\n",
    "print(f\"accuracy XGBClassifier best model test:              {XGBClas_best_accuracy:.6f}\")"
   ]
  },
  {
   "cell_type": "markdown",
   "metadata": {},
   "source": [
    "Выводы:\n",
    "- с подобранными параметрами на тестовых данных значение метрики для XGBClassifier несколько лучше, чем для GradientBoostingClassifier,\n",
    "- при этом подбор параметров для XGBClassifier отработал в 5 раз быстрее (в моем случае на рассматриваемых данных)"
   ]
  },
  {
   "cell_type": "markdown",
   "metadata": {},
   "source": [
    "# 6.Обучите реализации градиентного бустинга с параметрами по умолчанию из библиотек lightgbm и catboost. Сравните значение метрики accuracy по cross_val_score по всем четырем реализациям."
   ]
  },
  {
   "cell_type": "markdown",
   "metadata": {},
   "source": [
    "Градиентный бустинг с параметрами по умолчанию из библиотеки lightgbm"
   ]
  },
  {
   "cell_type": "code",
   "execution_count": 23,
   "metadata": {},
   "outputs": [
    {
     "name": "stdout",
     "output_type": "stream",
     "text": [
      "accuracy LGBMClassifier cross_val_score: 0.5572\n"
     ]
    }
   ],
   "source": [
    "LiGBM = LGBMClassifier(random_state=RANDOM_STATE)\n",
    "LiGBM_accuracy = cross_val_score(LiGBM, X, y_enc, cv=5, scoring='accuracy').mean()\n",
    "print(f\"accuracy LGBMClassifier cross_val_score: {LiGBM_accuracy:.4f}\")"
   ]
  },
  {
   "cell_type": "markdown",
   "metadata": {},
   "source": [
    "Градиентный бустинг с параметрами по умолчанию из библиотеки catboost"
   ]
  },
  {
   "cell_type": "code",
   "execution_count": 24,
   "metadata": {},
   "outputs": [
    {
     "name": "stdout",
     "output_type": "stream",
     "text": [
      "accuracy CatBoostClassifier cross_val_score: 0.5516\n"
     ]
    }
   ],
   "source": [
    "CatBst = CatBoostClassifier(random_state=RANDOM_STATE, logging_level='Silent')\n",
    "CatBst_accuracy = cross_val_score(CatBst, X, y_enc, cv=5, scoring='accuracy').mean()\n",
    "print(f\"accuracy CatBoostClassifier cross_val_score: {CatBst_accuracy:.4f}\")"
   ]
  },
  {
   "cell_type": "code",
   "execution_count": 25,
   "metadata": {},
   "outputs": [
    {
     "name": "stdout",
     "output_type": "stream",
     "text": [
      "Сравнение значений метрики accuracy для градиентного бустинга из разных библиотек (параметры по умолчанию):\n",
      "accuracy GradientBoostingClassifier cross_val_score: 0.5653\n",
      "accuracy XGBClassifier cross_val_score:              0.5472\n",
      "accuracy LGBMClassifier cross_val_score:             0.5572\n",
      "accuracy CatBoostClassifier cross_val_score:         0.5516\n"
     ]
    }
   ],
   "source": [
    "print(\"Сравнение значений метрики accuracy для градиентного бустинга из разных библиотек (параметры по умолчанию):\")\n",
    "print(f\"accuracy GradientBoostingClassifier cross_val_score: {GradBst_accuracy:.4f}\")\n",
    "print(f\"accuracy XGBClassifier cross_val_score:              {XGBClas_accuracy:.4f}\")\n",
    "print(f\"accuracy LGBMClassifier cross_val_score:             {LiGBM_accuracy:.4f}\")\n",
    "print(f\"accuracy CatBoostClassifier cross_val_score:         {CatBst_accuracy:.4f}\")"
   ]
  },
  {
   "cell_type": "markdown",
   "metadata": {},
   "source": [
    "Выводы:\n",
    "- с параметрами по умолчанию наилучшее значение метрики accuracy у GradientBoostingClassifier;\n",
    "- CatBoostClassifier отработал сравнительно долго и показал не самую лучшую метрику."
   ]
  },
  {
   "cell_type": "markdown",
   "metadata": {},
   "source": [
    "# 7.Подберите оптимальные параметры для алгоритмов градиентного бустинга из библиотек lightgbm и catboost с теми же условиями. Выведите лучшие параметры алгоритмов. Сравните значение метрики accuracy и скорость по этим четырем реализациям."
   ]
  },
  {
   "cell_type": "markdown",
   "metadata": {},
   "source": [
    "Подбор оптимальных параметров для LGBMClassifier с помощью GridSearchCV"
   ]
  },
  {
   "cell_type": "code",
   "execution_count": 26,
   "metadata": {},
   "outputs": [
    {
     "name": "stdout",
     "output_type": "stream",
     "text": [
      "Подобранные параметры для LGBMClassifier:\n"
     ]
    },
    {
     "data": {
      "text/plain": [
       "{'learning_rate': 0.1, 'max_depth': 6, 'n_estimators': 300}"
      ]
     },
     "metadata": {},
     "output_type": "display_data"
    }
   ],
   "source": [
    "LiGBM_best = GridSearchCV(LGBMClassifier(random_state=RANDOM_STATE), cv=3,\n",
    "                            param_grid=parameters,\n",
    "                            scoring=('accuracy'))\n",
    "LiGBM_best.fit(X_train, y_train)\n",
    "print(\"Подобранные параметры для LGBMClassifier:\")\n",
    "display(LiGBM_best.best_params_)"
   ]
  },
  {
   "cell_type": "markdown",
   "metadata": {},
   "source": [
    "Подбор оптимальных параметров для CatBoostClassifier с помощью GridSearchCV"
   ]
  },
  {
   "cell_type": "code",
   "execution_count": 27,
   "metadata": {},
   "outputs": [
    {
     "name": "stdout",
     "output_type": "stream",
     "text": [
      "Подобранные параметры для CatBoostClassifier:\n"
     ]
    },
    {
     "data": {
      "text/plain": [
       "{'learning_rate': 0.1, 'max_depth': 6, 'n_estimators': 300}"
      ]
     },
     "metadata": {},
     "output_type": "display_data"
    }
   ],
   "source": [
    "CatBst_best = GridSearchCV(CatBoostClassifier(random_state=RANDOM_STATE, logging_level='Silent'), cv=3,\n",
    "                           param_grid=parameters,\n",
    "                           scoring=('accuracy')\n",
    "                           )\n",
    "CatBst_best.fit(X_train, y_train)\n",
    "print(\"Подобранные параметры для CatBoostClassifier:\")\n",
    "display(CatBst_best.best_params_)"
   ]
  },
  {
   "cell_type": "markdown",
   "metadata": {},
   "source": [
    "Сравнение метрик алгоритмов с оптимальными параметрами на тестовых данных"
   ]
  },
  {
   "cell_type": "code",
   "execution_count": 28,
   "metadata": {},
   "outputs": [
    {
     "name": "stdout",
     "output_type": "stream",
     "text": [
      "Сравнение значений метрики accuracy для градиентного бустинга из разных библиотек (параметры подобраны с помощью GridSearchCV):\n",
      "accuracy GradientBoostingClassifier best model test: 0.641667\n",
      "accuracy XGBClassifier best model test:              0.650000\n",
      "accuracy LGBMClassifier best model test:             0.662500\n",
      "accuracy CatBoostClassifier best model test:         0.641667\n"
     ]
    }
   ],
   "source": [
    "LiGBM_best_accuracy = accuracy_score(y_test, LiGBM_best.predict(X_test))\n",
    "CatBst_best_accuracy = accuracy_score(y_test, CatBst_best.predict(X_test))\n",
    "print(\"Сравнение значений метрики accuracy для градиентного бустинга из разных библиотек (параметры подобраны с помощью GridSearchCV):\")\n",
    "print(f\"accuracy GradientBoostingClassifier best model test: {GradBst_best_accuracy:.6f}\")\n",
    "print(f\"accuracy XGBClassifier best model test:              {XGBClas_best_accuracy:.6f}\")\n",
    "print(f\"accuracy LGBMClassifier best model test:             {LiGBM_best_accuracy:.6f}\")\n",
    "print(f\"accuracy CatBoostClassifier best model test:         {CatBst_best_accuracy:.6f}\")"
   ]
  },
  {
   "cell_type": "code",
   "execution_count": 45,
   "metadata": {},
   "outputs": [
    {
     "data": {
      "text/html": [
       "<div>\n",
       "<style scoped>\n",
       "    .dataframe tbody tr th:only-of-type {\n",
       "        vertical-align: middle;\n",
       "    }\n",
       "\n",
       "    .dataframe tbody tr th {\n",
       "        vertical-align: top;\n",
       "    }\n",
       "\n",
       "    .dataframe thead tr th {\n",
       "        text-align: left;\n",
       "    }\n",
       "</style>\n",
       "<table border=\"1\" class=\"dataframe\">\n",
       "  <thead>\n",
       "    <tr>\n",
       "      <th>Parameters</th>\n",
       "      <th>Default</th>\n",
       "      <th colspan=\"2\" halign=\"left\">GridSearchCV</th>\n",
       "    </tr>\n",
       "    <tr>\n",
       "      <th>Values</th>\n",
       "      <th>accuracy</th>\n",
       "      <th>accuracy</th>\n",
       "      <th>time</th>\n",
       "    </tr>\n",
       "  </thead>\n",
       "  <tbody>\n",
       "    <tr>\n",
       "      <th>GradientBoostingClassifier</th>\n",
       "      <td>0.565347</td>\n",
       "      <td>0.641667</td>\n",
       "      <td>54m 56.6s</td>\n",
       "    </tr>\n",
       "    <tr>\n",
       "      <th>XGBClassifier</th>\n",
       "      <td>0.547234</td>\n",
       "      <td>0.650000</td>\n",
       "      <td>12m 26.7s</td>\n",
       "    </tr>\n",
       "    <tr>\n",
       "      <th>LGBMClassifier</th>\n",
       "      <td>0.557247</td>\n",
       "      <td>0.662500</td>\n",
       "      <td>6m 58.6s</td>\n",
       "    </tr>\n",
       "    <tr>\n",
       "      <th>CatBoostClassifier</th>\n",
       "      <td>0.551611</td>\n",
       "      <td>0.641667</td>\n",
       "      <td>11m 23.1s</td>\n",
       "    </tr>\n",
       "  </tbody>\n",
       "</table>\n",
       "</div>"
      ],
      "text/plain": [
       "Parameters                   Default GridSearchCV           \n",
       "Values                      accuracy     accuracy       time\n",
       "GradientBoostingClassifier  0.565347     0.641667  54m 56.6s\n",
       "XGBClassifier               0.547234     0.650000  12m 26.7s\n",
       "LGBMClassifier              0.557247     0.662500   6m 58.6s\n",
       "CatBoostClassifier          0.551611     0.641667  11m 23.1s"
      ]
     },
     "execution_count": 45,
     "metadata": {},
     "output_type": "execute_result"
    }
   ],
   "source": [
    "# сведем результаты в таблицу\n",
    "result = pd.DataFrame(data=[[GradBst_accuracy, GradBst_best_accuracy, '54m 56.6s'],\n",
    "                            [XGBClas_accuracy, XGBClas_best_accuracy, '12m 26.7s'],\n",
    "                            [LiGBM_accuracy, LiGBM_best_accuracy, '6m 58.6s'],\n",
    "                            [CatBst_accuracy, CatBst_best_accuracy, '11m 23.1s']],\n",
    "                      index=['GradientBoostingClassifier','XGBClassifier','LGBMClassifier','CatBoostClassifier'],\n",
    "                      columns = pd.MultiIndex.from_tuples([('Default', 'accuracy'), ('GridSearchCV', 'accuracy'), ('GridSearchCV', 'time')],\n",
    "                                                             names=['Parameters', 'Values']))\n",
    "result"
   ]
  },
  {
   "cell_type": "markdown",
   "metadata": {},
   "source": [
    "Выводы:\n",
    "- с подобранными параметрами значение метрик существенно выше для всех алгоритмов, чем с параметрами по умолчанию;\n",
    "- с подобранными параметрами с помощью GridSearchCV наилучшее значение метрики accuracy у алгоритма градиентного бустинга из библиотеки LGBMClassifier;\n",
    "- при этом скорость обучения (подбора параметров) у алгоритма градиентного бустинга из библиотеки LGBMClassifier в разы ниже, чем у алгоритмов из остальных библиотек."
   ]
  },
  {
   "cell_type": "markdown",
   "metadata": {},
   "source": [
    "# 8.Подберите оптимальные параметры алгоритма из библиотеки xgbost с помощью [optuna](https://github.com/optuna/optuna).\n",
    "Параметры для оптимизации:\n",
    "- скорость обучения\n",
    "- количество деревьев\n",
    "- глубина деревьев  \n",
    "Сравните результат с поиском по сетке из sklearn. Выведите лучшие параметры алгоритма, найденные даным способом."
   ]
  },
  {
   "cell_type": "markdown",
   "metadata": {},
   "source": [
    "Подбор параметров с cross_val_score без участия в подборе тестовой выборки"
   ]
  },
  {
   "cell_type": "code",
   "execution_count": 37,
   "metadata": {},
   "outputs": [
    {
     "name": "stderr",
     "output_type": "stream",
     "text": [
      "\u001b[32m[I 2022-11-06 23:00:07,331]\u001b[0m A new study created in memory with name: no-name-2a51a497-f673-4e06-b0e9-223a0344f297\u001b[0m\n",
      "\u001b[32m[I 2022-11-06 23:00:24,155]\u001b[0m Trial 0 finished with value: 0.6273458445040214 and parameters: {'n_estimators': 337, 'max_depth': 6, 'learning_rate': 0.07334688539626455}. Best is trial 0 with value: 0.6273458445040214.\u001b[0m\n",
      "\u001b[32m[I 2022-11-06 23:00:33,765]\u001b[0m Trial 1 finished with value: 0.6264521894548704 and parameters: {'n_estimators': 151, 'max_depth': 9, 'learning_rate': 0.11856677290580031}. Best is trial 0 with value: 0.6273458445040214.\u001b[0m\n",
      "\u001b[32m[I 2022-11-06 23:00:42,928]\u001b[0m Trial 2 finished with value: 0.5987488829311886 and parameters: {'n_estimators': 286, 'max_depth': 9, 'learning_rate': 0.9413202408189493}. Best is trial 0 with value: 0.6273458445040214.\u001b[0m\n",
      "\u001b[32m[I 2022-11-06 23:00:47,295]\u001b[0m Trial 3 finished with value: 0.6193029490616622 and parameters: {'n_estimators': 73, 'max_depth': 16, 'learning_rate': 0.4401355357815374}. Best is trial 0 with value: 0.6273458445040214.\u001b[0m\n",
      "\u001b[32m[I 2022-11-06 23:01:30,730]\u001b[0m Trial 4 finished with value: 0.6264521894548704 and parameters: {'n_estimators': 563, 'max_depth': 12, 'learning_rate': 0.020893082265638796}. Best is trial 0 with value: 0.6273458445040214.\u001b[0m\n",
      "\u001b[32m[I 2022-11-06 23:01:34,294]\u001b[0m Trial 5 finished with value: 0.6139410187667561 and parameters: {'n_estimators': 108, 'max_depth': 3, 'learning_rate': 0.12750219798332318}. Best is trial 0 with value: 0.6273458445040214.\u001b[0m\n",
      "\u001b[32m[I 2022-11-06 23:01:59,615]\u001b[0m Trial 6 finished with value: 0.612153708668454 and parameters: {'n_estimators': 778, 'max_depth': 6, 'learning_rate': 0.29219283363065973}. Best is trial 0 with value: 0.6273458445040214.\u001b[0m\n",
      "\u001b[32m[I 2022-11-06 23:02:12,034]\u001b[0m Trial 7 finished with value: 0.5898123324396783 and parameters: {'n_estimators': 395, 'max_depth': 12, 'learning_rate': 0.9723166783955736}. Best is trial 0 with value: 0.6273458445040214.\u001b[0m\n",
      "\u001b[32m[I 2022-11-06 23:02:35,996]\u001b[0m Trial 8 finished with value: 0.6237712243074173 and parameters: {'n_estimators': 990, 'max_depth': 2, 'learning_rate': 0.11842605391993155}. Best is trial 0 with value: 0.6273458445040214.\u001b[0m\n",
      "\u001b[32m[I 2022-11-06 23:02:49,470]\u001b[0m Trial 9 finished with value: 0.6023235031277926 and parameters: {'n_estimators': 427, 'max_depth': 8, 'learning_rate': 0.727890807272005}. Best is trial 0 with value: 0.6273458445040214.\u001b[0m\n",
      "\u001b[32m[I 2022-11-06 23:03:08,822]\u001b[0m Trial 10 finished with value: 0.6094727435210009 and parameters: {'n_estimators': 606, 'max_depth': 18, 'learning_rate': 0.5782085928970313}. Best is trial 0 with value: 0.6273458445040214.\u001b[0m\n",
      "\u001b[32m[I 2022-11-06 23:03:17,037]\u001b[0m Trial 11 finished with value: 0.6237712243074173 and parameters: {'n_estimators': 217, 'max_depth': 5, 'learning_rate': 0.2792929968979313}. Best is trial 0 with value: 0.6273458445040214.\u001b[0m\n",
      "\u001b[32m[I 2022-11-06 23:03:29,012]\u001b[0m Trial 12 finished with value: 0.6130473637176049 and parameters: {'n_estimators': 252, 'max_depth': 14, 'learning_rate': 0.2472765813975043}. Best is trial 0 with value: 0.6273458445040214.\u001b[0m\n",
      "\u001b[32m[I 2022-11-06 23:03:30,677]\u001b[0m Trial 13 finished with value: 0.5719392314566577 and parameters: {'n_estimators': 22, 'max_depth': 7, 'learning_rate': 0.015896489984214363}. Best is trial 0 with value: 0.6273458445040214.\u001b[0m\n",
      "\u001b[32m[I 2022-11-06 23:03:43,544]\u001b[0m Trial 14 finished with value: 0.6112600536193029 and parameters: {'n_estimators': 348, 'max_depth': 10, 'learning_rate': 0.43631882586702225}. Best is trial 0 with value: 0.6273458445040214.\u001b[0m\n",
      "\u001b[32m[I 2022-11-06 23:03:50,357]\u001b[0m Trial 15 finished with value: 0.6407506702412868 and parameters: {'n_estimators': 188, 'max_depth': 4, 'learning_rate': 0.1841383208940845}. Best is trial 15 with value: 0.6407506702412868.\u001b[0m\n",
      "\u001b[32m[I 2022-11-06 23:04:00,115]\u001b[0m Trial 16 finished with value: 0.5915996425379803 and parameters: {'n_estimators': 488, 'max_depth': 1, 'learning_rate': 0.583309351889821}. Best is trial 15 with value: 0.6407506702412868.\u001b[0m\n",
      "\u001b[32m[I 2022-11-06 23:04:19,376]\u001b[0m Trial 17 finished with value: 0.6184092940125111 and parameters: {'n_estimators': 675, 'max_depth': 4, 'learning_rate': 0.35570807788861236}. Best is trial 15 with value: 0.6407506702412868.\u001b[0m\n",
      "\u001b[32m[I 2022-11-06 23:04:26,727]\u001b[0m Trial 18 finished with value: 0.6327077747989276 and parameters: {'n_estimators': 170, 'max_depth': 5, 'learning_rate': 0.18648679058653364}. Best is trial 15 with value: 0.6407506702412868.\u001b[0m\n",
      "\u001b[32m[I 2022-11-06 23:04:27,201]\u001b[0m Trial 19 finished with value: 0.5942806076854334 and parameters: {'n_estimators': 16, 'max_depth': 1, 'learning_rate': 0.21495794498599402}. Best is trial 15 with value: 0.6407506702412868.\u001b[0m\n",
      "\u001b[32m[I 2022-11-06 23:04:32,752]\u001b[0m Trial 20 finished with value: 0.615728328865058 and parameters: {'n_estimators': 175, 'max_depth': 4, 'learning_rate': 0.687569410220194}. Best is trial 15 with value: 0.6407506702412868.\u001b[0m\n",
      "\u001b[32m[I 2022-11-06 23:04:46,967]\u001b[0m Trial 21 finished with value: 0.6210902591599642 and parameters: {'n_estimators': 328, 'max_depth': 6, 'learning_rate': 0.15621061516267243}. Best is trial 15 with value: 0.6407506702412868.\u001b[0m\n",
      "\u001b[32m[I 2022-11-06 23:05:01,020]\u001b[0m Trial 22 finished with value: 0.6201966041108132 and parameters: {'n_estimators': 212, 'max_depth': 7, 'learning_rate': 0.010797602068544299}. Best is trial 15 with value: 0.6407506702412868.\u001b[0m\n",
      "\u001b[32m[I 2022-11-06 23:05:14,219]\u001b[0m Trial 23 finished with value: 0.6237712243074173 and parameters: {'n_estimators': 453, 'max_depth': 4, 'learning_rate': 0.3539536613539669}. Best is trial 15 with value: 0.6407506702412868.\u001b[0m\n",
      "\u001b[32m[I 2022-11-06 23:05:29,345]\u001b[0m Trial 24 finished with value: 0.6148346738159071 and parameters: {'n_estimators': 298, 'max_depth': 20, 'learning_rate': 0.1884907590474753}. Best is trial 15 with value: 0.6407506702412868.\u001b[0m\n",
      "\u001b[32m[I 2022-11-06 23:05:33,892]\u001b[0m Trial 25 finished with value: 0.6103663985701518 and parameters: {'n_estimators': 141, 'max_depth': 3, 'learning_rate': 0.06813789190956572}. Best is trial 15 with value: 0.6407506702412868.\u001b[0m\n",
      "\u001b[32m[I 2022-11-06 23:05:46,317]\u001b[0m Trial 26 finished with value: 0.612153708668454 and parameters: {'n_estimators': 347, 'max_depth': 6, 'learning_rate': 0.3447846689618184}. Best is trial 15 with value: 0.6407506702412868.\u001b[0m\n",
      "\u001b[32m[I 2022-11-06 23:05:57,608]\u001b[0m Trial 27 finished with value: 0.6219839142091153 and parameters: {'n_estimators': 228, 'max_depth': 8, 'learning_rate': 0.20533071816808154}. Best is trial 15 with value: 0.6407506702412868.\u001b[0m\n",
      "\u001b[32m[I 2022-11-06 23:06:01,882]\u001b[0m Trial 28 finished with value: 0.613941018766756 and parameters: {'n_estimators': 70, 'max_depth': 12, 'learning_rate': 0.4314511021624207}. Best is trial 15 with value: 0.6407506702412868.\u001b[0m\n",
      "\u001b[32m[I 2022-11-06 23:06:12,876]\u001b[0m Trial 29 finished with value: 0.6398570151921358 and parameters: {'n_estimators': 156, 'max_depth': 9, 'learning_rate': 0.08267741954301298}. Best is trial 15 with value: 0.6407506702412868.\u001b[0m\n",
      "\u001b[32m[I 2022-11-06 23:06:21,265]\u001b[0m Trial 30 finished with value: 0.6327077747989276 and parameters: {'n_estimators': 99, 'max_depth': 11, 'learning_rate': 0.07830806879278852}. Best is trial 15 with value: 0.6407506702412868.\u001b[0m\n",
      "\u001b[32m[I 2022-11-06 23:06:30,644]\u001b[0m Trial 31 finished with value: 0.6318141197497766 and parameters: {'n_estimators': 104, 'max_depth': 14, 'learning_rate': 0.08277232919333602}. Best is trial 15 with value: 0.6407506702412868.\u001b[0m\n",
      "\u001b[32m[I 2022-11-06 23:06:30,711]\u001b[0m Trial 32 finished with value: 0.00804289544235925 and parameters: {'n_estimators': 0, 'max_depth': 10, 'learning_rate': 0.08128523656003186}. Best is trial 15 with value: 0.6407506702412868.\u001b[0m\n",
      "\u001b[32m[I 2022-11-06 23:06:41,404]\u001b[0m Trial 33 finished with value: 0.6255585344057194 and parameters: {'n_estimators': 175, 'max_depth': 11, 'learning_rate': 0.15869773265162374}. Best is trial 15 with value: 0.6407506702412868.\u001b[0m\n",
      "\u001b[32m[I 2022-11-06 23:06:49,465]\u001b[0m Trial 34 finished with value: 0.6103663985701518 and parameters: {'n_estimators': 150, 'max_depth': 14, 'learning_rate': 0.2914194655462887}. Best is trial 15 with value: 0.6407506702412868.\u001b[0m\n",
      "\u001b[32m[I 2022-11-06 23:06:55,225]\u001b[0m Trial 35 finished with value: 0.6353887399463807 and parameters: {'n_estimators': 70, 'max_depth': 9, 'learning_rate': 0.05790754897724392}. Best is trial 15 with value: 0.6407506702412868.\u001b[0m\n",
      "\u001b[32m[I 2022-11-06 23:07:01,545]\u001b[0m Trial 36 finished with value: 0.6353887399463807 and parameters: {'n_estimators': 78, 'max_depth': 9, 'learning_rate': 0.05908072849396745}. Best is trial 15 with value: 0.6407506702412868.\u001b[0m\n",
      "\u001b[32m[I 2022-11-06 23:07:07,704]\u001b[0m Trial 37 finished with value: 0.6425379803395889 and parameters: {'n_estimators': 77, 'max_depth': 10, 'learning_rate': 0.11977939686380631}. Best is trial 37 with value: 0.6425379803395889.\u001b[0m\n",
      "\u001b[32m[I 2022-11-06 23:07:12,023]\u001b[0m Trial 38 finished with value: 0.6336014298480787 and parameters: {'n_estimators': 54, 'max_depth': 9, 'learning_rate': 0.1289226583831336}. Best is trial 37 with value: 0.6425379803395889.\u001b[0m\n",
      "\u001b[32m[I 2022-11-06 23:07:17,310]\u001b[0m Trial 39 finished with value: 0.6067917783735478 and parameters: {'n_estimators': 126, 'max_depth': 13, 'learning_rate': 0.8118985756484192}. Best is trial 37 with value: 0.6425379803395889.\u001b[0m\n",
      "\u001b[32m[I 2022-11-06 23:08:35,289]\u001b[0m Trial 40 finished with value: 0.6264521894548704 and parameters: {'n_estimators': 762, 'max_depth': 16, 'learning_rate': 0.005272752529642377}. Best is trial 37 with value: 0.6425379803395889.\u001b[0m\n",
      "\u001b[32m[I 2022-11-06 23:08:40,110]\u001b[0m Trial 41 finished with value: 0.6291331546023234 and parameters: {'n_estimators': 55, 'max_depth': 9, 'learning_rate': 0.05398143487972586}. Best is trial 37 with value: 0.6425379803395889.\u001b[0m\n",
      "\u001b[32m[I 2022-11-06 23:08:54,685]\u001b[0m Trial 42 finished with value: 0.6210902591599642 and parameters: {'n_estimators': 270, 'max_depth': 8, 'learning_rate': 0.11859199588841991}. Best is trial 37 with value: 0.6425379803395889.\u001b[0m\n",
      "\u001b[32m[I 2022-11-06 23:08:59,873]\u001b[0m Trial 43 finished with value: 0.6201966041108132 and parameters: {'n_estimators': 76, 'max_depth': 10, 'learning_rate': 0.24589821127556355}. Best is trial 37 with value: 0.6425379803395889.\u001b[0m\n",
      "\u001b[32m[I 2022-11-06 23:09:43,915]\u001b[0m Trial 44 finished with value: 0.6228775692582663 and parameters: {'n_estimators': 997, 'max_depth': 7, 'learning_rate': 0.05626060910518778}. Best is trial 37 with value: 0.6425379803395889.\u001b[0m\n",
      "\u001b[32m[I 2022-11-06 23:09:55,442]\u001b[0m Trial 45 finished with value: 0.6148346738159071 and parameters: {'n_estimators': 199, 'max_depth': 9, 'learning_rate': 0.13060207209110036}. Best is trial 37 with value: 0.6425379803395889.\u001b[0m\n",
      "\u001b[32m[I 2022-11-06 23:10:02,637]\u001b[0m Trial 46 finished with value: 0.6184092940125111 and parameters: {'n_estimators': 122, 'max_depth': 12, 'learning_rate': 0.2406215321610175}. Best is trial 37 with value: 0.6425379803395889.\u001b[0m\n",
      "\u001b[32m[I 2022-11-06 23:10:06,824]\u001b[0m Trial 47 finished with value: 0.6210902591599643 and parameters: {'n_estimators': 44, 'max_depth': 11, 'learning_rate': 0.047257775261318566}. Best is trial 37 with value: 0.6425379803395889.\u001b[0m\n",
      "\u001b[32m[I 2022-11-06 23:10:18,379]\u001b[0m Trial 48 finished with value: 0.6246648793565683 and parameters: {'n_estimators': 261, 'max_depth': 8, 'learning_rate': 0.16175597598056904}. Best is trial 37 with value: 0.6425379803395889.\u001b[0m\n",
      "\u001b[32m[I 2022-11-06 23:10:24,466]\u001b[0m Trial 49 finished with value: 0.6282394995531725 and parameters: {'n_estimators': 90, 'max_depth': 9, 'learning_rate': 0.09522397810750641}. Best is trial 37 with value: 0.6425379803395889.\u001b[0m\n",
      "\u001b[32m[I 2022-11-06 23:10:52,183]\u001b[0m Trial 50 finished with value: 0.6076854334226988 and parameters: {'n_estimators': 938, 'max_depth': 16, 'learning_rate': 0.3016374618037872}. Best is trial 37 with value: 0.6425379803395889.\u001b[0m\n",
      "\u001b[32m[I 2022-11-06 23:10:55,200]\u001b[0m Trial 51 finished with value: 0.6327077747989276 and parameters: {'n_estimators': 41, 'max_depth': 9, 'learning_rate': 0.12926089768162793}. Best is trial 37 with value: 0.6425379803395889.\u001b[0m\n",
      "\u001b[32m[I 2022-11-06 23:10:58,261]\u001b[0m Trial 52 finished with value: 0.6210902591599642 and parameters: {'n_estimators': 37, 'max_depth': 10, 'learning_rate': 0.03846870366826447}. Best is trial 37 with value: 0.6425379803395889.\u001b[0m\n",
      "\u001b[32m[I 2022-11-06 23:11:22,651]\u001b[0m Trial 53 finished with value: 0.613941018766756 and parameters: {'n_estimators': 569, 'max_depth': 13, 'learning_rate': 0.10546516562863986}. Best is trial 37 with value: 0.6425379803395889.\u001b[0m\n",
      "\u001b[32m[I 2022-11-06 23:11:30,458]\u001b[0m Trial 54 finished with value: 0.6309204647006256 and parameters: {'n_estimators': 162, 'max_depth': 7, 'learning_rate': 0.15679302897929445}. Best is trial 37 with value: 0.6425379803395889.\u001b[0m\n",
      "\u001b[32m[I 2022-11-06 23:11:35,792]\u001b[0m Trial 55 finished with value: 0.5773011617515639 and parameters: {'n_estimators': 75, 'max_depth': 8, 'learning_rate': 0.007799584151632025}. Best is trial 37 with value: 0.6425379803395889.\u001b[0m\n",
      "\u001b[32m[I 2022-11-06 23:11:36,377]\u001b[0m Trial 56 finished with value: 0.6032171581769437 and parameters: {'n_estimators': 9, 'max_depth': 5, 'learning_rate': 0.2206053033658064}. Best is trial 37 with value: 0.6425379803395889.\u001b[0m\n",
      "\u001b[32m[I 2022-11-06 23:11:39,268]\u001b[0m Trial 57 finished with value: 0.6201966041108132 and parameters: {'n_estimators': 119, 'max_depth': 2, 'learning_rate': 0.4867319378103878}. Best is trial 37 with value: 0.6425379803395889.\u001b[0m\n",
      "\u001b[32m[I 2022-11-06 23:11:49,273]\u001b[0m Trial 58 finished with value: 0.6184092940125111 and parameters: {'n_estimators': 202, 'max_depth': 11, 'learning_rate': 0.1808453484566591}. Best is trial 37 with value: 0.6425379803395889.\u001b[0m\n",
      "\u001b[32m[I 2022-11-06 23:12:00,437]\u001b[0m Trial 59 finished with value: 0.5996425379803395 and parameters: {'n_estimators': 386, 'max_depth': 10, 'learning_rate': 0.9187542486221116}. Best is trial 37 with value: 0.6425379803395889.\u001b[0m\n",
      "\u001b[32m[I 2022-11-06 23:12:07,174]\u001b[0m Trial 60 finished with value: 0.6264521894548704 and parameters: {'n_estimators': 143, 'max_depth': 6, 'learning_rate': 0.12897022800900307}. Best is trial 37 with value: 0.6425379803395889.\u001b[0m\n",
      "\u001b[32m[I 2022-11-06 23:12:14,245]\u001b[0m Trial 61 finished with value: 0.6309204647006256 and parameters: {'n_estimators': 94, 'max_depth': 11, 'learning_rate': 0.08152467412472734}. Best is trial 37 with value: 0.6425379803395889.\u001b[0m\n",
      "\u001b[32m[I 2022-11-06 23:12:32,260]\u001b[0m Trial 62 finished with value: 0.6309204647006256 and parameters: {'n_estimators': 239, 'max_depth': 12, 'learning_rate': 0.0352018094793068}. Best is trial 37 with value: 0.6425379803395889.\u001b[0m\n",
      "\u001b[32m[I 2022-11-06 23:12:35,141]\u001b[0m Trial 63 finished with value: 0.6336014298480787 and parameters: {'n_estimators': 39, 'max_depth': 9, 'learning_rate': 0.12407503351144768}. Best is trial 37 with value: 0.6425379803395889.\u001b[0m\n",
      "\u001b[32m[I 2022-11-06 23:12:37,371]\u001b[0m Trial 64 finished with value: 0.6058981233243969 and parameters: {'n_estimators': 41, 'max_depth': 8, 'learning_rate': 0.5988661568871028}. Best is trial 37 with value: 0.6425379803395889.\u001b[0m\n",
      "\u001b[32m[I 2022-11-06 23:12:37,972]\u001b[0m Trial 65 finished with value: 0.5933869526362824 and parameters: {'n_estimators': 6, 'max_depth': 9, 'learning_rate': 0.26637010988454457}. Best is trial 37 with value: 0.6425379803395889.\u001b[0m\n",
      "\u001b[32m[I 2022-11-06 23:12:47,219]\u001b[0m Trial 66 finished with value: 0.6309204647006256 and parameters: {'n_estimators': 184, 'max_depth': 7, 'learning_rate': 0.10963240926015927}. Best is trial 37 with value: 0.6425379803395889.\u001b[0m\n",
      "\u001b[32m[I 2022-11-06 23:12:59,865]\u001b[0m Trial 67 finished with value: 0.6112600536193029 and parameters: {'n_estimators': 290, 'max_depth': 10, 'learning_rate': 0.19400687737788752}. Best is trial 37 with value: 0.6425379803395889.\u001b[0m\n",
      "\u001b[32m[I 2022-11-06 23:13:06,778]\u001b[0m Trial 68 finished with value: 0.6291331546023234 and parameters: {'n_estimators': 116, 'max_depth': 9, 'learning_rate': 0.14892847628309613}. Best is trial 37 with value: 0.6425379803395889.\u001b[0m\n",
      "\u001b[32m[I 2022-11-06 23:13:09,539]\u001b[0m Trial 69 finished with value: 0.6309204647006256 and parameters: {'n_estimators': 65, 'max_depth': 5, 'learning_rate': 0.3315143160453714}. Best is trial 37 with value: 0.6425379803395889.\u001b[0m\n",
      "\u001b[32m[I 2022-11-06 23:13:17,422]\u001b[0m Trial 70 finished with value: 0.6175156389633601 and parameters: {'n_estimators': 152, 'max_depth': 13, 'learning_rate': 0.22025663578038832}. Best is trial 37 with value: 0.6425379803395889.\u001b[0m\n",
      "\u001b[32m[I 2022-11-06 23:13:25,187]\u001b[0m Trial 71 finished with value: 0.6327077747989276 and parameters: {'n_estimators': 102, 'max_depth': 11, 'learning_rate': 0.07112221903316955}. Best is trial 37 with value: 0.6425379803395889.\u001b[0m\n",
      "\u001b[32m[I 2022-11-06 23:13:28,502]\u001b[0m Trial 72 finished with value: 0.6255585344057194 and parameters: {'n_estimators': 46, 'max_depth': 9, 'learning_rate': 0.13792110254115458}. Best is trial 37 with value: 0.6425379803395889.\u001b[0m\n",
      "\u001b[32m[I 2022-11-06 23:13:29,761]\u001b[0m Trial 73 finished with value: 0.583556747095621 and parameters: {'n_estimators': 16, 'max_depth': 8, 'learning_rate': 0.031105887895228838}. Best is trial 37 with value: 0.6425379803395889.\u001b[0m\n",
      "\u001b[32m[I 2022-11-06 23:13:35,563]\u001b[0m Trial 74 finished with value: 0.6398570151921358 and parameters: {'n_estimators': 222, 'max_depth': 3, 'learning_rate': 0.38858253586692526}. Best is trial 37 with value: 0.6425379803395889.\u001b[0m\n",
      "\u001b[32m[I 2022-11-06 23:13:41,711]\u001b[0m Trial 75 finished with value: 0.6273458445040214 and parameters: {'n_estimators': 237, 'max_depth': 3, 'learning_rate': 0.3872156125199162}. Best is trial 37 with value: 0.6425379803395889.\u001b[0m\n",
      "\u001b[32m[I 2022-11-06 23:13:46,222]\u001b[0m Trial 76 finished with value: 0.6067917783735478 and parameters: {'n_estimators': 183, 'max_depth': 2, 'learning_rate': 0.17544432187504144}. Best is trial 37 with value: 0.6425379803395889.\u001b[0m\n",
      "\u001b[32m[I 2022-11-06 23:13:48,683]\u001b[0m Trial 77 finished with value: 0.6228775692582663 and parameters: {'n_estimators': 75, 'max_depth': 3, 'learning_rate': 0.5154801641145941}. Best is trial 37 with value: 0.6425379803395889.\u001b[0m\n",
      "\u001b[32m[I 2022-11-06 23:14:00,749]\u001b[0m Trial 78 finished with value: 0.6416443252904379 and parameters: {'n_estimators': 310, 'max_depth': 4, 'learning_rate': 0.09775841360966064}. Best is trial 37 with value: 0.6425379803395889.\u001b[0m\n",
      "\u001b[32m[I 2022-11-06 23:14:09,598]\u001b[0m Trial 79 finished with value: 0.6371760500446827 and parameters: {'n_estimators': 218, 'max_depth': 4, 'learning_rate': 0.09522679537842094}. Best is trial 37 with value: 0.6425379803395889.\u001b[0m\n",
      "\u001b[32m[I 2022-11-06 23:14:21,597]\u001b[0m Trial 80 finished with value: 0.5889186773905273 and parameters: {'n_estimators': 317, 'max_depth': 4, 'learning_rate': 0.0015179223881630899}. Best is trial 37 with value: 0.6425379803395889.\u001b[0m\n",
      "\u001b[32m[I 2022-11-06 23:14:25,433]\u001b[0m Trial 81 finished with value: 0.5969615728328865 and parameters: {'n_estimators': 232, 'max_depth': 1, 'learning_rate': 0.0911675407192129}. Best is trial 37 with value: 0.6425379803395889.\u001b[0m\n",
      "\u001b[32m[I 2022-11-06 23:14:31,514]\u001b[0m Trial 82 finished with value: 0.6166219839142091 and parameters: {'n_estimators': 212, 'max_depth': 3, 'learning_rate': 0.061200857145399745}. Best is trial 37 with value: 0.6425379803395889.\u001b[0m\n",
      "\u001b[32m[I 2022-11-06 23:14:37,267]\u001b[0m Trial 83 finished with value: 0.6389633601429848 and parameters: {'n_estimators': 134, 'max_depth': 5, 'learning_rate': 0.09427673613963937}. Best is trial 37 with value: 0.6425379803395889.\u001b[0m\n",
      "\u001b[32m[I 2022-11-06 23:14:48,178]\u001b[0m Trial 84 finished with value: 0.6219839142091153 and parameters: {'n_estimators': 308, 'max_depth': 4, 'learning_rate': 0.03018469831145081}. Best is trial 37 with value: 0.6425379803395889.\u001b[0m\n",
      "\u001b[32m[I 2022-11-06 23:14:59,047]\u001b[0m Trial 85 finished with value: 0.6264521894548704 and parameters: {'n_estimators': 282, 'max_depth': 5, 'learning_rate': 0.10728874544426702}. Best is trial 37 with value: 0.6425379803395889.\u001b[0m\n",
      "\u001b[32m[I 2022-11-06 23:15:02,142]\u001b[0m Trial 86 finished with value: 0.6094727435210009 and parameters: {'n_estimators': 133, 'max_depth': 2, 'learning_rate': 0.05604164106439982}. Best is trial 37 with value: 0.6425379803395889.\u001b[0m\n",
      "\u001b[32m[I 2022-11-06 23:15:18,648]\u001b[0m Trial 87 finished with value: 0.6362823949955317 and parameters: {'n_estimators': 388, 'max_depth': 6, 'learning_rate': 0.09091129159193559}. Best is trial 37 with value: 0.6425379803395889.\u001b[0m\n",
      "\u001b[32m[I 2022-11-06 23:15:27,791]\u001b[0m Trial 88 finished with value: 0.6094727435210009 and parameters: {'n_estimators': 366, 'max_depth': 4, 'learning_rate': 0.6781420866463059}. Best is trial 37 with value: 0.6425379803395889.\u001b[0m\n",
      "\u001b[32m[I 2022-11-06 23:15:44,808]\u001b[0m Trial 89 finished with value: 0.6300268096514745 and parameters: {'n_estimators': 419, 'max_depth': 6, 'learning_rate': 0.09388573547078463}. Best is trial 37 with value: 0.6425379803395889.\u001b[0m\n",
      "\u001b[32m[I 2022-11-06 23:15:54,125]\u001b[0m Trial 90 finished with value: 0.6309204647006256 and parameters: {'n_estimators': 255, 'max_depth': 5, 'learning_rate': 0.16221724322312767}. Best is trial 37 with value: 0.6425379803395889.\u001b[0m\n",
      "\u001b[32m[I 2022-11-06 23:16:14,801]\u001b[0m Trial 91 finished with value: 0.6282394995531725 and parameters: {'n_estimators': 492, 'max_depth': 6, 'learning_rate': 0.06949563157516439}. Best is trial 37 with value: 0.6425379803395889.\u001b[0m\n",
      "\u001b[32m[I 2022-11-06 23:16:21,143]\u001b[0m Trial 92 finished with value: 0.6255585344057194 and parameters: {'n_estimators': 167, 'max_depth': 4, 'learning_rate': 0.023645352942885098}. Best is trial 37 with value: 0.6425379803395889.\u001b[0m\n",
      "\u001b[32m[I 2022-11-06 23:16:33,535]\u001b[0m Trial 93 finished with value: 0.6148346738159071 and parameters: {'n_estimators': 446, 'max_depth': 5, 'learning_rate': 0.40512627850829436}. Best is trial 37 with value: 0.6425379803395889.\u001b[0m\n",
      "\u001b[32m[I 2022-11-06 23:16:42,486]\u001b[0m Trial 94 finished with value: 0.6318141197497765 and parameters: {'n_estimators': 338, 'max_depth': 3, 'learning_rate': 0.20066865800784864}. Best is trial 37 with value: 0.6425379803395889.\u001b[0m\n",
      "\u001b[32m[I 2022-11-06 23:16:47,483]\u001b[0m Trial 95 finished with value: 0.6148346738159071 and parameters: {'n_estimators': 200, 'max_depth': 2, 'learning_rate': 0.044585935854133237}. Best is trial 37 with value: 0.6425379803395889.\u001b[0m\n",
      "\u001b[32m[I 2022-11-06 23:16:58,019]\u001b[0m Trial 96 finished with value: 0.647899910634495 and parameters: {'n_estimators': 270, 'max_depth': 4, 'learning_rate': 0.09592986764214678}. Best is trial 96 with value: 0.647899910634495.\u001b[0m\n",
      "\u001b[32m[I 2022-11-06 23:17:11,795]\u001b[0m Trial 97 finished with value: 0.6362823949955317 and parameters: {'n_estimators': 370, 'max_depth': 4, 'learning_rate': 0.10629970495783017}. Best is trial 96 with value: 0.647899910634495.\u001b[0m\n",
      "\u001b[32m[I 2022-11-06 23:17:26,818]\u001b[0m Trial 98 finished with value: 0.6398570151921358 and parameters: {'n_estimators': 404, 'max_depth': 4, 'learning_rate': 0.10614796135259451}. Best is trial 96 with value: 0.647899910634495.\u001b[0m\n",
      "\u001b[32m[I 2022-11-06 23:17:44,725]\u001b[0m Trial 99 finished with value: 0.6318141197497765 and parameters: {'n_estimators': 526, 'max_depth': 4, 'learning_rate': 0.1483327761082055}. Best is trial 96 with value: 0.647899910634495.\u001b[0m\n",
      "\u001b[32m[I 2022-11-06 23:17:53,140]\u001b[0m Trial 100 finished with value: 0.6318141197497765 and parameters: {'n_estimators': 275, 'max_depth': 3, 'learning_rate': 0.17539236538197303}. Best is trial 96 with value: 0.647899910634495.\u001b[0m\n",
      "\u001b[32m[I 2022-11-06 23:18:08,263]\u001b[0m Trial 101 finished with value: 0.6264521894548704 and parameters: {'n_estimators': 414, 'max_depth': 4, 'learning_rate': 0.11045258893978425}. Best is trial 96 with value: 0.647899910634495.\u001b[0m\n",
      "\u001b[32m[I 2022-11-06 23:18:21,996]\u001b[0m Trial 102 finished with value: 0.6309204647006256 and parameters: {'n_estimators': 370, 'max_depth': 5, 'learning_rate': 0.10226120155702359}. Best is trial 96 with value: 0.647899910634495.\u001b[0m\n",
      "\u001b[32m[I 2022-11-06 23:18:33,973]\u001b[0m Trial 103 finished with value: 0.6318141197497765 and parameters: {'n_estimators': 354, 'max_depth': 4, 'learning_rate': 0.08327707494825984}. Best is trial 96 with value: 0.647899910634495.\u001b[0m\n",
      "\u001b[32m[I 2022-11-06 23:18:45,048]\u001b[0m Trial 104 finished with value: 0.6309204647006256 and parameters: {'n_estimators': 394, 'max_depth': 3, 'learning_rate': 0.14322839221192146}. Best is trial 96 with value: 0.647899910634495.\u001b[0m\n",
      "\u001b[32m[I 2022-11-06 23:18:59,266]\u001b[0m Trial 105 finished with value: 0.6273458445040214 and parameters: {'n_estimators': 459, 'max_depth': 5, 'learning_rate': 0.22749252594617744}. Best is trial 96 with value: 0.647899910634495.\u001b[0m\n",
      "\u001b[32m[I 2022-11-06 23:19:10,131]\u001b[0m Trial 106 finished with value: 0.6130473637176049 and parameters: {'n_estimators': 312, 'max_depth': 6, 'learning_rate': 0.26976838304091133}. Best is trial 96 with value: 0.647899910634495.\u001b[0m\n",
      "\u001b[32m[I 2022-11-06 23:19:15,626]\u001b[0m Trial 107 finished with value: 0.6201966041108132 and parameters: {'n_estimators': 248, 'max_depth': 2, 'learning_rate': 0.47636946991587703}. Best is trial 96 with value: 0.647899910634495.\u001b[0m\n",
      "\u001b[32m[I 2022-11-06 23:19:23,174]\u001b[0m Trial 108 finished with value: 0.6371760500446827 and parameters: {'n_estimators': 223, 'max_depth': 4, 'learning_rate': 0.1180594696300292}. Best is trial 96 with value: 0.647899910634495.\u001b[0m\n",
      "\u001b[32m[I 2022-11-06 23:19:29,368]\u001b[0m Trial 109 finished with value: 0.6371760500446827 and parameters: {'n_estimators': 220, 'max_depth': 3, 'learning_rate': 0.12559749859232255}. Best is trial 96 with value: 0.647899910634495.\u001b[0m\n",
      "\u001b[32m[I 2022-11-06 23:19:35,594]\u001b[0m Trial 110 finished with value: 0.6309204647006256 and parameters: {'n_estimators': 218, 'max_depth': 3, 'learning_rate': 0.17163863430643841}. Best is trial 96 with value: 0.647899910634495.\u001b[0m\n",
      "\u001b[32m[I 2022-11-06 23:19:39,000]\u001b[0m Trial 111 finished with value: 0.5951742627345844 and parameters: {'n_estimators': 186, 'max_depth': 1, 'learning_rate': 0.12830401596489535}. Best is trial 96 with value: 0.647899910634495.\u001b[0m\n",
      "\u001b[32m[I 2022-11-06 23:19:43,809]\u001b[0m Trial 112 finished with value: 0.6336014298480787 and parameters: {'n_estimators': 150, 'max_depth': 3, 'learning_rate': 0.19702868401455342}. Best is trial 96 with value: 0.647899910634495.\u001b[0m\n",
      "\u001b[32m[I 2022-11-06 23:19:52,710]\u001b[0m Trial 113 finished with value: 0.6362823949955317 and parameters: {'n_estimators': 227, 'max_depth': 4, 'learning_rate': 0.11566499001296716}. Best is trial 96 with value: 0.647899910634495.\u001b[0m\n",
      "\u001b[32m[I 2022-11-06 23:20:05,486]\u001b[0m Trial 114 finished with value: 0.6353887399463807 and parameters: {'n_estimators': 328, 'max_depth': 5, 'learning_rate': 0.08381311246048916}. Best is trial 96 with value: 0.647899910634495.\u001b[0m\n",
      "\u001b[32m[I 2022-11-06 23:20:10,516]\u001b[0m Trial 115 finished with value: 0.5996425379803396 and parameters: {'n_estimators': 222, 'max_depth': 2, 'learning_rate': 0.14339781604521928}. Best is trial 96 with value: 0.647899910634495.\u001b[0m\n",
      "\u001b[32m[I 2022-11-06 23:20:18,934]\u001b[0m Trial 116 finished with value: 0.6273458445040214 and parameters: {'n_estimators': 288, 'max_depth': 4, 'learning_rate': 0.31456372741203775}. Best is trial 96 with value: 0.647899910634495.\u001b[0m\n",
      "\u001b[32m[I 2022-11-06 23:20:26,507]\u001b[0m Trial 117 finished with value: 0.6193029490616622 and parameters: {'n_estimators': 268, 'max_depth': 3, 'learning_rate': 0.06834418534852285}. Best is trial 96 with value: 0.647899910634495.\u001b[0m\n",
      "\u001b[32m[I 2022-11-06 23:20:34,006]\u001b[0m Trial 118 finished with value: 0.6327077747989276 and parameters: {'n_estimators': 186, 'max_depth': 5, 'learning_rate': 0.12025247725599139}. Best is trial 96 with value: 0.647899910634495.\u001b[0m\n",
      "\u001b[32m[I 2022-11-06 23:20:44,807]\u001b[0m Trial 119 finished with value: 0.6300268096514745 and parameters: {'n_estimators': 299, 'max_depth': 4, 'learning_rate': 0.042308277282860324}. Best is trial 96 with value: 0.647899910634495.\u001b[0m\n",
      "\u001b[32m[I 2022-11-06 23:20:50,472]\u001b[0m Trial 120 finished with value: 0.613047363717605 and parameters: {'n_estimators': 246, 'max_depth': 2, 'learning_rate': 0.1871696390752762}. Best is trial 96 with value: 0.647899910634495.\u001b[0m\n",
      "\u001b[32m[I 2022-11-06 23:21:06,104]\u001b[0m Trial 121 finished with value: 0.6282394995531725 and parameters: {'n_estimators': 373, 'max_depth': 6, 'learning_rate': 0.09105181086193627}. Best is trial 96 with value: 0.647899910634495.\u001b[0m\n",
      "\u001b[32m[I 2022-11-06 23:21:13,088]\u001b[0m Trial 122 finished with value: 0.6327077747989276 and parameters: {'n_estimators': 204, 'max_depth': 4, 'learning_rate': 0.11477310605263394}. Best is trial 96 with value: 0.647899910634495.\u001b[0m\n",
      "\u001b[32m[I 2022-11-06 23:21:19,576]\u001b[0m Trial 123 finished with value: 0.6309204647006256 and parameters: {'n_estimators': 160, 'max_depth': 5, 'learning_rate': 0.13628730142150566}. Best is trial 96 with value: 0.647899910634495.\u001b[0m\n",
      "\u001b[32m[I 2022-11-06 23:21:29,336]\u001b[0m Trial 124 finished with value: 0.6166219839142091 and parameters: {'n_estimators': 343, 'max_depth': 3, 'learning_rate': 0.017924438959136757}. Best is trial 96 with value: 0.647899910634495.\u001b[0m\n",
      "\u001b[32m[I 2022-11-06 23:21:41,805]\u001b[0m Trial 125 finished with value: 0.6291331546023234 and parameters: {'n_estimators': 261, 'max_depth': 7, 'learning_rate': 0.09911848197527207}. Best is trial 96 with value: 0.647899910634495.\u001b[0m\n",
      "\u001b[32m[I 2022-11-06 23:21:46,793]\u001b[0m Trial 126 finished with value: 0.6237712243074173 and parameters: {'n_estimators': 135, 'max_depth': 4, 'learning_rate': 0.0726850949445899}. Best is trial 96 with value: 0.647899910634495.\u001b[0m\n",
      "\u001b[32m[I 2022-11-06 23:21:54,344]\u001b[0m Trial 127 finished with value: 0.6380697050938338 and parameters: {'n_estimators': 225, 'max_depth': 4, 'learning_rate': 0.15987869835620372}. Best is trial 96 with value: 0.647899910634495.\u001b[0m\n",
      "\u001b[32m[I 2022-11-06 23:22:05,588]\u001b[0m Trial 128 finished with value: 0.6237712243074173 and parameters: {'n_estimators': 216, 'max_depth': 18, 'learning_rate': 0.16353843962594844}. Best is trial 96 with value: 0.647899910634495.\u001b[0m\n",
      "\u001b[32m[I 2022-11-06 23:22:10,541]\u001b[0m Trial 129 finished with value: 0.6300268096514745 and parameters: {'n_estimators': 174, 'max_depth': 3, 'learning_rate': 0.1556411567404252}. Best is trial 96 with value: 0.647899910634495.\u001b[0m\n",
      "\u001b[32m[I 2022-11-06 23:22:18,670]\u001b[0m Trial 130 finished with value: 0.6300268096514745 and parameters: {'n_estimators': 234, 'max_depth': 5, 'learning_rate': 0.24353230192563236}. Best is trial 96 with value: 0.647899910634495.\u001b[0m\n",
      "\u001b[32m[I 2022-11-06 23:22:28,037]\u001b[0m Trial 131 finished with value: 0.6434316353887399 and parameters: {'n_estimators': 284, 'max_depth': 4, 'learning_rate': 0.1168219792924945}. Best is trial 96 with value: 0.647899910634495.\u001b[0m\n",
      "\u001b[32m[I 2022-11-06 23:22:33,712]\u001b[0m Trial 132 finished with value: 0.6246648793565683 and parameters: {'n_estimators': 199, 'max_depth': 3, 'learning_rate': 0.12451383487128098}. Best is trial 96 with value: 0.647899910634495.\u001b[0m\n",
      "\u001b[32m[I 2022-11-06 23:22:44,130]\u001b[0m Trial 133 finished with value: 0.6336014298480787 and parameters: {'n_estimators': 295, 'max_depth': 4, 'learning_rate': 0.04564594783278427}. Best is trial 96 with value: 0.647899910634495.\u001b[0m\n",
      "\u001b[32m[I 2022-11-06 23:22:52,196]\u001b[0m Trial 134 finished with value: 0.6309204647006256 and parameters: {'n_estimators': 256, 'max_depth': 4, 'learning_rate': 0.2048968363708135}. Best is trial 96 with value: 0.647899910634495.\u001b[0m\n",
      "\u001b[32m[I 2022-11-06 23:23:00,328]\u001b[0m Trial 135 finished with value: 0.6184092940125111 and parameters: {'n_estimators': 273, 'max_depth': 5, 'learning_rate': 0.5533079357180933}. Best is trial 96 with value: 0.647899910634495.\u001b[0m\n",
      "\u001b[32m[I 2022-11-06 23:23:08,821]\u001b[0m Trial 136 finished with value: 0.6318141197497765 and parameters: {'n_estimators': 310, 'max_depth': 3, 'learning_rate': 0.14220541947601584}. Best is trial 96 with value: 0.647899910634495.\u001b[0m\n",
      "\u001b[32m[I 2022-11-06 23:23:25,868]\u001b[0m Trial 137 finished with value: 0.6362823949955317 and parameters: {'n_estimators': 470, 'max_depth': 5, 'learning_rate': 0.08900183792600577}. Best is trial 96 with value: 0.647899910634495.\u001b[0m\n",
      "\u001b[32m[I 2022-11-06 23:23:31,764]\u001b[0m Trial 138 finished with value: 0.6318141197497765 and parameters: {'n_estimators': 112, 'max_depth': 6, 'learning_rate': 0.0564077074856488}. Best is trial 96 with value: 0.647899910634495.\u001b[0m\n",
      "\u001b[32m[I 2022-11-06 23:23:38,073]\u001b[0m Trial 139 finished with value: 0.6389633601429848 and parameters: {'n_estimators': 180, 'max_depth': 4, 'learning_rate': 0.10393279746654867}. Best is trial 96 with value: 0.647899910634495.\u001b[0m\n",
      "\u001b[32m[I 2022-11-06 23:23:42,732]\u001b[0m Trial 140 finished with value: 0.6246648793565683 and parameters: {'n_estimators': 163, 'max_depth': 3, 'learning_rate': 0.17319537615853522}. Best is trial 96 with value: 0.647899910634495.\u001b[0m\n",
      "\u001b[32m[I 2022-11-06 23:23:49,685]\u001b[0m Trial 141 finished with value: 0.6371760500446827 and parameters: {'n_estimators': 195, 'max_depth': 4, 'learning_rate': 0.07158118656477891}. Best is trial 96 with value: 0.647899910634495.\u001b[0m\n",
      "\u001b[32m[I 2022-11-06 23:23:56,407]\u001b[0m Trial 142 finished with value: 0.6300268096514745 and parameters: {'n_estimators': 188, 'max_depth': 4, 'learning_rate': 0.06638106318480176}. Best is trial 96 with value: 0.647899910634495.\u001b[0m\n",
      "\u001b[32m[I 2022-11-06 23:24:01,558]\u001b[0m Trial 143 finished with value: 0.6416443252904379 and parameters: {'n_estimators': 140, 'max_depth': 4, 'learning_rate': 0.1065073922942208}. Best is trial 96 with value: 0.647899910634495.\u001b[0m\n",
      "\u001b[32m[I 2022-11-06 23:24:04,756]\u001b[0m Trial 144 finished with value: 0.6076854334226989 and parameters: {'n_estimators': 133, 'max_depth': 2, 'learning_rate': 0.1295167060344543}. Best is trial 96 with value: 0.647899910634495.\u001b[0m\n",
      "\u001b[32m[I 2022-11-06 23:24:10,068]\u001b[0m Trial 145 finished with value: 0.6219839142091153 and parameters: {'n_estimators': 147, 'max_depth': 4, 'learning_rate': 0.07739916365315719}. Best is trial 96 with value: 0.647899910634495.\u001b[0m\n",
      "\u001b[32m[I 2022-11-06 23:24:12,750]\u001b[0m Trial 146 finished with value: 0.6050044682752457 and parameters: {'n_estimators': 90, 'max_depth': 3, 'learning_rate': 0.10213331346308138}. Best is trial 96 with value: 0.647899910634495.\u001b[0m\n",
      "\u001b[32m[I 2022-11-06 23:24:21,675]\u001b[0m Trial 147 finished with value: 0.6175156389633601 and parameters: {'n_estimators': 201, 'max_depth': 5, 'learning_rate': 0.02289643319341296}. Best is trial 96 with value: 0.647899910634495.\u001b[0m\n",
      "\u001b[32m[I 2022-11-06 23:24:28,096]\u001b[0m Trial 148 finished with value: 0.6273458445040214 and parameters: {'n_estimators': 231, 'max_depth': 3, 'learning_rate': 0.15197289712877898}. Best is trial 96 with value: 0.647899910634495.\u001b[0m\n",
      "\u001b[32m[I 2022-11-06 23:24:34,214]\u001b[0m Trial 149 finished with value: 0.6291331546023234 and parameters: {'n_estimators': 176, 'max_depth': 4, 'learning_rate': 0.11505790898566154}. Best is trial 96 with value: 0.647899910634495.\u001b[0m\n",
      "\u001b[32m[I 2022-11-06 23:24:37,721]\u001b[0m Trial 150 finished with value: 0.6201966041108132 and parameters: {'n_estimators': 117, 'max_depth': 4, 'learning_rate': 0.8143384042171224}. Best is trial 96 with value: 0.647899910634495.\u001b[0m\n",
      "\u001b[32m[I 2022-11-06 23:25:07,346]\u001b[0m Trial 151 finished with value: 0.6166219839142091 and parameters: {'n_estimators': 923, 'max_depth': 5, 'learning_rate': 0.09064893063976961}. Best is trial 96 with value: 0.647899910634495.\u001b[0m\n",
      "\u001b[32m[I 2022-11-06 23:25:15,059]\u001b[0m Trial 152 finished with value: 0.6273458445040214 and parameters: {'n_estimators': 214, 'max_depth': 4, 'learning_rate': 0.05360809563925997}. Best is trial 96 with value: 0.647899910634495.\u001b[0m\n",
      "\u001b[32m[I 2022-11-06 23:25:21,929]\u001b[0m Trial 153 finished with value: 0.6300268096514745 and parameters: {'n_estimators': 246, 'max_depth': 3, 'learning_rate': 0.13874661773676555}. Best is trial 96 with value: 0.647899910634495.\u001b[0m\n",
      "\u001b[32m[I 2022-11-06 23:25:25,720]\u001b[0m Trial 154 finished with value: 0.6067917783735478 and parameters: {'n_estimators': 156, 'max_depth': 2, 'learning_rate': 0.10658215989598305}. Best is trial 96 with value: 0.647899910634495.\u001b[0m\n",
      "\u001b[32m[I 2022-11-06 23:25:32,330]\u001b[0m Trial 155 finished with value: 0.6219839142091153 and parameters: {'n_estimators': 190, 'max_depth': 4, 'learning_rate': 0.3826700140051111}. Best is trial 96 with value: 0.647899910634495.\u001b[0m\n",
      "\u001b[32m[I 2022-11-06 23:25:55,161]\u001b[0m Trial 156 finished with value: 0.6264521894548704 and parameters: {'n_estimators': 635, 'max_depth': 4, 'learning_rate': 0.07773014903823282}. Best is trial 96 with value: 0.647899910634495.\u001b[0m\n",
      "\u001b[32m[I 2022-11-06 23:26:01,901]\u001b[0m Trial 157 finished with value: 0.6309204647006256 and parameters: {'n_estimators': 213, 'max_depth': 3, 'learning_rate': 0.16216659435535039}. Best is trial 96 with value: 0.647899910634495.\u001b[0m\n",
      "\u001b[32m[I 2022-11-06 23:26:12,690]\u001b[0m Trial 158 finished with value: 0.6344950848972296 and parameters: {'n_estimators': 282, 'max_depth': 5, 'learning_rate': 0.12311710379256466}. Best is trial 96 with value: 0.647899910634495.\u001b[0m\n",
      "\u001b[32m[I 2022-11-06 23:26:18,354]\u001b[0m Trial 159 finished with value: 0.6362823949955317 and parameters: {'n_estimators': 164, 'max_depth': 4, 'learning_rate': 0.18741933945224842}. Best is trial 96 with value: 0.647899910634495.\u001b[0m\n",
      "\u001b[32m[I 2022-11-06 23:26:35,392]\u001b[0m Trial 160 finished with value: 0.6336014298480787 and parameters: {'n_estimators': 242, 'max_depth': 10, 'learning_rate': 0.0345376831750083}. Best is trial 96 with value: 0.647899910634495.\u001b[0m\n",
      "\u001b[32m[I 2022-11-06 23:26:43,989]\u001b[0m Trial 161 finished with value: 0.6425379803395889 and parameters: {'n_estimators': 254, 'max_depth': 4, 'learning_rate': 0.10179679765636414}. Best is trial 96 with value: 0.647899910634495.\u001b[0m\n",
      "\u001b[32m[I 2022-11-06 23:26:52,993]\u001b[0m Trial 162 finished with value: 0.6407506702412868 and parameters: {'n_estimators': 265, 'max_depth': 4, 'learning_rate': 0.09212615211766985}. Best is trial 96 with value: 0.647899910634495.\u001b[0m\n",
      "\u001b[32m[I 2022-11-06 23:27:01,974]\u001b[0m Trial 163 finished with value: 0.6353887399463807 and parameters: {'n_estimators': 258, 'max_depth': 4, 'learning_rate': 0.06685138069250528}. Best is trial 96 with value: 0.647899910634495.\u001b[0m\n",
      "\u001b[32m[I 2022-11-06 23:27:09,599]\u001b[0m Trial 164 finished with value: 0.6309204647006256 and parameters: {'n_estimators': 271, 'max_depth': 3, 'learning_rate': 0.09603833741180415}. Best is trial 96 with value: 0.647899910634495.\u001b[0m\n",
      "\u001b[32m[I 2022-11-06 23:27:21,614]\u001b[0m Trial 165 finished with value: 0.6309204647006256 and parameters: {'n_estimators': 326, 'max_depth': 5, 'learning_rate': 0.1363108405060706}. Best is trial 96 with value: 0.647899910634495.\u001b[0m\n",
      "\u001b[32m[I 2022-11-06 23:27:27,428]\u001b[0m Trial 166 finished with value: 0.6362823949955317 and parameters: {'n_estimators': 135, 'max_depth': 5, 'learning_rate': 0.10290479532304052}. Best is trial 96 with value: 0.647899910634495.\u001b[0m\n",
      "\u001b[32m[I 2022-11-06 23:27:35,603]\u001b[0m Trial 167 finished with value: 0.6398570151921358 and parameters: {'n_estimators': 233, 'max_depth': 4, 'learning_rate': 0.07383636388155712}. Best is trial 96 with value: 0.647899910634495.\u001b[0m\n",
      "\u001b[32m[I 2022-11-06 23:27:45,711]\u001b[0m Trial 168 finished with value: 0.6309204647006256 and parameters: {'n_estimators': 287, 'max_depth': 4, 'learning_rate': 0.05038834208135606}. Best is trial 96 with value: 0.647899910634495.\u001b[0m\n",
      "\u001b[32m[I 2022-11-06 23:27:52,594]\u001b[0m Trial 169 finished with value: 0.6246648793565683 and parameters: {'n_estimators': 246, 'max_depth': 3, 'learning_rate': 0.11842745701353263}. Best is trial 96 with value: 0.647899910634495.\u001b[0m\n",
      "\u001b[32m[I 2022-11-06 23:27:58,322]\u001b[0m Trial 170 finished with value: 0.615728328865058 and parameters: {'n_estimators': 199, 'max_depth': 3, 'learning_rate': 0.07905762905881478}. Best is trial 96 with value: 0.647899910634495.\u001b[0m\n",
      "\u001b[32m[I 2022-11-06 23:28:06,557]\u001b[0m Trial 171 finished with value: 0.6371760500446827 and parameters: {'n_estimators': 234, 'max_depth': 4, 'learning_rate': 0.06815838886637182}. Best is trial 96 with value: 0.647899910634495.\u001b[0m\n",
      "\u001b[32m[I 2022-11-06 23:28:15,520]\u001b[0m Trial 172 finished with value: 0.6327077747989276 and parameters: {'n_estimators': 263, 'max_depth': 4, 'learning_rate': 0.0889503573110242}. Best is trial 96 with value: 0.647899910634495.\u001b[0m\n",
      "\u001b[32m[I 2022-11-06 23:28:25,114]\u001b[0m Trial 173 finished with value: 0.6219839142091153 and parameters: {'n_estimators': 240, 'max_depth': 5, 'learning_rate': 0.10828744564453634}. Best is trial 96 with value: 0.647899910634495.\u001b[0m\n",
      "\u001b[32m[I 2022-11-06 23:28:31,274]\u001b[0m Trial 174 finished with value: 0.6282394995531725 and parameters: {'n_estimators': 218, 'max_depth': 3, 'learning_rate': 0.14884783156744147}. Best is trial 96 with value: 0.647899910634495.\u001b[0m\n",
      "\u001b[32m[I 2022-11-06 23:28:37,942]\u001b[0m Trial 175 finished with value: 0.6166219839142091 and parameters: {'n_estimators': 182, 'max_depth': 4, 'learning_rate': 0.04626080801480149}. Best is trial 96 with value: 0.647899910634495.\u001b[0m\n",
      "\u001b[32m[I 2022-11-06 23:28:47,838]\u001b[0m Trial 176 finished with value: 0.6318141197497765 and parameters: {'n_estimators': 299, 'max_depth': 4, 'learning_rate': 0.1262454965365461}. Best is trial 96 with value: 0.647899910634495.\u001b[0m\n",
      "\u001b[32m[I 2022-11-06 23:28:51,755]\u001b[0m Trial 177 finished with value: 0.5960679177837355 and parameters: {'n_estimators': 103, 'max_depth': 4, 'learning_rate': 0.009369419490620326}. Best is trial 96 with value: 0.647899910634495.\u001b[0m\n",
      "\u001b[32m[I 2022-11-06 23:29:01,141]\u001b[0m Trial 178 finished with value: 0.6318141197497765 and parameters: {'n_estimators': 232, 'max_depth': 5, 'learning_rate': 0.09035568349011608}. Best is trial 96 with value: 0.647899910634495.\u001b[0m\n",
      "\u001b[32m[I 2022-11-06 23:29:06,109]\u001b[0m Trial 179 finished with value: 0.6371760500446827 and parameters: {'n_estimators': 176, 'max_depth': 3, 'learning_rate': 0.16266516852888716}. Best is trial 96 with value: 0.647899910634495.\u001b[0m\n",
      "\u001b[32m[I 2022-11-06 23:29:10,885]\u001b[0m Trial 180 finished with value: 0.6014298480786416 and parameters: {'n_estimators': 201, 'max_depth': 2, 'learning_rate': 0.13640996454231416}. Best is trial 96 with value: 0.647899910634495.\u001b[0m\n",
      "\u001b[32m[I 2022-11-06 23:29:19,497]\u001b[0m Trial 181 finished with value: 0.6318141197497765 and parameters: {'n_estimators': 217, 'max_depth': 4, 'learning_rate': 0.1074849618482086}. Best is trial 96 with value: 0.647899910634495.\u001b[0m\n",
      "\u001b[32m[I 2022-11-06 23:29:24,946]\u001b[0m Trial 182 finished with value: 0.6273458445040214 and parameters: {'n_estimators': 170, 'max_depth': 3, 'learning_rate': 0.1665326773424149}. Best is trial 96 with value: 0.647899910634495.\u001b[0m\n",
      "\u001b[32m[I 2022-11-06 23:29:35,958]\u001b[0m Trial 183 finished with value: 0.6416443252904379 and parameters: {'n_estimators': 268, 'max_depth': 4, 'learning_rate': 0.06803061815666442}. Best is trial 96 with value: 0.647899910634495.\u001b[0m\n",
      "\u001b[32m[I 2022-11-06 23:29:46,950]\u001b[0m Trial 184 finished with value: 0.6318141197497765 and parameters: {'n_estimators': 271, 'max_depth': 4, 'learning_rate': 0.062193378932557004}. Best is trial 96 with value: 0.647899910634495.\u001b[0m\n",
      "\u001b[32m[I 2022-11-06 23:29:59,506]\u001b[0m Trial 185 finished with value: 0.6407506702412868 and parameters: {'n_estimators': 315, 'max_depth': 5, 'learning_rate': 0.07668507343510124}. Best is trial 96 with value: 0.647899910634495.\u001b[0m\n",
      "\u001b[32m[I 2022-11-06 23:30:15,521]\u001b[0m Trial 186 finished with value: 0.6353887399463807 and parameters: {'n_estimators': 321, 'max_depth': 6, 'learning_rate': 0.03096045249677344}. Best is trial 96 with value: 0.647899910634495.\u001b[0m\n",
      "\u001b[32m[I 2022-11-06 23:30:35,223]\u001b[0m Trial 187 finished with value: 0.615728328865058 and parameters: {'n_estimators': 345, 'max_depth': 15, 'learning_rate': 0.07421601791235127}. Best is trial 96 with value: 0.647899910634495.\u001b[0m\n",
      "\u001b[32m[I 2022-11-06 23:30:46,723]\u001b[0m Trial 188 finished with value: 0.6353887399463807 and parameters: {'n_estimators': 282, 'max_depth': 5, 'learning_rate': 0.07307971261750831}. Best is trial 96 with value: 0.647899910634495.\u001b[0m\n",
      "\u001b[32m[I 2022-11-06 23:30:57,905]\u001b[0m Trial 189 finished with value: 0.6371760500446827 and parameters: {'n_estimators': 308, 'max_depth': 5, 'learning_rate': 0.14671692653311616}. Best is trial 96 with value: 0.647899910634495.\u001b[0m\n",
      "\u001b[32m[I 2022-11-06 23:31:12,297]\u001b[0m Trial 190 finished with value: 0.6237712243074173 and parameters: {'n_estimators': 264, 'max_depth': 10, 'learning_rate': 0.09551442781527877}. Best is trial 96 with value: 0.647899910634495.\u001b[0m\n",
      "\u001b[32m[I 2022-11-06 23:31:21,252]\u001b[0m Trial 191 finished with value: 0.6273458445040214 and parameters: {'n_estimators': 252, 'max_depth': 4, 'learning_rate': 0.04691320302430045}. Best is trial 96 with value: 0.647899910634495.\u001b[0m\n",
      "\u001b[32m[I 2022-11-06 23:31:25,414]\u001b[0m Trial 192 finished with value: 0.6130473637176049 and parameters: {'n_estimators': 143, 'max_depth': 3, 'learning_rate': 0.11258191378757873}. Best is trial 96 with value: 0.647899910634495.\u001b[0m\n",
      "\u001b[32m[I 2022-11-06 23:31:36,061]\u001b[0m Trial 193 finished with value: 0.6282394995531725 and parameters: {'n_estimators': 291, 'max_depth': 5, 'learning_rate': 0.14155296347314814}. Best is trial 96 with value: 0.647899910634495.\u001b[0m\n",
      "\u001b[32m[I 2022-11-06 23:31:44,355]\u001b[0m Trial 194 finished with value: 0.6380697050938338 and parameters: {'n_estimators': 233, 'max_depth': 4, 'learning_rate': 0.08683816534079462}. Best is trial 96 with value: 0.647899910634495.\u001b[0m\n",
      "\u001b[32m[I 2022-11-06 23:31:52,150]\u001b[0m Trial 195 finished with value: 0.6264521894548704 and parameters: {'n_estimators': 229, 'max_depth': 4, 'learning_rate': 0.1186379693860491}. Best is trial 96 with value: 0.647899910634495.\u001b[0m\n",
      "\u001b[32m[I 2022-11-06 23:31:59,604]\u001b[0m Trial 196 finished with value: 0.6380697050938338 and parameters: {'n_estimators': 179, 'max_depth': 5, 'learning_rate': 0.0948126589934525}. Best is trial 96 with value: 0.647899910634495.\u001b[0m\n",
      "\u001b[32m[I 2022-11-06 23:32:11,761]\u001b[0m Trial 197 finished with value: 0.6291331546023234 and parameters: {'n_estimators': 256, 'max_depth': 6, 'learning_rate': 0.062060494111678514}. Best is trial 96 with value: 0.647899910634495.\u001b[0m\n",
      "\u001b[32m[I 2022-11-06 23:32:18,207]\u001b[0m Trial 198 finished with value: 0.6380697050938338 and parameters: {'n_estimators': 151, 'max_depth': 5, 'learning_rate': 0.08544437314434469}. Best is trial 96 with value: 0.647899910634495.\u001b[0m\n",
      "\u001b[32m[I 2022-11-06 23:32:24,886]\u001b[0m Trial 199 finished with value: 0.6327077747989276 and parameters: {'n_estimators': 135, 'max_depth': 6, 'learning_rate': 0.0913575118341395}. Best is trial 96 with value: 0.647899910634495.\u001b[0m\n",
      "\u001b[32m[I 2022-11-06 23:32:29,872]\u001b[0m Trial 200 finished with value: 0.6166219839142091 and parameters: {'n_estimators': 159, 'max_depth': 5, 'learning_rate': 0.6667193055180577}. Best is trial 96 with value: 0.647899910634495.\u001b[0m\n",
      "\u001b[32m[I 2022-11-06 23:32:35,024]\u001b[0m Trial 201 finished with value: 0.6389633601429848 and parameters: {'n_estimators': 117, 'max_depth': 5, 'learning_rate': 0.08437276166976962}. Best is trial 96 with value: 0.647899910634495.\u001b[0m\n",
      "\u001b[32m[I 2022-11-06 23:32:39,799]\u001b[0m Trial 202 finished with value: 0.6362823949955317 and parameters: {'n_estimators': 107, 'max_depth': 5, 'learning_rate': 0.0827921016234752}. Best is trial 96 with value: 0.647899910634495.\u001b[0m\n",
      "\u001b[32m[I 2022-11-06 23:32:45,001]\u001b[0m Trial 203 finished with value: 0.6407506702412868 and parameters: {'n_estimators': 120, 'max_depth': 5, 'learning_rate': 0.10128654778418401}. Best is trial 96 with value: 0.647899910634495.\u001b[0m\n",
      "\u001b[32m[I 2022-11-06 23:32:49,678]\u001b[0m Trial 204 finished with value: 0.6282394995531725 and parameters: {'n_estimators': 84, 'max_depth': 6, 'learning_rate': 0.04280196728407606}. Best is trial 96 with value: 0.647899910634495.\u001b[0m\n",
      "\u001b[32m[I 2022-11-06 23:32:55,073]\u001b[0m Trial 205 finished with value: 0.6327077747989276 and parameters: {'n_estimators': 123, 'max_depth': 5, 'learning_rate': 0.09974174516964712}. Best is trial 96 with value: 0.647899910634495.\u001b[0m\n",
      "\u001b[32m[I 2022-11-06 23:32:58,180]\u001b[0m Trial 206 finished with value: 0.6273458445040215 and parameters: {'n_estimators': 68, 'max_depth': 5, 'learning_rate': 0.10811467185893069}. Best is trial 96 with value: 0.647899910634495.\u001b[0m\n",
      "\u001b[32m[I 2022-11-06 23:33:02,525]\u001b[0m Trial 207 finished with value: 0.6175156389633601 and parameters: {'n_estimators': 118, 'max_depth': 4, 'learning_rate': 0.05850608151003786}. Best is trial 96 with value: 0.647899910634495.\u001b[0m\n",
      "\u001b[32m[I 2022-11-06 23:33:06,790]\u001b[0m Trial 208 finished with value: 0.6309204647006256 and parameters: {'n_estimators': 95, 'max_depth': 5, 'learning_rate': 0.08254183789902562}. Best is trial 96 with value: 0.647899910634495.\u001b[0m\n",
      "\u001b[32m[I 2022-11-06 23:33:15,989]\u001b[0m Trial 209 finished with value: 0.6344950848972296 and parameters: {'n_estimators': 155, 'max_depth': 7, 'learning_rate': 0.02861015000901937}. Best is trial 96 with value: 0.647899910634495.\u001b[0m\n",
      "\u001b[32m[I 2022-11-06 23:33:22,696]\u001b[0m Trial 210 finished with value: 0.645218945487042 and parameters: {'n_estimators': 133, 'max_depth': 6, 'learning_rate': 0.0731789044916823}. Best is trial 96 with value: 0.647899910634495.\u001b[0m\n",
      "\u001b[32m[I 2022-11-06 23:33:29,143]\u001b[0m Trial 211 finished with value: 0.6398570151921358 and parameters: {'n_estimators': 127, 'max_depth': 6, 'learning_rate': 0.07234668652864767}. Best is trial 96 with value: 0.647899910634495.\u001b[0m\n",
      "\u001b[32m[I 2022-11-06 23:33:35,591]\u001b[0m Trial 212 finished with value: 0.644325290437891 and parameters: {'n_estimators': 126, 'max_depth': 6, 'learning_rate': 0.059451606454240594}. Best is trial 96 with value: 0.647899910634495.\u001b[0m\n",
      "\u001b[32m[I 2022-11-06 23:33:42,682]\u001b[0m Trial 213 finished with value: 0.6398570151921358 and parameters: {'n_estimators': 123, 'max_depth': 7, 'learning_rate': 0.06509578158371693}. Best is trial 96 with value: 0.647899910634495.\u001b[0m\n",
      "\u001b[32m[I 2022-11-06 23:33:49,587]\u001b[0m Trial 214 finished with value: 0.6327077747989276 and parameters: {'n_estimators': 118, 'max_depth': 7, 'learning_rate': 0.056270274150275856}. Best is trial 96 with value: 0.647899910634495.\u001b[0m\n",
      "\u001b[32m[I 2022-11-06 23:33:54,746]\u001b[0m Trial 215 finished with value: 0.6219839142091153 and parameters: {'n_estimators': 93, 'max_depth': 6, 'learning_rate': 0.031105620091106276}. Best is trial 96 with value: 0.647899910634495.\u001b[0m\n",
      "\u001b[32m[I 2022-11-06 23:34:01,537]\u001b[0m Trial 216 finished with value: 0.6353887399463807 and parameters: {'n_estimators': 129, 'max_depth': 6, 'learning_rate': 0.04963608564245906}. Best is trial 96 with value: 0.647899910634495.\u001b[0m\n",
      "\u001b[32m[I 2022-11-06 23:34:05,700]\u001b[0m Trial 217 finished with value: 0.583556747095621 and parameters: {'n_estimators': 58, 'max_depth': 8, 'learning_rate': 0.004048594205160794}. Best is trial 96 with value: 0.647899910634495.\u001b[0m\n",
      "\u001b[32m[I 2022-11-06 23:34:11,328]\u001b[0m Trial 218 finished with value: 0.6353887399463807 and parameters: {'n_estimators': 108, 'max_depth': 6, 'learning_rate': 0.06393142006509561}. Best is trial 96 with value: 0.647899910634495.\u001b[0m\n",
      "\u001b[32m[I 2022-11-06 23:34:16,106]\u001b[0m Trial 219 finished with value: 0.6362823949955317 and parameters: {'n_estimators': 80, 'max_depth': 7, 'learning_rate': 0.07297336194989304}. Best is trial 96 with value: 0.647899910634495.\u001b[0m\n",
      "\u001b[32m[I 2022-11-06 23:34:23,382]\u001b[0m Trial 220 finished with value: 0.6336014298480787 and parameters: {'n_estimators': 137, 'max_depth': 7, 'learning_rate': 0.11223325293392603}. Best is trial 96 with value: 0.647899910634495.\u001b[0m\n",
      "\u001b[32m[I 2022-11-06 23:34:30,314]\u001b[0m Trial 221 finished with value: 0.6416443252904379 and parameters: {'n_estimators': 138, 'max_depth': 6, 'learning_rate': 0.07783228986423185}. Best is trial 96 with value: 0.647899910634495.\u001b[0m\n",
      "\u001b[32m[I 2022-11-06 23:34:36,870]\u001b[0m Trial 222 finished with value: 0.6389633601429848 and parameters: {'n_estimators': 130, 'max_depth': 6, 'learning_rate': 0.07280175329590086}. Best is trial 96 with value: 0.647899910634495.\u001b[0m\n",
      "\u001b[32m[I 2022-11-06 23:34:44,344]\u001b[0m Trial 223 finished with value: 0.6407506702412868 and parameters: {'n_estimators': 144, 'max_depth': 6, 'learning_rate': 0.04259960353112131}. Best is trial 96 with value: 0.647899910634495.\u001b[0m\n",
      "\u001b[32m[I 2022-11-06 23:34:50,586]\u001b[0m Trial 224 finished with value: 0.6273458445040214 and parameters: {'n_estimators': 103, 'max_depth': 7, 'learning_rate': 0.03002627136494316}. Best is trial 96 with value: 0.647899910634495.\u001b[0m\n",
      "\u001b[32m[I 2022-11-06 23:34:58,150]\u001b[0m Trial 225 finished with value: 0.6318141197497765 and parameters: {'n_estimators': 145, 'max_depth': 6, 'learning_rate': 0.048927142538996556}. Best is trial 96 with value: 0.647899910634495.\u001b[0m\n",
      "\u001b[32m[I 2022-11-06 23:35:07,191]\u001b[0m Trial 226 finished with value: 0.6309204647006256 and parameters: {'n_estimators': 158, 'max_depth': 7, 'learning_rate': 0.061615851429037416}. Best is trial 96 with value: 0.647899910634495.\u001b[0m\n",
      "\u001b[32m[I 2022-11-06 23:35:13,329]\u001b[0m Trial 227 finished with value: 0.6255585344057194 and parameters: {'n_estimators': 115, 'max_depth': 6, 'learning_rate': 0.02478295475662557}. Best is trial 96 with value: 0.647899910634495.\u001b[0m\n",
      "\u001b[32m[I 2022-11-06 23:35:17,855]\u001b[0m Trial 228 finished with value: 0.6398570151921358 and parameters: {'n_estimators': 86, 'max_depth': 6, 'learning_rate': 0.08042708246630857}. Best is trial 96 with value: 0.647899910634495.\u001b[0m\n",
      "\u001b[32m[I 2022-11-06 23:35:22,394]\u001b[0m Trial 229 finished with value: 0.6300268096514745 and parameters: {'n_estimators': 84, 'max_depth': 6, 'learning_rate': 0.04110838313379991}. Best is trial 96 with value: 0.647899910634495.\u001b[0m\n",
      "\u001b[32m[I 2022-11-06 23:35:25,988]\u001b[0m Trial 230 finished with value: 0.6300268096514745 and parameters: {'n_estimators': 67, 'max_depth': 6, 'learning_rate': 0.07076382470652526}. Best is trial 96 with value: 0.647899910634495.\u001b[0m\n",
      "\u001b[32m[I 2022-11-06 23:35:33,238]\u001b[0m Trial 231 finished with value: 0.6300268096514745 and parameters: {'n_estimators': 136, 'max_depth': 7, 'learning_rate': 0.10587391214860337}. Best is trial 96 with value: 0.647899910634495.\u001b[0m\n",
      "\u001b[32m[I 2022-11-06 23:35:38,547]\u001b[0m Trial 232 finished with value: 0.6344950848972296 and parameters: {'n_estimators': 103, 'max_depth': 6, 'learning_rate': 0.08345935591577544}. Best is trial 96 with value: 0.647899910634495.\u001b[0m\n",
      "\u001b[32m[I 2022-11-06 23:35:46,360]\u001b[0m Trial 233 finished with value: 0.6318141197497765 and parameters: {'n_estimators': 168, 'max_depth': 6, 'learning_rate': 0.12257842776086979}. Best is trial 96 with value: 0.647899910634495.\u001b[0m\n",
      "\u001b[32m[I 2022-11-06 23:35:53,036]\u001b[0m Trial 234 finished with value: 0.6416443252904379 and parameters: {'n_estimators': 120, 'max_depth': 7, 'learning_rate': 0.09274978265943266}. Best is trial 96 with value: 0.647899910634495.\u001b[0m\n",
      "\u001b[32m[I 2022-11-06 23:36:01,370]\u001b[0m Trial 235 finished with value: 0.6282394995531725 and parameters: {'n_estimators': 146, 'max_depth': 8, 'learning_rate': 0.10165703367508763}. Best is trial 96 with value: 0.647899910634495.\u001b[0m\n",
      "\u001b[32m[I 2022-11-06 23:36:03,255]\u001b[0m Trial 236 finished with value: 0.6085790884718498 and parameters: {'n_estimators': 27, 'max_depth': 7, 'learning_rate': 0.057867232922878535}. Best is trial 96 with value: 0.647899910634495.\u001b[0m\n",
      "\u001b[32m[I 2022-11-06 23:36:09,742]\u001b[0m Trial 237 finished with value: 0.6318141197497765 and parameters: {'n_estimators': 94, 'max_depth': 10, 'learning_rate': 0.1261136058598462}. Best is trial 96 with value: 0.647899910634495.\u001b[0m\n",
      "\u001b[32m[I 2022-11-06 23:36:25,293]\u001b[0m Trial 238 finished with value: 0.6264521894548704 and parameters: {'n_estimators': 302, 'max_depth': 8, 'learning_rate': 0.07695491554645875}. Best is trial 96 with value: 0.647899910634495.\u001b[0m\n",
      "\u001b[32m[I 2022-11-06 23:36:32,129]\u001b[0m Trial 239 finished with value: 0.6416443252904379 and parameters: {'n_estimators': 123, 'max_depth': 7, 'learning_rate': 0.09256469999210248}. Best is trial 96 with value: 0.647899910634495.\u001b[0m\n",
      "\u001b[32m[I 2022-11-06 23:36:37,158]\u001b[0m Trial 240 finished with value: 0.613941018766756 and parameters: {'n_estimators': 124, 'max_depth': 7, 'learning_rate': 0.4587337371233276}. Best is trial 96 with value: 0.647899910634495.\u001b[0m\n",
      "\u001b[32m[I 2022-11-06 23:36:45,022]\u001b[0m Trial 241 finished with value: 0.6344950848972296 and parameters: {'n_estimators': 146, 'max_depth': 7, 'learning_rate': 0.09651173970027761}. Best is trial 96 with value: 0.647899910634495.\u001b[0m\n",
      "\u001b[32m[I 2022-11-06 23:36:51,706]\u001b[0m Trial 242 finished with value: 0.6425379803395889 and parameters: {'n_estimators': 122, 'max_depth': 7, 'learning_rate': 0.10441574595467823}. Best is trial 96 with value: 0.647899910634495.\u001b[0m\n",
      "\u001b[32m[I 2022-11-06 23:36:58,181]\u001b[0m Trial 243 finished with value: 0.6389633601429848 and parameters: {'n_estimators': 112, 'max_depth': 7, 'learning_rate': 0.06821318385105274}. Best is trial 96 with value: 0.647899910634495.\u001b[0m\n",
      "\u001b[32m[I 2022-11-06 23:37:21,023]\u001b[0m Trial 244 finished with value: 0.6264521894548704 and parameters: {'n_estimators': 522, 'max_depth': 8, 'learning_rate': 0.08989884928704633}. Best is trial 96 with value: 0.647899910634495.\u001b[0m\n",
      "\u001b[32m[I 2022-11-06 23:37:25,617]\u001b[0m Trial 245 finished with value: 0.6336014298480787 and parameters: {'n_estimators': 79, 'max_depth': 7, 'learning_rate': 0.1102258863824224}. Best is trial 96 with value: 0.647899910634495.\u001b[0m\n",
      "\u001b[32m[I 2022-11-06 23:37:30,890]\u001b[0m Trial 246 finished with value: 0.612153708668454 and parameters: {'n_estimators': 125, 'max_depth': 11, 'learning_rate': 0.5265742851468584}. Best is trial 96 with value: 0.647899910634495.\u001b[0m\n",
      "\u001b[32m[I 2022-11-06 23:37:35,805]\u001b[0m Trial 247 finished with value: 0.6389633601429848 and parameters: {'n_estimators': 92, 'max_depth': 6, 'learning_rate': 0.04915163446589154}. Best is trial 96 with value: 0.647899910634495.\u001b[0m\n",
      "\u001b[32m[I 2022-11-06 23:37:39,371]\u001b[0m Trial 248 finished with value: 0.6318141197497765 and parameters: {'n_estimators': 60, 'max_depth': 7, 'learning_rate': 0.12570586876466358}. Best is trial 96 with value: 0.647899910634495.\u001b[0m\n",
      "\u001b[32m[I 2022-11-06 23:37:52,073]\u001b[0m Trial 249 finished with value: 0.6353887399463807 and parameters: {'n_estimators': 280, 'max_depth': 6, 'learning_rate': 0.07753550620472441}. Best is trial 96 with value: 0.647899910634495.\u001b[0m\n",
      "\u001b[32m[I 2022-11-06 23:38:22,303]\u001b[0m Trial 250 finished with value: 0.6228775692582663 and parameters: {'n_estimators': 756, 'max_depth': 9, 'learning_rate': 0.09516754164946682}. Best is trial 96 with value: 0.647899910634495.\u001b[0m\n",
      "\u001b[32m[I 2022-11-06 23:38:31,716]\u001b[0m Trial 251 finished with value: 0.6291331546023234 and parameters: {'n_estimators': 152, 'max_depth': 8, 'learning_rate': 0.05887495211106598}. Best is trial 96 with value: 0.647899910634495.\u001b[0m\n",
      "\u001b[32m[I 2022-11-06 23:38:38,452]\u001b[0m Trial 252 finished with value: 0.6380697050938338 and parameters: {'n_estimators': 128, 'max_depth': 6, 'learning_rate': 0.03828942181698955}. Best is trial 96 with value: 0.647899910634495.\u001b[0m\n",
      "\u001b[32m[I 2022-11-06 23:38:44,598]\u001b[0m Trial 253 finished with value: 0.6353887399463807 and parameters: {'n_estimators': 108, 'max_depth': 7, 'learning_rate': 0.1073568085809741}. Best is trial 96 with value: 0.647899910634495.\u001b[0m\n",
      "\u001b[32m[I 2022-11-06 23:38:53,289]\u001b[0m Trial 254 finished with value: 0.5996425379803395 and parameters: {'n_estimators': 319, 'max_depth': 6, 'learning_rate': 0.9322918378955661}. Best is trial 96 with value: 0.647899910634495.\u001b[0m\n",
      "\u001b[32m[I 2022-11-06 23:39:05,483]\u001b[0m Trial 255 finished with value: 0.6184092940125111 and parameters: {'n_estimators': 440, 'max_depth': 5, 'learning_rate': 0.4152639934256535}. Best is trial 96 with value: 0.647899910634495.\u001b[0m\n",
      "\u001b[32m[I 2022-11-06 23:39:11,387]\u001b[0m Trial 256 finished with value: 0.6041108132260947 and parameters: {'n_estimators': 169, 'max_depth': 7, 'learning_rate': 0.6126481409396545}. Best is trial 96 with value: 0.647899910634495.\u001b[0m\n",
      "\u001b[32m[I 2022-11-06 23:39:16,104]\u001b[0m Trial 257 finished with value: 0.6282394995531725 and parameters: {'n_estimators': 129, 'max_depth': 4, 'learning_rate': 0.08114411811980683}. Best is trial 96 with value: 0.647899910634495.\u001b[0m\n",
      "\u001b[32m[I 2022-11-06 23:39:22,454]\u001b[0m Trial 258 finished with value: 0.6318141197497765 and parameters: {'n_estimators': 90, 'max_depth': 11, 'learning_rate': 0.1315049332258434}. Best is trial 96 with value: 0.647899910634495.\u001b[0m\n",
      "\u001b[32m[I 2022-11-06 23:39:30,683]\u001b[0m Trial 259 finished with value: 0.6076854334226988 and parameters: {'n_estimators': 281, 'max_depth': 9, 'learning_rate': 0.9890412635504591}. Best is trial 96 with value: 0.647899910634495.\u001b[0m\n",
      "\u001b[32m[I 2022-11-06 23:39:38,072]\u001b[0m Trial 260 finished with value: 0.6505808757819481 and parameters: {'n_estimators': 146, 'max_depth': 6, 'learning_rate': 0.06296398088567319}. Best is trial 260 with value: 0.6505808757819481.\u001b[0m\n",
      "\u001b[32m[I 2022-11-06 23:39:50,764]\u001b[0m Trial 261 finished with value: 0.6300268096514745 and parameters: {'n_estimators': 148, 'max_depth': 12, 'learning_rate': 0.020705188887925337}. Best is trial 260 with value: 0.6505808757819481.\u001b[0m\n",
      "\u001b[32m[I 2022-11-06 23:40:02,213]\u001b[0m Trial 262 finished with value: 0.5737265415549598 and parameters: {'n_estimators': 166, 'max_depth': 8, 'learning_rate': 0.00031796177982106044}. Best is trial 260 with value: 0.6505808757819481.\u001b[0m\n",
      "\u001b[32m[I 2022-11-06 23:40:06,770]\u001b[0m Trial 263 finished with value: 0.6210902591599642 and parameters: {'n_estimators': 108, 'max_depth': 6, 'learning_rate': 0.3451937864889716}. Best is trial 260 with value: 0.6505808757819481.\u001b[0m\n",
      "\u001b[32m[I 2022-11-06 23:40:20,371]\u001b[0m Trial 264 finished with value: 0.645218945487042 and parameters: {'n_estimators': 403, 'max_depth': 4, 'learning_rate': 0.05810533478194146}. Best is trial 260 with value: 0.6505808757819481.\u001b[0m\n",
      "\u001b[32m[I 2022-11-06 23:40:37,365]\u001b[0m Trial 265 finished with value: 0.6219839142091153 and parameters: {'n_estimators': 470, 'max_depth': 5, 'learning_rate': 0.09926912924163156}. Best is trial 260 with value: 0.6505808757819481.\u001b[0m\n",
      "\u001b[32m[I 2022-11-06 23:40:42,330]\u001b[0m Trial 266 finished with value: 0.6228775692582663 and parameters: {'n_estimators': 134, 'max_depth': 4, 'learning_rate': 0.0538759432716505}. Best is trial 260 with value: 0.6505808757819481.\u001b[0m\n",
      "\u001b[32m[I 2022-11-06 23:40:51,985]\u001b[0m Trial 267 finished with value: 0.6264521894548704 and parameters: {'n_estimators': 270, 'max_depth': 4, 'learning_rate': 0.03654457029043466}. Best is trial 260 with value: 0.6505808757819481.\u001b[0m\n",
      "\u001b[32m[I 2022-11-06 23:41:03,466]\u001b[0m Trial 268 finished with value: 0.6309204647006256 and parameters: {'n_estimators': 356, 'max_depth': 4, 'learning_rate': 0.11834345448010206}. Best is trial 260 with value: 0.6505808757819481.\u001b[0m\n",
      "\u001b[32m[I 2022-11-06 23:41:14,015]\u001b[0m Trial 269 finished with value: 0.6273458445040214 and parameters: {'n_estimators': 194, 'max_depth': 7, 'learning_rate': 0.06065620063691466}. Best is trial 260 with value: 0.6505808757819481.\u001b[0m\n",
      "\u001b[32m[I 2022-11-06 23:41:20,037]\u001b[0m Trial 270 finished with value: 0.6336014298480787 and parameters: {'n_estimators': 147, 'max_depth': 6, 'learning_rate': 0.29427218849116876}. Best is trial 260 with value: 0.6505808757819481.\u001b[0m\n",
      "\u001b[32m[I 2022-11-06 23:41:32,899]\u001b[0m Trial 271 finished with value: 0.6264521894548704 and parameters: {'n_estimators': 332, 'max_depth': 5, 'learning_rate': 0.08606412536748972}. Best is trial 260 with value: 0.6505808757819481.\u001b[0m\n",
      "\u001b[32m[I 2022-11-06 23:41:44,316]\u001b[0m Trial 272 finished with value: 0.6353887399463807 and parameters: {'n_estimators': 302, 'max_depth': 5, 'learning_rate': 0.13469054579632112}. Best is trial 260 with value: 0.6505808757819481.\u001b[0m\n",
      "\u001b[32m[I 2022-11-06 23:41:52,934]\u001b[0m Trial 273 finished with value: 0.6318141197497765 and parameters: {'n_estimators': 256, 'max_depth': 4, 'learning_rate': 0.10997700888937753}. Best is trial 260 with value: 0.6505808757819481.\u001b[0m\n",
      "\u001b[32m[I 2022-11-06 23:42:03,010]\u001b[0m Trial 274 finished with value: 0.6094727435210009 and parameters: {'n_estimators': 424, 'max_depth': 4, 'learning_rate': 0.8420631223012136}. Best is trial 260 with value: 0.6505808757819481.\u001b[0m\n",
      "\u001b[32m[I 2022-11-06 23:42:08,947]\u001b[0m Trial 275 finished with value: 0.6300268096514745 and parameters: {'n_estimators': 113, 'max_depth': 6, 'learning_rate': 0.04898569439391482}. Best is trial 260 with value: 0.6505808757819481.\u001b[0m\n",
      "\u001b[32m[I 2022-11-06 23:42:11,638]\u001b[0m Trial 276 finished with value: 0.6255585344057194 and parameters: {'n_estimators': 48, 'max_depth': 6, 'learning_rate': 0.06899449149454603}. Best is trial 260 with value: 0.6505808757819481.\u001b[0m\n",
      "\u001b[32m[I 2022-11-06 23:42:16,550]\u001b[0m Trial 277 finished with value: 0.6210902591599642 and parameters: {'n_estimators': 170, 'max_depth': 3, 'learning_rate': 0.09424440529940738}. Best is trial 260 with value: 0.6505808757819481.\u001b[0m\n",
      "\u001b[32m[I 2022-11-06 23:42:40,035]\u001b[0m Trial 278 finished with value: 0.6327077747989276 and parameters: {'n_estimators': 573, 'max_depth': 5, 'learning_rate': 0.02849549675646723}. Best is trial 260 with value: 0.6505808757819481.\u001b[0m\n",
      "\u001b[32m[I 2022-11-06 23:42:44,852]\u001b[0m Trial 279 finished with value: 0.6318141197497765 and parameters: {'n_estimators': 78, 'max_depth': 7, 'learning_rate': 0.07170821573523191}. Best is trial 260 with value: 0.6505808757819481.\u001b[0m\n",
      "\u001b[32m[I 2022-11-06 23:42:57,646]\u001b[0m Trial 280 finished with value: 0.6309204647006256 and parameters: {'n_estimators': 390, 'max_depth': 4, 'learning_rate': 0.08570802056417717}. Best is trial 260 with value: 0.6505808757819481.\u001b[0m\n",
      "\u001b[32m[I 2022-11-06 23:43:02,887]\u001b[0m Trial 281 finished with value: 0.6353887399463807 and parameters: {'n_estimators': 98, 'max_depth': 6, 'learning_rate': 0.04586571105750774}. Best is trial 260 with value: 0.6505808757819481.\u001b[0m\n",
      "\u001b[32m[I 2022-11-06 23:43:08,928]\u001b[0m Trial 282 finished with value: 0.6380697050938338 and parameters: {'n_estimators': 144, 'max_depth': 5, 'learning_rate': 0.11517569586832932}. Best is trial 260 with value: 0.6505808757819481.\u001b[0m\n",
      "\u001b[32m[I 2022-11-06 23:43:20,255]\u001b[0m Trial 283 finished with value: 0.6434316353887399 and parameters: {'n_estimators': 191, 'max_depth': 8, 'learning_rate': 0.062112573548253225}. Best is trial 260 with value: 0.6505808757819481.\u001b[0m\n",
      "\u001b[32m[I 2022-11-06 23:43:29,707]\u001b[0m Trial 284 finished with value: 0.6193029490616622 and parameters: {'n_estimators': 192, 'max_depth': 8, 'learning_rate': 0.14791555841280174}. Best is trial 260 with value: 0.6505808757819481.\u001b[0m\n",
      "\u001b[32m[I 2022-11-06 23:43:40,149]\u001b[0m Trial 285 finished with value: 0.6309204647006256 and parameters: {'n_estimators': 159, 'max_depth': 9, 'learning_rate': 0.06122101254729688}. Best is trial 260 with value: 0.6505808757819481.\u001b[0m\n",
      "\u001b[32m[I 2022-11-06 23:43:52,359]\u001b[0m Trial 286 finished with value: 0.6273458445040214 and parameters: {'n_estimators': 183, 'max_depth': 8, 'learning_rate': 0.01852018003890036}. Best is trial 260 with value: 0.6505808757819481.\u001b[0m\n",
      "\u001b[32m[I 2022-11-06 23:43:59,309]\u001b[0m Trial 287 finished with value: 0.6425379803395889 and parameters: {'n_estimators': 137, 'max_depth': 6, 'learning_rate': 0.082856966924276}. Best is trial 260 with value: 0.6505808757819481.\u001b[0m\n",
      "\u001b[32m[I 2022-11-06 23:44:07,021]\u001b[0m Trial 288 finished with value: 0.615728328865058 and parameters: {'n_estimators': 207, 'max_depth': 7, 'learning_rate': 0.3714175622887075}. Best is trial 260 with value: 0.6505808757819481.\u001b[0m\n",
      "\u001b[32m[I 2022-11-06 23:44:14,930]\u001b[0m Trial 289 finished with value: 0.6327077747989276 and parameters: {'n_estimators': 136, 'max_depth': 8, 'learning_rate': 0.10146699199848423}. Best is trial 260 with value: 0.6505808757819481.\u001b[0m\n",
      "\u001b[32m[I 2022-11-06 23:44:28,070]\u001b[0m Trial 290 finished with value: 0.6112600536193029 and parameters: {'n_estimators': 241, 'max_depth': 18, 'learning_rate': 0.12834032947280027}. Best is trial 260 with value: 0.6505808757819481.\u001b[0m\n",
      "\u001b[32m[I 2022-11-06 23:44:38,480]\u001b[0m Trial 291 finished with value: 0.6362823949955317 and parameters: {'n_estimators': 309, 'max_depth': 4, 'learning_rate': 0.08593778033983578}. Best is trial 260 with value: 0.6505808757819481.\u001b[0m\n",
      "\u001b[32m[I 2022-11-06 23:44:44,154]\u001b[0m Trial 292 finished with value: 0.6246648793565683 and parameters: {'n_estimators': 107, 'max_depth': 6, 'learning_rate': 0.041847634016876016}. Best is trial 260 with value: 0.6505808757819481.\u001b[0m\n",
      "\u001b[32m[I 2022-11-06 23:44:50,485]\u001b[0m Trial 293 finished with value: 0.6371760500446827 and parameters: {'n_estimators': 125, 'max_depth': 6, 'learning_rate': 0.07349943796026849}. Best is trial 260 with value: 0.6505808757819481.\u001b[0m\n",
      "\u001b[32m[I 2022-11-06 23:44:56,192]\u001b[0m Trial 294 finished with value: 0.6050044682752457 and parameters: {'n_estimators': 164, 'max_depth': 7, 'learning_rate': 0.7334000138289588}. Best is trial 260 with value: 0.6505808757819481.\u001b[0m\n",
      "\u001b[32m[I 2022-11-06 23:45:01,005]\u001b[0m Trial 295 finished with value: 0.6255585344057194 and parameters: {'n_estimators': 78, 'max_depth': 7, 'learning_rate': 0.05049002828682325}. Best is trial 260 with value: 0.6505808757819481.\u001b[0m\n",
      "\u001b[32m[I 2022-11-06 23:45:09,370]\u001b[0m Trial 296 finished with value: 0.6353887399463807 and parameters: {'n_estimators': 124, 'max_depth': 9, 'learning_rate': 0.06639479850128373}. Best is trial 260 with value: 0.6505808757819481.\u001b[0m\n",
      "\u001b[32m[I 2022-11-06 23:45:28,348]\u001b[0m Trial 297 finished with value: 0.613941018766756 and parameters: {'n_estimators': 402, 'max_depth': 10, 'learning_rate': 0.10162925208759241}. Best is trial 260 with value: 0.6505808757819481.\u001b[0m\n",
      "\u001b[32m[I 2022-11-06 23:45:52,690]\u001b[0m Trial 298 finished with value: 0.6193029490616622 and parameters: {'n_estimators': 292, 'max_depth': 13, 'learning_rate': 0.019433235630480723}. Best is trial 260 with value: 0.6505808757819481.\u001b[0m\n",
      "\u001b[32m[I 2022-11-06 23:46:01,137]\u001b[0m Trial 299 finished with value: 0.6219839142091153 and parameters: {'n_estimators': 320, 'max_depth': 3, 'learning_rate': 0.3152664914398082}. Best is trial 260 with value: 0.6505808757819481.\u001b[0m\n",
      "\u001b[32m[I 2022-11-06 23:46:11,500]\u001b[0m Trial 300 finished with value: 0.6282394995531725 and parameters: {'n_estimators': 267, 'max_depth': 5, 'learning_rate': 0.11950767001391513}. Best is trial 260 with value: 0.6505808757819481.\u001b[0m\n",
      "\u001b[32m[I 2022-11-06 23:46:27,372]\u001b[0m Trial 301 finished with value: 0.6353887399463807 and parameters: {'n_estimators': 504, 'max_depth': 4, 'learning_rate': 0.09417343769493056}. Best is trial 260 with value: 0.6505808757819481.\u001b[0m\n",
      "\u001b[32m[I 2022-11-06 23:46:38,275]\u001b[0m Trial 302 finished with value: 0.6371760500446827 and parameters: {'n_estimators': 255, 'max_depth': 5, 'learning_rate': 0.0423711362447093}. Best is trial 260 with value: 0.6505808757819481.\u001b[0m\n",
      "\u001b[32m[I 2022-11-06 23:46:49,680]\u001b[0m Trial 303 finished with value: 0.6327077747989276 and parameters: {'n_estimators': 288, 'max_depth': 5, 'learning_rate': 0.08411131886825574}. Best is trial 260 with value: 0.6505808757819481.\u001b[0m\n",
      "\u001b[32m[I 2022-11-06 23:46:58,109]\u001b[0m Trial 304 finished with value: 0.646112600536193 and parameters: {'n_estimators': 172, 'max_depth': 6, 'learning_rate': 0.07606160961121135}. Best is trial 260 with value: 0.6505808757819481.\u001b[0m\n",
      "\u001b[32m[I 2022-11-06 23:47:06,876]\u001b[0m Trial 305 finished with value: 0.6327077747989276 and parameters: {'n_estimators': 179, 'max_depth': 6, 'learning_rate': 0.07944968682436791}. Best is trial 260 with value: 0.6505808757819481.\u001b[0m\n",
      "\u001b[32m[I 2022-11-06 23:47:14,425]\u001b[0m Trial 306 finished with value: 0.644325290437891 and parameters: {'n_estimators': 149, 'max_depth': 6, 'learning_rate': 0.06446494626726892}. Best is trial 260 with value: 0.6505808757819481.\u001b[0m\n",
      "\u001b[32m[I 2022-11-06 23:47:22,411]\u001b[0m Trial 307 finished with value: 0.6353887399463807 and parameters: {'n_estimators': 153, 'max_depth': 6, 'learning_rate': 0.035370020524710326}. Best is trial 260 with value: 0.6505808757819481.\u001b[0m\n",
      "\u001b[32m[I 2022-11-06 23:47:29,963]\u001b[0m Trial 308 finished with value: 0.6398570151921358 and parameters: {'n_estimators': 147, 'max_depth': 6, 'learning_rate': 0.05280980938174115}. Best is trial 260 with value: 0.6505808757819481.\u001b[0m\n",
      "\u001b[32m[I 2022-11-06 23:47:37,928]\u001b[0m Trial 309 finished with value: 0.6353887399463807 and parameters: {'n_estimators': 168, 'max_depth': 6, 'learning_rate': 0.10988145299617519}. Best is trial 260 with value: 0.6505808757819481.\u001b[0m\n",
      "\u001b[32m[I 2022-11-06 23:47:45,791]\u001b[0m Trial 310 finished with value: 0.6318141197497765 and parameters: {'n_estimators': 201, 'max_depth': 5, 'learning_rate': 0.14130519115374385}. Best is trial 260 with value: 0.6505808757819481.\u001b[0m\n",
      "\u001b[32m[I 2022-11-06 23:47:52,527]\u001b[0m Trial 311 finished with value: 0.6362823949955317 and parameters: {'n_estimators': 189, 'max_depth': 4, 'learning_rate': 0.06719617863296866}. Best is trial 260 with value: 0.6505808757819481.\u001b[0m\n",
      "\u001b[32m[I 2022-11-06 23:47:59,554]\u001b[0m Trial 312 finished with value: 0.6425379803395889 and parameters: {'n_estimators': 137, 'max_depth': 6, 'learning_rate': 0.059622014252592566}. Best is trial 260 with value: 0.6505808757819481.\u001b[0m\n",
      "\u001b[32m[I 2022-11-06 23:48:07,117]\u001b[0m Trial 313 finished with value: 0.6228775692582663 and parameters: {'n_estimators': 142, 'max_depth': 6, 'learning_rate': 0.02316495359931127}. Best is trial 260 with value: 0.6505808757819481.\u001b[0m\n",
      "\u001b[32m[I 2022-11-06 23:48:24,506]\u001b[0m Trial 314 finished with value: 0.6255585344057194 and parameters: {'n_estimators': 342, 'max_depth': 7, 'learning_rate': 0.05655175027286405}. Best is trial 260 with value: 0.6505808757819481.\u001b[0m\n",
      "\u001b[32m[I 2022-11-06 23:48:32,431]\u001b[0m Trial 315 finished with value: 0.6398570151921358 and parameters: {'n_estimators': 165, 'max_depth': 6, 'learning_rate': 0.10079392042350922}. Best is trial 260 with value: 0.6505808757819481.\u001b[0m\n",
      "\u001b[32m[I 2022-11-06 23:48:38,965]\u001b[0m Trial 316 finished with value: 0.6210902591599642 and parameters: {'n_estimators': 147, 'max_depth': 5, 'learning_rate': 0.041238570900196454}. Best is trial 260 with value: 0.6505808757819481.\u001b[0m\n",
      "\u001b[32m[I 2022-11-06 23:48:44,950]\u001b[0m Trial 317 finished with value: 0.6380697050938338 and parameters: {'n_estimators': 115, 'max_depth': 6, 'learning_rate': 0.08561297410785973}. Best is trial 260 with value: 0.6505808757819481.\u001b[0m\n",
      "\u001b[32m[I 2022-11-06 23:48:50,633]\u001b[0m Trial 318 finished with value: 0.6336014298480787 and parameters: {'n_estimators': 135, 'max_depth': 5, 'learning_rate': 0.12330783030898129}. Best is trial 260 with value: 0.6505808757819481.\u001b[0m\n",
      "\u001b[32m[I 2022-11-06 23:49:01,499]\u001b[0m Trial 319 finished with value: 0.5924932975871314 and parameters: {'n_estimators': 176, 'max_depth': 7, 'learning_rate': 0.005762284653087757}. Best is trial 260 with value: 0.6505808757819481.\u001b[0m\n",
      "\u001b[32m[I 2022-11-06 23:49:06,713]\u001b[0m Trial 320 finished with value: 0.6371760500446827 and parameters: {'n_estimators': 99, 'max_depth': 6, 'learning_rate': 0.06532022989962599}. Best is trial 260 with value: 0.6505808757819481.\u001b[0m\n",
      "\u001b[32m[I 2022-11-06 23:49:13,420]\u001b[0m Trial 321 finished with value: 0.6398570151921358 and parameters: {'n_estimators': 159, 'max_depth': 5, 'learning_rate': 0.09522032684478679}. Best is trial 260 with value: 0.6505808757819481.\u001b[0m\n",
      "\u001b[32m[I 2022-11-06 23:49:20,361]\u001b[0m Trial 322 finished with value: 0.6336014298480787 and parameters: {'n_estimators': 117, 'max_depth': 7, 'learning_rate': 0.05784985776604031}. Best is trial 260 with value: 0.6505808757819481.\u001b[0m\n",
      "\u001b[32m[I 2022-11-06 23:49:30,858]\u001b[0m Trial 323 finished with value: 0.6237712243074173 and parameters: {'n_estimators': 133, 'max_depth': 20, 'learning_rate': 0.07750146793386814}. Best is trial 260 with value: 0.6505808757819481.\u001b[0m\n",
      "\u001b[32m[I 2022-11-06 23:49:38,761]\u001b[0m Trial 324 finished with value: 0.6371760500446827 and parameters: {'n_estimators': 152, 'max_depth': 6, 'learning_rate': 0.03725758996543681}. Best is trial 260 with value: 0.6505808757819481.\u001b[0m\n",
      "\u001b[32m[I 2022-11-06 23:49:43,813]\u001b[0m Trial 325 finished with value: 0.6344950848972296 and parameters: {'n_estimators': 99, 'max_depth': 6, 'learning_rate': 0.10754650918610931}. Best is trial 260 with value: 0.6505808757819481.\u001b[0m\n",
      "\u001b[32m[I 2022-11-06 23:49:54,580]\u001b[0m Trial 326 finished with value: 0.612153708668454 and parameters: {'n_estimators': 179, 'max_depth': 19, 'learning_rate': 0.12924408635850682}. Best is trial 260 with value: 0.6505808757819481.\u001b[0m\n",
      "\u001b[32m[I 2022-11-06 23:50:02,050]\u001b[0m Trial 327 finished with value: 0.6336014298480787 and parameters: {'n_estimators': 136, 'max_depth': 7, 'learning_rate': 0.0893074264962178}. Best is trial 260 with value: 0.6505808757819481.\u001b[0m\n",
      "\u001b[32m[I 2022-11-06 23:50:07,372]\u001b[0m Trial 328 finished with value: 0.6228775692582663 and parameters: {'n_estimators': 119, 'max_depth': 5, 'learning_rate': 0.05739469422150702}. Best is trial 260 with value: 0.6505808757819481.\u001b[0m\n",
      "\u001b[32m[I 2022-11-06 23:50:20,551]\u001b[0m Trial 329 finished with value: 0.6210902591599642 and parameters: {'n_estimators': 300, 'max_depth': 5, 'learning_rate': 0.018369867748613024}. Best is trial 260 with value: 0.6505808757819481.\u001b[0m\n",
      "\u001b[32m[I 2022-11-06 23:50:29,670]\u001b[0m Trial 330 finished with value: 0.6237712243074173 and parameters: {'n_estimators': 277, 'max_depth': 4, 'learning_rate': 0.14942490691918217}. Best is trial 260 with value: 0.6505808757819481.\u001b[0m\n",
      "\u001b[32m[I 2022-11-06 23:50:43,262]\u001b[0m Trial 331 finished with value: 0.6300268096514745 and parameters: {'n_estimators': 330, 'max_depth': 6, 'learning_rate': 0.11377732707534163}. Best is trial 260 with value: 0.6505808757819481.\u001b[0m\n",
      "\u001b[32m[I 2022-11-06 23:50:52,441]\u001b[0m Trial 332 finished with value: 0.6362823949955317 and parameters: {'n_estimators': 167, 'max_depth': 7, 'learning_rate': 0.07104639270652433}. Best is trial 260 with value: 0.6505808757819481.\u001b[0m\n",
      "\u001b[32m[I 2022-11-06 23:51:02,106]\u001b[0m Trial 333 finished with value: 0.6318141197497765 and parameters: {'n_estimators': 207, 'max_depth': 6, 'learning_rate': 0.09084406156309237}. Best is trial 260 with value: 0.6505808757819481.\u001b[0m\n",
      "\u001b[32m[I 2022-11-06 23:51:04,716]\u001b[0m Trial 334 finished with value: 0.611260053619303 and parameters: {'n_estimators': 67, 'max_depth': 4, 'learning_rate': 0.041947622355685}. Best is trial 260 with value: 0.6505808757819481.\u001b[0m\n",
      "\u001b[32m[I 2022-11-06 23:51:15,294]\u001b[0m Trial 335 finished with value: 0.6300268096514745 and parameters: {'n_estimators': 147, 'max_depth': 12, 'learning_rate': 0.0745002834085426}. Best is trial 260 with value: 0.6505808757819481.\u001b[0m\n",
      "\u001b[32m[I 2022-11-06 23:51:20,305]\u001b[0m Trial 336 finished with value: 0.6380697050938338 and parameters: {'n_estimators': 115, 'max_depth': 5, 'learning_rate': 0.10862652342971699}. Best is trial 260 with value: 0.6505808757819481.\u001b[0m\n",
      "\u001b[32m[I 2022-11-06 23:51:28,701]\u001b[0m Trial 337 finished with value: 0.6371760500446827 and parameters: {'n_estimators': 188, 'max_depth': 6, 'learning_rate': 0.13740118335806378}. Best is trial 260 with value: 0.6505808757819481.\u001b[0m\n",
      "\u001b[32m[I 2022-11-06 23:51:32,364]\u001b[0m Trial 338 finished with value: 0.6219839142091153 and parameters: {'n_estimators': 92, 'max_depth': 4, 'learning_rate': 0.056781412574317465}. Best is trial 260 with value: 0.6505808757819481.\u001b[0m\n",
      "\u001b[32m[I 2022-11-06 23:51:46,223]\u001b[0m Trial 339 finished with value: 0.6273458445040214 and parameters: {'n_estimators': 368, 'max_depth': 5, 'learning_rate': 0.0965577408878279}. Best is trial 260 with value: 0.6505808757819481.\u001b[0m\n",
      "\u001b[32m[I 2022-11-06 23:51:50,795]\u001b[0m Trial 340 finished with value: 0.6050044682752458 and parameters: {'n_estimators': 157, 'max_depth': 3, 'learning_rate': 0.03166523059101903}. Best is trial 260 with value: 0.6505808757819481.\u001b[0m\n",
      "\u001b[32m[I 2022-11-06 23:51:58,102]\u001b[0m Trial 341 finished with value: 0.6416443252904379 and parameters: {'n_estimators': 130, 'max_depth': 7, 'learning_rate': 0.07814666358133099}. Best is trial 260 with value: 0.6505808757819481.\u001b[0m\n",
      "\u001b[32m[I 2022-11-06 23:52:03,900]\u001b[0m Trial 342 finished with value: 0.6255585344057194 and parameters: {'n_estimators': 106, 'max_depth': 7, 'learning_rate': 0.12479594808308972}. Best is trial 260 with value: 0.6505808757819481.\u001b[0m\n",
      "\u001b[32m[I 2022-11-06 23:52:11,449]\u001b[0m Trial 343 finished with value: 0.6371760500446827 and parameters: {'n_estimators': 133, 'max_depth': 7, 'learning_rate': 0.0693429742948681}. Best is trial 260 with value: 0.6505808757819481.\u001b[0m\n",
      "\u001b[32m[I 2022-11-06 23:52:18,176]\u001b[0m Trial 344 finished with value: 0.6371760500446827 and parameters: {'n_estimators': 108, 'max_depth': 8, 'learning_rate': 0.08423155375585137}. Best is trial 260 with value: 0.6505808757819481.\u001b[0m\n",
      "\u001b[32m[I 2022-11-06 23:52:25,725]\u001b[0m Trial 345 finished with value: 0.6309204647006256 and parameters: {'n_estimators': 129, 'max_depth': 7, 'learning_rate': 0.04659724368136232}. Best is trial 260 with value: 0.6505808757819481.\u001b[0m\n",
      "\u001b[32m[I 2022-11-06 23:52:47,185]\u001b[0m Trial 346 finished with value: 0.6336014298480787 and parameters: {'n_estimators': 723, 'max_depth': 4, 'learning_rate': 0.10970608526454363}. Best is trial 260 with value: 0.6505808757819481.\u001b[0m\n",
      "\u001b[32m[I 2022-11-06 23:52:50,217]\u001b[0m Trial 347 finished with value: 0.6353887399463807 and parameters: {'n_estimators': 43, 'max_depth': 8, 'learning_rate': 0.07637100311579322}. Best is trial 260 with value: 0.6505808757819481.\u001b[0m\n",
      "\u001b[32m[I 2022-11-06 23:53:06,598]\u001b[0m Trial 348 finished with value: 0.6344950848972296 and parameters: {'n_estimators': 277, 'max_depth': 7, 'learning_rate': 0.014346119893889786}. Best is trial 260 with value: 0.6505808757819481.\u001b[0m\n",
      "\u001b[32m[I 2022-11-06 23:53:12,504]\u001b[0m Trial 349 finished with value: 0.6318141197497765 and parameters: {'n_estimators': 166, 'max_depth': 4, 'learning_rate': 0.09643692594148254}. Best is trial 260 with value: 0.6505808757819481.\u001b[0m\n",
      "\u001b[32m[I 2022-11-06 23:53:46,905]\u001b[0m Trial 350 finished with value: 0.6309204647006256 and parameters: {'n_estimators': 902, 'max_depth': 6, 'learning_rate': 0.0596628080525787}. Best is trial 260 with value: 0.6505808757819481.\u001b[0m\n",
      "\u001b[32m[I 2022-11-06 23:53:54,048]\u001b[0m Trial 351 finished with value: 0.6362823949955317 and parameters: {'n_estimators': 144, 'max_depth': 6, 'learning_rate': 0.08296693530595622}. Best is trial 260 with value: 0.6505808757819481.\u001b[0m\n",
      "\u001b[32m[I 2022-11-06 23:54:03,414]\u001b[0m Trial 352 finished with value: 0.6389633601429848 and parameters: {'n_estimators': 181, 'max_depth': 6, 'learning_rate': 0.03340788388537856}. Best is trial 260 with value: 0.6505808757819481.\u001b[0m\n",
      "\u001b[32m[I 2022-11-06 23:54:08,668]\u001b[0m Trial 353 finished with value: 0.6380697050938338 and parameters: {'n_estimators': 88, 'max_depth': 7, 'learning_rate': 0.05752812406459333}. Best is trial 260 with value: 0.6505808757819481.\u001b[0m\n",
      "\u001b[32m[I 2022-11-06 23:54:38,143]\u001b[0m Trial 354 finished with value: 0.6148346738159071 and parameters: {'n_estimators': 835, 'max_depth': 8, 'learning_rate': 0.12171477145093443}. Best is trial 260 with value: 0.6505808757819481.\u001b[0m\n",
      "\u001b[32m[I 2022-11-06 23:54:44,784]\u001b[0m Trial 355 finished with value: 0.6371760500446827 and parameters: {'n_estimators': 132, 'max_depth': 7, 'learning_rate': 0.15853077862240234}. Best is trial 260 with value: 0.6505808757819481.\u001b[0m\n",
      "\u001b[32m[I 2022-11-06 23:54:52,458]\u001b[0m Trial 356 finished with value: 0.6309204647006256 and parameters: {'n_estimators': 155, 'max_depth': 6, 'learning_rate': 0.10140201832272287}. Best is trial 260 with value: 0.6505808757819481.\u001b[0m\n",
      "\u001b[32m[I 2022-11-06 23:54:57,638]\u001b[0m Trial 357 finished with value: 0.6273458445040214 and parameters: {'n_estimators': 115, 'max_depth': 5, 'learning_rate': 0.05349090803345284}. Best is trial 260 with value: 0.6505808757819481.\u001b[0m\n",
      "\u001b[32m[I 2022-11-06 23:55:11,362]\u001b[0m Trial 358 finished with value: 0.6309204647006256 and parameters: {'n_estimators': 305, 'max_depth': 6, 'learning_rate': 0.07920752831104563}. Best is trial 260 with value: 0.6505808757819481.\u001b[0m\n",
      "\u001b[32m[I 2022-11-06 23:55:23,690]\u001b[0m Trial 359 finished with value: 0.6318141197497765 and parameters: {'n_estimators': 254, 'max_depth': 7, 'learning_rate': 0.09563725995447678}. Best is trial 260 with value: 0.6505808757819481.\u001b[0m\n",
      "\u001b[32m[I 2022-11-06 23:55:26,724]\u001b[0m Trial 360 finished with value: 0.6193029490616622 and parameters: {'n_estimators': 65, 'max_depth': 5, 'learning_rate': 0.06801275563965066}. Best is trial 260 with value: 0.6505808757819481.\u001b[0m\n",
      "\u001b[32m[I 2022-11-06 23:55:32,751]\u001b[0m Trial 361 finished with value: 0.6309204647006256 and parameters: {'n_estimators': 213, 'max_depth': 3, 'learning_rate': 0.1342652518371336}. Best is trial 260 with value: 0.6505808757819481.\u001b[0m\n",
      "\u001b[32m[I 2022-11-06 23:55:43,221]\u001b[0m Trial 362 finished with value: 0.6416443252904379 and parameters: {'n_estimators': 320, 'max_depth': 4, 'learning_rate': 0.11681774911189259}. Best is trial 260 with value: 0.6505808757819481.\u001b[0m\n",
      "\u001b[32m[I 2022-11-06 23:55:53,764]\u001b[0m Trial 363 finished with value: 0.6318141197497765 and parameters: {'n_estimators': 328, 'max_depth': 4, 'learning_rate': 0.142311453015246}. Best is trial 260 with value: 0.6505808757819481.\u001b[0m\n",
      "\u001b[32m[I 2022-11-06 23:56:05,193]\u001b[0m Trial 364 finished with value: 0.6300268096514745 and parameters: {'n_estimators': 348, 'max_depth': 4, 'learning_rate': 0.11019317651634795}. Best is trial 260 with value: 0.6505808757819481.\u001b[0m\n",
      "\u001b[32m[I 2022-11-06 23:56:21,036]\u001b[0m Trial 365 finished with value: 0.6344950848972296 and parameters: {'n_estimators': 315, 'max_depth': 6, 'learning_rate': 0.02630322335740276}. Best is trial 260 with value: 0.6505808757819481.\u001b[0m\n",
      "\u001b[32m[I 2022-11-06 23:56:28,545]\u001b[0m Trial 366 finished with value: 0.6318141197497765 and parameters: {'n_estimators': 273, 'max_depth': 3, 'learning_rate': 0.16640907118281795}. Best is trial 260 with value: 0.6505808757819481.\u001b[0m\n",
      "\u001b[32m[I 2022-11-06 23:56:34,005]\u001b[0m Trial 367 finished with value: 0.6344950848972296 and parameters: {'n_estimators': 98, 'max_depth': 7, 'learning_rate': 0.12418716975670147}. Best is trial 260 with value: 0.6505808757819481.\u001b[0m\n",
      "\u001b[32m[I 2022-11-06 23:56:43,007]\u001b[0m Trial 368 finished with value: 0.6300268096514745 and parameters: {'n_estimators': 285, 'max_depth': 4, 'learning_rate': 0.17889755091319254}. Best is trial 260 with value: 0.6505808757819481.\u001b[0m\n",
      "\u001b[32m[I 2022-11-06 23:56:50,938]\u001b[0m Trial 369 finished with value: 0.5781948168007149 and parameters: {'n_estimators': 145, 'max_depth': 6, 'learning_rate': 0.0008989654443958134}. Best is trial 260 with value: 0.6505808757819481.\u001b[0m\n",
      "\u001b[32m[I 2022-11-06 23:56:59,107]\u001b[0m Trial 370 finished with value: 0.6264521894548704 and parameters: {'n_estimators': 186, 'max_depth': 5, 'learning_rate': 0.0478065683610427}. Best is trial 260 with value: 0.6505808757819481.\u001b[0m\n",
      "\u001b[32m[I 2022-11-06 23:57:12,078]\u001b[0m Trial 371 finished with value: 0.6327077747989276 and parameters: {'n_estimators': 339, 'max_depth': 5, 'learning_rate': 0.0988515420646851}. Best is trial 260 with value: 0.6505808757819481.\u001b[0m\n",
      "\u001b[32m[I 2022-11-06 23:57:19,301]\u001b[0m Trial 372 finished with value: 0.6344950848972296 and parameters: {'n_estimators': 119, 'max_depth': 8, 'learning_rate': 0.08915481412643328}. Best is trial 260 with value: 0.6505808757819481.\u001b[0m\n",
      "\u001b[32m[I 2022-11-06 23:57:31,318]\u001b[0m Trial 373 finished with value: 0.6353887399463807 and parameters: {'n_estimators': 373, 'max_depth': 4, 'learning_rate': 0.11652788605989436}. Best is trial 260 with value: 0.6505808757819481.\u001b[0m\n",
      "\u001b[32m[I 2022-11-06 23:57:40,043]\u001b[0m Trial 374 finished with value: 0.6264521894548704 and parameters: {'n_estimators': 310, 'max_depth': 3, 'learning_rate': 0.08085142983807733}. Best is trial 260 with value: 0.6505808757819481.\u001b[0m\n",
      "\u001b[32m[I 2022-11-06 23:57:52,584]\u001b[0m Trial 375 finished with value: 0.6058981233243967 and parameters: {'n_estimators': 247, 'max_depth': 14, 'learning_rate': 0.1454010774596356}. Best is trial 260 with value: 0.6505808757819481.\u001b[0m\n",
      "\u001b[32m[I 2022-11-06 23:58:08,234]\u001b[0m Trial 376 finished with value: 0.6327077747989276 and parameters: {'n_estimators': 289, 'max_depth': 7, 'learning_rate': 0.04543955054874078}. Best is trial 260 with value: 0.6505808757819481.\u001b[0m\n",
      "\u001b[32m[I 2022-11-06 23:58:15,010]\u001b[0m Trial 377 finished with value: 0.6344950848972296 and parameters: {'n_estimators': 164, 'max_depth': 5, 'learning_rate': 0.12214958831085002}. Best is trial 260 with value: 0.6505808757819481.\u001b[0m\n",
      "\u001b[32m[I 2022-11-06 23:58:27,324]\u001b[0m Trial 378 finished with value: 0.6425379803395889 and parameters: {'n_estimators': 263, 'max_depth': 6, 'learning_rate': 0.06837549617527874}. Best is trial 260 with value: 0.6505808757819481.\u001b[0m\n",
      "\u001b[32m[I 2022-11-06 23:58:37,182]\u001b[0m Trial 379 finished with value: 0.6407506702412868 and parameters: {'n_estimators': 203, 'max_depth': 6, 'learning_rate': 0.06882067028529854}. Best is trial 260 with value: 0.6505808757819481.\u001b[0m\n",
      "\u001b[32m[I 2022-11-06 23:58:48,332]\u001b[0m Trial 380 finished with value: 0.6255585344057194 and parameters: {'n_estimators': 227, 'max_depth': 7, 'learning_rate': 0.10790415438280306}. Best is trial 260 with value: 0.6505808757819481.\u001b[0m\n",
      "\u001b[32m[I 2022-11-06 23:58:58,248]\u001b[0m Trial 381 finished with value: 0.6353887399463807 and parameters: {'n_estimators': 203, 'max_depth': 6, 'learning_rate': 0.06838653885702688}. Best is trial 260 with value: 0.6505808757819481.\u001b[0m\n",
      "\u001b[32m[I 2022-11-06 23:59:11,501]\u001b[0m Trial 382 finished with value: 0.6362823949955317 and parameters: {'n_estimators': 260, 'max_depth': 6, 'learning_rate': 0.03484222072404759}. Best is trial 260 with value: 0.6505808757819481.\u001b[0m\n",
      "\u001b[32m[I 2022-11-06 23:59:26,972]\u001b[0m Trial 383 finished with value: 0.6201966041108132 and parameters: {'n_estimators': 270, 'max_depth': 8, 'learning_rate': 0.05498635893551675}. Best is trial 260 with value: 0.6505808757819481.\u001b[0m\n",
      "\u001b[32m[I 2022-11-06 23:59:33,308]\u001b[0m Trial 384 finished with value: 0.6362823949955317 and parameters: {'n_estimators': 127, 'max_depth': 6, 'learning_rate': 0.09337734916078043}. Best is trial 260 with value: 0.6505808757819481.\u001b[0m\n",
      "\u001b[32m[I 2022-11-06 23:59:36,368]\u001b[0m Trial 385 finished with value: 0.6175156389633601 and parameters: {'n_estimators': 81, 'max_depth': 4, 'learning_rate': 0.0893195529710147}. Best is trial 260 with value: 0.6505808757819481.\u001b[0m\n",
      "\u001b[32m[I 2022-11-06 23:59:49,697]\u001b[0m Trial 386 finished with value: 0.6327077747989276 and parameters: {'n_estimators': 257, 'max_depth': 7, 'learning_rate': 0.0667292053782492}. Best is trial 260 with value: 0.6505808757819481.\u001b[0m\n",
      "\u001b[32m[I 2022-11-07 00:00:05,896]\u001b[0m Trial 387 finished with value: 0.6380697050938338 and parameters: {'n_estimators': 318, 'max_depth': 6, 'learning_rate': 0.02080825200730052}. Best is trial 260 with value: 0.6505808757819481.\u001b[0m\n",
      "\u001b[32m[I 2022-11-07 00:00:09,886]\u001b[0m Trial 388 finished with value: 0.6041108132260947 and parameters: {'n_estimators': 228, 'max_depth': 1, 'learning_rate': 0.07034713189266588}. Best is trial 260 with value: 0.6505808757819481.\u001b[0m\n",
      "\u001b[32m[I 2022-11-07 00:00:17,970]\u001b[0m Trial 389 finished with value: 0.6228775692582663 and parameters: {'n_estimators': 292, 'max_depth': 5, 'learning_rate': 0.7389285632853185}. Best is trial 260 with value: 0.6505808757819481.\u001b[0m\n",
      "\u001b[32m[I 2022-11-07 00:00:25,594]\u001b[0m Trial 390 finished with value: 0.6398570151921358 and parameters: {'n_estimators': 144, 'max_depth': 6, 'learning_rate': 0.04068693413821347}. Best is trial 260 with value: 0.6505808757819481.\u001b[0m\n",
      "\u001b[32m[I 2022-11-07 00:00:34,956]\u001b[0m Trial 391 finished with value: 0.6344950848972296 and parameters: {'n_estimators': 164, 'max_depth': 7, 'learning_rate': 0.048915231852486175}. Best is trial 260 with value: 0.6505808757819481.\u001b[0m\n",
      "\u001b[32m[I 2022-11-07 00:00:42,831]\u001b[0m Trial 392 finished with value: 0.6201966041108132 and parameters: {'n_estimators': 182, 'max_depth': 8, 'learning_rate': 0.2657268783008971}. Best is trial 260 with value: 0.6505808757819481.\u001b[0m\n",
      "\u001b[32m[I 2022-11-07 00:00:50,988]\u001b[0m Trial 393 finished with value: 0.6300268096514745 and parameters: {'n_estimators': 296, 'max_depth': 3, 'learning_rate': 0.13359055932853306}. Best is trial 260 with value: 0.6505808757819481.\u001b[0m\n",
      "\u001b[32m[I 2022-11-07 00:01:03,400]\u001b[0m Trial 394 finished with value: 0.6344950848972296 and parameters: {'n_estimators': 247, 'max_depth': 7, 'learning_rate': 0.0838968840824762}. Best is trial 260 with value: 0.6505808757819481.\u001b[0m\n",
      "\u001b[32m[I 2022-11-07 00:01:14,697]\u001b[0m Trial 395 finished with value: 0.6282394995531725 and parameters: {'n_estimators': 240, 'max_depth': 6, 'learning_rate': 0.07390416495399178}. Best is trial 260 with value: 0.6505808757819481.\u001b[0m\n",
      "\u001b[32m[I 2022-11-07 00:01:23,833]\u001b[0m Trial 396 finished with value: 0.6282394995531725 and parameters: {'n_estimators': 271, 'max_depth': 4, 'learning_rate': 0.11477143229918285}. Best is trial 260 with value: 0.6505808757819481.\u001b[0m\n",
      "\u001b[32m[I 2022-11-07 00:01:35,424]\u001b[0m Trial 397 finished with value: 0.6371760500446827 and parameters: {'n_estimators': 350, 'max_depth': 4, 'learning_rate': 0.09947133062366628}. Best is trial 260 with value: 0.6505808757819481.\u001b[0m\n",
      "\u001b[32m[I 2022-11-07 00:01:45,607]\u001b[0m Trial 398 finished with value: 0.6416443252904379 and parameters: {'n_estimators': 141, 'max_depth': 9, 'learning_rate': 0.026567843553062992}. Best is trial 260 with value: 0.6505808757819481.\u001b[0m\n",
      "\u001b[32m[I 2022-11-07 00:01:53,865]\u001b[0m Trial 399 finished with value: 0.6353887399463807 and parameters: {'n_estimators': 115, 'max_depth': 9, 'learning_rate': 0.0340488342522498}. Best is trial 260 with value: 0.6505808757819481.\u001b[0m\n",
      "\u001b[32m[I 2022-11-07 00:02:05,305]\u001b[0m Trial 400 finished with value: 0.5889186773905273 and parameters: {'n_estimators': 141, 'max_depth': 10, 'learning_rate': 0.000937696441068045}. Best is trial 260 with value: 0.6505808757819481.\u001b[0m\n",
      "\u001b[32m[I 2022-11-07 00:02:16,542]\u001b[0m Trial 401 finished with value: 0.6237712243074173 and parameters: {'n_estimators': 154, 'max_depth': 9, 'learning_rate': 0.017069694921112016}. Best is trial 260 with value: 0.6505808757819481.\u001b[0m\n",
      "\u001b[32m[I 2022-11-07 00:02:29,725]\u001b[0m Trial 402 finished with value: 0.6255585344057194 and parameters: {'n_estimators': 197, 'max_depth': 10, 'learning_rate': 0.05905299943102634}. Best is trial 260 with value: 0.6505808757819481.\u001b[0m\n",
      "\u001b[32m[I 2022-11-07 00:02:57,363]\u001b[0m Trial 403 finished with value: 0.6184092940125111 and parameters: {'n_estimators': 552, 'max_depth': 10, 'learning_rate': 0.06179912559171482}. Best is trial 260 with value: 0.6505808757819481.\u001b[0m\n",
      "\u001b[32m[I 2022-11-07 00:03:03,910]\u001b[0m Trial 404 finished with value: 0.6416443252904379 and parameters: {'n_estimators': 96, 'max_depth': 9, 'learning_rate': 0.08171862270383148}. Best is trial 260 with value: 0.6505808757819481.\u001b[0m\n",
      "\u001b[32m[I 2022-11-07 00:03:08,472]\u001b[0m Trial 405 finished with value: 0.6264521894548704 and parameters: {'n_estimators': 63, 'max_depth': 9, 'learning_rate': 0.08549562519173404}. Best is trial 260 with value: 0.6505808757819481.\u001b[0m\n",
      "\u001b[32m[I 2022-11-07 00:03:15,952]\u001b[0m Trial 406 finished with value: 0.6166219839142091 and parameters: {'n_estimators': 101, 'max_depth': 9, 'learning_rate': 0.02157952611887484}. Best is trial 260 with value: 0.6505808757819481.\u001b[0m\n",
      "\u001b[32m[I 2022-11-07 00:03:23,689]\u001b[0m Trial 407 finished with value: 0.6228775692582663 and parameters: {'n_estimators': 101, 'max_depth': 17, 'learning_rate': 0.11508453336304723}. Best is trial 260 with value: 0.6505808757819481.\u001b[0m\n",
      "\u001b[32m[I 2022-11-07 00:03:28,741]\u001b[0m Trial 408 finished with value: 0.6264521894548704 and parameters: {'n_estimators': 75, 'max_depth': 8, 'learning_rate': 0.048870183486358486}. Best is trial 260 with value: 0.6505808757819481.\u001b[0m\n",
      "\u001b[32m[I 2022-11-07 00:03:36,903]\u001b[0m Trial 409 finished with value: 0.6309204647006256 and parameters: {'n_estimators': 123, 'max_depth': 9, 'learning_rate': 0.0832716955980477}. Best is trial 260 with value: 0.6505808757819481.\u001b[0m\n",
      "\u001b[32m[I 2022-11-07 00:03:43,151]\u001b[0m Trial 410 finished with value: 0.6300268096514745 and parameters: {'n_estimators': 87, 'max_depth': 10, 'learning_rate': 0.09858380130134384}. Best is trial 260 with value: 0.6505808757819481.\u001b[0m\n",
      "\u001b[32m[I 2022-11-07 00:03:45,419]\u001b[0m Trial 411 finished with value: 0.6112600536193029 and parameters: {'n_estimators': 31, 'max_depth': 8, 'learning_rate': 0.05976263382884826}. Best is trial 260 with value: 0.6505808757819481.\u001b[0m\n",
      "\u001b[32m[I 2022-11-07 00:03:52,240]\u001b[0m Trial 412 finished with value: 0.6318141197497765 and parameters: {'n_estimators': 101, 'max_depth': 8, 'learning_rate': 0.03410765338370272}. Best is trial 260 with value: 0.6505808757819481.\u001b[0m\n",
      "\u001b[32m[I 2022-11-07 00:04:00,920]\u001b[0m Trial 413 finished with value: 0.6371760500446827 and parameters: {'n_estimators': 132, 'max_depth': 9, 'learning_rate': 0.07487582341208737}. Best is trial 260 with value: 0.6505808757819481.\u001b[0m\n",
      "\u001b[32m[I 2022-11-07 00:04:08,385]\u001b[0m Trial 414 finished with value: 0.6193029490616622 and parameters: {'n_estimators': 117, 'max_depth': 11, 'learning_rate': 0.140237248029629}. Best is trial 260 with value: 0.6505808757819481.\u001b[0m\n",
      "\u001b[32m[I 2022-11-07 00:04:13,904]\u001b[0m Trial 415 finished with value: 0.5907059874888293 and parameters: {'n_estimators': 159, 'max_depth': 10, 'learning_rate': 0.8938901755931453}. Best is trial 260 with value: 0.6505808757819481.\u001b[0m\n",
      "\u001b[32m[I 2022-11-07 00:04:19,157]\u001b[0m Trial 416 finished with value: 0.6398570151921358 and parameters: {'n_estimators': 83, 'max_depth': 8, 'learning_rate': 0.11395740042262965}. Best is trial 260 with value: 0.6505808757819481.\u001b[0m\n",
      "\u001b[32m[I 2022-11-07 00:04:27,443]\u001b[0m Trial 417 finished with value: 0.6336014298480787 and parameters: {'n_estimators': 133, 'max_depth': 9, 'learning_rate': 0.09999083657933858}. Best is trial 260 with value: 0.6505808757819481.\u001b[0m\n",
      "\u001b[32m[I 2022-11-07 00:04:34,303]\u001b[0m Trial 418 finished with value: 0.6300268096514745 and parameters: {'n_estimators': 105, 'max_depth': 8, 'learning_rate': 0.050800696132622176}. Best is trial 260 with value: 0.6505808757819481.\u001b[0m\n",
      "\u001b[32m[I 2022-11-07 00:04:42,334]\u001b[0m Trial 419 finished with value: 0.6336014298480787 and parameters: {'n_estimators': 143, 'max_depth': 7, 'learning_rate': 0.0791248154573219}. Best is trial 260 with value: 0.6505808757819481.\u001b[0m\n",
      "\u001b[32m[I 2022-11-07 00:04:51,153]\u001b[0m Trial 420 finished with value: 0.6353887399463807 and parameters: {'n_estimators': 175, 'max_depth': 7, 'learning_rate': 0.12497721496121704}. Best is trial 260 with value: 0.6505808757819481.\u001b[0m\n",
      "\u001b[32m[I 2022-11-07 00:04:56,134]\u001b[0m Trial 421 finished with value: 0.612153708668454 and parameters: {'n_estimators': 66, 'max_depth': 9, 'learning_rate': 0.03416511942480184}. Best is trial 260 with value: 0.6505808757819481.\u001b[0m\n",
      "\u001b[32m[I 2022-11-07 00:05:00,823]\u001b[0m Trial 422 finished with value: 0.6058981233243967 and parameters: {'n_estimators': 123, 'max_depth': 7, 'learning_rate': 0.613192448072455}. Best is trial 260 with value: 0.6505808757819481.\u001b[0m\n",
      "\u001b[32m[I 2022-11-07 00:05:04,269]\u001b[0m Trial 423 finished with value: 0.6389633601429848 and parameters: {'n_estimators': 50, 'max_depth': 8, 'learning_rate': 0.06883503635019109}. Best is trial 260 with value: 0.6505808757819481.\u001b[0m\n",
      "\u001b[32m[I 2022-11-07 00:05:13,256]\u001b[0m Trial 424 finished with value: 0.6309204647006256 and parameters: {'n_estimators': 144, 'max_depth': 9, 'learning_rate': 0.09352439934002854}. Best is trial 260 with value: 0.6505808757819481.\u001b[0m\n",
      "\u001b[32m[I 2022-11-07 00:05:20,922]\u001b[0m Trial 425 finished with value: 0.6237712243074173 and parameters: {'n_estimators': 157, 'max_depth': 7, 'learning_rate': 0.1579917424935594}. Best is trial 260 with value: 0.6505808757819481.\u001b[0m\n",
      "\u001b[32m[I 2022-11-07 00:05:26,750]\u001b[0m Trial 426 finished with value: 0.6371760500446827 and parameters: {'n_estimators': 110, 'max_depth': 6, 'learning_rate': 0.058757715252740116}. Best is trial 260 with value: 0.6505808757819481.\u001b[0m\n",
      "\u001b[32m[I 2022-11-07 00:05:46,564]\u001b[0m Trial 427 finished with value: 0.6193029490616622 and parameters: {'n_estimators': 428, 'max_depth': 10, 'learning_rate': 0.10561651703567362}. Best is trial 260 with value: 0.6505808757819481.\u001b[0m\n",
      "\u001b[32m[I 2022-11-07 00:06:16,137]\u001b[0m Trial 428 finished with value: 0.6193029490616622 and parameters: {'n_estimators': 659, 'max_depth': 11, 'learning_rate': 0.07681727309418834}. Best is trial 260 with value: 0.6505808757819481.\u001b[0m\n",
      "\u001b[32m[I 2022-11-07 00:06:21,885]\u001b[0m Trial 429 finished with value: 0.613047363717605 and parameters: {'n_estimators': 92, 'max_depth': 7, 'learning_rate': 0.01606751758961128}. Best is trial 260 with value: 0.6505808757819481.\u001b[0m\n",
      "\u001b[32m[I 2022-11-07 00:06:28,156]\u001b[0m Trial 430 finished with value: 0.6344950848972296 and parameters: {'n_estimators': 130, 'max_depth': 6, 'learning_rate': 0.12673189382285963}. Best is trial 260 with value: 0.6505808757819481.\u001b[0m\n",
      "\u001b[32m[I 2022-11-07 00:06:33,331]\u001b[0m Trial 431 finished with value: 0.6085790884718499 and parameters: {'n_estimators': 175, 'max_depth': 3, 'learning_rate': 0.04408021956394363}. Best is trial 260 with value: 0.6505808757819481.\u001b[0m\n",
      "\u001b[32m[I 2022-11-07 00:06:38,128]\u001b[0m Trial 432 finished with value: 0.6050044682752457 and parameters: {'n_estimators': 156, 'max_depth': 5, 'learning_rate': 0.7660295979834545}. Best is trial 260 with value: 0.6505808757819481.\u001b[0m\n",
      "\u001b[32m[I 2022-11-07 00:06:45,864]\u001b[0m Trial 433 finished with value: 0.6273458445040214 and parameters: {'n_estimators': 128, 'max_depth': 8, 'learning_rate': 0.0858312088877083}. Best is trial 260 with value: 0.6505808757819481.\u001b[0m\n",
      "\u001b[32m[I 2022-11-07 00:06:51,906]\u001b[0m Trial 434 finished with value: 0.6309204647006256 and parameters: {'n_estimators': 107, 'max_depth': 7, 'learning_rate': 0.1080531225427186}. Best is trial 260 with value: 0.6505808757819481.\u001b[0m\n",
      "\u001b[32m[I 2022-11-07 00:06:56,240]\u001b[0m Trial 435 finished with value: 0.6371760500446827 and parameters: {'n_estimators': 79, 'max_depth': 6, 'learning_rate': 0.05958453825900566}. Best is trial 260 with value: 0.6505808757819481.\u001b[0m\n",
      "\u001b[32m[I 2022-11-07 00:07:03,125]\u001b[0m Trial 436 finished with value: 0.6318141197497765 and parameters: {'n_estimators': 171, 'max_depth': 5, 'learning_rate': 0.14128962604217643}. Best is trial 260 with value: 0.6505808757819481.\u001b[0m\n",
      "\u001b[32m[I 2022-11-07 00:07:08,125]\u001b[0m Trial 437 finished with value: 0.6193029490616622 and parameters: {'n_estimators': 137, 'max_depth': 4, 'learning_rate': 0.08613118630654089}. Best is trial 260 with value: 0.6505808757819481.\u001b[0m\n",
      "\u001b[32m[I 2022-11-07 00:07:22,866]\u001b[0m Trial 438 finished with value: 0.6407506702412868 and parameters: {'n_estimators': 294, 'max_depth': 6, 'learning_rate': 0.0329466168679505}. Best is trial 260 with value: 0.6505808757819481.\u001b[0m\n",
      "\u001b[32m[I 2022-11-07 00:07:28,551]\u001b[0m Trial 439 finished with value: 0.6380697050938338 and parameters: {'n_estimators': 96, 'max_depth': 7, 'learning_rate': 0.06626223925646804}. Best is trial 260 with value: 0.6505808757819481.\u001b[0m\n",
      "\u001b[32m[I 2022-11-07 00:07:34,945]\u001b[0m Trial 440 finished with value: 0.6353887399463807 and parameters: {'n_estimators': 152, 'max_depth': 5, 'learning_rate': 0.10722217176735321}. Best is trial 260 with value: 0.6505808757819481.\u001b[0m\n",
      "\u001b[32m[I 2022-11-07 00:07:39,300]\u001b[0m Trial 441 finished with value: 0.6193029490616622 and parameters: {'n_estimators': 116, 'max_depth': 4, 'learning_rate': 0.08680503168976356}. Best is trial 260 with value: 0.6505808757819481.\u001b[0m\n",
      "\u001b[32m[I 2022-11-07 00:07:50,854]\u001b[0m Trial 442 finished with value: 0.6291331546023234 and parameters: {'n_estimators': 187, 'max_depth': 8, 'learning_rate': 0.048355403544236134}. Best is trial 260 with value: 0.6505808757819481.\u001b[0m\n",
      "\u001b[32m[I 2022-11-07 00:08:00,852]\u001b[0m Trial 443 finished with value: 0.6362823949955317 and parameters: {'n_estimators': 224, 'max_depth': 6, 'learning_rate': 0.12988300825020602}. Best is trial 260 with value: 0.6505808757819481.\u001b[0m\n",
      "\u001b[32m[I 2022-11-07 00:08:10,977]\u001b[0m Trial 444 finished with value: 0.6184092940125111 and parameters: {'n_estimators': 137, 'max_depth': 9, 'learning_rate': 0.015612792423654175}. Best is trial 260 with value: 0.6505808757819481.\u001b[0m\n",
      "\u001b[32m[I 2022-11-07 00:08:25,402]\u001b[0m Trial 445 finished with value: 0.6309204647006256 and parameters: {'n_estimators': 281, 'max_depth': 7, 'learning_rate': 0.06425248154239784}. Best is trial 260 with value: 0.6505808757819481.\u001b[0m\n",
      "\u001b[32m[I 2022-11-07 00:08:37,104]\u001b[0m Trial 446 finished with value: 0.6103663985701518 and parameters: {'n_estimators': 482, 'max_depth': 2, 'learning_rate': 0.09950034405171893}. Best is trial 260 with value: 0.6505808757819481.\u001b[0m\n",
      "\u001b[32m[I 2022-11-07 00:08:42,480]\u001b[0m Trial 447 finished with value: 0.615728328865058 and parameters: {'n_estimators': 161, 'max_depth': 3, 'learning_rate': 0.07663672509423901}. Best is trial 260 with value: 0.6505808757819481.\u001b[0m\n",
      "\u001b[32m[I 2022-11-07 00:08:45,587]\u001b[0m Trial 448 finished with value: 0.6416443252904379 and parameters: {'n_estimators': 55, 'max_depth': 6, 'learning_rate': 0.11324767848176637}. Best is trial 260 with value: 0.6505808757819481.\u001b[0m\n",
      "\u001b[32m[I 2022-11-07 00:08:50,504]\u001b[0m Trial 449 finished with value: 0.6184092940125111 and parameters: {'n_estimators': 107, 'max_depth': 5, 'learning_rate': 0.03273883044040997}. Best is trial 260 with value: 0.6505808757819481.\u001b[0m\n",
      "\u001b[32m[I 2022-11-07 00:08:54,244]\u001b[0m Trial 450 finished with value: 0.6255585344057194 and parameters: {'n_estimators': 69, 'max_depth': 6, 'learning_rate': 0.05207545072397082}. Best is trial 260 with value: 0.6505808757819481.\u001b[0m\n",
      "\u001b[32m[I 2022-11-07 00:08:54,789]\u001b[0m Trial 451 finished with value: 0.5978552278820376 and parameters: {'n_estimators': 8, 'max_depth': 5, 'learning_rate': 0.12031652147928877}. Best is trial 260 with value: 0.6505808757819481.\u001b[0m\n",
      "\u001b[32m[I 2022-11-07 00:08:57,632]\u001b[0m Trial 452 finished with value: 0.6398570151921358 and parameters: {'n_estimators': 53, 'max_depth': 6, 'learning_rate': 0.1543315280364096}. Best is trial 260 with value: 0.6505808757819481.\u001b[0m\n",
      "\u001b[32m[I 2022-11-07 00:08:59,271]\u001b[0m Trial 453 finished with value: 0.6228775692582663 and parameters: {'n_estimators': 28, 'max_depth': 6, 'learning_rate': 0.11724168240342965}. Best is trial 260 with value: 0.6505808757819481.\u001b[0m\n",
      "\u001b[32m[I 2022-11-07 00:09:01,999]\u001b[0m Trial 454 finished with value: 0.6336014298480787 and parameters: {'n_estimators': 49, 'max_depth': 6, 'learning_rate': 0.09895511766042053}. Best is trial 260 with value: 0.6505808757819481.\u001b[0m\n",
      "\u001b[32m[I 2022-11-07 00:09:06,093]\u001b[0m Trial 455 finished with value: 0.6130473637176049 and parameters: {'n_estimators': 78, 'max_depth': 10, 'learning_rate': 0.45069075063549}. Best is trial 260 with value: 0.6505808757819481.\u001b[0m\n",
      "\u001b[32m[I 2022-11-07 00:09:08,738]\u001b[0m Trial 456 finished with value: 0.6210902591599642 and parameters: {'n_estimators': 57, 'max_depth': 7, 'learning_rate': 0.6575465614887841}. Best is trial 260 with value: 0.6505808757819481.\u001b[0m\n",
      "\u001b[32m[I 2022-11-07 00:09:19,132]\u001b[0m Trial 457 finished with value: 0.6291331546023234 and parameters: {'n_estimators': 248, 'max_depth': 6, 'learning_rate': 0.1436131947711991}. Best is trial 260 with value: 0.6505808757819481.\u001b[0m\n",
      "\u001b[32m[I 2022-11-07 00:09:29,491]\u001b[0m Trial 458 finished with value: 0.6291331546023234 and parameters: {'n_estimators': 320, 'max_depth': 4, 'learning_rate': 0.1275142607769851}. Best is trial 260 with value: 0.6505808757819481.\u001b[0m\n",
      "\u001b[32m[I 2022-11-07 00:09:31,623]\u001b[0m Trial 459 finished with value: 0.6210902591599642 and parameters: {'n_estimators': 33, 'max_depth': 7, 'learning_rate': 0.0810502612791915}. Best is trial 260 with value: 0.6505808757819481.\u001b[0m\n",
      "\u001b[32m[I 2022-11-07 00:09:40,369]\u001b[0m Trial 460 finished with value: 0.6344950848972296 and parameters: {'n_estimators': 129, 'max_depth': 9, 'learning_rate': 0.06481970067644031}. Best is trial 260 with value: 0.6505808757819481.\u001b[0m\n",
      "\u001b[32m[I 2022-11-07 00:09:45,938]\u001b[0m Trial 461 finished with value: 0.6318141197497765 and parameters: {'n_estimators': 96, 'max_depth': 7, 'learning_rate': 0.09486744001681799}. Best is trial 260 with value: 0.6505808757819481.\u001b[0m\n",
      "\u001b[32m[I 2022-11-07 00:09:49,807]\u001b[0m Trial 462 finished with value: 0.6184092940125111 and parameters: {'n_estimators': 85, 'max_depth': 8, 'learning_rate': 0.49971897157970213}. Best is trial 260 with value: 0.6505808757819481.\u001b[0m\n",
      "\u001b[32m[I 2022-11-07 00:09:55,632]\u001b[0m Trial 463 finished with value: 0.6309204647006256 and parameters: {'n_estimators': 117, 'max_depth': 6, 'learning_rate': 0.11445550500194708}. Best is trial 260 with value: 0.6505808757819481.\u001b[0m\n",
      "\u001b[32m[I 2022-11-07 00:10:02,498]\u001b[0m Trial 464 finished with value: 0.6389633601429848 and parameters: {'n_estimators': 205, 'max_depth': 4, 'learning_rate': 0.16172957447892822}. Best is trial 260 with value: 0.6505808757819481.\u001b[0m\n",
      "\u001b[32m[I 2022-11-07 00:10:11,506]\u001b[0m Trial 465 finished with value: 0.6327077747989276 and parameters: {'n_estimators': 173, 'max_depth': 6, 'learning_rate': 0.0408181065260084}. Best is trial 260 with value: 0.6505808757819481.\u001b[0m\n",
      "\u001b[32m[I 2022-11-07 00:10:16,028]\u001b[0m Trial 466 finished with value: 0.6166219839142092 and parameters: {'n_estimators': 153, 'max_depth': 3, 'learning_rate': 0.07477450922351081}. Best is trial 260 with value: 0.6505808757819481.\u001b[0m\n",
      "\u001b[32m[I 2022-11-07 00:10:21,382]\u001b[0m Trial 467 finished with value: 0.6067917783735478 and parameters: {'n_estimators': 144, 'max_depth': 4, 'learning_rate': 0.017519152348397488}. Best is trial 260 with value: 0.6505808757819481.\u001b[0m\n",
      "\u001b[32m[I 2022-11-07 00:10:26,260]\u001b[0m Trial 468 finished with value: 0.6094727435210009 and parameters: {'n_estimators': 119, 'max_depth': 8, 'learning_rate': 0.5426808368696178}. Best is trial 260 with value: 0.6505808757819481.\u001b[0m\n",
      "\u001b[32m[I 2022-11-07 00:10:37,684]\u001b[0m Trial 469 finished with value: 0.6353887399463807 and parameters: {'n_estimators': 274, 'max_depth': 5, 'learning_rate': 0.057917664589142555}. Best is trial 260 with value: 0.6505808757819481.\u001b[0m\n",
      "\u001b[32m[I 2022-11-07 00:10:53,863]\u001b[0m Trial 470 finished with value: 0.6246648793565683 and parameters: {'n_estimators': 451, 'max_depth': 5, 'learning_rate': 0.10365801821494872}. Best is trial 260 with value: 0.6505808757819481.\u001b[0m\n",
      "\u001b[32m[I 2022-11-07 00:11:06,043]\u001b[0m Trial 471 finished with value: 0.6371760500446827 and parameters: {'n_estimators': 365, 'max_depth': 4, 'learning_rate': 0.08388625560231787}. Best is trial 260 with value: 0.6505808757819481.\u001b[0m\n",
      "\u001b[32m[I 2022-11-07 00:11:11,364]\u001b[0m Trial 472 finished with value: 0.6291331546023234 and parameters: {'n_estimators': 96, 'max_depth': 7, 'learning_rate': 0.13650127152516284}. Best is trial 260 with value: 0.6505808757819481.\u001b[0m\n",
      "\u001b[32m[I 2022-11-07 00:11:18,489]\u001b[0m Trial 473 finished with value: 0.6273458445040214 and parameters: {'n_estimators': 192, 'max_depth': 4, 'learning_rate': 0.044612108484957766}. Best is trial 260 with value: 0.6505808757819481.\u001b[0m\n",
      "\u001b[32m[I 2022-11-07 00:12:13,296]\u001b[0m Trial 474 finished with value: 0.5862377122430741 and parameters: {'n_estimators': 601, 'max_depth': 15, 'learning_rate': 0.00021488509136800837}. Best is trial 260 with value: 0.6505808757819481.\u001b[0m\n",
      "\u001b[32m[I 2022-11-07 00:12:20,378]\u001b[0m Trial 475 finished with value: 0.6398570151921358 and parameters: {'n_estimators': 139, 'max_depth': 6, 'learning_rate': 0.07040026905664719}. Best is trial 260 with value: 0.6505808757819481.\u001b[0m\n",
      "\u001b[32m[I 2022-11-07 00:12:31,709]\u001b[0m Trial 476 finished with value: 0.6327077747989276 and parameters: {'n_estimators': 289, 'max_depth': 5, 'learning_rate': 0.10637737126943618}. Best is trial 260 with value: 0.6505808757819481.\u001b[0m\n",
      "\u001b[32m[I 2022-11-07 00:12:35,935]\u001b[0m Trial 477 finished with value: 0.6264521894548704 and parameters: {'n_estimators': 77, 'max_depth': 7, 'learning_rate': 0.19750479138706578}. Best is trial 260 with value: 0.6505808757819481.\u001b[0m\n",
      "\u001b[32m[I 2022-11-07 00:12:55,105]\u001b[0m Trial 478 finished with value: 0.6175156389633601 and parameters: {'n_estimators': 387, 'max_depth': 10, 'learning_rate': 0.09207293809072525}. Best is trial 260 with value: 0.6505808757819481.\u001b[0m\n",
      "\u001b[32m[I 2022-11-07 00:13:03,755]\u001b[0m Trial 479 finished with value: 0.6085790884718499 and parameters: {'n_estimators': 303, 'max_depth': 3, 'learning_rate': 0.028515569320877163}. Best is trial 260 with value: 0.6505808757819481.\u001b[0m\n",
      "\u001b[32m[I 2022-11-07 00:13:18,768]\u001b[0m Trial 480 finished with value: 0.6309204647006256 and parameters: {'n_estimators': 264, 'max_depth': 8, 'learning_rate': 0.05663932091578882}. Best is trial 260 with value: 0.6505808757819481.\u001b[0m\n",
      "\u001b[32m[I 2022-11-07 00:13:26,611]\u001b[0m Trial 481 finished with value: 0.6371760500446827 and parameters: {'n_estimators': 168, 'max_depth': 6, 'learning_rate': 0.12047206136894331}. Best is trial 260 with value: 0.6505808757819481.\u001b[0m\n",
      "\u001b[32m[I 2022-11-07 00:13:38,135]\u001b[0m Trial 482 finished with value: 0.6371760500446827 and parameters: {'n_estimators': 243, 'max_depth': 6, 'learning_rate': 0.07766495374927518}. Best is trial 260 with value: 0.6505808757819481.\u001b[0m\n",
      "\u001b[32m[I 2022-11-07 00:13:44,474]\u001b[0m Trial 483 finished with value: 0.6309204647006256 and parameters: {'n_estimators': 106, 'max_depth': 7, 'learning_rate': 0.045582649772237416}. Best is trial 260 with value: 0.6505808757819481.\u001b[0m\n",
      "\u001b[32m[I 2022-11-07 00:13:56,355]\u001b[0m Trial 484 finished with value: 0.6291331546023234 and parameters: {'n_estimators': 333, 'max_depth': 5, 'learning_rate': 0.14647045520308016}. Best is trial 260 with value: 0.6505808757819481.\u001b[0m\n",
      "\u001b[32m[I 2022-11-07 00:14:06,419]\u001b[0m Trial 485 finished with value: 0.6327077747989276 and parameters: {'n_estimators': 215, 'max_depth': 6, 'learning_rate': 0.09108682127509363}. Best is trial 260 with value: 0.6505808757819481.\u001b[0m\n",
      "\u001b[32m[I 2022-11-07 00:14:11,136]\u001b[0m Trial 486 finished with value: 0.6309204647006256 and parameters: {'n_estimators': 68, 'max_depth': 9, 'learning_rate': 0.11245818124184065}. Best is trial 260 with value: 0.6505808757819481.\u001b[0m\n",
      "\u001b[32m[I 2022-11-07 00:14:18,603]\u001b[0m Trial 487 finished with value: 0.6300268096514745 and parameters: {'n_estimators': 131, 'max_depth': 7, 'learning_rate': 0.06606806752536376}. Best is trial 260 with value: 0.6505808757819481.\u001b[0m\n",
      "\u001b[32m[I 2022-11-07 00:14:31,146]\u001b[0m Trial 488 finished with value: 0.6309204647006256 and parameters: {'n_estimators': 154, 'max_depth': 11, 'learning_rate': 0.027310883267602906}. Best is trial 260 with value: 0.6505808757819481.\u001b[0m\n",
      "\u001b[32m[I 2022-11-07 00:14:38,377]\u001b[0m Trial 489 finished with value: 0.6300268096514745 and parameters: {'n_estimators': 182, 'max_depth': 5, 'learning_rate': 0.17905829062296075}. Best is trial 260 with value: 0.6505808757819481.\u001b[0m\n",
      "\u001b[32m[I 2022-11-07 00:14:53,347]\u001b[0m Trial 490 finished with value: 0.6246648793565683 and parameters: {'n_estimators': 413, 'max_depth': 5, 'learning_rate': 0.1069027720144646}. Best is trial 260 with value: 0.6505808757819481.\u001b[0m\n",
      "\u001b[32m[I 2022-11-07 00:14:57,893]\u001b[0m Trial 491 finished with value: 0.6264521894548704 and parameters: {'n_estimators': 123, 'max_depth': 4, 'learning_rate': 0.0793644900290989}. Best is trial 260 with value: 0.6505808757819481.\u001b[0m\n",
      "\u001b[32m[I 2022-11-07 00:15:08,811]\u001b[0m Trial 492 finished with value: 0.6362823949955317 and parameters: {'n_estimators': 260, 'max_depth': 6, 'learning_rate': 0.13427769364349096}. Best is trial 260 with value: 0.6505808757819481.\u001b[0m\n",
      "\u001b[32m[I 2022-11-07 00:15:11,456]\u001b[0m Trial 493 finished with value: 0.6193029490616622 and parameters: {'n_estimators': 41, 'max_depth': 7, 'learning_rate': 0.05719078413395463}. Best is trial 260 with value: 0.6505808757819481.\u001b[0m\n",
      "\u001b[32m[I 2022-11-07 00:15:22,151]\u001b[0m Trial 494 finished with value: 0.6327077747989276 and parameters: {'n_estimators': 232, 'max_depth': 6, 'learning_rate': 0.08812497596542557}. Best is trial 260 with value: 0.6505808757819481.\u001b[0m\n",
      "\u001b[32m[I 2022-11-07 00:15:25,687]\u001b[0m Trial 495 finished with value: 0.6255585344057194 and parameters: {'n_estimators': 95, 'max_depth': 4, 'learning_rate': 0.12342785826643358}. Best is trial 260 with value: 0.6505808757819481.\u001b[0m\n",
      "\u001b[32m[I 2022-11-07 00:15:34,921]\u001b[0m Trial 496 finished with value: 0.6309204647006256 and parameters: {'n_estimators': 141, 'max_depth': 8, 'learning_rate': 0.03579566363434737}. Best is trial 260 with value: 0.6505808757819481.\u001b[0m\n",
      "\u001b[32m[I 2022-11-07 00:15:43,458]\u001b[0m Trial 497 finished with value: 0.6228775692582663 and parameters: {'n_estimators': 288, 'max_depth': 3, 'learning_rate': 0.06414712829211246}. Best is trial 260 with value: 0.6505808757819481.\u001b[0m\n",
      "\u001b[32m[I 2022-11-07 00:15:44,682]\u001b[0m Trial 498 finished with value: 0.5987488829311886 and parameters: {'n_estimators': 18, 'max_depth': 6, 'learning_rate': 0.07981040028172864}. Best is trial 260 with value: 0.6505808757819481.\u001b[0m\n",
      "\u001b[32m[I 2022-11-07 00:16:01,173]\u001b[0m Trial 499 finished with value: 0.6309204647006256 and parameters: {'n_estimators': 314, 'max_depth': 7, 'learning_rate': 0.049775849127492285}. Best is trial 260 with value: 0.6505808757819481.\u001b[0m\n"
     ]
    }
   ],
   "source": [
    "def opt(trial):\n",
    "    # границы оптимизируемых параметров\n",
    "    n_estimators = trial.suggest_int('n_estimators', 0, 1000)\n",
    "    max_depth = trial.suggest_int('max_depth', 1, 20)\n",
    "    learning_rate = trial.suggest_float('learning_rate', 0, 1.0)\n",
    "    \n",
    "    # обучаемая модель\n",
    "    xgboost_tuna = XGBClassifier(random_state=42, \n",
    "                                 tree_method='gpu_hist',\n",
    "                                 n_estimators = n_estimators,\n",
    "                                 max_depth = max_depth,\n",
    "                                 learning_rate = learning_rate,\n",
    "                                 )\n",
    "    return cross_val_score(xgboost_tuna, X_train, y_train, cv=3, scoring='accuracy').mean()\n",
    "study = optuna.create_study(direction=\"maximize\")   # максимизируем метрику accuracy\n",
    "study.optimize(opt, n_trials=500)                   # количество прогонов оптимизации"
   ]
  },
  {
   "cell_type": "markdown",
   "metadata": {},
   "source": [
    "# Расчет метрики XGBClassifier с параметрами подобранными с помощью optuna и сравнение с GridSearchCV"
   ]
  },
  {
   "cell_type": "code",
   "execution_count": 40,
   "metadata": {},
   "outputs": [
    {
     "name": "stdout",
     "output_type": "stream",
     "text": [
      "Подобранные параметры для XGBClassifier с помощью optuna:\n"
     ]
    },
    {
     "data": {
      "text/plain": [
       "{'n_estimators': 146, 'max_depth': 6, 'learning_rate': 0.06296398088567319}"
      ]
     },
     "metadata": {},
     "output_type": "display_data"
    },
    {
     "name": "stdout",
     "output_type": "stream",
     "text": [
      "accuracy XGBClassifier best model with GridSearchCV test: 0.650000\n",
      "accuracy XGBClassifier best model with optuna test:       0.650000\n"
     ]
    }
   ],
   "source": [
    "XGBClas_optun_best = XGBClassifier(tree_method='gpu_hist',**study.best_params)\n",
    "XGBClas_optun_best.fit(X_train, y_train)\n",
    "XGBClas_optun_best_accuracy = accuracy_score(y_test, XGBClas_optun_best.predict(X_test))\n",
    "print(f\"Подобранные параметры для XGBClassifier с помощью optuna:\")\n",
    "display(study.best_params)\n",
    "print(f\"accuracy XGBClassifier best model with GridSearchCV test: {XGBClas_best_accuracy:.6f}\")\n",
    "print(f\"accuracy XGBClassifier best model with optuna test:       {XGBClas_optun_best_accuracy:.6f}\")"
   ]
  },
  {
   "cell_type": "markdown",
   "metadata": {},
   "source": [
    "Выводы:\n",
    "- на тестовых данных значение метрики accutacy XGBClassifier с параметрами подобранными GridSearchCV и optuna для одинаково;\n",
    "- вероятно с помощью GridSearchCV была удачно выставлена сетка параметров;\n",
    "- optuna подбирает параметры в более широком диапазоне, в теории значение метрики должно быть лучше."
   ]
  },
  {
   "cell_type": "markdown",
   "metadata": {},
   "source": [
    "# 9.Выведите качество по метрике accuracy стэкинга (StackingClassifier) 4-х алгоритмов с базовыми параметрами градиентного бустинга."
   ]
  },
  {
   "cell_type": "code",
   "execution_count": 44,
   "metadata": {},
   "outputs": [
    {
     "name": "stdout",
     "output_type": "stream",
     "text": [
      "accuracy StackingClassifier models with default parameters: 0.677083\n"
     ]
    }
   ],
   "source": [
    "estimators = [('GradientBoostingClassifier', GradientBoostingClassifier(random_state=RANDOM_STATE)),\n",
    "              ('XGBClassifier', XGBClassifier(random_state=RANDOM_STATE)),\n",
    "              ('LGBMClassifier', LGBMClassifier(random_state=RANDOM_STATE)),\n",
    "              ('CatBoostClassifier', CatBoostClassifier(random_state=RANDOM_STATE, logging_level='Silent'))\n",
    "              ]\n",
    "Stacking_models_default = StackingClassifier(estimators=estimators)\n",
    "Stacking_models_default.fit(X_train, y_train)\n",
    "Stacking_models_default_accuracy = accuracy_score(y_test, Stacking_models_default.predict(X_test))\n",
    "print(f\"accuracy StackingClassifier models with default parameters: {Stacking_models_default_accuracy:.6f}\")"
   ]
  },
  {
   "cell_type": "markdown",
   "metadata": {},
   "source": [
    "Вывод: даже с параметрами по умолчанию StackingClassifier по метрике accuracy превзошел другие рассмотренные алгоритмы, в том числе с подобранными параметрами"
   ]
  },
  {
   "cell_type": "markdown",
   "metadata": {},
   "source": [
    "# 10.Выведите качество по метрике accuracy стэкинга 4-х алгоритмов с оптимальными параметрами градиентного бустинга. Сравните результаты с предыдущим шагом и напишите какой вывод можно из этого сделать."
   ]
  },
  {
   "cell_type": "code",
   "execution_count": 50,
   "metadata": {},
   "outputs": [
    {
     "name": "stdout",
     "output_type": "stream",
     "text": [
      "accuracy StackingClassifier models with default parameters: 0.677083\n",
      "accuracy StackingClassifier models with best parameters:    0.668750\n"
     ]
    }
   ],
   "source": [
    "estimators = [('GradientBoostingClassifier', GradientBoostingClassifier(**GradBst_best.best_params_, random_state=RANDOM_STATE)),\n",
    "              ('XGBClassifier', XGBClassifier(**study.best_params, random_state=RANDOM_STATE)),\n",
    "              ('LGBMClassifier', LGBMClassifier(**LiGBM_best.best_params_, random_state=RANDOM_STATE)),\n",
    "              ('CatBoostClassifier', CatBoostClassifier(**CatBst_best.best_params_, random_state=RANDOM_STATE, logging_level='Silent'))\n",
    "              ]\n",
    "Stacking_models_best = StackingClassifier(estimators=estimators)\n",
    "Stacking_models_best.fit(X_train, y_train)\n",
    "Stacking_models_best_accuracy = accuracy_score(y_test, Stacking_models_best.predict(X_test))\n",
    "print(f\"accuracy StackingClassifier models with default parameters: {Stacking_models_default_accuracy:.6f}\")\n",
    "print(f\"accuracy StackingClassifier models with best parameters:    {Stacking_models_best_accuracy:.6f}\")"
   ]
  },
  {
   "cell_type": "code",
   "execution_count": 51,
   "metadata": {},
   "outputs": [
    {
     "data": {
      "text/html": [
       "<div>\n",
       "<style scoped>\n",
       "    .dataframe tbody tr th:only-of-type {\n",
       "        vertical-align: middle;\n",
       "    }\n",
       "\n",
       "    .dataframe tbody tr th {\n",
       "        vertical-align: top;\n",
       "    }\n",
       "\n",
       "    .dataframe thead tr th {\n",
       "        text-align: left;\n",
       "    }\n",
       "</style>\n",
       "<table border=\"1\" class=\"dataframe\">\n",
       "  <thead>\n",
       "    <tr>\n",
       "      <th>Parameters</th>\n",
       "      <th>Default</th>\n",
       "      <th colspan=\"2\" halign=\"left\">Optimal</th>\n",
       "    </tr>\n",
       "    <tr>\n",
       "      <th>Values</th>\n",
       "      <th>accuracy</th>\n",
       "      <th>accuracy</th>\n",
       "      <th>time</th>\n",
       "    </tr>\n",
       "  </thead>\n",
       "  <tbody>\n",
       "    <tr>\n",
       "      <th>GradientBoostingClassifier</th>\n",
       "      <td>0.565347</td>\n",
       "      <td>0.641667</td>\n",
       "      <td>54m 56.6s</td>\n",
       "    </tr>\n",
       "    <tr>\n",
       "      <th>XGBClassifier</th>\n",
       "      <td>0.547234</td>\n",
       "      <td>0.650000</td>\n",
       "      <td>12m 26.7s</td>\n",
       "    </tr>\n",
       "    <tr>\n",
       "      <th>LGBMClassifier</th>\n",
       "      <td>0.557247</td>\n",
       "      <td>0.662500</td>\n",
       "      <td>6m 58.6s</td>\n",
       "    </tr>\n",
       "    <tr>\n",
       "      <th>CatBoostClassifier</th>\n",
       "      <td>0.551611</td>\n",
       "      <td>0.641667</td>\n",
       "      <td>11m 23.1s</td>\n",
       "    </tr>\n",
       "    <tr>\n",
       "      <th>StackingClassifier</th>\n",
       "      <td>0.677083</td>\n",
       "      <td>0.668750</td>\n",
       "      <td>NaN</td>\n",
       "    </tr>\n",
       "  </tbody>\n",
       "</table>\n",
       "</div>"
      ],
      "text/plain": [
       "Parameters                   Default   Optimal           \n",
       "Values                      accuracy  accuracy       time\n",
       "GradientBoostingClassifier  0.565347  0.641667  54m 56.6s\n",
       "XGBClassifier               0.547234  0.650000  12m 26.7s\n",
       "LGBMClassifier              0.557247  0.662500   6m 58.6s\n",
       "CatBoostClassifier          0.551611  0.641667  11m 23.1s\n",
       "StackingClassifier          0.677083  0.668750        NaN"
      ]
     },
     "execution_count": 51,
     "metadata": {},
     "output_type": "execute_result"
    }
   ],
   "source": [
    "# сведем результаты в таблицу\n",
    "result = pd.DataFrame(data=[[GradBst_accuracy, GradBst_best_accuracy, '54m 56.6s'],\n",
    "                            [XGBClas_accuracy, XGBClas_best_accuracy, '12m 26.7s'],\n",
    "                            [LiGBM_accuracy, LiGBM_best_accuracy, '6m 58.6s'],\n",
    "                            [CatBst_accuracy, CatBst_best_accuracy, '11m 23.1s'],\n",
    "                            [Stacking_models_default_accuracy, Stacking_models_best_accuracy, np.NaN]],\n",
    "                      index=['GradientBoostingClassifier','XGBClassifier','LGBMClassifier','CatBoostClassifier','StackingClassifier'],\n",
    "                      columns = pd.MultiIndex.from_tuples([('Default', 'accuracy'), ('Optimal', 'accuracy'), ('Optimal', 'time')],\n",
    "                                                             names=['Parameters', 'Values']))\n",
    "result"
   ]
  },
  {
   "cell_type": "markdown",
   "metadata": {},
   "source": [
    "Выводы:\n",
    "- StackingClassifier на алгоритмах с подобранными параметрами отработал хуже чем на этих алгоритмах с подобранными параметрами;\n",
    "- вероятно дело в том, что параметры подбираются для работы одного алгоритма;\n",
    "- лучшее качество по метрике accuracy у стэкинга (StackingClassifier) 4-х алгоритмов с базовыми параметрами градиентного бустинга."
   ]
  }
 ],
 "metadata": {
  "kernelspec": {
   "display_name": "Python 3",
   "language": "python",
   "name": "python3"
  },
  "language_info": {
   "codemirror_mode": {
    "name": "ipython",
    "version": 3
   },
   "file_extension": ".py",
   "mimetype": "text/x-python",
   "name": "python",
   "nbconvert_exporter": "python",
   "pygments_lexer": "ipython3",
   "version": "3.10.8"
  },
  "vscode": {
   "interpreter": {
    "hash": "3b7e9cb8e453d6cda0fe8c8dd13f891a1f09162f0e7c66ffeae7751a7aecf00d"
   }
  }
 },
 "nbformat": 4,
 "nbformat_minor": 2
}
