{
 "cells": [
  {
   "cell_type": "markdown",
   "metadata": {},
   "source": [
    "[![Open In Colab](https://colab.research.google.com/assets/colab-badge.svg)](https://colab.research.google.com/github/Denis-R-V/Homeworks/blob/main/Part_4/Task_1_NN.ipynb)"
   ]
  },
  {
   "cell_type": "markdown",
   "metadata": {},
   "source": [
    "# Домашнее задание 1\n",
    "- Написать на PyTorch forward и backward полносвязного слоя без использования autograd\n",
    "- Написать 1-2 адаптивных оптимизатора\n",
    "- Решить задачу нахождения корней квадратного уравнения методом градиентного спуска"
   ]
  },
  {
   "cell_type": "code",
   "execution_count": 1,
   "metadata": {},
   "outputs": [],
   "source": [
    "import torch"
   ]
  },
  {
   "cell_type": "markdown",
   "metadata": {},
   "source": [
    "# Задание 1\n",
    "Написать на PyTorch forward и backward полносвязного слоя без использования autograd"
   ]
  },
  {
   "cell_type": "markdown",
   "metadata": {},
   "source": [
    "### Функции активации ReLU, sigmoid, tanh и их backward"
   ]
  },
  {
   "cell_type": "code",
   "execution_count": 2,
   "metadata": {},
   "outputs": [],
   "source": [
    "def tanh(x):                                    # гиперболический тангенс\n",
    "    return 2. / (1 + torch.exp(-2*x)) - 1\n",
    "\n",
    "def tanh_backward(da, x):                       # backward гиперболического тангенса\n",
    "    tanh_ = tanh(x)\n",
    "    return da * (1 - tanh_**2)    \n",
    "\n",
    "def sigmoid(x):                                 # сигмоида\n",
    "    return 1. / (1 + torch.exp(-x))\n",
    "\n",
    "def sigmoid_backward(da, x):                    # backward сигмодиды\n",
    "    sig = sigmoid(x)\n",
    "    return da * sig * (1 - sig)\n",
    "\n",
    "def relu(x):                                    # ReLU\n",
    "    return torch.maximum(torch.zeros(1), x)\n",
    "\n",
    "def relu_backward(da, x):                       # backward ReLU\n",
    "    da = torch.tensor(da)\n",
    "    da[x <= 0] = 0\n",
    "    return da"
   ]
  },
  {
   "cell_type": "markdown",
   "metadata": {},
   "source": [
    "### Функции потерь MSE и MAE и их производные"
   ]
  },
  {
   "cell_type": "code",
   "execution_count": 3,
   "metadata": {},
   "outputs": [],
   "source": [
    "def mse_loss(t, y):         # функция потерь mse\n",
    "    return (t - y) ** 2\n",
    "\n",
    "def d_mse_loss(t, y):       # производная функции потерь mse\n",
    "    return 2 * (y - t) \n",
    "\n",
    "def mae_loss(t, y):         # функция потерь mae\n",
    "    return abs(t - y)\n",
    "\n",
    "def d_mae_loss(t, y):       # производная функции потерь mae\n",
    "    if t > y:\n",
    "        d_mae = torch.tensor([[-1.]])\n",
    "    elif t < y:\n",
    "        d_mae = torch.tensor([[1.]])\n",
    "    else:\n",
    "        d_mae = torch.tensor([[0.]])\n",
    "\n",
    "    return d_mae"
   ]
  },
  {
   "cell_type": "markdown",
   "metadata": {},
   "source": [
    "### Полносвязный линейный слой (forward и backward полносвязного слоя без использования autograd)"
   ]
  },
  {
   "cell_type": "code",
   "execution_count": 4,
   "metadata": {},
   "outputs": [],
   "source": [
    "class LinearLayer:\n",
    "    def __init__(self, n_inp, n_out, activation='sigmoid'):\n",
    "        \n",
    "        # матрица весов модели\n",
    "        self.w = torch.rand(n_out, n_inp) * 0.1\n",
    "        self.b = torch.rand(n_out, 1) * 0.1\n",
    "        \n",
    "        # выбор активации\n",
    "        if activation == 'tanh':\n",
    "            self.activ = tanh        \n",
    "        elif activation == 'sigmoid':\n",
    "            self.activ = sigmoid\n",
    "        elif activation == 'relu':\n",
    "            self.activ = relu\n",
    "        elif activation == 'None':\n",
    "            self.activ = None\n",
    "        else:\n",
    "            raise Exception(f'Unknown activation \"{activation}\"')\n",
    "        \n",
    "        # служебный метод для сброса состояния слоя\n",
    "        self._clear_state()\n",
    "\n",
    "    def _clear_state(self):\n",
    "        self.lin = None\n",
    "        self.inp = None\n",
    "        self.d_w = None\n",
    "        self.d_b = None\n",
    "\n",
    "    def forward(self, x):\n",
    "        self.inp = x\n",
    "        # линейное преобразование\n",
    "        self.lin = self.w @ self.inp + self.b\n",
    "        # применение активации\n",
    "        activ = self.activ(self.lin) if self.activ is not None else self.lin\n",
    "        return activ\n",
    "\n",
    "    def backward(self, grad):\n",
    "        \n",
    "        # на вход поступает градиент от предыдущего слоя \n",
    "        # если слой последний, то производная функционала потерь по выходу сети\n",
    "        \n",
    "        if self.activ == tanh:\n",
    "            grad_lin = tanh_backward(grad, self.lin) \n",
    "        elif self.activ == sigmoid:\n",
    "            grad_lin = sigmoid_backward(grad, self.lin)         \n",
    "        elif self.activ == relu:\n",
    "            grad_lin = relu_backward(grad, self.lin)\n",
    "        else:\n",
    "            grad_lin = grad\n",
    "        \n",
    "        # градиент по весам\n",
    "        m = self.inp.size()[1]\n",
    "        self.d_w = (grad_lin@self.inp.t()) / m    # d_in dOut\n",
    "        self.d_b = torch.sum(grad_lin, axis=1, keepdims=True) / m\n",
    "        # градиент нужен для расчетов на следующем слое\n",
    "        grad = self.w.t()@grad_lin\n",
    "\n",
    "        return grad"
   ]
  },
  {
   "cell_type": "markdown",
   "metadata": {},
   "source": [
    "### Модель на полносвязных линейных слоях"
   ]
  },
  {
   "cell_type": "code",
   "execution_count": 5,
   "metadata": {},
   "outputs": [],
   "source": [
    "from typing import Tuple\n",
    "\n",
    "class Model:\n",
    "    # на вход подается кортеж кортежей из числа входов и выходов для каждого слоя\n",
    "    def __init__(self, arch: Tuple[Tuple[int, int]], activation):\n",
    "        self.layers = []\n",
    "        for i, p in enumerate(arch):\n",
    "            self.layers.append(LinearLayer(p[0], p[1], \n",
    "                                           # у последнего (выходного) слоя активация отключается\n",
    "                                           activation=activation if i < len(arch)-1 else 'None'))\n",
    "        self._clear_state()\n",
    "    \n",
    "    def _clear_state(self):\n",
    "        for layer in self.layers:\n",
    "            layer._clear_state()\n",
    "\n",
    "    def forward(self, x):\n",
    "        for layer in self.layers:\n",
    "            x = layer.forward(x)\n",
    "        \n",
    "        return x\n",
    "\n",
    "    def backward(self, grad):\n",
    "        for layer in reversed(self.layers):\n",
    "            grad = layer.backward(grad)\n",
    "\n",
    "        return grad "
   ]
  },
  {
   "cell_type": "markdown",
   "metadata": {},
   "source": [
    "# Задание 2\n",
    "Написать 1-2 адаптивных оптимизатора"
   ]
  },
  {
   "cell_type": "markdown",
   "metadata": {},
   "source": [
    "### SGDMomentum"
   ]
  },
  {
   "cell_type": "markdown",
   "metadata": {},
   "source": [
    "velocity = momentum (0.9-0.99)* velocity - lr*gradient  \n",
    "w = w + velocity (скорость-вектор)"
   ]
  },
  {
   "cell_type": "code",
   "execution_count": 6,
   "metadata": {},
   "outputs": [],
   "source": [
    "class SGDMomentum:\n",
    "    def __init__(self, model: Model, lr= 0.0001, momentum=0.9):     # momentum 0.9-0.99\n",
    "        self.model = model\n",
    "        self.lr = lr\n",
    "        self.m = momentum\n",
    "        self.vel = [[torch.zeros_like(layer.w), \n",
    "                     torch.zeros_like(layer.b)] for layer in model.layers]\n",
    "\n",
    "    def step(self):\n",
    "        for i, layer in enumerate(self.model.layers):\n",
    "            self.vel[i][0] = self.vel[i][0] * self.m - self.lr * layer.d_w \n",
    "            self.vel[i][1] = self.vel[i][1] * self.m - self.lr * layer.d_b \n",
    "            layer.w += self.vel[i][0]\n",
    "            layer.b += self.vel[i][1]\n",
    "    \n",
    "    def zero_grad(self):\n",
    "        self.model._clear_state()"
   ]
  },
  {
   "cell_type": "markdown",
   "metadata": {},
   "source": [
    "### Adagrad"
   ]
  },
  {
   "cell_type": "markdown",
   "metadata": {},
   "source": [
    "accumulated += gradient ** 2  \n",
    "adapt_lr = lr / sqrt (accumulated)   \n",
    "w = w - adapt_lr * gradient"
   ]
  },
  {
   "cell_type": "code",
   "execution_count": 7,
   "metadata": {},
   "outputs": [],
   "source": [
    "class Adagrad:\n",
    "    def __init__(self, model: Model, lr= 0.0001):\n",
    "        self.model = model\n",
    "        self.lr = lr\n",
    "        self.accumulated = [[torch.zeros_like(layer.w), \n",
    "                             torch.zeros_like(layer.b)] for layer in model.layers]\n",
    "\n",
    "    def step(self):\n",
    "        for i, layer in enumerate(self.model.layers):\n",
    "            self.accumulated[i][0] += layer.d_w ** 2\n",
    "            self.accumulated[i][1] += layer.d_b ** 2\n",
    "            adapt_lr_w = self.lr / torch.sqrt(self.accumulated[i][0])\n",
    "            adapt_lr_b = self.lr / torch.sqrt(self.accumulated[i][1])\n",
    "            layer.w -= adapt_lr_w * layer.d_w\n",
    "            layer.b -= adapt_lr_b * layer.d_b\n",
    "    \n",
    "    def zero_grad(self):\n",
    "        self.model._clear_state()"
   ]
  },
  {
   "cell_type": "markdown",
   "metadata": {},
   "source": [
    "### RMSprop"
   ]
  },
  {
   "cell_type": "markdown",
   "metadata": {},
   "source": [
    "accumulated += rho (0.9 - 0.99) * accumulated + (1- rho) * gradient ** 2  \n",
    "adapt_lr = lr / sqrt (accumulated)   \n",
    "w = w - adapt_lr * gradient"
   ]
  },
  {
   "cell_type": "code",
   "execution_count": 106,
   "metadata": {},
   "outputs": [],
   "source": [
    "class RMSprop:\n",
    "    def __init__(self, model: Model, rho = 0.9, lr= 0.0001):     # momentum 0.9-0.99\n",
    "        self.model = model\n",
    "        self.rho = rho\n",
    "        self.lr = lr\n",
    "        self.accumulated = [[torch.zeros_like(layer.w), \n",
    "                             torch.zeros_like(layer.b)] for layer in model.layers]\n",
    "\n",
    "    def step(self):\n",
    "        for i, layer in enumerate(self.model.layers):\n",
    "            self.accumulated[i][0] += self.rho * self.accumulated[i][0] + (1 - self.rho) * layer.d_w ** 2\n",
    "            self.accumulated[i][1] += self.rho * self.accumulated[i][1] + (1 - self.rho) * layer.d_b ** 2\n",
    "            adapt_lr_w = self.lr / torch.sqrt(self.accumulated[i][0])\n",
    "            adapt_lr_b = self.lr / torch.sqrt(self.accumulated[i][1])\n",
    "            layer.w -= adapt_lr_w * layer.d_w\n",
    "            layer.b -= adapt_lr_b * layer.d_b\n",
    "    \n",
    "    def zero_grad(self):\n",
    "        self.model._clear_state()"
   ]
  },
  {
   "cell_type": "markdown",
   "metadata": {},
   "source": [
    "### Adam (RMSProp + Momentum)"
   ]
  },
  {
   "cell_type": "markdown",
   "metadata": {},
   "source": [
    "velocity = beta1 * velocity + (1-beta1) * gradient  \n",
    "accumulated = beta2 * accumulated + (1-beta2) * gradient ** 2  \n",
    "adapt_lr = lr / sqrt (accumulated)  \n",
    "w = w - adapt_lr * velocity"
   ]
  },
  {
   "cell_type": "code",
   "execution_count": 9,
   "metadata": {},
   "outputs": [],
   "source": [
    "class Adam:\n",
    "    def __init__(self, model: Model, beta1 = 0.9, beta2 = 0.999, lr= 0.0001):     # betas=(0.9, 0.999) - в описании Adam в Torch\n",
    "        self.model = model\n",
    "        self.beta1 = beta1\n",
    "        self.beta2 = beta2\n",
    "        self.lr = lr\n",
    "        self.vel = [[torch.zeros_like(layer.w), \n",
    "                     torch.zeros_like(layer.b)] for layer in model.layers]\n",
    "        self.accumulated = [[torch.zeros_like(layer.w), \n",
    "                             torch.zeros_like(layer.b)] for layer in model.layers]\n",
    "\n",
    "    def step(self):\n",
    "        for i, layer in enumerate(self.model.layers):\n",
    "            self.vel[i][0] = self.beta1 * self.vel[i][0] + (1 - self.beta1) * layer.d_w \n",
    "            self.vel[i][1] = self.beta1 * self.vel[i][1] + (1 - self.beta1) * layer.d_b        \n",
    "            self.accumulated[i][0] = self.beta2 * self.accumulated[i][0] + (1 - self.beta2) * layer.d_w ** 2\n",
    "            self.accumulated[i][1] = self.beta2 * self.accumulated[i][1] + (1 - self.beta2) * layer.d_b ** 2            \n",
    "            adapt_lr_w = self.lr / torch.sqrt(self.accumulated[i][0])\n",
    "            adapt_lr_b = self.lr / torch.sqrt(self.accumulated[i][1])\n",
    "            layer.w -= adapt_lr_w * self.vel[i][0]\n",
    "            layer.b -= adapt_lr_b * self.vel[i][1]\n",
    "    \n",
    "    def zero_grad(self):\n",
    "        self.model._clear_state()"
   ]
  },
  {
   "cell_type": "markdown",
   "metadata": {},
   "source": [
    "## Обучение модели с разными функциями активации (tanh, sigmoid, ReLU), разными функциями потерь (MSE и MAE) и разными оптимизаторами (SGDMomentum, Adagrad, RMSprop, Adam)"
   ]
  },
  {
   "cell_type": "markdown",
   "metadata": {},
   "source": [
    "### Обучающая выборка"
   ]
  },
  {
   "cell_type": "code",
   "execution_count": 130,
   "metadata": {},
   "outputs": [],
   "source": [
    "x = torch.distributions.uniform.Uniform(-2,2).sample([20000])\n",
    "y = x**2 + torch.rand(1)*0.1"
   ]
  },
  {
   "cell_type": "markdown",
   "metadata": {},
   "source": [
    "### Активация tanh, функция потерь MAE, оптимизитор SGDMomentum"
   ]
  },
  {
   "cell_type": "code",
   "execution_count": 166,
   "metadata": {},
   "outputs": [
    {
     "name": "stdout",
     "output_type": "stream",
     "text": [
      "0 tensor([[0.9672]]) tensor([[1.0646]]) tensor([[0.7711]]) tensor([[0.6726]])\n",
      "1 tensor([[0.8352]]) tensor([[0.9268]]) tensor([[0.8441]]) tensor([[0.8783]])\n",
      "2 tensor([[1.2830]]) tensor([[3.2077]]) tensor([[1.3370]]) tensor([[3.2094]])\n",
      "3 tensor([[1.2677]]) tensor([[3.3265]]) tensor([[1.4542]]) tensor([[3.5071]])\n",
      "4 tensor([[1.1807]]) tensor([[3.2911]]) tensor([[1.2423]]) tensor([[3.2880]])\n",
      "5 tensor([[1.2785]]) tensor([[3.4021]]) tensor([[1.1796]]) tensor([[3.1688]])\n",
      "6 tensor([[1.1411]]) tensor([[3.4381]]) tensor([[1.2435]]) tensor([[3.4794]])\n",
      "7 tensor([[0.8749]]) tensor([[3.7161]]) tensor([[0.9626]]) tensor([[4.0088]])\n",
      "8 tensor([[1.0547]]) tensor([[3.9575]]) tensor([[1.0259]]) tensor([[3.9202]])\n",
      "9 tensor([[0.9643]]) tensor([[3.8527]]) tensor([[0.9639]]) tensor([[3.8698]])\n",
      "10 tensor([[0.9815]]) tensor([[3.8546]]) tensor([[1.1287]]) tensor([[4.2059]])\n",
      "11 tensor([[0.9963]]) tensor([[3.9139]]) tensor([[1.0312]]) tensor([[3.9655]])\n",
      "12 tensor([[1.0468]]) tensor([[3.9190]]) tensor([[1.0996]]) tensor([[4.1122]])\n",
      "13 tensor([[0.9756]]) tensor([[3.8013]]) tensor([[1.0174]]) tensor([[3.9529]])\n",
      "14 tensor([[1.0420]]) tensor([[4.0021]]) tensor([[1.0076]]) tensor([[3.9284]])\n",
      "15 tensor([[1.0175]]) tensor([[3.9618]]) tensor([[0.9929]]) tensor([[3.9157]])\n",
      "16 tensor([[1.0417]]) tensor([[3.9901]]) tensor([[1.0010]]) tensor([[3.9029]])\n",
      "17 tensor([[0.9940]]) tensor([[3.9653]]) tensor([[0.9782]]) tensor([[3.8477]])\n",
      "18 tensor([[1.0487]]) tensor([[3.9969]]) tensor([[1.0608]]) tensor([[4.0210]])\n",
      "19 tensor([[0.9744]]) tensor([[3.8688]]) tensor([[1.0216]]) tensor([[3.9764]])\n"
     ]
    }
   ],
   "source": [
    "model = Model(((1, 100), (100, 1)), activation='tanh')    # tanh, sigmois, relu или None\n",
    "optim = SGDMomentum(model, lr=0.0005, momentum=0.9)                 # SGDMomentum, Adagrad, RMSprop, Adam\n",
    "for e in range(20):\n",
    "    for i, (val, t) in enumerate(zip(x, y)):\n",
    "        optim.zero_grad()\n",
    "        pred = model.forward(torch.tensor([[val]]))\n",
    "        loss = mae_loss(t, pred)                                    # mse или mae - оба работают\n",
    "        grad = d_mae_loss(t, pred)                                  # mse или mae - оба работают\n",
    "        model.backward(grad)\n",
    "        optim.step()\n",
    "        \n",
    "    print(e, model.forward(torch.tensor([[1.]])), model.forward(torch.tensor([[2.]])), model.forward(torch.tensor([[-1.]])), model.forward(torch.tensor([[-2.]])))"
   ]
  },
  {
   "cell_type": "markdown",
   "metadata": {},
   "source": [
    "### Активация ReLU, функция потерь MSE, оптимизитор SGDMomentum"
   ]
  },
  {
   "cell_type": "code",
   "execution_count": 180,
   "metadata": {},
   "outputs": [
    {
     "name": "stderr",
     "output_type": "stream",
     "text": [
      "C:\\Users\\User\\AppData\\Local\\Temp\\ipykernel_22040\\3544688111.py:19: UserWarning: To copy construct from a tensor, it is recommended to use sourceTensor.clone().detach() or sourceTensor.clone().detach().requires_grad_(True), rather than torch.tensor(sourceTensor).\n",
      "  da = torch.tensor(da)\n"
     ]
    },
    {
     "name": "stdout",
     "output_type": "stream",
     "text": [
      "0 tensor([[1.0413]]) tensor([[3.9128]]) tensor([[1.0412]]) tensor([[3.9068]])\n",
      "1 tensor([[1.0427]]) tensor([[3.9677]]) tensor([[1.0394]]) tensor([[3.9611]])\n",
      "2 tensor([[1.0416]]) tensor([[3.9876]]) tensor([[1.0375]]) tensor([[3.9827]])\n",
      "3 tensor([[1.0414]]) tensor([[3.9986]]) tensor([[1.0374]]) tensor([[3.9949]])\n",
      "4 tensor([[1.0414]]) tensor([[4.0050]]) tensor([[1.0389]]) tensor([[4.0024]])\n",
      "5 tensor([[1.0413]]) tensor([[4.0091]]) tensor([[1.0396]]) tensor([[4.0069]])\n",
      "6 tensor([[1.0412]]) tensor([[4.0123]]) tensor([[1.0403]]) tensor([[4.0103]])\n",
      "7 tensor([[1.0411]]) tensor([[4.0149]]) tensor([[1.0409]]) tensor([[4.0129]])\n",
      "8 tensor([[1.0410]]) tensor([[4.0171]]) tensor([[1.0413]]) tensor([[4.0150]])\n",
      "9 tensor([[1.0409]]) tensor([[4.0190]]) tensor([[1.0417]]) tensor([[4.0168]])\n",
      "10 tensor([[1.0408]]) tensor([[4.0207]]) tensor([[1.0420]]) tensor([[4.0183]])\n",
      "11 tensor([[1.0407]]) tensor([[4.0221]]) tensor([[1.0422]]) tensor([[4.0196]])\n",
      "12 tensor([[1.0408]]) tensor([[4.0232]]) tensor([[1.0424]]) tensor([[4.0209]])\n",
      "13 tensor([[1.0409]]) tensor([[4.0241]]) tensor([[1.0425]]) tensor([[4.0220]])\n",
      "14 tensor([[1.0409]]) tensor([[4.0250]]) tensor([[1.0426]]) tensor([[4.0229]])\n",
      "15 tensor([[1.0410]]) tensor([[4.0258]]) tensor([[1.0428]]) tensor([[4.0238]])\n",
      "16 tensor([[1.0411]]) tensor([[4.0265]]) tensor([[1.0429]]) tensor([[4.0247]])\n",
      "17 tensor([[1.0411]]) tensor([[4.0271]]) tensor([[1.0431]]) tensor([[4.0253]])\n",
      "18 tensor([[1.0411]]) tensor([[4.0276]]) tensor([[1.0432]]) tensor([[4.0258]])\n",
      "19 tensor([[1.0412]]) tensor([[4.0280]]) tensor([[1.0434]]) tensor([[4.0264]])\n"
     ]
    }
   ],
   "source": [
    "model = Model(((1, 100), (100, 1)), activation='relu')    # tanh, sigmois, relu или None\n",
    "optim = SGDMomentum(model, lr=0.0001, momentum=0.9)                 # SGDMomentum, Adagrad, RMSprop, Adam\n",
    "for e in range(20):\n",
    "    for i, (val, t) in enumerate(zip(x, y)):\n",
    "        optim.zero_grad()\n",
    "        pred = model.forward(torch.tensor([[val]]))\n",
    "        loss = mse_loss(t, pred)                                    # mse или mae - оба работают\n",
    "        grad = d_mse_loss(t, pred)                                  # mse или mae - оба работают\n",
    "        model.backward(grad)\n",
    "        optim.step()\n",
    "        \n",
    "    print(e, model.forward(torch.tensor([[1.]])), model.forward(torch.tensor([[2.]])), model.forward(torch.tensor([[-1.]])), model.forward(torch.tensor([[-2.]])))"
   ]
  },
  {
   "cell_type": "markdown",
   "metadata": {},
   "source": [
    "### Активация sigmoid, функция потерь MAE, оптимизитор Adagrad"
   ]
  },
  {
   "cell_type": "code",
   "execution_count": 172,
   "metadata": {},
   "outputs": [
    {
     "name": "stdout",
     "output_type": "stream",
     "text": [
      "0 tensor([[1.1748]]) tensor([[1.7752]]) tensor([[0.5272]]) tensor([[0.6050]])\n",
      "1 tensor([[1.0405]]) tensor([[3.4056]]) tensor([[1.1139]]) tensor([[2.9841]])\n",
      "2 tensor([[1.0395]]) tensor([[3.6545]]) tensor([[1.0455]]) tensor([[3.6359]])\n",
      "3 tensor([[1.0184]]) tensor([[3.7868]]) tensor([[1.0257]]) tensor([[3.8107]])\n",
      "4 tensor([[1.0227]]) tensor([[3.8413]]) tensor([[1.0294]]) tensor([[3.8718]])\n",
      "5 tensor([[1.0282]]) tensor([[3.8852]]) tensor([[1.0254]]) tensor([[3.8943]])\n",
      "6 tensor([[1.0298]]) tensor([[3.9039]]) tensor([[1.0322]]) tensor([[3.9299]])\n",
      "7 tensor([[1.0302]]) tensor([[3.9181]]) tensor([[1.0327]]) tensor([[3.9463]])\n",
      "8 tensor([[1.0299]]) tensor([[3.9293]]) tensor([[1.0320]]) tensor([[3.9560]])\n",
      "9 tensor([[1.0342]]) tensor([[3.9386]]) tensor([[1.0399]]) tensor([[3.9738]])\n",
      "10 tensor([[1.0327]]) tensor([[3.9455]]) tensor([[1.0369]]) tensor([[3.9738]])\n",
      "11 tensor([[1.0366]]) tensor([[3.9526]]) tensor([[1.0375]]) tensor([[3.9778]])\n",
      "12 tensor([[1.0351]]) tensor([[3.9581]]) tensor([[1.0375]]) tensor([[3.9831]])\n",
      "13 tensor([[1.0372]]) tensor([[3.9612]]) tensor([[1.0373]]) tensor([[3.9820]])\n",
      "14 tensor([[1.0358]]) tensor([[3.9671]]) tensor([[1.0356]]) tensor([[3.9849]])\n",
      "15 tensor([[1.0381]]) tensor([[3.9708]]) tensor([[1.0360]]) tensor([[3.9851]])\n",
      "16 tensor([[1.0342]]) tensor([[3.9679]]) tensor([[1.0299]]) tensor([[3.9777]])\n",
      "17 tensor([[1.0377]]) tensor([[3.9757]]) tensor([[1.0342]]) tensor([[3.9845]])\n",
      "18 tensor([[1.0340]]) tensor([[3.9738]]) tensor([[1.0317]]) tensor([[3.9837]])\n",
      "19 tensor([[1.0350]]) tensor([[3.9752]]) tensor([[1.0309]]) tensor([[3.9811]])\n"
     ]
    }
   ],
   "source": [
    "model = Model(((1, 100), (100, 1)), activation='sigmoid')  # tanh, sigmois, relu или None\n",
    "optim = Adagrad(model, lr=0.05)                         # SGDMomentum, Adagrad, RMSprop, Adam\n",
    "for e in range(20):\n",
    "    for i, (val, t) in enumerate(zip(x, y)):\n",
    "        optim.zero_grad()\n",
    "        pred = model.forward(torch.tensor([[val]]))\n",
    "        loss = mae_loss(t, pred)                                    # mse или mae - оба работают\n",
    "        grad = d_mae_loss(t, pred)                                  # mse или mae - оба работают\n",
    "        model.backward(grad)\n",
    "        optim.step()\n",
    "        \n",
    "    print(e, model.forward(torch.tensor([[1.]])), model.forward(torch.tensor([[2.]])), model.forward(torch.tensor([[-1.]])), model.forward(torch.tensor([[-2.]])))"
   ]
  },
  {
   "cell_type": "markdown",
   "metadata": {},
   "source": [
    "### Активация sigmoid, функция потерь MSE, оптимизитор RMSprop"
   ]
  },
  {
   "cell_type": "code",
   "execution_count": 141,
   "metadata": {},
   "outputs": [
    {
     "name": "stdout",
     "output_type": "stream",
     "text": [
      "0 tensor([[1.0570]]) tensor([[3.7821]]) tensor([[1.0742]]) tensor([[3.7731]])\n",
      "1 tensor([[1.0479]]) tensor([[3.8381]]) tensor([[1.0546]]) tensor([[3.8344]])\n",
      "2 tensor([[1.0462]]) tensor([[3.8550]]) tensor([[1.0508]]) tensor([[3.8521]])\n",
      "3 tensor([[1.0446]]) tensor([[3.8593]]) tensor([[1.0494]]) tensor([[3.8584]])\n",
      "4 tensor([[1.0434]]) tensor([[3.8596]]) tensor([[1.0490]]) tensor([[3.8606]])\n",
      "5 tensor([[1.0434]]) tensor([[3.8600]]) tensor([[1.0493]]) tensor([[3.8621]])\n",
      "6 tensor([[1.0433]]) tensor([[3.8599]]) tensor([[1.0493]]) tensor([[3.8623]])\n",
      "7 tensor([[1.0430]]) tensor([[3.8595]]) tensor([[1.0492]]) tensor([[3.8622]])\n",
      "8 tensor([[1.0429]]) tensor([[3.8594]]) tensor([[1.0492]]) tensor([[3.8623]])\n",
      "9 tensor([[1.0430]]) tensor([[3.8597]]) tensor([[1.0494]]) tensor([[3.8628]])\n",
      "10 tensor([[1.0431]]) tensor([[3.8599]]) tensor([[1.0495]]) tensor([[3.8630]])\n",
      "11 tensor([[1.0431]]) tensor([[3.8600]]) tensor([[1.0495]]) tensor([[3.8630]])\n",
      "12 tensor([[1.0432]]) tensor([[3.8600]]) tensor([[1.0495]]) tensor([[3.8630]])\n",
      "13 tensor([[1.0432]]) tensor([[3.8600]]) tensor([[1.0495]]) tensor([[3.8630]])\n",
      "14 tensor([[1.0432]]) tensor([[3.8600]]) tensor([[1.0495]]) tensor([[3.8630]])\n",
      "15 tensor([[1.0432]]) tensor([[3.8600]]) tensor([[1.0495]]) tensor([[3.8630]])\n",
      "16 tensor([[1.0432]]) tensor([[3.8600]]) tensor([[1.0495]]) tensor([[3.8630]])\n",
      "17 tensor([[1.0432]]) tensor([[3.8600]]) tensor([[1.0495]]) tensor([[3.8630]])\n",
      "18 tensor([[1.0432]]) tensor([[3.8600]]) tensor([[1.0495]]) tensor([[3.8630]])\n",
      "19 tensor([[1.0432]]) tensor([[3.8600]]) tensor([[1.0495]]) tensor([[3.8630]])\n"
     ]
    }
   ],
   "source": [
    "model = Model(((1, 100), (100, 1)), activation='sigmoid')   # tanh, sigmois, relu или None\n",
    "optim = RMSprop(model, rho = 0.0001, lr=0.15)               # SGDMomentum, Adagrad, RMSprop, Adam\n",
    "for e in range(20):\n",
    "    for i, (val, t) in enumerate(zip(x, y)):\n",
    "        optim.zero_grad()\n",
    "        pred = model.forward(torch.tensor([[val]]))\n",
    "        loss = mse_loss(t, pred)                        # mse или mae - оба работают\n",
    "        grad = d_mse_loss(t, pred)                      # mse или mae - оба работают\n",
    "        model.backward(grad)\n",
    "        optim.step()\n",
    "        \n",
    "    print(e, model.forward(torch.tensor([[1.]])), model.forward(torch.tensor([[2.]])), model.forward(torch.tensor([[-1.]])), model.forward(torch.tensor([[-2.]])))"
   ]
  },
  {
   "cell_type": "markdown",
   "metadata": {},
   "source": [
    "В данном случае RMSProp работает только с очень маленьким rho, схождение слабое"
   ]
  },
  {
   "cell_type": "markdown",
   "metadata": {},
   "source": [
    "### Активация sigmoid, функция потерь MSE, оптимизитор Adam"
   ]
  },
  {
   "cell_type": "code",
   "execution_count": 143,
   "metadata": {},
   "outputs": [
    {
     "name": "stdout",
     "output_type": "stream",
     "text": [
      "0 tensor([[1.3867]]) tensor([[3.2525]]) tensor([[1.1588]]) tensor([[3.3025]])\n",
      "1 tensor([[1.0493]]) tensor([[3.7973]]) tensor([[1.0471]]) tensor([[3.8201]])\n",
      "2 tensor([[1.0117]]) tensor([[3.9582]]) tensor([[1.0308]]) tensor([[3.9810]])\n",
      "3 tensor([[1.0151]]) tensor([[3.9792]]) tensor([[1.0319]]) tensor([[4.0015]])\n",
      "4 tensor([[1.0199]]) tensor([[3.9878]]) tensor([[1.0332]]) tensor([[4.0065]])\n",
      "5 tensor([[1.0236]]) tensor([[3.9949]]) tensor([[1.0346]]) tensor([[4.0108]])\n",
      "6 tensor([[1.0270]]) tensor([[4.0018]]) tensor([[1.0361]]) tensor([[4.0144]])\n",
      "7 tensor([[1.0305]]) tensor([[4.0089]]) tensor([[1.0378]]) tensor([[4.0179]])\n",
      "8 tensor([[1.0337]]) tensor([[4.0157]]) tensor([[1.0394]]) tensor([[4.0214]])\n",
      "9 tensor([[1.0360]]) tensor([[4.0210]]) tensor([[1.0408]]) tensor([[4.0247]])\n",
      "10 tensor([[1.0367]]) tensor([[4.0239]]) tensor([[1.0416]]) tensor([[4.0270]])\n",
      "11 tensor([[1.0368]]) tensor([[4.0254]]) tensor([[1.0420]]) tensor([[4.0286]])\n",
      "12 tensor([[1.0368]]) tensor([[4.0265]]) tensor([[1.0423]]) tensor([[4.0298]])\n",
      "13 tensor([[1.0367]]) tensor([[4.0272]]) tensor([[1.0423]]) tensor([[4.0305]])\n",
      "14 tensor([[1.0367]]) tensor([[4.0277]]) tensor([[1.0424]]) tensor([[4.0309]])\n",
      "15 tensor([[1.0366]]) tensor([[4.0279]]) tensor([[1.0424]]) tensor([[4.0312]])\n",
      "16 tensor([[1.0365]]) tensor([[4.0279]]) tensor([[1.0423]]) tensor([[4.0313]])\n",
      "17 tensor([[1.0363]]) tensor([[4.0278]]) tensor([[1.0422]]) tensor([[4.0312]])\n",
      "18 tensor([[1.0361]]) tensor([[4.0276]]) tensor([[1.0420]]) tensor([[4.0311]])\n",
      "19 tensor([[1.0360]]) tensor([[4.0275]]) tensor([[1.0419]]) tensor([[4.0310]])\n"
     ]
    }
   ],
   "source": [
    "model = Model(((1, 100), (100, 1)), activation='sigmoid')  # tanh, sigmois, relu или None\n",
    "#model = Model(((1, 10), (10, 100), (100, 1)), activation='relu')  # tanh, sigmois, relu или None\n",
    "#optim = SGDMomentum(model, lr=0.0001, momentum=0.9)\n",
    "#optim = Adagrad(model, lr=0.05)\n",
    "#optim = RMSprop(model, rho = 0.9, lr=0.05)\n",
    "optim = Adam(model, beta1 = 0.9, beta2 = 0.999, lr= 0.001)\n",
    "for e in range(20):\n",
    "    for i, (val, t) in enumerate(zip(x, y)):\n",
    "        optim.zero_grad()\n",
    "        pred = model.forward(torch.tensor([[val]]))\n",
    "        loss = mse_loss(t, pred)                    # mse или mae - оба работают\n",
    "        grad = d_mse_loss(t, pred)                  # mse или mae - оба работают\n",
    "        model.backward(grad)\n",
    "        optim.step()\n",
    "        \n",
    "    print(e, model.forward(torch.tensor([[1.]])), model.forward(torch.tensor([[2.]])), model.forward(torch.tensor([[-1.]])), model.forward(torch.tensor([[-2.]])))"
   ]
  },
  {
   "cell_type": "markdown",
   "metadata": {},
   "source": [
    "Оптимизатор Adam показал наилучший результат"
   ]
  },
  {
   "cell_type": "markdown",
   "metadata": {},
   "source": [
    "# Задание 3\n",
    "Решить задачу нахождения корней квадратного уравнения методом градиентного спуска"
   ]
  },
  {
   "cell_type": "code",
   "execution_count": 184,
   "metadata": {},
   "outputs": [],
   "source": [
    "import numpy as np\n",
    "import pandas as pd\n",
    "import plotly.graph_objs as go\n",
    "import plotly.express as px"
   ]
  },
  {
   "cell_type": "markdown",
   "metadata": {},
   "source": [
    "## Уравнение\n",
    "$ x^2 - 6x + 4 = 0 $"
   ]
  },
  {
   "cell_type": "code",
   "execution_count": 181,
   "metadata": {},
   "outputs": [],
   "source": [
    "# возвести в квадрат\n",
    "# посчитать производную\n",
    "# надо начать движение от начальной точки в направлении антиградиента с заданным шагом\n",
    "# x = x - lr * grad(x)\n",
    "# всегда ли сойдемся за приемлемое количество шагов?\n",
    "# важна ли начальная точка?\n",
    "# как найти второй корень?\n",
    "# как вляет ЛР?"
   ]
  },
  {
   "cell_type": "markdown",
   "metadata": {},
   "source": [
    "Посмотрим, в каких точках график равен 0"
   ]
  },
  {
   "cell_type": "code",
   "execution_count": 185,
   "metadata": {},
   "outputs": [
    {
     "data": {
      "application/vnd.plotly.v1+json": {
       "config": {
        "plotlyServerURL": "https://plot.ly"
       },
       "data": [
        {
         "hovertemplate": "plot=function<br>x=%{x}<br>f(x)=%{y}<extra></extra>",
         "legendgroup": "function",
         "line": {
          "color": "#636efa",
          "dash": "solid"
         },
         "marker": {
          "symbol": "circle"
         },
         "mode": "lines",
         "name": "function",
         "orientation": "v",
         "showlegend": true,
         "type": "scatter",
         "x": [
          -1,
          -0.9191919191919192,
          -0.8383838383838383,
          -0.7575757575757576,
          -0.6767676767676767,
          -0.5959595959595959,
          -0.5151515151515151,
          -0.43434343434343425,
          -0.3535353535353535,
          -0.2727272727272727,
          -0.19191919191919182,
          -0.11111111111111105,
          -0.030303030303030276,
          0.05050505050505061,
          0.1313131313131315,
          0.21212121212121215,
          0.29292929292929304,
          0.3737373737373739,
          0.4545454545454546,
          0.5353535353535355,
          0.6161616161616164,
          0.696969696969697,
          0.7777777777777779,
          0.8585858585858588,
          0.9393939393939394,
          1.0202020202020203,
          1.1010101010101012,
          1.181818181818182,
          1.262626262626263,
          1.3434343434343434,
          1.4242424242424243,
          1.5050505050505052,
          1.585858585858586,
          1.666666666666667,
          1.7474747474747478,
          1.8282828282828287,
          1.9090909090909092,
          1.98989898989899,
          2.070707070707071,
          2.151515151515152,
          2.2323232323232327,
          2.3131313131313136,
          2.393939393939394,
          2.474747474747475,
          2.555555555555556,
          2.6363636363636367,
          2.7171717171717176,
          2.7979797979797985,
          2.878787878787879,
          2.95959595959596,
          3.0404040404040407,
          3.121212121212122,
          3.2020202020202024,
          3.282828282828283,
          3.363636363636364,
          3.4444444444444446,
          3.525252525252526,
          3.6060606060606064,
          3.686868686868687,
          3.767676767676768,
          3.8484848484848486,
          3.92929292929293,
          4.01010101010101,
          4.090909090909092,
          4.171717171717172,
          4.252525252525253,
          4.333333333333334,
          4.414141414141414,
          4.494949494949496,
          4.575757575757576,
          4.6565656565656575,
          4.737373737373738,
          4.818181818181818,
          4.8989898989899,
          4.97979797979798,
          5.060606060606061,
          5.141414141414142,
          5.222222222222222,
          5.303030303030304,
          5.383838383838384,
          5.464646464646465,
          5.545454545454546,
          5.626262626262627,
          5.707070707070708,
          5.787878787878788,
          5.868686868686869,
          5.94949494949495,
          6.030303030303031,
          6.111111111111112,
          6.191919191919193,
          6.272727272727273,
          6.353535353535354,
          6.434343434343435,
          6.515151515151516,
          6.595959595959597,
          6.676767676767677,
          6.757575757575758,
          6.838383838383839,
          6.91919191919192,
          7
         ],
         "xaxis": "x",
         "y": [
          11,
          10.36006529945924,
          9.733190490766248,
          9.119375573921028,
          8.518620548923579,
          7.9309254157739,
          7.356290174471992,
          6.794714825017855,
          6.246199367411489,
          5.710743801652892,
          5.188348127742066,
          4.679012345679012,
          4.182736455463728,
          3.699520457096214,
          3.229364350576471,
          2.7722681359044996,
          2.328231813080297,
          1.8972553821038658,
          1.4793388429752063,
          1.0744821956943165,
          0.682685440261197,
          0.3039485766758494,
          -0.06172839506172956,
          -0.41434547495153584,
          -0.7539026629935721,
          -1.0803999591878384,
          -1.3938373635343337,
          -1.694214876033059,
          -1.9815324966840127,
          -2.2557902254871953,
          -2.516988062442609,
          -2.7651260075502506,
          -3.0002040608101215,
          -3.222222222222223,
          -3.431180491786554,
          -3.627078869503113,
          -3.8099173553719012,
          -3.9796959493929203,
          -4.136414651566167,
          -4.280073461891643,
          -4.410672380369352,
          -4.5282114069992865,
          -4.63269054178145,
          -4.724109784715846,
          -4.80246913580247,
          -4.867768595041323,
          -4.920008162432405,
          -4.9591878379757155,
          -4.985307621671257,
          -4.998367513519028,
          -4.998367513519026,
          -4.985307621671259,
          -4.959187837975717,
          -4.920008162432403,
          -4.8677685950413245,
          -4.802469135802468,
          -4.724109784715845,
          -4.632690541781452,
          -4.5282114069992865,
          -4.41067238036935,
          -4.280073461891645,
          -4.136414651566163,
          -3.9796959493929194,
          -3.8099173553718977,
          -3.6270788695031086,
          -3.4311804917865523,
          -3.2222222222222214,
          -3.0002040608101197,
          -2.7651260075502506,
          -2.516988062442607,
          -2.2557902254871927,
          -1.9815324966840109,
          -1.6942148760330582,
          -1.393837363534331,
          -1.0803999591878402,
          -0.7539026629935677,
          -0.41434547495153495,
          -0.061728395061731334,
          0.30394857667585384,
          0.6826854402611993,
          1.0744821956943156,
          1.47933884297521,
          1.8972553821038716,
          2.3282318130803006,
          2.772268135904504,
          3.229364350576475,
          3.699520457096213,
          4.182736455463733,
          4.679012345679013,
          5.188348127742074,
          5.710743801652896,
          6.246199367411492,
          6.794714825017863,
          7.356290174471994,
          7.930925415773913,
          8.518620548923586,
          9.119375573921033,
          9.733190490766255,
          10.360065299459244,
          11
         ],
         "yaxis": "y"
        },
        {
         "hovertemplate": "plot=line<br>x=%{x}<br>f(x)=%{y}<extra></extra>",
         "legendgroup": "line",
         "line": {
          "color": "#EF553B",
          "dash": "solid"
         },
         "marker": {
          "symbol": "circle"
         },
         "mode": "lines",
         "name": "line",
         "orientation": "v",
         "showlegend": true,
         "type": "scatter",
         "x": [
          -1,
          -0.9191919191919192,
          -0.8383838383838383,
          -0.7575757575757576,
          -0.6767676767676767,
          -0.5959595959595959,
          -0.5151515151515151,
          -0.43434343434343425,
          -0.3535353535353535,
          -0.2727272727272727,
          -0.19191919191919182,
          -0.11111111111111105,
          -0.030303030303030276,
          0.05050505050505061,
          0.1313131313131315,
          0.21212121212121215,
          0.29292929292929304,
          0.3737373737373739,
          0.4545454545454546,
          0.5353535353535355,
          0.6161616161616164,
          0.696969696969697,
          0.7777777777777779,
          0.8585858585858588,
          0.9393939393939394,
          1.0202020202020203,
          1.1010101010101012,
          1.181818181818182,
          1.262626262626263,
          1.3434343434343434,
          1.4242424242424243,
          1.5050505050505052,
          1.585858585858586,
          1.666666666666667,
          1.7474747474747478,
          1.8282828282828287,
          1.9090909090909092,
          1.98989898989899,
          2.070707070707071,
          2.151515151515152,
          2.2323232323232327,
          2.3131313131313136,
          2.393939393939394,
          2.474747474747475,
          2.555555555555556,
          2.6363636363636367,
          2.7171717171717176,
          2.7979797979797985,
          2.878787878787879,
          2.95959595959596,
          3.0404040404040407,
          3.121212121212122,
          3.2020202020202024,
          3.282828282828283,
          3.363636363636364,
          3.4444444444444446,
          3.525252525252526,
          3.6060606060606064,
          3.686868686868687,
          3.767676767676768,
          3.8484848484848486,
          3.92929292929293,
          4.01010101010101,
          4.090909090909092,
          4.171717171717172,
          4.252525252525253,
          4.333333333333334,
          4.414141414141414,
          4.494949494949496,
          4.575757575757576,
          4.6565656565656575,
          4.737373737373738,
          4.818181818181818,
          4.8989898989899,
          4.97979797979798,
          5.060606060606061,
          5.141414141414142,
          5.222222222222222,
          5.303030303030304,
          5.383838383838384,
          5.464646464646465,
          5.545454545454546,
          5.626262626262627,
          5.707070707070708,
          5.787878787878788,
          5.868686868686869,
          5.94949494949495,
          6.030303030303031,
          6.111111111111112,
          6.191919191919193,
          6.272727272727273,
          6.353535353535354,
          6.434343434343435,
          6.515151515151516,
          6.595959595959597,
          6.676767676767677,
          6.757575757575758,
          6.838383838383839,
          6.91919191919192,
          7
         ],
         "xaxis": "x",
         "y": [
          0,
          0,
          0,
          0,
          0,
          0,
          0,
          0,
          0,
          0,
          0,
          0,
          0,
          0,
          0,
          0,
          0,
          0,
          0,
          0,
          0,
          0,
          0,
          0,
          0,
          0,
          0,
          0,
          0,
          0,
          0,
          0,
          0,
          0,
          0,
          0,
          0,
          0,
          0,
          0,
          0,
          0,
          0,
          0,
          0,
          0,
          0,
          0,
          0,
          0,
          0,
          0,
          0,
          0,
          0,
          0,
          0,
          0,
          0,
          0,
          0,
          0,
          0,
          0,
          0,
          0,
          0,
          0,
          0,
          0,
          0,
          0,
          0,
          0,
          0,
          0,
          0,
          0,
          0,
          0,
          0,
          0,
          0,
          0,
          0,
          0,
          0,
          0,
          0,
          0,
          0,
          0,
          0,
          0,
          0,
          0,
          0,
          0,
          0,
          0
         ],
         "yaxis": "y"
        }
       ],
       "layout": {
        "legend": {
         "title": {
          "text": "plot"
         },
         "tracegroupgap": 0
        },
        "template": {
         "data": {
          "bar": [
           {
            "error_x": {
             "color": "#2a3f5f"
            },
            "error_y": {
             "color": "#2a3f5f"
            },
            "marker": {
             "line": {
              "color": "#E5ECF6",
              "width": 0.5
             },
             "pattern": {
              "fillmode": "overlay",
              "size": 10,
              "solidity": 0.2
             }
            },
            "type": "bar"
           }
          ],
          "barpolar": [
           {
            "marker": {
             "line": {
              "color": "#E5ECF6",
              "width": 0.5
             },
             "pattern": {
              "fillmode": "overlay",
              "size": 10,
              "solidity": 0.2
             }
            },
            "type": "barpolar"
           }
          ],
          "carpet": [
           {
            "aaxis": {
             "endlinecolor": "#2a3f5f",
             "gridcolor": "white",
             "linecolor": "white",
             "minorgridcolor": "white",
             "startlinecolor": "#2a3f5f"
            },
            "baxis": {
             "endlinecolor": "#2a3f5f",
             "gridcolor": "white",
             "linecolor": "white",
             "minorgridcolor": "white",
             "startlinecolor": "#2a3f5f"
            },
            "type": "carpet"
           }
          ],
          "choropleth": [
           {
            "colorbar": {
             "outlinewidth": 0,
             "ticks": ""
            },
            "type": "choropleth"
           }
          ],
          "contour": [
           {
            "colorbar": {
             "outlinewidth": 0,
             "ticks": ""
            },
            "colorscale": [
             [
              0,
              "#0d0887"
             ],
             [
              0.1111111111111111,
              "#46039f"
             ],
             [
              0.2222222222222222,
              "#7201a8"
             ],
             [
              0.3333333333333333,
              "#9c179e"
             ],
             [
              0.4444444444444444,
              "#bd3786"
             ],
             [
              0.5555555555555556,
              "#d8576b"
             ],
             [
              0.6666666666666666,
              "#ed7953"
             ],
             [
              0.7777777777777778,
              "#fb9f3a"
             ],
             [
              0.8888888888888888,
              "#fdca26"
             ],
             [
              1,
              "#f0f921"
             ]
            ],
            "type": "contour"
           }
          ],
          "contourcarpet": [
           {
            "colorbar": {
             "outlinewidth": 0,
             "ticks": ""
            },
            "type": "contourcarpet"
           }
          ],
          "heatmap": [
           {
            "colorbar": {
             "outlinewidth": 0,
             "ticks": ""
            },
            "colorscale": [
             [
              0,
              "#0d0887"
             ],
             [
              0.1111111111111111,
              "#46039f"
             ],
             [
              0.2222222222222222,
              "#7201a8"
             ],
             [
              0.3333333333333333,
              "#9c179e"
             ],
             [
              0.4444444444444444,
              "#bd3786"
             ],
             [
              0.5555555555555556,
              "#d8576b"
             ],
             [
              0.6666666666666666,
              "#ed7953"
             ],
             [
              0.7777777777777778,
              "#fb9f3a"
             ],
             [
              0.8888888888888888,
              "#fdca26"
             ],
             [
              1,
              "#f0f921"
             ]
            ],
            "type": "heatmap"
           }
          ],
          "heatmapgl": [
           {
            "colorbar": {
             "outlinewidth": 0,
             "ticks": ""
            },
            "colorscale": [
             [
              0,
              "#0d0887"
             ],
             [
              0.1111111111111111,
              "#46039f"
             ],
             [
              0.2222222222222222,
              "#7201a8"
             ],
             [
              0.3333333333333333,
              "#9c179e"
             ],
             [
              0.4444444444444444,
              "#bd3786"
             ],
             [
              0.5555555555555556,
              "#d8576b"
             ],
             [
              0.6666666666666666,
              "#ed7953"
             ],
             [
              0.7777777777777778,
              "#fb9f3a"
             ],
             [
              0.8888888888888888,
              "#fdca26"
             ],
             [
              1,
              "#f0f921"
             ]
            ],
            "type": "heatmapgl"
           }
          ],
          "histogram": [
           {
            "marker": {
             "pattern": {
              "fillmode": "overlay",
              "size": 10,
              "solidity": 0.2
             }
            },
            "type": "histogram"
           }
          ],
          "histogram2d": [
           {
            "colorbar": {
             "outlinewidth": 0,
             "ticks": ""
            },
            "colorscale": [
             [
              0,
              "#0d0887"
             ],
             [
              0.1111111111111111,
              "#46039f"
             ],
             [
              0.2222222222222222,
              "#7201a8"
             ],
             [
              0.3333333333333333,
              "#9c179e"
             ],
             [
              0.4444444444444444,
              "#bd3786"
             ],
             [
              0.5555555555555556,
              "#d8576b"
             ],
             [
              0.6666666666666666,
              "#ed7953"
             ],
             [
              0.7777777777777778,
              "#fb9f3a"
             ],
             [
              0.8888888888888888,
              "#fdca26"
             ],
             [
              1,
              "#f0f921"
             ]
            ],
            "type": "histogram2d"
           }
          ],
          "histogram2dcontour": [
           {
            "colorbar": {
             "outlinewidth": 0,
             "ticks": ""
            },
            "colorscale": [
             [
              0,
              "#0d0887"
             ],
             [
              0.1111111111111111,
              "#46039f"
             ],
             [
              0.2222222222222222,
              "#7201a8"
             ],
             [
              0.3333333333333333,
              "#9c179e"
             ],
             [
              0.4444444444444444,
              "#bd3786"
             ],
             [
              0.5555555555555556,
              "#d8576b"
             ],
             [
              0.6666666666666666,
              "#ed7953"
             ],
             [
              0.7777777777777778,
              "#fb9f3a"
             ],
             [
              0.8888888888888888,
              "#fdca26"
             ],
             [
              1,
              "#f0f921"
             ]
            ],
            "type": "histogram2dcontour"
           }
          ],
          "mesh3d": [
           {
            "colorbar": {
             "outlinewidth": 0,
             "ticks": ""
            },
            "type": "mesh3d"
           }
          ],
          "parcoords": [
           {
            "line": {
             "colorbar": {
              "outlinewidth": 0,
              "ticks": ""
             }
            },
            "type": "parcoords"
           }
          ],
          "pie": [
           {
            "automargin": true,
            "type": "pie"
           }
          ],
          "scatter": [
           {
            "fillpattern": {
             "fillmode": "overlay",
             "size": 10,
             "solidity": 0.2
            },
            "type": "scatter"
           }
          ],
          "scatter3d": [
           {
            "line": {
             "colorbar": {
              "outlinewidth": 0,
              "ticks": ""
             }
            },
            "marker": {
             "colorbar": {
              "outlinewidth": 0,
              "ticks": ""
             }
            },
            "type": "scatter3d"
           }
          ],
          "scattercarpet": [
           {
            "marker": {
             "colorbar": {
              "outlinewidth": 0,
              "ticks": ""
             }
            },
            "type": "scattercarpet"
           }
          ],
          "scattergeo": [
           {
            "marker": {
             "colorbar": {
              "outlinewidth": 0,
              "ticks": ""
             }
            },
            "type": "scattergeo"
           }
          ],
          "scattergl": [
           {
            "marker": {
             "colorbar": {
              "outlinewidth": 0,
              "ticks": ""
             }
            },
            "type": "scattergl"
           }
          ],
          "scattermapbox": [
           {
            "marker": {
             "colorbar": {
              "outlinewidth": 0,
              "ticks": ""
             }
            },
            "type": "scattermapbox"
           }
          ],
          "scatterpolar": [
           {
            "marker": {
             "colorbar": {
              "outlinewidth": 0,
              "ticks": ""
             }
            },
            "type": "scatterpolar"
           }
          ],
          "scatterpolargl": [
           {
            "marker": {
             "colorbar": {
              "outlinewidth": 0,
              "ticks": ""
             }
            },
            "type": "scatterpolargl"
           }
          ],
          "scatterternary": [
           {
            "marker": {
             "colorbar": {
              "outlinewidth": 0,
              "ticks": ""
             }
            },
            "type": "scatterternary"
           }
          ],
          "surface": [
           {
            "colorbar": {
             "outlinewidth": 0,
             "ticks": ""
            },
            "colorscale": [
             [
              0,
              "#0d0887"
             ],
             [
              0.1111111111111111,
              "#46039f"
             ],
             [
              0.2222222222222222,
              "#7201a8"
             ],
             [
              0.3333333333333333,
              "#9c179e"
             ],
             [
              0.4444444444444444,
              "#bd3786"
             ],
             [
              0.5555555555555556,
              "#d8576b"
             ],
             [
              0.6666666666666666,
              "#ed7953"
             ],
             [
              0.7777777777777778,
              "#fb9f3a"
             ],
             [
              0.8888888888888888,
              "#fdca26"
             ],
             [
              1,
              "#f0f921"
             ]
            ],
            "type": "surface"
           }
          ],
          "table": [
           {
            "cells": {
             "fill": {
              "color": "#EBF0F8"
             },
             "line": {
              "color": "white"
             }
            },
            "header": {
             "fill": {
              "color": "#C8D4E3"
             },
             "line": {
              "color": "white"
             }
            },
            "type": "table"
           }
          ]
         },
         "layout": {
          "annotationdefaults": {
           "arrowcolor": "#2a3f5f",
           "arrowhead": 0,
           "arrowwidth": 1
          },
          "autotypenumbers": "strict",
          "coloraxis": {
           "colorbar": {
            "outlinewidth": 0,
            "ticks": ""
           }
          },
          "colorscale": {
           "diverging": [
            [
             0,
             "#8e0152"
            ],
            [
             0.1,
             "#c51b7d"
            ],
            [
             0.2,
             "#de77ae"
            ],
            [
             0.3,
             "#f1b6da"
            ],
            [
             0.4,
             "#fde0ef"
            ],
            [
             0.5,
             "#f7f7f7"
            ],
            [
             0.6,
             "#e6f5d0"
            ],
            [
             0.7,
             "#b8e186"
            ],
            [
             0.8,
             "#7fbc41"
            ],
            [
             0.9,
             "#4d9221"
            ],
            [
             1,
             "#276419"
            ]
           ],
           "sequential": [
            [
             0,
             "#0d0887"
            ],
            [
             0.1111111111111111,
             "#46039f"
            ],
            [
             0.2222222222222222,
             "#7201a8"
            ],
            [
             0.3333333333333333,
             "#9c179e"
            ],
            [
             0.4444444444444444,
             "#bd3786"
            ],
            [
             0.5555555555555556,
             "#d8576b"
            ],
            [
             0.6666666666666666,
             "#ed7953"
            ],
            [
             0.7777777777777778,
             "#fb9f3a"
            ],
            [
             0.8888888888888888,
             "#fdca26"
            ],
            [
             1,
             "#f0f921"
            ]
           ],
           "sequentialminus": [
            [
             0,
             "#0d0887"
            ],
            [
             0.1111111111111111,
             "#46039f"
            ],
            [
             0.2222222222222222,
             "#7201a8"
            ],
            [
             0.3333333333333333,
             "#9c179e"
            ],
            [
             0.4444444444444444,
             "#bd3786"
            ],
            [
             0.5555555555555556,
             "#d8576b"
            ],
            [
             0.6666666666666666,
             "#ed7953"
            ],
            [
             0.7777777777777778,
             "#fb9f3a"
            ],
            [
             0.8888888888888888,
             "#fdca26"
            ],
            [
             1,
             "#f0f921"
            ]
           ]
          },
          "colorway": [
           "#636efa",
           "#EF553B",
           "#00cc96",
           "#ab63fa",
           "#FFA15A",
           "#19d3f3",
           "#FF6692",
           "#B6E880",
           "#FF97FF",
           "#FECB52"
          ],
          "font": {
           "color": "#2a3f5f"
          },
          "geo": {
           "bgcolor": "white",
           "lakecolor": "white",
           "landcolor": "#E5ECF6",
           "showlakes": true,
           "showland": true,
           "subunitcolor": "white"
          },
          "hoverlabel": {
           "align": "left"
          },
          "hovermode": "closest",
          "mapbox": {
           "style": "light"
          },
          "paper_bgcolor": "white",
          "plot_bgcolor": "#E5ECF6",
          "polar": {
           "angularaxis": {
            "gridcolor": "white",
            "linecolor": "white",
            "ticks": ""
           },
           "bgcolor": "#E5ECF6",
           "radialaxis": {
            "gridcolor": "white",
            "linecolor": "white",
            "ticks": ""
           }
          },
          "scene": {
           "xaxis": {
            "backgroundcolor": "#E5ECF6",
            "gridcolor": "white",
            "gridwidth": 2,
            "linecolor": "white",
            "showbackground": true,
            "ticks": "",
            "zerolinecolor": "white"
           },
           "yaxis": {
            "backgroundcolor": "#E5ECF6",
            "gridcolor": "white",
            "gridwidth": 2,
            "linecolor": "white",
            "showbackground": true,
            "ticks": "",
            "zerolinecolor": "white"
           },
           "zaxis": {
            "backgroundcolor": "#E5ECF6",
            "gridcolor": "white",
            "gridwidth": 2,
            "linecolor": "white",
            "showbackground": true,
            "ticks": "",
            "zerolinecolor": "white"
           }
          },
          "shapedefaults": {
           "line": {
            "color": "#2a3f5f"
           }
          },
          "ternary": {
           "aaxis": {
            "gridcolor": "white",
            "linecolor": "white",
            "ticks": ""
           },
           "baxis": {
            "gridcolor": "white",
            "linecolor": "white",
            "ticks": ""
           },
           "bgcolor": "#E5ECF6",
           "caxis": {
            "gridcolor": "white",
            "linecolor": "white",
            "ticks": ""
           }
          },
          "title": {
           "x": 0.05
          },
          "xaxis": {
           "automargin": true,
           "gridcolor": "white",
           "linecolor": "white",
           "ticks": "",
           "title": {
            "standoff": 15
           },
           "zerolinecolor": "white",
           "zerolinewidth": 2
          },
          "yaxis": {
           "automargin": true,
           "gridcolor": "white",
           "linecolor": "white",
           "ticks": "",
           "title": {
            "standoff": 15
           },
           "zerolinecolor": "white",
           "zerolinewidth": 2
          }
         }
        },
        "title": {
         "text": "График функции f(x) = x<sup>2</sup> - 6x + 4 и линии, пересекающей ее в точках y=0"
        },
        "xaxis": {
         "anchor": "y",
         "domain": [
          0,
          1
         ],
         "title": {
          "text": "x"
         }
        },
        "yaxis": {
         "anchor": "x",
         "domain": [
          0,
          1
         ],
         "title": {
          "text": "f(x)"
         }
        }
       }
      }
     },
     "metadata": {},
     "output_type": "display_data"
    }
   ],
   "source": [
    "x = np.linspace(-1, 7, 100)\n",
    "y = x ** 2 - 6 * x + 4          # 9 10\n",
    "df = pd.DataFrame(data=y, index=x, columns=['function'])\n",
    "df['line'] = 0\n",
    "fig = px.line(df,\n",
    "              labels={'index':'x', 'value':'f(x)', 'variable':'plot'},\n",
    "              title=\"График функции f(x) = x<sup>2</sup> - 6x + 4 и линии, пересекающей ее в точках y=0\")\n",
    "fig.show()"
   ]
  },
  {
   "cell_type": "markdown",
   "metadata": {},
   "source": [
    "Возведем уравнение в квадрат, так как ищем не минимум, а производную (0 будет минимумом функции)\n",
    "$ (x^2 - 6x + 4)^2 = 0 \\Rightarrow x^4 - 12x^3 + 44x^2 - 48x + 16 = 0 $  "
   ]
  },
  {
   "cell_type": "code",
   "execution_count": 186,
   "metadata": {},
   "outputs": [
    {
     "data": {
      "application/vnd.plotly.v1+json": {
       "config": {
        "plotlyServerURL": "https://plot.ly"
       },
       "data": [
        {
         "hovertemplate": "plot=function<br>x=%{x}<br>f(x)=%{y}<extra></extra>",
         "legendgroup": "function",
         "line": {
          "color": "#636efa",
          "dash": "solid"
         },
         "marker": {
          "symbol": "circle"
         },
         "mode": "lines",
         "name": "function",
         "orientation": "v",
         "showlegend": true,
         "type": "scatter",
         "x": [
          -1,
          -0.9191919191919192,
          -0.8383838383838383,
          -0.7575757575757576,
          -0.6767676767676767,
          -0.5959595959595959,
          -0.5151515151515151,
          -0.43434343434343425,
          -0.3535353535353535,
          -0.2727272727272727,
          -0.19191919191919182,
          -0.11111111111111105,
          -0.030303030303030276,
          0.05050505050505061,
          0.1313131313131315,
          0.21212121212121215,
          0.29292929292929304,
          0.3737373737373739,
          0.4545454545454546,
          0.5353535353535355,
          0.6161616161616164,
          0.696969696969697,
          0.7777777777777779,
          0.8585858585858588,
          0.9393939393939394,
          1.0202020202020203,
          1.1010101010101012,
          1.181818181818182,
          1.262626262626263,
          1.3434343434343434,
          1.4242424242424243,
          1.5050505050505052,
          1.585858585858586,
          1.666666666666667,
          1.7474747474747478,
          1.8282828282828287,
          1.9090909090909092,
          1.98989898989899,
          2.070707070707071,
          2.151515151515152,
          2.2323232323232327,
          2.3131313131313136,
          2.393939393939394,
          2.474747474747475,
          2.555555555555556,
          2.6363636363636367,
          2.7171717171717176,
          2.7979797979797985,
          2.878787878787879,
          2.95959595959596,
          3.0404040404040407,
          3.121212121212122,
          3.2020202020202024,
          3.282828282828283,
          3.363636363636364,
          3.4444444444444446,
          3.525252525252526,
          3.6060606060606064,
          3.686868686868687,
          3.767676767676768,
          3.8484848484848486,
          3.92929292929293,
          4.01010101010101,
          4.090909090909092,
          4.171717171717172,
          4.252525252525253,
          4.333333333333334,
          4.414141414141414,
          4.494949494949496,
          4.575757575757576,
          4.6565656565656575,
          4.737373737373738,
          4.818181818181818,
          4.8989898989899,
          4.97979797979798,
          5.060606060606061,
          5.141414141414142,
          5.222222222222222,
          5.303030303030304,
          5.383838383838384,
          5.464646464646465,
          5.545454545454546,
          5.626262626262627,
          5.707070707070708,
          5.787878787878788,
          5.868686868686869,
          5.94949494949495,
          6.030303030303031,
          6.111111111111112,
          6.191919191919193,
          6.272727272727273,
          6.353535353535354,
          6.434343434343435,
          6.515151515151516,
          6.595959595959597,
          6.676767676767677,
          6.757575757575758,
          6.838383838383839,
          6.91919191919192,
          7
         ],
         "xaxis": "x",
         "y": [
          121,
          107.33095300905947,
          94.7349971295425,
          83.16301085822748,
          72.56689605654306,
          62.89957795056841,
          54.11500513103317,
          46.16814955331742,
          39.01500653745168,
          32.61259476811693,
          26.918956294644605,
          21.893156531016608,
          17.495284255865272,
          13.68645161247338,
          10.428794108774191,
          7.685470617351409,
          5.420663375439167,
          3.5995779849220857,
          2.1884434123352223,
          1.1545119888640794,
          0.46605941034462445,
          0.0923847372632747,
          0.003810394756896958,
          0.17168217261281382,
          0.5683692252687995,
          1.167264071813083,
          1.9427825959843423,
          2.870364046171714,
          3.9264710354147767,
          5.088589541403572,
          6.335228906478599,
          7.645921837630788,
          9.001224406501542,
          10.382716049382722,
          11.772999567216619,
          13.15570112559598,
          14.515470254764022,
          15.837979849614417,
          17.109926169691253,
          18.319028839189112,
          19.454030846953046,
          20.50469854647846,
          21.461821655911304,
          22.317213258048,
          23.063709800335324,
          23.695171094870574,
          24.206480318401486,
          24.59354401232625,
          24.853292082693528,
          24.983677800202393,
          24.983677800202376,
          24.853292082693546,
          24.59354401232627,
          24.206480318401468,
          23.69517109487059,
          23.063709800335307,
          22.317213258047985,
          21.461821655911322,
          20.50469854647846,
          19.454030846953028,
          18.31902883918913,
          17.10992616969122,
          15.83797984961441,
          14.515470254763995,
          13.155701125595948,
          11.772999567216607,
          10.382716049382712,
          9.001224406501532,
          7.645921837630788,
          6.335228906478589,
          5.088589541403559,
          3.9264710354147696,
          2.870364046171711,
          1.942782595984335,
          1.1672640718130867,
          0.5683692252687929,
          0.17168217261281307,
          0.0038103947568971772,
          0.09238473726327741,
          0.46605941034462744,
          1.1545119888640776,
          2.1884434123352325,
          3.599577984922108,
          5.420663375439184,
          7.6854706173514336,
          10.428794108774218,
          13.686451612473373,
          17.49528425586531,
          21.893156531016615,
          26.918956294644687,
          32.61259476811697,
          39.015006537451725,
          46.16814955331753,
          54.11500513103319,
          62.89957795056862,
          72.56689605654317,
          83.16301085822758,
          94.73499712954265,
          107.33095300905956,
          121
         ],
         "yaxis": "y"
        },
        {
         "hovertemplate": "plot=line<br>x=%{x}<br>f(x)=%{y}<extra></extra>",
         "legendgroup": "line",
         "line": {
          "color": "#EF553B",
          "dash": "solid"
         },
         "marker": {
          "symbol": "circle"
         },
         "mode": "lines",
         "name": "line",
         "orientation": "v",
         "showlegend": true,
         "type": "scatter",
         "x": [
          -1,
          -0.9191919191919192,
          -0.8383838383838383,
          -0.7575757575757576,
          -0.6767676767676767,
          -0.5959595959595959,
          -0.5151515151515151,
          -0.43434343434343425,
          -0.3535353535353535,
          -0.2727272727272727,
          -0.19191919191919182,
          -0.11111111111111105,
          -0.030303030303030276,
          0.05050505050505061,
          0.1313131313131315,
          0.21212121212121215,
          0.29292929292929304,
          0.3737373737373739,
          0.4545454545454546,
          0.5353535353535355,
          0.6161616161616164,
          0.696969696969697,
          0.7777777777777779,
          0.8585858585858588,
          0.9393939393939394,
          1.0202020202020203,
          1.1010101010101012,
          1.181818181818182,
          1.262626262626263,
          1.3434343434343434,
          1.4242424242424243,
          1.5050505050505052,
          1.585858585858586,
          1.666666666666667,
          1.7474747474747478,
          1.8282828282828287,
          1.9090909090909092,
          1.98989898989899,
          2.070707070707071,
          2.151515151515152,
          2.2323232323232327,
          2.3131313131313136,
          2.393939393939394,
          2.474747474747475,
          2.555555555555556,
          2.6363636363636367,
          2.7171717171717176,
          2.7979797979797985,
          2.878787878787879,
          2.95959595959596,
          3.0404040404040407,
          3.121212121212122,
          3.2020202020202024,
          3.282828282828283,
          3.363636363636364,
          3.4444444444444446,
          3.525252525252526,
          3.6060606060606064,
          3.686868686868687,
          3.767676767676768,
          3.8484848484848486,
          3.92929292929293,
          4.01010101010101,
          4.090909090909092,
          4.171717171717172,
          4.252525252525253,
          4.333333333333334,
          4.414141414141414,
          4.494949494949496,
          4.575757575757576,
          4.6565656565656575,
          4.737373737373738,
          4.818181818181818,
          4.8989898989899,
          4.97979797979798,
          5.060606060606061,
          5.141414141414142,
          5.222222222222222,
          5.303030303030304,
          5.383838383838384,
          5.464646464646465,
          5.545454545454546,
          5.626262626262627,
          5.707070707070708,
          5.787878787878788,
          5.868686868686869,
          5.94949494949495,
          6.030303030303031,
          6.111111111111112,
          6.191919191919193,
          6.272727272727273,
          6.353535353535354,
          6.434343434343435,
          6.515151515151516,
          6.595959595959597,
          6.676767676767677,
          6.757575757575758,
          6.838383838383839,
          6.91919191919192,
          7
         ],
         "xaxis": "x",
         "y": [
          0,
          0,
          0,
          0,
          0,
          0,
          0,
          0,
          0,
          0,
          0,
          0,
          0,
          0,
          0,
          0,
          0,
          0,
          0,
          0,
          0,
          0,
          0,
          0,
          0,
          0,
          0,
          0,
          0,
          0,
          0,
          0,
          0,
          0,
          0,
          0,
          0,
          0,
          0,
          0,
          0,
          0,
          0,
          0,
          0,
          0,
          0,
          0,
          0,
          0,
          0,
          0,
          0,
          0,
          0,
          0,
          0,
          0,
          0,
          0,
          0,
          0,
          0,
          0,
          0,
          0,
          0,
          0,
          0,
          0,
          0,
          0,
          0,
          0,
          0,
          0,
          0,
          0,
          0,
          0,
          0,
          0,
          0,
          0,
          0,
          0,
          0,
          0,
          0,
          0,
          0,
          0,
          0,
          0,
          0,
          0,
          0,
          0,
          0,
          0
         ],
         "yaxis": "y"
        }
       ],
       "layout": {
        "legend": {
         "title": {
          "text": "plot"
         },
         "tracegroupgap": 0
        },
        "template": {
         "data": {
          "bar": [
           {
            "error_x": {
             "color": "#2a3f5f"
            },
            "error_y": {
             "color": "#2a3f5f"
            },
            "marker": {
             "line": {
              "color": "#E5ECF6",
              "width": 0.5
             },
             "pattern": {
              "fillmode": "overlay",
              "size": 10,
              "solidity": 0.2
             }
            },
            "type": "bar"
           }
          ],
          "barpolar": [
           {
            "marker": {
             "line": {
              "color": "#E5ECF6",
              "width": 0.5
             },
             "pattern": {
              "fillmode": "overlay",
              "size": 10,
              "solidity": 0.2
             }
            },
            "type": "barpolar"
           }
          ],
          "carpet": [
           {
            "aaxis": {
             "endlinecolor": "#2a3f5f",
             "gridcolor": "white",
             "linecolor": "white",
             "minorgridcolor": "white",
             "startlinecolor": "#2a3f5f"
            },
            "baxis": {
             "endlinecolor": "#2a3f5f",
             "gridcolor": "white",
             "linecolor": "white",
             "minorgridcolor": "white",
             "startlinecolor": "#2a3f5f"
            },
            "type": "carpet"
           }
          ],
          "choropleth": [
           {
            "colorbar": {
             "outlinewidth": 0,
             "ticks": ""
            },
            "type": "choropleth"
           }
          ],
          "contour": [
           {
            "colorbar": {
             "outlinewidth": 0,
             "ticks": ""
            },
            "colorscale": [
             [
              0,
              "#0d0887"
             ],
             [
              0.1111111111111111,
              "#46039f"
             ],
             [
              0.2222222222222222,
              "#7201a8"
             ],
             [
              0.3333333333333333,
              "#9c179e"
             ],
             [
              0.4444444444444444,
              "#bd3786"
             ],
             [
              0.5555555555555556,
              "#d8576b"
             ],
             [
              0.6666666666666666,
              "#ed7953"
             ],
             [
              0.7777777777777778,
              "#fb9f3a"
             ],
             [
              0.8888888888888888,
              "#fdca26"
             ],
             [
              1,
              "#f0f921"
             ]
            ],
            "type": "contour"
           }
          ],
          "contourcarpet": [
           {
            "colorbar": {
             "outlinewidth": 0,
             "ticks": ""
            },
            "type": "contourcarpet"
           }
          ],
          "heatmap": [
           {
            "colorbar": {
             "outlinewidth": 0,
             "ticks": ""
            },
            "colorscale": [
             [
              0,
              "#0d0887"
             ],
             [
              0.1111111111111111,
              "#46039f"
             ],
             [
              0.2222222222222222,
              "#7201a8"
             ],
             [
              0.3333333333333333,
              "#9c179e"
             ],
             [
              0.4444444444444444,
              "#bd3786"
             ],
             [
              0.5555555555555556,
              "#d8576b"
             ],
             [
              0.6666666666666666,
              "#ed7953"
             ],
             [
              0.7777777777777778,
              "#fb9f3a"
             ],
             [
              0.8888888888888888,
              "#fdca26"
             ],
             [
              1,
              "#f0f921"
             ]
            ],
            "type": "heatmap"
           }
          ],
          "heatmapgl": [
           {
            "colorbar": {
             "outlinewidth": 0,
             "ticks": ""
            },
            "colorscale": [
             [
              0,
              "#0d0887"
             ],
             [
              0.1111111111111111,
              "#46039f"
             ],
             [
              0.2222222222222222,
              "#7201a8"
             ],
             [
              0.3333333333333333,
              "#9c179e"
             ],
             [
              0.4444444444444444,
              "#bd3786"
             ],
             [
              0.5555555555555556,
              "#d8576b"
             ],
             [
              0.6666666666666666,
              "#ed7953"
             ],
             [
              0.7777777777777778,
              "#fb9f3a"
             ],
             [
              0.8888888888888888,
              "#fdca26"
             ],
             [
              1,
              "#f0f921"
             ]
            ],
            "type": "heatmapgl"
           }
          ],
          "histogram": [
           {
            "marker": {
             "pattern": {
              "fillmode": "overlay",
              "size": 10,
              "solidity": 0.2
             }
            },
            "type": "histogram"
           }
          ],
          "histogram2d": [
           {
            "colorbar": {
             "outlinewidth": 0,
             "ticks": ""
            },
            "colorscale": [
             [
              0,
              "#0d0887"
             ],
             [
              0.1111111111111111,
              "#46039f"
             ],
             [
              0.2222222222222222,
              "#7201a8"
             ],
             [
              0.3333333333333333,
              "#9c179e"
             ],
             [
              0.4444444444444444,
              "#bd3786"
             ],
             [
              0.5555555555555556,
              "#d8576b"
             ],
             [
              0.6666666666666666,
              "#ed7953"
             ],
             [
              0.7777777777777778,
              "#fb9f3a"
             ],
             [
              0.8888888888888888,
              "#fdca26"
             ],
             [
              1,
              "#f0f921"
             ]
            ],
            "type": "histogram2d"
           }
          ],
          "histogram2dcontour": [
           {
            "colorbar": {
             "outlinewidth": 0,
             "ticks": ""
            },
            "colorscale": [
             [
              0,
              "#0d0887"
             ],
             [
              0.1111111111111111,
              "#46039f"
             ],
             [
              0.2222222222222222,
              "#7201a8"
             ],
             [
              0.3333333333333333,
              "#9c179e"
             ],
             [
              0.4444444444444444,
              "#bd3786"
             ],
             [
              0.5555555555555556,
              "#d8576b"
             ],
             [
              0.6666666666666666,
              "#ed7953"
             ],
             [
              0.7777777777777778,
              "#fb9f3a"
             ],
             [
              0.8888888888888888,
              "#fdca26"
             ],
             [
              1,
              "#f0f921"
             ]
            ],
            "type": "histogram2dcontour"
           }
          ],
          "mesh3d": [
           {
            "colorbar": {
             "outlinewidth": 0,
             "ticks": ""
            },
            "type": "mesh3d"
           }
          ],
          "parcoords": [
           {
            "line": {
             "colorbar": {
              "outlinewidth": 0,
              "ticks": ""
             }
            },
            "type": "parcoords"
           }
          ],
          "pie": [
           {
            "automargin": true,
            "type": "pie"
           }
          ],
          "scatter": [
           {
            "fillpattern": {
             "fillmode": "overlay",
             "size": 10,
             "solidity": 0.2
            },
            "type": "scatter"
           }
          ],
          "scatter3d": [
           {
            "line": {
             "colorbar": {
              "outlinewidth": 0,
              "ticks": ""
             }
            },
            "marker": {
             "colorbar": {
              "outlinewidth": 0,
              "ticks": ""
             }
            },
            "type": "scatter3d"
           }
          ],
          "scattercarpet": [
           {
            "marker": {
             "colorbar": {
              "outlinewidth": 0,
              "ticks": ""
             }
            },
            "type": "scattercarpet"
           }
          ],
          "scattergeo": [
           {
            "marker": {
             "colorbar": {
              "outlinewidth": 0,
              "ticks": ""
             }
            },
            "type": "scattergeo"
           }
          ],
          "scattergl": [
           {
            "marker": {
             "colorbar": {
              "outlinewidth": 0,
              "ticks": ""
             }
            },
            "type": "scattergl"
           }
          ],
          "scattermapbox": [
           {
            "marker": {
             "colorbar": {
              "outlinewidth": 0,
              "ticks": ""
             }
            },
            "type": "scattermapbox"
           }
          ],
          "scatterpolar": [
           {
            "marker": {
             "colorbar": {
              "outlinewidth": 0,
              "ticks": ""
             }
            },
            "type": "scatterpolar"
           }
          ],
          "scatterpolargl": [
           {
            "marker": {
             "colorbar": {
              "outlinewidth": 0,
              "ticks": ""
             }
            },
            "type": "scatterpolargl"
           }
          ],
          "scatterternary": [
           {
            "marker": {
             "colorbar": {
              "outlinewidth": 0,
              "ticks": ""
             }
            },
            "type": "scatterternary"
           }
          ],
          "surface": [
           {
            "colorbar": {
             "outlinewidth": 0,
             "ticks": ""
            },
            "colorscale": [
             [
              0,
              "#0d0887"
             ],
             [
              0.1111111111111111,
              "#46039f"
             ],
             [
              0.2222222222222222,
              "#7201a8"
             ],
             [
              0.3333333333333333,
              "#9c179e"
             ],
             [
              0.4444444444444444,
              "#bd3786"
             ],
             [
              0.5555555555555556,
              "#d8576b"
             ],
             [
              0.6666666666666666,
              "#ed7953"
             ],
             [
              0.7777777777777778,
              "#fb9f3a"
             ],
             [
              0.8888888888888888,
              "#fdca26"
             ],
             [
              1,
              "#f0f921"
             ]
            ],
            "type": "surface"
           }
          ],
          "table": [
           {
            "cells": {
             "fill": {
              "color": "#EBF0F8"
             },
             "line": {
              "color": "white"
             }
            },
            "header": {
             "fill": {
              "color": "#C8D4E3"
             },
             "line": {
              "color": "white"
             }
            },
            "type": "table"
           }
          ]
         },
         "layout": {
          "annotationdefaults": {
           "arrowcolor": "#2a3f5f",
           "arrowhead": 0,
           "arrowwidth": 1
          },
          "autotypenumbers": "strict",
          "coloraxis": {
           "colorbar": {
            "outlinewidth": 0,
            "ticks": ""
           }
          },
          "colorscale": {
           "diverging": [
            [
             0,
             "#8e0152"
            ],
            [
             0.1,
             "#c51b7d"
            ],
            [
             0.2,
             "#de77ae"
            ],
            [
             0.3,
             "#f1b6da"
            ],
            [
             0.4,
             "#fde0ef"
            ],
            [
             0.5,
             "#f7f7f7"
            ],
            [
             0.6,
             "#e6f5d0"
            ],
            [
             0.7,
             "#b8e186"
            ],
            [
             0.8,
             "#7fbc41"
            ],
            [
             0.9,
             "#4d9221"
            ],
            [
             1,
             "#276419"
            ]
           ],
           "sequential": [
            [
             0,
             "#0d0887"
            ],
            [
             0.1111111111111111,
             "#46039f"
            ],
            [
             0.2222222222222222,
             "#7201a8"
            ],
            [
             0.3333333333333333,
             "#9c179e"
            ],
            [
             0.4444444444444444,
             "#bd3786"
            ],
            [
             0.5555555555555556,
             "#d8576b"
            ],
            [
             0.6666666666666666,
             "#ed7953"
            ],
            [
             0.7777777777777778,
             "#fb9f3a"
            ],
            [
             0.8888888888888888,
             "#fdca26"
            ],
            [
             1,
             "#f0f921"
            ]
           ],
           "sequentialminus": [
            [
             0,
             "#0d0887"
            ],
            [
             0.1111111111111111,
             "#46039f"
            ],
            [
             0.2222222222222222,
             "#7201a8"
            ],
            [
             0.3333333333333333,
             "#9c179e"
            ],
            [
             0.4444444444444444,
             "#bd3786"
            ],
            [
             0.5555555555555556,
             "#d8576b"
            ],
            [
             0.6666666666666666,
             "#ed7953"
            ],
            [
             0.7777777777777778,
             "#fb9f3a"
            ],
            [
             0.8888888888888888,
             "#fdca26"
            ],
            [
             1,
             "#f0f921"
            ]
           ]
          },
          "colorway": [
           "#636efa",
           "#EF553B",
           "#00cc96",
           "#ab63fa",
           "#FFA15A",
           "#19d3f3",
           "#FF6692",
           "#B6E880",
           "#FF97FF",
           "#FECB52"
          ],
          "font": {
           "color": "#2a3f5f"
          },
          "geo": {
           "bgcolor": "white",
           "lakecolor": "white",
           "landcolor": "#E5ECF6",
           "showlakes": true,
           "showland": true,
           "subunitcolor": "white"
          },
          "hoverlabel": {
           "align": "left"
          },
          "hovermode": "closest",
          "mapbox": {
           "style": "light"
          },
          "paper_bgcolor": "white",
          "plot_bgcolor": "#E5ECF6",
          "polar": {
           "angularaxis": {
            "gridcolor": "white",
            "linecolor": "white",
            "ticks": ""
           },
           "bgcolor": "#E5ECF6",
           "radialaxis": {
            "gridcolor": "white",
            "linecolor": "white",
            "ticks": ""
           }
          },
          "scene": {
           "xaxis": {
            "backgroundcolor": "#E5ECF6",
            "gridcolor": "white",
            "gridwidth": 2,
            "linecolor": "white",
            "showbackground": true,
            "ticks": "",
            "zerolinecolor": "white"
           },
           "yaxis": {
            "backgroundcolor": "#E5ECF6",
            "gridcolor": "white",
            "gridwidth": 2,
            "linecolor": "white",
            "showbackground": true,
            "ticks": "",
            "zerolinecolor": "white"
           },
           "zaxis": {
            "backgroundcolor": "#E5ECF6",
            "gridcolor": "white",
            "gridwidth": 2,
            "linecolor": "white",
            "showbackground": true,
            "ticks": "",
            "zerolinecolor": "white"
           }
          },
          "shapedefaults": {
           "line": {
            "color": "#2a3f5f"
           }
          },
          "ternary": {
           "aaxis": {
            "gridcolor": "white",
            "linecolor": "white",
            "ticks": ""
           },
           "baxis": {
            "gridcolor": "white",
            "linecolor": "white",
            "ticks": ""
           },
           "bgcolor": "#E5ECF6",
           "caxis": {
            "gridcolor": "white",
            "linecolor": "white",
            "ticks": ""
           }
          },
          "title": {
           "x": 0.05
          },
          "xaxis": {
           "automargin": true,
           "gridcolor": "white",
           "linecolor": "white",
           "ticks": "",
           "title": {
            "standoff": 15
           },
           "zerolinecolor": "white",
           "zerolinewidth": 2
          },
          "yaxis": {
           "automargin": true,
           "gridcolor": "white",
           "linecolor": "white",
           "ticks": "",
           "title": {
            "standoff": 15
           },
           "zerolinecolor": "white",
           "zerolinewidth": 2
          }
         }
        },
        "title": {
         "text": "График функции f(x) = (x<sup>2</sup> - 6x + 4)<sup>2</sup> и линии, пересекающей ее в точках y=0"
        },
        "xaxis": {
         "anchor": "y",
         "domain": [
          0,
          1
         ],
         "title": {
          "text": "x"
         }
        },
        "yaxis": {
         "anchor": "x",
         "domain": [
          0,
          1
         ],
         "title": {
          "text": "f(x)"
         }
        }
       }
      }
     },
     "metadata": {},
     "output_type": "display_data"
    }
   ],
   "source": [
    "x = np.linspace(-1, 7, 100)\n",
    "y = (x**2 - 6*x + 4)**2     # или (x**2 - 6*x + 9)**2 (1 корень) или (x**2 - 6*x + 10)**2 (нет корней)\n",
    "df = pd.DataFrame(data=y, index=x, columns=['function'])\n",
    "df['line'] = 0\n",
    "fig = px.line(df,\n",
    "              labels={'index':'x', 'value':'f(x)', 'variable':'plot'},\n",
    "              title=\"График функции f(x) = (x<sup>2</sup> - 6x + 4)<sup>2</sup> и линии, пересекающей ее в точках y=0\")\n",
    "fig.show()"
   ]
  },
  {
   "cell_type": "markdown",
   "metadata": {},
   "source": [
    "В точках, в которых производная равна нулю у функции будут экстремумы (в данном случае минимумы, в которых функция равна нулю)"
   ]
  },
  {
   "cell_type": "markdown",
   "metadata": {},
   "source": [
    "Посчитаем производную  \n",
    "\n",
    "$\\frac{df(x)}{dx} = (x^4 - 12x^3 + 44x^2 - 48x + 16)^{'} = (x^4)^{'} - (12x^3)^{'} + (44x^2)^{'} - (48x)^{'} + (16)^{'} = 4x^3 - 36x^2 + 88x - 48 $"
   ]
  },
  {
   "cell_type": "markdown",
   "metadata": {},
   "source": [
    "## Быстрый вариант решения"
   ]
  },
  {
   "cell_type": "code",
   "execution_count": 198,
   "metadata": {},
   "outputs": [],
   "source": [
    "# функция градиентного спуска\n",
    "def gradient_descent(x, lr=0.001):\n",
    "    grad_x = 4*x**3 - 36*x**2 + 88*x - 48\n",
    "    print(f\"grad x = {grad_x}\")\n",
    "    x = x - lr * grad_x\n",
    "    print(f\"x = {x}\")\n",
    "    return x\n"
   ]
  },
  {
   "cell_type": "code",
   "execution_count": 241,
   "metadata": {},
   "outputs": [],
   "source": [
    "# выбираем начальную точку\n",
    "x = 0"
   ]
  },
  {
   "cell_type": "code",
   "execution_count": 293,
   "metadata": {},
   "outputs": [
    {
     "name": "stdout",
     "output_type": "stream",
     "text": [
      "grad x = -1.8833645754057216e-10\n",
      "x = 0.7639320224973853\n"
     ]
    }
   ],
   "source": [
    "# выполняем шаги градиентного спуска, пока градиент не станет равен нулю или не начнет меняться x\n",
    "x = gradient_descent(x, lr = 0.01)"
   ]
  },
  {
   "cell_type": "code",
   "execution_count": 294,
   "metadata": {},
   "outputs": [
    {
     "data": {
      "text/plain": [
       "1.2633449841814581e-11"
      ]
     },
     "execution_count": 294,
     "metadata": {},
     "output_type": "execute_result"
    }
   ],
   "source": [
    "# проверим корень уравнения\n",
    "y = x**2 - 6*x + 4\n",
    "y"
   ]
  },
  {
   "cell_type": "markdown",
   "metadata": {},
   "source": [
    "Выводы:\n",
    "- для нахожденся двух корней нужно стартовать из разных точек;\n",
    "- если неудачно выбрать начальные точки, то, начав градиентный спуск из разных точек, можно прийти к одному локальному минимуму;\n",
    "- если выбрать большой LR, то градиент не сойдется, если маленький, то шагов будет очень много."
   ]
  },
  {
   "cell_type": "markdown",
   "metadata": {},
   "source": [
    "## Вариант решения для любого квадратного уравнения с визуализацией"
   ]
  },
  {
   "cell_type": "markdown",
   "metadata": {},
   "source": [
    "Напишем библиотеку по поиску x, в которых производная квадрата функции равна нулю (около нуля) - эти x будут корнями уравнения"
   ]
  },
  {
   "cell_type": "code",
   "execution_count": 295,
   "metadata": {},
   "outputs": [],
   "source": [
    "class SolverQuad:\n",
    "    def __init__(self, func='(x**2)-(6*x)+4', deriv_sq='4*(x**3)-36*(x**2)+88*x-48', x1_start=-10, x2_start=10):\n",
    "        self.func = func            # уравнение (функция), для которого ищем корни\n",
    "        self.deriv_sq = deriv_sq    # производная квадрата функции\n",
    "        self.x1 = x1_start          # точка x1, с которой начинаем градиентный спуск\n",
    "        self.x2 = x2_start          # точка x2, с которой начинаем градиентный спуск\n",
    "        self.prec = 1e-6            # значение градиента, которое считаем нулем\n",
    "\n",
    "        # для графиков и выводов\n",
    "        self.x1_iters = 0           # текущее количество итераций градиентного спуска для x1\n",
    "        self.x2_iters = 0           # текущее количество итераций градиентного спуска для x2\n",
    "        self.x1_grad_dict = {}      # значения x1, полученные в ходе градиентного спуска для построения графика\n",
    "        self.x2_grad_dict = {}      # значения x2, полученные в ходе градиентного спуска для построения графика\n",
    "\n",
    "\n",
    "    def grad_x1(self, x1_start=None, LR=0.001, iters=1):\n",
    "        ''' Функция градиентного спуска для x1 '''\n",
    "        \n",
    "        # если задано стартовое значение x1 - устанавливаем текущий x1 и очищаем словарь значений градиента\n",
    "        if x1_start or x1_start==0:\n",
    "            self.x1 = x1_start\n",
    "            self.x1_iters = 0\n",
    "            self.x1_grad_dict = {}\n",
    "        \n",
    "        # добавляем стартовое для цикла x1 и значение квадрата функции в этой точке в словарь\n",
    "        x = self.x1\n",
    "        self.x1_grad_dict[x] = (eval(self.func))**2\n",
    "        # считаем градиент для стартового x1 в цикле\n",
    "        x1_grad = eval(self.deriv_sq)\n",
    "\n",
    "        for i in range(iters):\n",
    "            # если значение градиента в текущем x1 больше нуля (с заданной точностью)\n",
    "            if abs(x1_grad) > self.prec:\n",
    "                self.x1_iters += 1                              # увеличиваем счетчик итераций\n",
    "                self.x1 -= LR*x1_grad                           # обновляем текущий x1 (вычитаем значение градиента, умноженного на learning rate)\n",
    "                x = self.x1\n",
    "                self.x1_grad_dict[x] = (eval(self.func))**2      # добавляем текущий x1 и значение квадрата функции в этой точке в словарь\n",
    "                x1_grad = eval(self.deriv_sq)                   # считаем градиент для текущего x1\n",
    "            # если значение градиента в текущем x1 равно нуля (меньше нуля с заданной точностью) - прерываем цикл\n",
    "            else:\n",
    "                break\n",
    "        \n",
    "        # Строим график квадрата функции с указанием точек x1, полученных в ходе градиентного спуска\n",
    "        self.Visual(self.x1_grad_dict)\n",
    "\n",
    "        # Если значение градиента равно заданному нуля - корень уравнения найден\n",
    "        if abs(x1_grad) < self.prec:\n",
    "            x = self.x1\n",
    "            f_x1 = eval(self.func)\n",
    "            if abs(f_x1) <= self.prec:\n",
    "                print(f\"Корень квадратного уравнения x1 найден за {self.x1_iters} циклов (задана точность градиента {self.prec}). Значение f(x) в этой точке {f_x1}\")\n",
    "            else:\n",
    "                print(f\"Найден локальный минимум x1 за {self.x1_iters} циклов (задана точность градиента {self.prec}), который не является корнем уравнения. Значение f(x) в этой точке {f_x1}\")\n",
    "        else:\n",
    "            print(f\"Выполнено {self.x1_iters} циклов градиентного спуска - корень еще не найден (задана точность градиента {self.prec})\")\n",
    "        return print(f\"x1 = {self.x1}; gradient x1 = {x1_grad}\")    \n",
    "\n",
    "\n",
    "    def grad_x2(self, x2_start=None, LR=0.001, iters=1):\n",
    "        ''' Функция градиентного спуска для x2 '''\n",
    "\n",
    "        # если задано стартовое значение x2 - устанавливаем текущий x2 и очищаем словарь значений градиента\n",
    "        if x2_start or x2_start==0:\n",
    "            self.x2 = x2_start\n",
    "            self.x2_iters = 0\n",
    "            self.x2_grad_dict = {}\n",
    "        \n",
    "        # добавляем стартовое для цикла x2 и значение квадрата функции в этой точке в словарь\n",
    "        x = self.x2\n",
    "        self.x2_grad_dict[x] = (eval(self.func))**2\n",
    "        # считаем градиент для стартового x2 в цикле\n",
    "        x2_grad = eval(self.deriv_sq)\n",
    "\n",
    "        for i in range(iters):\n",
    "            # если значение градиента в текущем x2 больше нуля (с заданной точностью)\n",
    "            if abs(x2_grad) > self.prec:\n",
    "                self.x2_iters += 1                              # увеличиваем счетчик итераций\n",
    "                self.x2 -= LR*x2_grad                           # обновляем текущий x2 (вычитаем значение градиента, умноженного на learning rate)\n",
    "                x = self.x2\n",
    "                self.x2_grad_dict[x] = (eval(self.func))**2      # добавляем текущий x2 и значение квадрата функции в этой точке в словарь\n",
    "                x2_grad = eval(self.deriv_sq)                   # считаем градиент для текущего x2\n",
    "            # если значение градиента в текущем x2 равно нуля (меньше нуля с заданной точностью) - прерываем цикл\n",
    "            else:\n",
    "                break\n",
    "        \n",
    "        # Строим график квадрата функции с указанием точек x2, полученных в ходе градиентного спуска\n",
    "        self.Visual(self.x2_grad_dict)\n",
    "\n",
    "        # Если значение градиента равно заданному нулю - найден минумум квадрата функции\n",
    "        if abs(x2_grad) < self.prec:\n",
    "            x = self.x2\n",
    "            f_x2 = eval(self.func)\n",
    "            if abs(f_x2) <= self.prec:\n",
    "                print(f\"Корень квадратного уравнения x2 найден за {self.x2_iters} циклов (задана точность градиента {self.prec}). Значение f(x) в этой точке {f_x2}\")\n",
    "            else:\n",
    "                print(f\"Найден локальный минимум x2 за {self.x2_iters} циклов (задана точность градиента {self.prec}), который не является корнем уравнения. Значение f(x) в этой точке {f_x2}\")\n",
    "        else:\n",
    "            print(f\"Выполнено {self.x2_iters} циклов градиентного спуска - корень еще не найден (задана точность градиента {self.prec})\")\n",
    "        return print(f\"x1 = {self.x2}; gradient x2 = {x2_grad}\")    \n",
    "\n",
    "\n",
    "    def Visual(self, x_grad_dict):\n",
    "        ''' Функция построения графика квадрата функции с указанием точек x, полученных в ходе градиентного спуска ''' \n",
    " \n",
    "        # берем из словаря, поданного на вход, ключи как x и значения как y для построения точек x, полученных в ходе градиентного спуска\n",
    "        x_grad=list(x_grad_dict.keys())\n",
    "        y_grad=list(x_grad_dict.values())\n",
    "\n",
    "        # берем диапазон x для построения графика квадрата функции, привязанный к полученным в ходе градиентного спуска точкам x, считаем y\n",
    "        x_grad_min = min(x_grad)\n",
    "        x_grad_max = max(x_grad)\n",
    "        x_grad_len = max(x_grad) - min(x_grad)\n",
    "        x_func = np.linspace(x_grad_min - x_grad_len/4, x_grad_max + x_grad_len/4, 100)\n",
    "        x = x_func\n",
    "        y = (eval(self.func))**2\n",
    "        y_func = y\n",
    "\n",
    "        # Строим график квадрата функции с указанием точек x, полученных в ходе градиентного спуска\n",
    "        fig = go.Figure()\n",
    "        fig.add_trace(go.Scatter(x=x_func, y=x_func*0, mode='lines',  name='f(x)=0', marker=dict(color='DarkGray')))\n",
    "        fig.add_trace(go.Scatter(x=x_func, y=y_func, mode='lines',  name='f(x)=x<sup>2</sup>', marker=dict(color='Blue')))\n",
    "        fig.add_trace(go.Scatter(x=x_grad, y=y_grad, mode='markers', name='gradient descent', marker=dict(color='Pink', size=8, line=dict(color='Red', width=1.5))))\n",
    "        fig.update_layout(legend_orientation=\"h\",\n",
    "                          legend=dict(x=.5, xanchor=\"center\"),\n",
    "                          margin=dict(l=0, r=0, t=0, b=0))\n",
    "        fig.show()\n",
    "        return\n",
    "\n",
    "        \n",
    "    def test(self):\n",
    "        \n",
    "        x1 = self.x1\n",
    "        x2 = self.x2\n",
    "        x = self.x1\n",
    "        x1_grad = eval(self.deriv_sq)\n",
    "        f_x1 = eval(self.func)\n",
    "        x = self.x2\n",
    "        x2_grad = eval(self.deriv_sq)\n",
    "        f_x2 = eval(self.func)\n",
    "\n",
    "        # Строим график квадрата функции с указанием точек x1 и x2, полученных в ходе градиентного спуска\n",
    "        \n",
    "        if len(self.x1_grad_dict) != 0 or len(self.x2_grad_dict) != 0:\n",
    "            grad_dict = {**self.x1_grad_dict, **self.x2_grad_dict}\n",
    "            self.Visual(grad_dict)\n",
    "\n",
    "        # Для x1 и x2 градиент не сошелся\n",
    "        if (abs(x1_grad) >= self.prec) and (abs(x2_grad) >= self.prec):\n",
    "            print(\"Для x1 и x2 не завершен градиентный спуск\")\n",
    "\n",
    "        # Для x1 и/или x2 градиент сошелся \n",
    "        else:\n",
    "            \n",
    "            # x1 не равен x2\n",
    "            if abs(abs(x1) - abs(x2)) >= self.prec:\n",
    "                \n",
    "                # Для x1 градиент сошелся \n",
    "                if abs(x1_grad) <= self.prec:\n",
    "                    # Значение функции для x1 равно 0\n",
    "                    if abs(f_x1) <= self.prec:\n",
    "                        print(f\"Корень квадратного уравнения x1 равен {x1:.6f}, f(x1) = {f_x1:.6f}\")\n",
    "                    # Значение функции для x1 не равно 0\n",
    "                    else:\n",
    "                        print(f\"Найден локальный минимум в точке {x1:.6f}, который не является корнем уравнения, f(x1) = {f_x1:.6f}\")\n",
    "                # Для x1 градиент несошелся \n",
    "                else:\n",
    "                    print(\"Для x1 не завершен градиентный спуск\")\n",
    "                \n",
    "                # Для x2 градиент сошелся\n",
    "                if abs(x2_grad) <= self.prec:\n",
    "                    # Значение функции для x2 равно 0\n",
    "                    if abs(f_x2) <= self.prec:\n",
    "                        print(f\"Корень квадратного уравнения x2 равен {x2:.6f}, f(x1) = {f_x2:.6f}\")\n",
    "                    # Значение функции для x2 не равно 0\n",
    "                    else:\n",
    "                        print(f\"Найден локальный минимум в точке {x2:.6f}, который не является корнем уравнения, f(x2) = {f_x2:.6f}\")\n",
    "                # Для x2 градиент несошелся \n",
    "                else:\n",
    "                    print(\"Для x2 не завершен градиентный спуск\")             \n",
    "            \n",
    "            # x1 равен x2\n",
    "            else:\n",
    "                if abs(f_x1) <= self.prec:\n",
    "                    x = self.x1\n",
    "                    print(f\"У квадратного уравнения 1 корень, который равен {self.x1:.6f}, f(x) = {eval(self.func):.6f}\") \n",
    "                elif abs(f_x2) <= self.prec:\n",
    "                    x = self.x2\n",
    "                    print(f\"У квадратного уравнения 1 корень, который равен {self.x2:.6f}, f(x) = {eval(self.func):.6f}\")\n",
    "                else:\n",
    "                    print(f\"Найден локальный минимум в точке {x1:.6f}, который не является корнем уравнения, f(x) = {f_x1:.6f}\")"
   ]
  },
  {
   "cell_type": "markdown",
   "metadata": {},
   "source": [
    "Инициализуруем класс (на вход подаем функцию, ее производную, опционально стартовые точки для поиска корней уравнения)"
   ]
  },
  {
   "cell_type": "code",
   "execution_count": 296,
   "metadata": {},
   "outputs": [],
   "source": [
    "solv = SolverQuad(func='(x**2)-(6*x)+4', deriv_sq='4*x**3 - 36*x**2 + 88*x - 48', x1_start=0, x2_start=6)"
   ]
  },
  {
   "cell_type": "markdown",
   "metadata": {},
   "source": [
    "Подбираем x1 методом градиентного спуска -  на графике можно наблюдать, как x стремится к локальному минимуму"
   ]
  },
  {
   "cell_type": "code",
   "execution_count": 297,
   "metadata": {},
   "outputs": [
    {
     "data": {
      "application/vnd.plotly.v1+json": {
       "config": {
        "plotlyServerURL": "https://plot.ly"
       },
       "data": [
        {
         "marker": {
          "color": "DarkGray"
         },
         "mode": "lines",
         "name": "f(x)=0",
         "type": "scatter",
         "x": [
          -0.19098299949725753,
          -0.1794082722549995,
          -0.16783354501274145,
          -0.15625881777048342,
          -0.1446840905282254,
          -0.13310936328596737,
          -0.12153463604370933,
          -0.10995990880145129,
          -0.09838518155919326,
          -0.08681045431693524,
          -0.0752357270746772,
          -0.06366099983241916,
          -0.05208627259016113,
          -0.040511545347903105,
          -0.02893681810564505,
          -0.017362090863387025,
          -0.005787363621128999,
          0.005787363621129027,
          0.017362090863387053,
          0.028936818105645107,
          0.04051154534790313,
          0.05208627259016116,
          0.06366099983241921,
          0.07523572707467721,
          0.08681045431693526,
          0.09838518155919332,
          0.10995990880145132,
          0.12153463604370937,
          0.13310936328596742,
          0.14468409052822542,
          0.15625881777048348,
          0.16783354501274148,
          0.17940827225499953,
          0.19098299949725758,
          0.20255772673951558,
          0.21413245398177363,
          0.22570718122403163,
          0.2372819084662897,
          0.24885663570854774,
          0.2604313629508057,
          0.27200609019306377,
          0.2835808174353218,
          0.2951555446775799,
          0.3067302719198379,
          0.318304999162096,
          0.32987972640435403,
          0.341454453646612,
          0.35302918088887003,
          0.3646039081311281,
          0.37617863537338614,
          0.3877533626156442,
          0.39932808985790214,
          0.4109028171001602,
          0.42247754434241824,
          0.4340522715846763,
          0.44562699882693435,
          0.4572017260691924,
          0.46877645331145035,
          0.4803511805537084,
          0.49192590779596646,
          0.5035006350382245,
          0.5150753622804826,
          0.5266500895227405,
          0.5382248167649986,
          0.5497995440072566,
          0.5613742712495147,
          0.5729489984917727,
          0.5845237257340307,
          0.5960984529762887,
          0.6076731802185468,
          0.6192479074608048,
          0.6308226347030629,
          0.6423973619453208,
          0.6539720891875789,
          0.6655468164298369,
          0.677121543672095,
          0.688696270914353,
          0.7002709981566111,
          0.711845725398869,
          0.7234204526411271,
          0.7349951798833851,
          0.7465699071256432,
          0.7581446343679012,
          0.7697193616101592,
          0.7812940888524172,
          0.7928688160946753,
          0.8044435433369334,
          0.8160182705791913,
          0.8275929978214495,
          0.8391677250637074,
          0.8507424523059656,
          0.8623171795482235,
          0.8738919067904815,
          0.8854666340327396,
          0.8970413612749976,
          0.9086160885172557,
          0.9201908157595137,
          0.9317655430017716,
          0.9433402702440298,
          0.9549149974862876
         ],
         "y": [
          0,
          0,
          0,
          0,
          0,
          0,
          0,
          0,
          0,
          0,
          0,
          0,
          0,
          0,
          0,
          0,
          0,
          0,
          0,
          0,
          0,
          0,
          0,
          0,
          0,
          0,
          0,
          0,
          0,
          0,
          0,
          0,
          0,
          0,
          0,
          0,
          0,
          0,
          0,
          0,
          0,
          0,
          0,
          0,
          0,
          0,
          0,
          0,
          0,
          0,
          0,
          0,
          0,
          0,
          0,
          0,
          0,
          0,
          0,
          0,
          0,
          0,
          0,
          0,
          0,
          0,
          0,
          0,
          0,
          0,
          0,
          0,
          0,
          0,
          0,
          0,
          0,
          0,
          0,
          0,
          0,
          0,
          0,
          0,
          0,
          0,
          0,
          0,
          0,
          0,
          0,
          0,
          0,
          0,
          0,
          0,
          0,
          0,
          0,
          0
         ]
        },
        {
         "marker": {
          "color": "Blue"
         },
         "mode": "lines",
         "name": "f(x)=x<sup>2</sup>",
         "type": "scatter",
         "x": [
          -0.19098299949725753,
          -0.1794082722549995,
          -0.16783354501274145,
          -0.15625881777048342,
          -0.1446840905282254,
          -0.13310936328596737,
          -0.12153463604370933,
          -0.10995990880145129,
          -0.09838518155919326,
          -0.08681045431693524,
          -0.0752357270746772,
          -0.06366099983241916,
          -0.05208627259016113,
          -0.040511545347903105,
          -0.02893681810564505,
          -0.017362090863387025,
          -0.005787363621128999,
          0.005787363621129027,
          0.017362090863387053,
          0.028936818105645107,
          0.04051154534790313,
          0.05208627259016116,
          0.06366099983241921,
          0.07523572707467721,
          0.08681045431693526,
          0.09838518155919332,
          0.10995990880145132,
          0.12153463604370937,
          0.13310936328596742,
          0.14468409052822542,
          0.15625881777048348,
          0.16783354501274148,
          0.17940827225499953,
          0.19098299949725758,
          0.20255772673951558,
          0.21413245398177363,
          0.22570718122403163,
          0.2372819084662897,
          0.24885663570854774,
          0.2604313629508057,
          0.27200609019306377,
          0.2835808174353218,
          0.2951555446775799,
          0.3067302719198379,
          0.318304999162096,
          0.32987972640435403,
          0.341454453646612,
          0.35302918088887003,
          0.3646039081311281,
          0.37617863537338614,
          0.3877533626156442,
          0.39932808985790214,
          0.4109028171001602,
          0.42247754434241824,
          0.4340522715846763,
          0.44562699882693435,
          0.4572017260691924,
          0.46877645331145035,
          0.4803511805537084,
          0.49192590779596646,
          0.5035006350382245,
          0.5150753622804826,
          0.5266500895227405,
          0.5382248167649986,
          0.5497995440072566,
          0.5613742712495147,
          0.5729489984917727,
          0.5845237257340307,
          0.5960984529762887,
          0.6076731802185468,
          0.6192479074608048,
          0.6308226347030629,
          0.6423973619453208,
          0.6539720891875789,
          0.6655468164298369,
          0.677121543672095,
          0.688696270914353,
          0.7002709981566111,
          0.711845725398869,
          0.7234204526411271,
          0.7349951798833851,
          0.7465699071256432,
          0.7581446343679012,
          0.7697193616101592,
          0.7812940888524172,
          0.7928688160946753,
          0.8044435433369334,
          0.8160182705791913,
          0.8275929978214495,
          0.8391677250637074,
          0.8507424523059656,
          0.8623171795482235,
          0.8738919067904815,
          0.8854666340327396,
          0.8970413612749976,
          0.9086160885172557,
          0.9201908157595137,
          0.9317655430017716,
          0.9433402702440298,
          0.9549149974862876
         ],
         "y": [
          26.856984760685002,
          26.09817160627904,
          25.352930573589305,
          24.621143549374587,
          23.902692851172407,
          23.197461227299094,
          22.505331856849747,
          21.826188349698285,
          21.159914746497346,
          20.506395518678406,
          19.865515568451695,
          19.23716022880624,
          18.62121526350984,
          18.01756686710908,
          17.426101664929327,
          16.846706713074727,
          16.279269498428224,
          15.72367793865153,
          15.179820382185136,
          14.647585608248324,
          14.126862826839156,
          13.617541678734485,
          13.11951223548993,
          12.632664999439902,
          12.156890903697596,
          11.692081312154983,
          11.238128019482827,
          10.794923251130664,
          10.362359663326814,
          9.940330343078383,
          9.52872880817126,
          9.127449007170119,
          8.736385319418401,
          8.35543255503835,
          7.984485954930976,
          7.623441190776087,
          7.27219436503226,
          6.930642010936859,
          6.598681092506032,
          6.276209004534708,
          5.963123572596601,
          5.659323053044202,
          5.3647061330087915,
          5.079171930400426,
          4.802619993907949,
          4.534950302998984,
          4.276063267919941,
          4.025859729696002,
          3.7842409601311475,
          3.551108661808126,
          3.326364968088472,
          3.1099124431125134,
          2.9016540817993417,
          2.7014933098468488,
          2.5093339837316972,
          2.325080390709337,
          2.1486372488139986,
          1.9799097068586986,
          1.8188033444352318,
          1.6652241719141772,
          1.519078630444894,
          1.3802735919555293,
          1.2487163591530095,
          1.1243146655230412,
          1.0069766753301166,
          0.8966109836175086,
          0.7931266162072744,
          0.6964330297002533,
          0.6064401114760658,
          0.5230581796931145,
          0.4461979832885865,
          0.3757707019784497,
          0.31168794625745666,
          0.2538617573991393,
          0.20220460745581367,
          0.15662939925857874,
          0.11704946641731535,
          0.08337857332068714,
          0.05553091513613959,
          0.033421117809900674,
          0.01696423806698168,
          0.006075763411175853,
          0.0006716121250589115,
          0.0006681332699890196,
          0.005982106686106768,
          0.016530742992335402,
          0.032231683586380656,
          0.053003000644729924,
          0.07876319712265484,
          0.10943120675420766,
          0.14492639405222507,
          0.18516855430832313,
          0.23007791359290272,
          0.2795751287551485,
          0.3335812874230232,
          0.3920179080032786,
          0.45480693968144104,
          0.5218707624218241,
          0.5931321869675241,
          0.6685144548404178
         ]
        },
        {
         "marker": {
          "color": "Pink",
          "line": {
           "color": "Red",
           "width": 1.5
          },
          "size": 8
         },
         "mode": "markers",
         "name": "gradient descent",
         "type": "scatter",
         "x": [
          0,
          0.192,
          0.321611169792,
          0.41476625007703916,
          0.484399357402807,
          0.5378607651302856,
          0.5797025409693026,
          0.6129221804005566,
          0.6395864322833308,
          0.6611720257665712,
          0.6787643639640795,
          0.6931796041306268,
          0.7050429480216448,
          0.7148406840679911,
          0.7229558551450462,
          0.7296933568949086,
          0.7352980085527695,
          0.7399678280473663,
          0.7438639578337697,
          0.7471182027127709,
          0.7498388329671164,
          0.7521151059988231,
          0.754020826726344,
          0.7556171769710084,
          0.7569549819780719,
          0.7580765386844751,
          0.7590170993410513,
          0.7598060816905482,
          0.7604680604855805,
          0.7610235829442967,
          0.7614898415842531,
          0.7618812309140888,
          0.7622098091139136,
          0.7624856816840104,
          0.7627173207894695,
          0.7629118314591696,
          0.7630751737520044,
          0.7632123483632988,
          0.7633275518213422,
          0.763424306350707,
          0.7635055686041118,
          0.7635738207483059,
          0.7636311468008588,
          0.7636792966294806,
          0.7637197396243427,
          0.7637537097214127,
          0.7637822431787565,
          0.7638062102780958,
          0.7638263419325819,
          0.7638432520221379,
          0.7638574561444322,
          0.7638693873581404,
          0.7638794094019533,
          0.7638878277947846,
          0.7638948991572906,
          0.7639008390400763,
          0.7639058284980681,
          0.7639100196120538,
          0.763913540126121,
          0.7639164973426396,
          0.763918981393721,
          0.7639210679890133,
          0.7639228207236848,
          0.7639242930170169,
          0.7639255297407403,
          0.7639265685867802,
          0.7639274412161217,
          0.7639281742238285,
          0.7639287899496391,
          0.763929307158852,
          0.7639297416142606,
          0.763930106556571,
          0.7639304131079473,
          0.7639306706109874,
          0.7639308869134592,
          0.7639310686074778,
          0.7639312212304127,
          0.7639313494336493,
          0.7639314571243476,
          0.76393154758452,
          0.7639316235710547,
          0.7639316873997367,
          0.7639317410158245,
          0.7639317860533348,
          0.7639318238848408,
          0.7639318556633041,
          0.7639318823572121,
          0.763931904780094,
          0.763931923615314,
          0.7639319394368985,
          0.7639319527270292,
          0.7639319638907387,
          0.7639319732682546,
          0.7639319811453678,
          0.7639319877621428,
          0.7639319933202338,
          0.7639319979890301
         ],
         "y": [
          16,
          8.322440298496,
          4.725261778121252,
          2.833948489457753,
          1.7642390119101745,
          1.1281193124426045,
          0.7358891056339957,
          0.48740018123076906,
          0.3266719295114023,
          0.22100932899750894,
          0.15064868352246924,
          0.10331103419362013,
          0.07119711243563835,
          0.049263178240422235,
          0.034199118813478945,
          0.02380609956019057,
          0.016608793994279163,
          0.01160907515622473,
          0.008126993789324249,
          0.005696685832080367,
          0.003997435730478668,
          0.0028075688302799722,
          0.0019733537778344667,
          0.0013878796130313235,
          0.0009766220554699155,
          0.000687530688108128,
          0.0004841919050337374,
          0.0003410962642965588,
          0.0002403525622053059,
          0.00016940053646232286,
          0.00011941526832048829,
          0.00008419208560057227,
          0.00005936607614825216,
          0.000041865101323141954,
          0.000029526037851641277,
          0.00002082529335481006,
          0.000014689422833439196,
          0.000010361951435895216,
          0.000007309671636972903,
          0.000005156684434179636,
          0.000003637952226346832,
          0.0000025665809994782178,
          0.0000018107673536949746,
          0.0000012775516944995353,
          9.013659535268861e-7,
          6.359596525202341e-7,
          4.487069570883227e-7,
          3.165921169516862e-7,
          2.2337820436350144e-7,
          1.5761021238308264e-7,
          1.1120653660185038e-7,
          7.846541831360233e-8,
          5.536406481845422e-8,
          3.9064211825624325e-8,
          2.7563309392752815e-8,
          1.944843493697252e-8,
          1.372267571488649e-8,
          9.682637020849623e-9,
          6.8320195098039274e-9,
          4.820643821761583e-9,
          3.4014290069409792e-9,
          2.4000380691076225e-9,
          1.6934607933272075e-9,
          1.1949023392195956e-9,
          8.431209588428425e-10,
          5.949048850469651e-10,
          4.1976413802597833e-10,
          2.96185131950995e-10,
          2.089879660257357e-10,
          1.474617529182713e-10,
          1.0404892044399404e-10,
          7.341686347979117e-11,
          5.1802906404361693e-11,
          3.655211151684725e-11,
          2.5791158484537082e-11,
          1.8198234663627257e-11,
          1.2840670370887052e-11,
          9.06037464169926e-12,
          6.392998939216275e-12,
          4.510899216594187e-12,
          3.1828899911321185e-12,
          2.2458468839029764e-12,
          1.5846693894567176e-12,
          1.1181426172897867e-12,
          7.889613698557327e-13,
          5.566911067851964e-13,
          3.928012233493945e-13,
          2.7716053002797717e-13,
          1.955644625721256e-13,
          1.3799028034340817e-13,
          9.736593909430843e-14,
          6.870140506052784e-14,
          4.847571064414452e-14,
          3.420446074717139e-14,
          2.413466700095146e-14,
          1.702942072988357e-14,
          1.2015959204695608e-14
         ]
        }
       ],
       "layout": {
        "legend": {
         "orientation": "h",
         "x": 0.5,
         "xanchor": "center"
        },
        "margin": {
         "b": 0,
         "l": 0,
         "r": 0,
         "t": 0
        },
        "template": {
         "data": {
          "bar": [
           {
            "error_x": {
             "color": "#2a3f5f"
            },
            "error_y": {
             "color": "#2a3f5f"
            },
            "marker": {
             "line": {
              "color": "#E5ECF6",
              "width": 0.5
             },
             "pattern": {
              "fillmode": "overlay",
              "size": 10,
              "solidity": 0.2
             }
            },
            "type": "bar"
           }
          ],
          "barpolar": [
           {
            "marker": {
             "line": {
              "color": "#E5ECF6",
              "width": 0.5
             },
             "pattern": {
              "fillmode": "overlay",
              "size": 10,
              "solidity": 0.2
             }
            },
            "type": "barpolar"
           }
          ],
          "carpet": [
           {
            "aaxis": {
             "endlinecolor": "#2a3f5f",
             "gridcolor": "white",
             "linecolor": "white",
             "minorgridcolor": "white",
             "startlinecolor": "#2a3f5f"
            },
            "baxis": {
             "endlinecolor": "#2a3f5f",
             "gridcolor": "white",
             "linecolor": "white",
             "minorgridcolor": "white",
             "startlinecolor": "#2a3f5f"
            },
            "type": "carpet"
           }
          ],
          "choropleth": [
           {
            "colorbar": {
             "outlinewidth": 0,
             "ticks": ""
            },
            "type": "choropleth"
           }
          ],
          "contour": [
           {
            "colorbar": {
             "outlinewidth": 0,
             "ticks": ""
            },
            "colorscale": [
             [
              0,
              "#0d0887"
             ],
             [
              0.1111111111111111,
              "#46039f"
             ],
             [
              0.2222222222222222,
              "#7201a8"
             ],
             [
              0.3333333333333333,
              "#9c179e"
             ],
             [
              0.4444444444444444,
              "#bd3786"
             ],
             [
              0.5555555555555556,
              "#d8576b"
             ],
             [
              0.6666666666666666,
              "#ed7953"
             ],
             [
              0.7777777777777778,
              "#fb9f3a"
             ],
             [
              0.8888888888888888,
              "#fdca26"
             ],
             [
              1,
              "#f0f921"
             ]
            ],
            "type": "contour"
           }
          ],
          "contourcarpet": [
           {
            "colorbar": {
             "outlinewidth": 0,
             "ticks": ""
            },
            "type": "contourcarpet"
           }
          ],
          "heatmap": [
           {
            "colorbar": {
             "outlinewidth": 0,
             "ticks": ""
            },
            "colorscale": [
             [
              0,
              "#0d0887"
             ],
             [
              0.1111111111111111,
              "#46039f"
             ],
             [
              0.2222222222222222,
              "#7201a8"
             ],
             [
              0.3333333333333333,
              "#9c179e"
             ],
             [
              0.4444444444444444,
              "#bd3786"
             ],
             [
              0.5555555555555556,
              "#d8576b"
             ],
             [
              0.6666666666666666,
              "#ed7953"
             ],
             [
              0.7777777777777778,
              "#fb9f3a"
             ],
             [
              0.8888888888888888,
              "#fdca26"
             ],
             [
              1,
              "#f0f921"
             ]
            ],
            "type": "heatmap"
           }
          ],
          "heatmapgl": [
           {
            "colorbar": {
             "outlinewidth": 0,
             "ticks": ""
            },
            "colorscale": [
             [
              0,
              "#0d0887"
             ],
             [
              0.1111111111111111,
              "#46039f"
             ],
             [
              0.2222222222222222,
              "#7201a8"
             ],
             [
              0.3333333333333333,
              "#9c179e"
             ],
             [
              0.4444444444444444,
              "#bd3786"
             ],
             [
              0.5555555555555556,
              "#d8576b"
             ],
             [
              0.6666666666666666,
              "#ed7953"
             ],
             [
              0.7777777777777778,
              "#fb9f3a"
             ],
             [
              0.8888888888888888,
              "#fdca26"
             ],
             [
              1,
              "#f0f921"
             ]
            ],
            "type": "heatmapgl"
           }
          ],
          "histogram": [
           {
            "marker": {
             "pattern": {
              "fillmode": "overlay",
              "size": 10,
              "solidity": 0.2
             }
            },
            "type": "histogram"
           }
          ],
          "histogram2d": [
           {
            "colorbar": {
             "outlinewidth": 0,
             "ticks": ""
            },
            "colorscale": [
             [
              0,
              "#0d0887"
             ],
             [
              0.1111111111111111,
              "#46039f"
             ],
             [
              0.2222222222222222,
              "#7201a8"
             ],
             [
              0.3333333333333333,
              "#9c179e"
             ],
             [
              0.4444444444444444,
              "#bd3786"
             ],
             [
              0.5555555555555556,
              "#d8576b"
             ],
             [
              0.6666666666666666,
              "#ed7953"
             ],
             [
              0.7777777777777778,
              "#fb9f3a"
             ],
             [
              0.8888888888888888,
              "#fdca26"
             ],
             [
              1,
              "#f0f921"
             ]
            ],
            "type": "histogram2d"
           }
          ],
          "histogram2dcontour": [
           {
            "colorbar": {
             "outlinewidth": 0,
             "ticks": ""
            },
            "colorscale": [
             [
              0,
              "#0d0887"
             ],
             [
              0.1111111111111111,
              "#46039f"
             ],
             [
              0.2222222222222222,
              "#7201a8"
             ],
             [
              0.3333333333333333,
              "#9c179e"
             ],
             [
              0.4444444444444444,
              "#bd3786"
             ],
             [
              0.5555555555555556,
              "#d8576b"
             ],
             [
              0.6666666666666666,
              "#ed7953"
             ],
             [
              0.7777777777777778,
              "#fb9f3a"
             ],
             [
              0.8888888888888888,
              "#fdca26"
             ],
             [
              1,
              "#f0f921"
             ]
            ],
            "type": "histogram2dcontour"
           }
          ],
          "mesh3d": [
           {
            "colorbar": {
             "outlinewidth": 0,
             "ticks": ""
            },
            "type": "mesh3d"
           }
          ],
          "parcoords": [
           {
            "line": {
             "colorbar": {
              "outlinewidth": 0,
              "ticks": ""
             }
            },
            "type": "parcoords"
           }
          ],
          "pie": [
           {
            "automargin": true,
            "type": "pie"
           }
          ],
          "scatter": [
           {
            "fillpattern": {
             "fillmode": "overlay",
             "size": 10,
             "solidity": 0.2
            },
            "type": "scatter"
           }
          ],
          "scatter3d": [
           {
            "line": {
             "colorbar": {
              "outlinewidth": 0,
              "ticks": ""
             }
            },
            "marker": {
             "colorbar": {
              "outlinewidth": 0,
              "ticks": ""
             }
            },
            "type": "scatter3d"
           }
          ],
          "scattercarpet": [
           {
            "marker": {
             "colorbar": {
              "outlinewidth": 0,
              "ticks": ""
             }
            },
            "type": "scattercarpet"
           }
          ],
          "scattergeo": [
           {
            "marker": {
             "colorbar": {
              "outlinewidth": 0,
              "ticks": ""
             }
            },
            "type": "scattergeo"
           }
          ],
          "scattergl": [
           {
            "marker": {
             "colorbar": {
              "outlinewidth": 0,
              "ticks": ""
             }
            },
            "type": "scattergl"
           }
          ],
          "scattermapbox": [
           {
            "marker": {
             "colorbar": {
              "outlinewidth": 0,
              "ticks": ""
             }
            },
            "type": "scattermapbox"
           }
          ],
          "scatterpolar": [
           {
            "marker": {
             "colorbar": {
              "outlinewidth": 0,
              "ticks": ""
             }
            },
            "type": "scatterpolar"
           }
          ],
          "scatterpolargl": [
           {
            "marker": {
             "colorbar": {
              "outlinewidth": 0,
              "ticks": ""
             }
            },
            "type": "scatterpolargl"
           }
          ],
          "scatterternary": [
           {
            "marker": {
             "colorbar": {
              "outlinewidth": 0,
              "ticks": ""
             }
            },
            "type": "scatterternary"
           }
          ],
          "surface": [
           {
            "colorbar": {
             "outlinewidth": 0,
             "ticks": ""
            },
            "colorscale": [
             [
              0,
              "#0d0887"
             ],
             [
              0.1111111111111111,
              "#46039f"
             ],
             [
              0.2222222222222222,
              "#7201a8"
             ],
             [
              0.3333333333333333,
              "#9c179e"
             ],
             [
              0.4444444444444444,
              "#bd3786"
             ],
             [
              0.5555555555555556,
              "#d8576b"
             ],
             [
              0.6666666666666666,
              "#ed7953"
             ],
             [
              0.7777777777777778,
              "#fb9f3a"
             ],
             [
              0.8888888888888888,
              "#fdca26"
             ],
             [
              1,
              "#f0f921"
             ]
            ],
            "type": "surface"
           }
          ],
          "table": [
           {
            "cells": {
             "fill": {
              "color": "#EBF0F8"
             },
             "line": {
              "color": "white"
             }
            },
            "header": {
             "fill": {
              "color": "#C8D4E3"
             },
             "line": {
              "color": "white"
             }
            },
            "type": "table"
           }
          ]
         },
         "layout": {
          "annotationdefaults": {
           "arrowcolor": "#2a3f5f",
           "arrowhead": 0,
           "arrowwidth": 1
          },
          "autotypenumbers": "strict",
          "coloraxis": {
           "colorbar": {
            "outlinewidth": 0,
            "ticks": ""
           }
          },
          "colorscale": {
           "diverging": [
            [
             0,
             "#8e0152"
            ],
            [
             0.1,
             "#c51b7d"
            ],
            [
             0.2,
             "#de77ae"
            ],
            [
             0.3,
             "#f1b6da"
            ],
            [
             0.4,
             "#fde0ef"
            ],
            [
             0.5,
             "#f7f7f7"
            ],
            [
             0.6,
             "#e6f5d0"
            ],
            [
             0.7,
             "#b8e186"
            ],
            [
             0.8,
             "#7fbc41"
            ],
            [
             0.9,
             "#4d9221"
            ],
            [
             1,
             "#276419"
            ]
           ],
           "sequential": [
            [
             0,
             "#0d0887"
            ],
            [
             0.1111111111111111,
             "#46039f"
            ],
            [
             0.2222222222222222,
             "#7201a8"
            ],
            [
             0.3333333333333333,
             "#9c179e"
            ],
            [
             0.4444444444444444,
             "#bd3786"
            ],
            [
             0.5555555555555556,
             "#d8576b"
            ],
            [
             0.6666666666666666,
             "#ed7953"
            ],
            [
             0.7777777777777778,
             "#fb9f3a"
            ],
            [
             0.8888888888888888,
             "#fdca26"
            ],
            [
             1,
             "#f0f921"
            ]
           ],
           "sequentialminus": [
            [
             0,
             "#0d0887"
            ],
            [
             0.1111111111111111,
             "#46039f"
            ],
            [
             0.2222222222222222,
             "#7201a8"
            ],
            [
             0.3333333333333333,
             "#9c179e"
            ],
            [
             0.4444444444444444,
             "#bd3786"
            ],
            [
             0.5555555555555556,
             "#d8576b"
            ],
            [
             0.6666666666666666,
             "#ed7953"
            ],
            [
             0.7777777777777778,
             "#fb9f3a"
            ],
            [
             0.8888888888888888,
             "#fdca26"
            ],
            [
             1,
             "#f0f921"
            ]
           ]
          },
          "colorway": [
           "#636efa",
           "#EF553B",
           "#00cc96",
           "#ab63fa",
           "#FFA15A",
           "#19d3f3",
           "#FF6692",
           "#B6E880",
           "#FF97FF",
           "#FECB52"
          ],
          "font": {
           "color": "#2a3f5f"
          },
          "geo": {
           "bgcolor": "white",
           "lakecolor": "white",
           "landcolor": "#E5ECF6",
           "showlakes": true,
           "showland": true,
           "subunitcolor": "white"
          },
          "hoverlabel": {
           "align": "left"
          },
          "hovermode": "closest",
          "mapbox": {
           "style": "light"
          },
          "paper_bgcolor": "white",
          "plot_bgcolor": "#E5ECF6",
          "polar": {
           "angularaxis": {
            "gridcolor": "white",
            "linecolor": "white",
            "ticks": ""
           },
           "bgcolor": "#E5ECF6",
           "radialaxis": {
            "gridcolor": "white",
            "linecolor": "white",
            "ticks": ""
           }
          },
          "scene": {
           "xaxis": {
            "backgroundcolor": "#E5ECF6",
            "gridcolor": "white",
            "gridwidth": 2,
            "linecolor": "white",
            "showbackground": true,
            "ticks": "",
            "zerolinecolor": "white"
           },
           "yaxis": {
            "backgroundcolor": "#E5ECF6",
            "gridcolor": "white",
            "gridwidth": 2,
            "linecolor": "white",
            "showbackground": true,
            "ticks": "",
            "zerolinecolor": "white"
           },
           "zaxis": {
            "backgroundcolor": "#E5ECF6",
            "gridcolor": "white",
            "gridwidth": 2,
            "linecolor": "white",
            "showbackground": true,
            "ticks": "",
            "zerolinecolor": "white"
           }
          },
          "shapedefaults": {
           "line": {
            "color": "#2a3f5f"
           }
          },
          "ternary": {
           "aaxis": {
            "gridcolor": "white",
            "linecolor": "white",
            "ticks": ""
           },
           "baxis": {
            "gridcolor": "white",
            "linecolor": "white",
            "ticks": ""
           },
           "bgcolor": "#E5ECF6",
           "caxis": {
            "gridcolor": "white",
            "linecolor": "white",
            "ticks": ""
           }
          },
          "title": {
           "x": 0.05
          },
          "xaxis": {
           "automargin": true,
           "gridcolor": "white",
           "linecolor": "white",
           "ticks": "",
           "title": {
            "standoff": 15
           },
           "zerolinecolor": "white",
           "zerolinewidth": 2
          },
          "yaxis": {
           "automargin": true,
           "gridcolor": "white",
           "linecolor": "white",
           "ticks": "",
           "title": {
            "standoff": 15
           },
           "zerolinecolor": "white",
           "zerolinewidth": 2
          }
         }
        }
       }
      }
     },
     "metadata": {},
     "output_type": "display_data"
    },
    {
     "name": "stdout",
     "output_type": "stream",
     "text": [
      "Корень квадратного уравнения x1 найден за 96 циклов (задана точность градиента 1e-06). Значение f(x) в этой точке 1.0961733076797486e-07\n",
      "x1 = 0.7639319979890301; gradient x1 = -9.804472256291774e-07\n"
     ]
    }
   ],
   "source": [
    "solv.grad_x1(x1_start=None, LR= 0.004, iters=100)"
   ]
  },
  {
   "cell_type": "markdown",
   "metadata": {},
   "source": [
    "\n",
    "Подбираем x2 методом градиентного спуска"
   ]
  },
  {
   "cell_type": "code",
   "execution_count": 298,
   "metadata": {},
   "outputs": [
    {
     "data": {
      "application/vnd.plotly.v1+json": {
       "config": {
        "plotlyServerURL": "https://plot.ly"
       },
       "data": [
        {
         "marker": {
          "color": "DarkGray"
         },
         "mode": "lines",
         "name": "f(x)=0",
         "type": "scatter",
         "x": [
          5.045085002513713,
          5.056659729755971,
          5.068234456998229,
          5.079809184240487,
          5.091383911482745,
          5.102958638725003,
          5.114533365967262,
          5.1261080932095195,
          5.1376828204517775,
          5.149257547694035,
          5.160832274936293,
          5.172407002178551,
          5.183981729420809,
          5.195556456663067,
          5.207131183905325,
          5.218705911147583,
          5.230280638389841,
          5.2418553656321,
          5.253430092874358,
          5.265004820116616,
          5.276579547358874,
          5.288154274601132,
          5.29972900184339,
          5.3113037290856475,
          5.3228784563279055,
          5.334453183570163,
          5.346027910812421,
          5.357602638054679,
          5.369177365296938,
          5.380752092539196,
          5.392326819781454,
          5.403901547023712,
          5.41547627426597,
          5.427051001508228,
          5.438625728750486,
          5.450200455992744,
          5.461775183235002,
          5.47334991047726,
          5.4849246377195175,
          5.496499364961776,
          5.508074092204034,
          5.519648819446292,
          5.53122354668855,
          5.542798273930808,
          5.554373001173066,
          5.565947728415324,
          5.577522455657582,
          5.58909718289984,
          5.600671910142098,
          5.612246637384356,
          5.623821364626615,
          5.635396091868873,
          5.6469708191111305,
          5.6585455463533885,
          5.670120273595646,
          5.681695000837904,
          5.693269728080162,
          5.70484445532242,
          5.716419182564678,
          5.727993909806936,
          5.739568637049194,
          5.751143364291453,
          5.762718091533711,
          5.774292818775969,
          5.785867546018227,
          5.797442273260485,
          5.809017000502743,
          5.8205917277450006,
          5.8321664549872585,
          5.843741182229516,
          5.855315909471774,
          5.866890636714032,
          5.878465363956291,
          5.890040091198549,
          5.901614818440807,
          5.913189545683065,
          5.924764272925323,
          5.936339000167581,
          5.947913727409839,
          5.959488454652097,
          5.971063181894355,
          5.982637909136613,
          5.994212636378871,
          6.005787363621129,
          6.017362090863387,
          6.028936818105645,
          6.040511545347903,
          6.052086272590161,
          6.063660999832419,
          6.075235727074677,
          6.086810454316935,
          6.098385181559193,
          6.109959908801452,
          6.121534636043709,
          6.133109363285968,
          6.144684090528226,
          6.156258817770484,
          6.1678335450127415,
          6.1794082722549994,
          6.190982999497257
         ],
         "y": [
          0,
          0,
          0,
          0,
          0,
          0,
          0,
          0,
          0,
          0,
          0,
          0,
          0,
          0,
          0,
          0,
          0,
          0,
          0,
          0,
          0,
          0,
          0,
          0,
          0,
          0,
          0,
          0,
          0,
          0,
          0,
          0,
          0,
          0,
          0,
          0,
          0,
          0,
          0,
          0,
          0,
          0,
          0,
          0,
          0,
          0,
          0,
          0,
          0,
          0,
          0,
          0,
          0,
          0,
          0,
          0,
          0,
          0,
          0,
          0,
          0,
          0,
          0,
          0,
          0,
          0,
          0,
          0,
          0,
          0,
          0,
          0,
          0,
          0,
          0,
          0,
          0,
          0,
          0,
          0,
          0,
          0,
          0,
          0,
          0,
          0,
          0,
          0,
          0,
          0,
          0,
          0,
          0,
          0,
          0,
          0,
          0,
          0,
          0,
          0
         ]
        },
        {
         "marker": {
          "color": "Blue"
         },
         "mode": "lines",
         "name": "f(x)=x<sup>2</sup>",
         "type": "scatter",
         "x": [
          5.045085002513713,
          5.056659729755971,
          5.068234456998229,
          5.079809184240487,
          5.091383911482745,
          5.102958638725003,
          5.114533365967262,
          5.1261080932095195,
          5.1376828204517775,
          5.149257547694035,
          5.160832274936293,
          5.172407002178551,
          5.183981729420809,
          5.195556456663067,
          5.207131183905325,
          5.218705911147583,
          5.230280638389841,
          5.2418553656321,
          5.253430092874358,
          5.265004820116616,
          5.276579547358874,
          5.288154274601132,
          5.29972900184339,
          5.3113037290856475,
          5.3228784563279055,
          5.334453183570163,
          5.346027910812421,
          5.357602638054679,
          5.369177365296938,
          5.380752092539196,
          5.392326819781454,
          5.403901547023712,
          5.41547627426597,
          5.427051001508228,
          5.438625728750486,
          5.450200455992744,
          5.461775183235002,
          5.47334991047726,
          5.4849246377195175,
          5.496499364961776,
          5.508074092204034,
          5.519648819446292,
          5.53122354668855,
          5.542798273930808,
          5.554373001173066,
          5.565947728415324,
          5.577522455657582,
          5.58909718289984,
          5.600671910142098,
          5.612246637384356,
          5.623821364626615,
          5.635396091868873,
          5.6469708191111305,
          5.6585455463533885,
          5.670120273595646,
          5.681695000837904,
          5.693269728080162,
          5.70484445532242,
          5.716419182564678,
          5.727993909806936,
          5.739568637049194,
          5.751143364291453,
          5.762718091533711,
          5.774292818775969,
          5.785867546018227,
          5.797442273260485,
          5.809017000502743,
          5.8205917277450006,
          5.8321664549872585,
          5.843741182229516,
          5.855315909471774,
          5.866890636714032,
          5.878465363956291,
          5.890040091198549,
          5.901614818440807,
          5.913189545683065,
          5.924764272925323,
          5.936339000167581,
          5.947913727409839,
          5.959488454652097,
          5.971063181894355,
          5.982637909136613,
          5.994212636378871,
          6.005787363621129,
          6.017362090863387,
          6.028936818105645,
          6.040511545347903,
          6.052086272590161,
          6.063660999832419,
          6.075235727074677,
          6.086810454316935,
          6.098385181559193,
          6.109959908801452,
          6.121534636043709,
          6.133109363285968,
          6.144684090528226,
          6.156258817770484,
          6.1678335450127415,
          6.1794082722549994,
          6.190982999497257
         ],
         "y": [
          0.6685144548404149,
          0.5931321869675187,
          0.5218707624218202,
          0.4548069396814362,
          0.3920179080032764,
          0.3335812874230232,
          0.2795751287551429,
          0.23007791359289592,
          0.1851685543083193,
          0.14492639405222302,
          0.10943120675420472,
          0.07876319712265185,
          0.05300300064472829,
          0.03223168358638034,
          0.016530742992334944,
          0.005982106686106081,
          0.0006681332699889278,
          0.0006716121250591187,
          0.006075763411176407,
          0.016964238066982835,
          0.03342111780990311,
          0.05553091513614106,
          0.08337857332068817,
          0.11704946641731657,
          0.15662939925858085,
          0.2022046074558117,
          0.2538617573991371,
          0.31168794625745616,
          0.37577070197845786,
          0.446197983288596,
          0.5230581796931126,
          0.6064401114760692,
          0.69643302970026,
          0.7931266162072808,
          0.8966109836175229,
          1.006976675330114,
          1.1243146655230458,
          1.2487163591530175,
          1.38027359195552,
          1.5190786304449115,
          1.6652241719141807,
          1.818803344435245,
          1.9799097068587161,
          2.1486372488139938,
          2.3250803907093425,
          2.5093339837316972,
          2.701493309846859,
          2.901654081799357,
          3.10991244311251,
          3.326364968088472,
          3.5511086618081427,
          3.7842409601311635,
          4.025859729696024,
          4.276063267919941,
          4.534950302999001,
          4.802619993907972,
          5.079171930400414,
          5.364706133008798,
          5.6593230530442185,
          5.963123572596616,
          6.276209004534713,
          6.5986810925060135,
          6.93064201093688,
          7.272194365032273,
          7.623441190776119,
          7.984485954931016,
          8.355432555038341,
          8.736385319418417,
          9.127449007170144,
          9.528728808171243,
          9.940330343078347,
          10.36235966332679,
          10.794923251130687,
          11.238128019482838,
          11.692081312154968,
          12.156890903697583,
          12.63266499943993,
          13.119512235489932,
          13.617541678734499,
          14.126862826839114,
          14.64758560824831,
          15.179820382185136,
          15.723677938651473,
          16.279269498428267,
          16.846706713074735,
          17.426101664929334,
          18.01756686710907,
          18.6212152635098,
          19.23716022880621,
          19.86551556845172,
          20.5063955186784,
          21.159914746497353,
          21.826188349698285,
          22.505331856849732,
          23.197461227299094,
          23.902692851172407,
          24.62114354937464,
          25.352930573589322,
          26.098171606279056,
          26.856984760685002
         ]
        },
        {
         "marker": {
          "color": "Pink",
          "line": {
           "color": "Red",
           "width": 1.5
          },
          "size": 8
         },
         "mode": "markers",
         "name": "gradient descent",
         "type": "scatter",
         "x": [
          6,
          5.808,
          5.678388830208,
          5.585233749922961,
          5.515600642597193,
          5.462139234869714,
          5.420297459030698,
          5.387077819599443,
          5.360413567716669,
          5.3388279742334275,
          5.321235636035919,
          5.306820395869372,
          5.294957051978353,
          5.285159315932007,
          5.277044144854953,
          5.270306643105091,
          5.26470199144723,
          5.260032171952633,
          5.25613604216623,
          5.2528817972872295,
          5.250161167032884,
          5.247884894001176,
          5.245979173273655,
          5.244382823028991,
          5.2430450180219275,
          5.241923461315524,
          5.240982900658948,
          5.240193918309451,
          5.2395319395144195,
          5.238976417055703,
          5.238510158415746,
          5.238118769085911,
          5.237790190886086,
          5.23751431831599,
          5.23728267921053,
          5.23708816854083,
          5.2369248262479955,
          5.236787651636702,
          5.236672448178658,
          5.236575693649293,
          5.236494431395888,
          5.236426179251694,
          5.236368853199141,
          5.236320703370519,
          5.236280260375658,
          5.236246290278588,
          5.236217756821244,
          5.236193789721904,
          5.236173658067417,
          5.236156747977862,
          5.236142543855568,
          5.23613061264186,
          5.236120590598047,
          5.236112172205215,
          5.2361051008427095,
          5.236099160959924,
          5.236094171501932,
          5.236089980387947,
          5.23608645987388,
          5.236083502657361,
          5.23608101860628,
          5.2360789320109875,
          5.236077179276316,
          5.236075706982985,
          5.236074470259261,
          5.236073431413221,
          5.236072558783879,
          5.236071825776172,
          5.236071210050361,
          5.236070692841148,
          5.236070258385739,
          5.236069893443429,
          5.236069586892053,
          5.236069329389013,
          5.236069113086541,
          5.236068931392523,
          5.236068778769587,
          5.23606865056635,
          5.2360685428756515,
          5.23606845241548,
          5.236068376428945,
          5.236068312600263,
          5.236068258984176,
          5.236068213946666,
          5.23606817611516,
          5.236068144336697,
          5.236068117642788,
          5.236068095219906,
          5.236068076384686,
          5.236068060563102,
          5.236068047272971,
          5.236068036109262,
          5.236068026731746,
          5.236068018854633,
          5.236068012237857,
          5.2360680066797665,
          5.2360680020109704
         ],
         "y": [
          16,
          8.322440298496002,
          4.725261778121269,
          2.8339484894577485,
          1.764239011910172,
          1.1281193124425999,
          0.7358891056340017,
          0.4874001812307672,
          0.3266719295113993,
          0.22100932899750478,
          0.15064868352246236,
          0.1033110341936167,
          0.07119711243563384,
          0.0492631782404179,
          0.0341991188134773,
          0.023806099560189888,
          0.016608793994277674,
          0.011609075156224922,
          0.00812699378932409,
          0.005696685832080904,
          0.003997435730478611,
          0.0028075688302795013,
          0.00197335377783423,
          0.0013878796130308933,
          0.0009766220554696934,
          0.0006875306881079882,
          0.0004841919050336983,
          0.0003410962642964768,
          0.00024035256220527836,
          0.00016940053646227662,
          0.00011941526832044946,
          0.00008419208560058856,
          0.0000593660761482111,
          0.00004186510132313621,
          0.000029526037851631624,
          0.000020825293354781687,
          0.000014689422833456216,
          0.000010361951435906652,
          0.000007309671636987311,
          0.000005156684434179636,
          0.000003637952226351914,
          0.0000025665809994767948,
          0.0000018107673536997552,
          0.000001277551694501543,
          9.013659535336319e-7,
          6.359596525244839e-7,
          4.487069570883227e-7,
          3.1659211694868776e-7,
          2.23378204364341e-7,
          1.5761021238273003e-7,
          1.1120653660244274e-7,
          7.846541831385112e-8,
          5.536406481740929e-8,
          3.906421182421996e-8,
          2.7563309393195188e-8,
          1.9448434937715698e-8,
          1.372267571509458e-8,
          9.68263702093702e-9,
          6.832019510170994e-9,
          4.820643822316586e-9,
          3.4014290074071803e-9,
          2.4000380693686943e-9,
          1.693460793838908e-9,
          1.1949023395573173e-9,
          8.43120959229687e-10,
          5.949048852635977e-10,
          4.1976413798958404e-10,
          2.9618513193570945e-10,
          2.089879661412946e-10,
          1.474617529182713e-10,
          1.0404892042587442e-10,
          7.341686344173998e-11,
          5.180290641714689e-11,
          3.655211153295659e-11,
          2.5791158452962787e-11,
          1.8198234682571832e-11,
          1.2840670351790925e-11,
          9.060374596250483e-12,
          6.39299891451353e-12,
          4.51089922036697e-12,
          3.182889999054961e-12,
          2.2458468839029764e-12,
          1.5846693916928606e-12,
          1.1181426248032266e-12,
          7.889613840561332e-13,
          5.566911120866791e-13,
          3.9280122446270586e-13,
          2.7716053096315867e-13,
          1.9556446335767803e-13,
          1.3799028133320424e-13,
          9.736594020288001e-14,
          6.87014078541282e-14,
          4.8475711817456654e-14,
          3.420446173275358e-14,
          2.4134668242785006e-14,
          1.702942061397911e-14,
          1.2015959496774853e-14
         ]
        }
       ],
       "layout": {
        "legend": {
         "orientation": "h",
         "x": 0.5,
         "xanchor": "center"
        },
        "margin": {
         "b": 0,
         "l": 0,
         "r": 0,
         "t": 0
        },
        "template": {
         "data": {
          "bar": [
           {
            "error_x": {
             "color": "#2a3f5f"
            },
            "error_y": {
             "color": "#2a3f5f"
            },
            "marker": {
             "line": {
              "color": "#E5ECF6",
              "width": 0.5
             },
             "pattern": {
              "fillmode": "overlay",
              "size": 10,
              "solidity": 0.2
             }
            },
            "type": "bar"
           }
          ],
          "barpolar": [
           {
            "marker": {
             "line": {
              "color": "#E5ECF6",
              "width": 0.5
             },
             "pattern": {
              "fillmode": "overlay",
              "size": 10,
              "solidity": 0.2
             }
            },
            "type": "barpolar"
           }
          ],
          "carpet": [
           {
            "aaxis": {
             "endlinecolor": "#2a3f5f",
             "gridcolor": "white",
             "linecolor": "white",
             "minorgridcolor": "white",
             "startlinecolor": "#2a3f5f"
            },
            "baxis": {
             "endlinecolor": "#2a3f5f",
             "gridcolor": "white",
             "linecolor": "white",
             "minorgridcolor": "white",
             "startlinecolor": "#2a3f5f"
            },
            "type": "carpet"
           }
          ],
          "choropleth": [
           {
            "colorbar": {
             "outlinewidth": 0,
             "ticks": ""
            },
            "type": "choropleth"
           }
          ],
          "contour": [
           {
            "colorbar": {
             "outlinewidth": 0,
             "ticks": ""
            },
            "colorscale": [
             [
              0,
              "#0d0887"
             ],
             [
              0.1111111111111111,
              "#46039f"
             ],
             [
              0.2222222222222222,
              "#7201a8"
             ],
             [
              0.3333333333333333,
              "#9c179e"
             ],
             [
              0.4444444444444444,
              "#bd3786"
             ],
             [
              0.5555555555555556,
              "#d8576b"
             ],
             [
              0.6666666666666666,
              "#ed7953"
             ],
             [
              0.7777777777777778,
              "#fb9f3a"
             ],
             [
              0.8888888888888888,
              "#fdca26"
             ],
             [
              1,
              "#f0f921"
             ]
            ],
            "type": "contour"
           }
          ],
          "contourcarpet": [
           {
            "colorbar": {
             "outlinewidth": 0,
             "ticks": ""
            },
            "type": "contourcarpet"
           }
          ],
          "heatmap": [
           {
            "colorbar": {
             "outlinewidth": 0,
             "ticks": ""
            },
            "colorscale": [
             [
              0,
              "#0d0887"
             ],
             [
              0.1111111111111111,
              "#46039f"
             ],
             [
              0.2222222222222222,
              "#7201a8"
             ],
             [
              0.3333333333333333,
              "#9c179e"
             ],
             [
              0.4444444444444444,
              "#bd3786"
             ],
             [
              0.5555555555555556,
              "#d8576b"
             ],
             [
              0.6666666666666666,
              "#ed7953"
             ],
             [
              0.7777777777777778,
              "#fb9f3a"
             ],
             [
              0.8888888888888888,
              "#fdca26"
             ],
             [
              1,
              "#f0f921"
             ]
            ],
            "type": "heatmap"
           }
          ],
          "heatmapgl": [
           {
            "colorbar": {
             "outlinewidth": 0,
             "ticks": ""
            },
            "colorscale": [
             [
              0,
              "#0d0887"
             ],
             [
              0.1111111111111111,
              "#46039f"
             ],
             [
              0.2222222222222222,
              "#7201a8"
             ],
             [
              0.3333333333333333,
              "#9c179e"
             ],
             [
              0.4444444444444444,
              "#bd3786"
             ],
             [
              0.5555555555555556,
              "#d8576b"
             ],
             [
              0.6666666666666666,
              "#ed7953"
             ],
             [
              0.7777777777777778,
              "#fb9f3a"
             ],
             [
              0.8888888888888888,
              "#fdca26"
             ],
             [
              1,
              "#f0f921"
             ]
            ],
            "type": "heatmapgl"
           }
          ],
          "histogram": [
           {
            "marker": {
             "pattern": {
              "fillmode": "overlay",
              "size": 10,
              "solidity": 0.2
             }
            },
            "type": "histogram"
           }
          ],
          "histogram2d": [
           {
            "colorbar": {
             "outlinewidth": 0,
             "ticks": ""
            },
            "colorscale": [
             [
              0,
              "#0d0887"
             ],
             [
              0.1111111111111111,
              "#46039f"
             ],
             [
              0.2222222222222222,
              "#7201a8"
             ],
             [
              0.3333333333333333,
              "#9c179e"
             ],
             [
              0.4444444444444444,
              "#bd3786"
             ],
             [
              0.5555555555555556,
              "#d8576b"
             ],
             [
              0.6666666666666666,
              "#ed7953"
             ],
             [
              0.7777777777777778,
              "#fb9f3a"
             ],
             [
              0.8888888888888888,
              "#fdca26"
             ],
             [
              1,
              "#f0f921"
             ]
            ],
            "type": "histogram2d"
           }
          ],
          "histogram2dcontour": [
           {
            "colorbar": {
             "outlinewidth": 0,
             "ticks": ""
            },
            "colorscale": [
             [
              0,
              "#0d0887"
             ],
             [
              0.1111111111111111,
              "#46039f"
             ],
             [
              0.2222222222222222,
              "#7201a8"
             ],
             [
              0.3333333333333333,
              "#9c179e"
             ],
             [
              0.4444444444444444,
              "#bd3786"
             ],
             [
              0.5555555555555556,
              "#d8576b"
             ],
             [
              0.6666666666666666,
              "#ed7953"
             ],
             [
              0.7777777777777778,
              "#fb9f3a"
             ],
             [
              0.8888888888888888,
              "#fdca26"
             ],
             [
              1,
              "#f0f921"
             ]
            ],
            "type": "histogram2dcontour"
           }
          ],
          "mesh3d": [
           {
            "colorbar": {
             "outlinewidth": 0,
             "ticks": ""
            },
            "type": "mesh3d"
           }
          ],
          "parcoords": [
           {
            "line": {
             "colorbar": {
              "outlinewidth": 0,
              "ticks": ""
             }
            },
            "type": "parcoords"
           }
          ],
          "pie": [
           {
            "automargin": true,
            "type": "pie"
           }
          ],
          "scatter": [
           {
            "fillpattern": {
             "fillmode": "overlay",
             "size": 10,
             "solidity": 0.2
            },
            "type": "scatter"
           }
          ],
          "scatter3d": [
           {
            "line": {
             "colorbar": {
              "outlinewidth": 0,
              "ticks": ""
             }
            },
            "marker": {
             "colorbar": {
              "outlinewidth": 0,
              "ticks": ""
             }
            },
            "type": "scatter3d"
           }
          ],
          "scattercarpet": [
           {
            "marker": {
             "colorbar": {
              "outlinewidth": 0,
              "ticks": ""
             }
            },
            "type": "scattercarpet"
           }
          ],
          "scattergeo": [
           {
            "marker": {
             "colorbar": {
              "outlinewidth": 0,
              "ticks": ""
             }
            },
            "type": "scattergeo"
           }
          ],
          "scattergl": [
           {
            "marker": {
             "colorbar": {
              "outlinewidth": 0,
              "ticks": ""
             }
            },
            "type": "scattergl"
           }
          ],
          "scattermapbox": [
           {
            "marker": {
             "colorbar": {
              "outlinewidth": 0,
              "ticks": ""
             }
            },
            "type": "scattermapbox"
           }
          ],
          "scatterpolar": [
           {
            "marker": {
             "colorbar": {
              "outlinewidth": 0,
              "ticks": ""
             }
            },
            "type": "scatterpolar"
           }
          ],
          "scatterpolargl": [
           {
            "marker": {
             "colorbar": {
              "outlinewidth": 0,
              "ticks": ""
             }
            },
            "type": "scatterpolargl"
           }
          ],
          "scatterternary": [
           {
            "marker": {
             "colorbar": {
              "outlinewidth": 0,
              "ticks": ""
             }
            },
            "type": "scatterternary"
           }
          ],
          "surface": [
           {
            "colorbar": {
             "outlinewidth": 0,
             "ticks": ""
            },
            "colorscale": [
             [
              0,
              "#0d0887"
             ],
             [
              0.1111111111111111,
              "#46039f"
             ],
             [
              0.2222222222222222,
              "#7201a8"
             ],
             [
              0.3333333333333333,
              "#9c179e"
             ],
             [
              0.4444444444444444,
              "#bd3786"
             ],
             [
              0.5555555555555556,
              "#d8576b"
             ],
             [
              0.6666666666666666,
              "#ed7953"
             ],
             [
              0.7777777777777778,
              "#fb9f3a"
             ],
             [
              0.8888888888888888,
              "#fdca26"
             ],
             [
              1,
              "#f0f921"
             ]
            ],
            "type": "surface"
           }
          ],
          "table": [
           {
            "cells": {
             "fill": {
              "color": "#EBF0F8"
             },
             "line": {
              "color": "white"
             }
            },
            "header": {
             "fill": {
              "color": "#C8D4E3"
             },
             "line": {
              "color": "white"
             }
            },
            "type": "table"
           }
          ]
         },
         "layout": {
          "annotationdefaults": {
           "arrowcolor": "#2a3f5f",
           "arrowhead": 0,
           "arrowwidth": 1
          },
          "autotypenumbers": "strict",
          "coloraxis": {
           "colorbar": {
            "outlinewidth": 0,
            "ticks": ""
           }
          },
          "colorscale": {
           "diverging": [
            [
             0,
             "#8e0152"
            ],
            [
             0.1,
             "#c51b7d"
            ],
            [
             0.2,
             "#de77ae"
            ],
            [
             0.3,
             "#f1b6da"
            ],
            [
             0.4,
             "#fde0ef"
            ],
            [
             0.5,
             "#f7f7f7"
            ],
            [
             0.6,
             "#e6f5d0"
            ],
            [
             0.7,
             "#b8e186"
            ],
            [
             0.8,
             "#7fbc41"
            ],
            [
             0.9,
             "#4d9221"
            ],
            [
             1,
             "#276419"
            ]
           ],
           "sequential": [
            [
             0,
             "#0d0887"
            ],
            [
             0.1111111111111111,
             "#46039f"
            ],
            [
             0.2222222222222222,
             "#7201a8"
            ],
            [
             0.3333333333333333,
             "#9c179e"
            ],
            [
             0.4444444444444444,
             "#bd3786"
            ],
            [
             0.5555555555555556,
             "#d8576b"
            ],
            [
             0.6666666666666666,
             "#ed7953"
            ],
            [
             0.7777777777777778,
             "#fb9f3a"
            ],
            [
             0.8888888888888888,
             "#fdca26"
            ],
            [
             1,
             "#f0f921"
            ]
           ],
           "sequentialminus": [
            [
             0,
             "#0d0887"
            ],
            [
             0.1111111111111111,
             "#46039f"
            ],
            [
             0.2222222222222222,
             "#7201a8"
            ],
            [
             0.3333333333333333,
             "#9c179e"
            ],
            [
             0.4444444444444444,
             "#bd3786"
            ],
            [
             0.5555555555555556,
             "#d8576b"
            ],
            [
             0.6666666666666666,
             "#ed7953"
            ],
            [
             0.7777777777777778,
             "#fb9f3a"
            ],
            [
             0.8888888888888888,
             "#fdca26"
            ],
            [
             1,
             "#f0f921"
            ]
           ]
          },
          "colorway": [
           "#636efa",
           "#EF553B",
           "#00cc96",
           "#ab63fa",
           "#FFA15A",
           "#19d3f3",
           "#FF6692",
           "#B6E880",
           "#FF97FF",
           "#FECB52"
          ],
          "font": {
           "color": "#2a3f5f"
          },
          "geo": {
           "bgcolor": "white",
           "lakecolor": "white",
           "landcolor": "#E5ECF6",
           "showlakes": true,
           "showland": true,
           "subunitcolor": "white"
          },
          "hoverlabel": {
           "align": "left"
          },
          "hovermode": "closest",
          "mapbox": {
           "style": "light"
          },
          "paper_bgcolor": "white",
          "plot_bgcolor": "#E5ECF6",
          "polar": {
           "angularaxis": {
            "gridcolor": "white",
            "linecolor": "white",
            "ticks": ""
           },
           "bgcolor": "#E5ECF6",
           "radialaxis": {
            "gridcolor": "white",
            "linecolor": "white",
            "ticks": ""
           }
          },
          "scene": {
           "xaxis": {
            "backgroundcolor": "#E5ECF6",
            "gridcolor": "white",
            "gridwidth": 2,
            "linecolor": "white",
            "showbackground": true,
            "ticks": "",
            "zerolinecolor": "white"
           },
           "yaxis": {
            "backgroundcolor": "#E5ECF6",
            "gridcolor": "white",
            "gridwidth": 2,
            "linecolor": "white",
            "showbackground": true,
            "ticks": "",
            "zerolinecolor": "white"
           },
           "zaxis": {
            "backgroundcolor": "#E5ECF6",
            "gridcolor": "white",
            "gridwidth": 2,
            "linecolor": "white",
            "showbackground": true,
            "ticks": "",
            "zerolinecolor": "white"
           }
          },
          "shapedefaults": {
           "line": {
            "color": "#2a3f5f"
           }
          },
          "ternary": {
           "aaxis": {
            "gridcolor": "white",
            "linecolor": "white",
            "ticks": ""
           },
           "baxis": {
            "gridcolor": "white",
            "linecolor": "white",
            "ticks": ""
           },
           "bgcolor": "#E5ECF6",
           "caxis": {
            "gridcolor": "white",
            "linecolor": "white",
            "ticks": ""
           }
          },
          "title": {
           "x": 0.05
          },
          "xaxis": {
           "automargin": true,
           "gridcolor": "white",
           "linecolor": "white",
           "ticks": "",
           "title": {
            "standoff": 15
           },
           "zerolinecolor": "white",
           "zerolinewidth": 2
          },
          "yaxis": {
           "automargin": true,
           "gridcolor": "white",
           "linecolor": "white",
           "ticks": "",
           "title": {
            "standoff": 15
           },
           "zerolinecolor": "white",
           "zerolinewidth": 2
          }
         }
        }
       }
      }
     },
     "metadata": {},
     "output_type": "display_data"
    },
    {
     "name": "stdout",
     "output_type": "stream",
     "text": [
      "Корень квадратного уравнения x2 найден за 96 циклов (задана точность градиента 1e-06). Значение f(x) в этой точке 1.0961733210024249e-07\n",
      "x1 = 5.2360680020109704; gradient x2 = 9.804473393160151e-07\n"
     ]
    }
   ],
   "source": [
    "solv.grad_x2(x2_start=None, LR= 0.004, iters=100)"
   ]
  },
  {
   "cell_type": "code",
   "execution_count": 299,
   "metadata": {},
   "outputs": [
    {
     "data": {
      "application/vnd.plotly.v1+json": {
       "config": {
        "plotlyServerURL": "https://plot.ly"
       },
       "data": [
        {
         "marker": {
          "color": "DarkGray"
         },
         "mode": "lines",
         "name": "f(x)=0",
         "type": "scatter",
         "x": [
          -1.5,
          -1.4090909090909092,
          -1.3181818181818181,
          -1.2272727272727273,
          -1.1363636363636362,
          -1.0454545454545454,
          -0.9545454545454546,
          -0.8636363636363636,
          -0.7727272727272727,
          -0.6818181818181818,
          -0.5909090909090908,
          -0.5,
          -0.40909090909090917,
          -0.3181818181818181,
          -0.2272727272727273,
          -0.13636363636363624,
          -0.045454545454545414,
          0.045454545454545414,
          0.13636363636363646,
          0.2272727272727273,
          0.31818181818181834,
          0.40909090909090917,
          0.5,
          0.5909090909090908,
          0.6818181818181817,
          0.7727272727272729,
          0.8636363636363638,
          0.9545454545454546,
          1.0454545454545454,
          1.1363636363636362,
          1.2272727272727275,
          1.3181818181818183,
          1.4090909090909092,
          1.5,
          1.5909090909090908,
          1.681818181818182,
          1.772727272727273,
          1.8636363636363638,
          1.9545454545454546,
          2.0454545454545454,
          2.1363636363636367,
          2.2272727272727275,
          2.3181818181818183,
          2.409090909090909,
          2.5,
          2.590909090909091,
          2.6818181818181817,
          2.7727272727272725,
          2.8636363636363633,
          2.954545454545455,
          3.045454545454546,
          3.1363636363636367,
          3.2272727272727275,
          3.3181818181818183,
          3.409090909090909,
          3.5,
          3.590909090909091,
          3.6818181818181817,
          3.7727272727272725,
          3.863636363636364,
          3.954545454545455,
          4.045454545454546,
          4.136363636363637,
          4.2272727272727275,
          4.318181818181818,
          4.409090909090909,
          4.5,
          4.590909090909091,
          4.681818181818182,
          4.7727272727272725,
          4.863636363636364,
          4.954545454545455,
          5.045454545454546,
          5.136363636363637,
          5.2272727272727275,
          5.318181818181818,
          5.409090909090909,
          5.5,
          5.590909090909091,
          5.681818181818182,
          5.772727272727273,
          5.863636363636364,
          5.954545454545455,
          6.045454545454546,
          6.136363636363637,
          6.2272727272727275,
          6.318181818181818,
          6.409090909090909,
          6.5,
          6.590909090909092,
          6.681818181818182,
          6.772727272727273,
          6.863636363636363,
          6.954545454545455,
          7.045454545454545,
          7.136363636363637,
          7.227272727272727,
          7.318181818181818,
          7.40909090909091,
          7.5
         ],
         "y": [
          0,
          0,
          0,
          0,
          0,
          0,
          0,
          0,
          0,
          0,
          0,
          0,
          0,
          0,
          0,
          0,
          0,
          0,
          0,
          0,
          0,
          0,
          0,
          0,
          0,
          0,
          0,
          0,
          0,
          0,
          0,
          0,
          0,
          0,
          0,
          0,
          0,
          0,
          0,
          0,
          0,
          0,
          0,
          0,
          0,
          0,
          0,
          0,
          0,
          0,
          0,
          0,
          0,
          0,
          0,
          0,
          0,
          0,
          0,
          0,
          0,
          0,
          0,
          0,
          0,
          0,
          0,
          0,
          0,
          0,
          0,
          0,
          0,
          0,
          0,
          0,
          0,
          0,
          0,
          0,
          0,
          0,
          0,
          0,
          0,
          0,
          0,
          0,
          0,
          0,
          0,
          0,
          0,
          0,
          0,
          0,
          0,
          0,
          0,
          0
         ]
        },
        {
         "marker": {
          "color": "Blue"
         },
         "mode": "lines",
         "name": "f(x)=x<sup>2</sup>",
         "type": "scatter",
         "x": [
          -1.5,
          -1.4090909090909092,
          -1.3181818181818181,
          -1.2272727272727273,
          -1.1363636363636362,
          -1.0454545454545454,
          -0.9545454545454546,
          -0.8636363636363636,
          -0.7727272727272727,
          -0.6818181818181818,
          -0.5909090909090908,
          -0.5,
          -0.40909090909090917,
          -0.3181818181818181,
          -0.2272727272727273,
          -0.13636363636363624,
          -0.045454545454545414,
          0.045454545454545414,
          0.13636363636363646,
          0.2272727272727273,
          0.31818181818181834,
          0.40909090909090917,
          0.5,
          0.5909090909090908,
          0.6818181818181817,
          0.7727272727272729,
          0.8636363636363638,
          0.9545454545454546,
          1.0454545454545454,
          1.1363636363636362,
          1.2272727272727275,
          1.3181818181818183,
          1.4090909090909092,
          1.5,
          1.5909090909090908,
          1.681818181818182,
          1.772727272727273,
          1.8636363636363638,
          1.9545454545454546,
          2.0454545454545454,
          2.1363636363636367,
          2.2272727272727275,
          2.3181818181818183,
          2.409090909090909,
          2.5,
          2.590909090909091,
          2.6818181818181817,
          2.7727272727272725,
          2.8636363636363633,
          2.954545454545455,
          3.045454545454546,
          3.1363636363636367,
          3.2272727272727275,
          3.3181818181818183,
          3.409090909090909,
          3.5,
          3.590909090909091,
          3.6818181818181817,
          3.7727272727272725,
          3.863636363636364,
          3.954545454545455,
          4.045454545454546,
          4.136363636363637,
          4.2272727272727275,
          4.318181818181818,
          4.409090909090909,
          4.5,
          4.590909090909091,
          4.681818181818182,
          4.7727272727272725,
          4.863636363636364,
          4.954545454545455,
          5.045454545454546,
          5.136363636363637,
          5.2272727272727275,
          5.318181818181818,
          5.409090909090909,
          5.5,
          5.590909090909091,
          5.681818181818182,
          5.772727272727273,
          5.863636363636364,
          5.954545454545455,
          6.045454545454546,
          6.136363636363637,
          6.2272727272727275,
          6.318181818181818,
          6.409090909090909,
          6.5,
          6.590909090909092,
          6.681818181818182,
          6.772727272727273,
          6.863636363636363,
          6.954545454545455,
          7.045454545454545,
          7.136363636363637,
          7.227272727272727,
          7.318181818181818,
          7.40909090909091,
          7.5
         ],
         "y": [
          232.5625,
          208.51598678368967,
          186.23226299433097,
          165.63264548186598,
          146.64009032852945,
          129.1791928488491,
          113.17618758964554,
          98.55894833003212,
          85.25698808141522,
          73.20145908749402,
          62.32515282426063,
          52.5625,
          43.849570555289944,
          36.12407366300116,
          29.325357728297252,
          23.394410388634647,
          18.273858513762722,
          13.907968205723654,
          10.242644798852533,
          7.225432859777338,
          4.805516187418888,
          2.933717812990914,
          1.5625,
          0.6459642442456119,
          0.13985127382009477,
          0.001541049108667522,
          0.19005276278942748,
          0.6660448398333444,
          1.3918149375042677,
          2.3312999453589223,
          3.4500759852469107,
          4.715358411310706,
          6.096001809985659,
          7.5625,
          9.086986032374833,
          10.643232190424166,
          12.206649989754796,
          13.75429017826652,
          15.264842736151893,
          16.718636875896458,
          18.09764104227854,
          19.385462912369373,
          20.567349395533085,
          21.630186633426675,
          22.5625,
          23.35445410149581,
          23.997852776449687,
          24.48613909569016,
          24.81439536233864,
          24.9793431118093,
          24.979343111809282,
          24.81439536233864,
          24.486139095690195,
          23.997852776449687,
          23.354454101495776,
          22.5625,
          21.63018663342669,
          20.567349395533085,
          19.385462912369356,
          18.09764104227854,
          16.718636875896443,
          15.264842736151879,
          13.754290178266508,
          12.206649989754816,
          10.643232190424143,
          9.086986032374833,
          7.5625,
          6.096001809985664,
          4.715358411310701,
          3.450075985246904,
          2.331299945358928,
          1.3918149375042634,
          0.6660448398333415,
          0.19005276278942593,
          0.0015410491086674523,
          0.13985127382009543,
          0.6459642442456162,
          1.5625,
          2.9337178129909045,
          4.805516187418877,
          7.225432859777352,
          10.242644798852524,
          13.907968205723625,
          18.27385851376276,
          23.394410388634675,
          29.32535772829727,
          36.12407366300123,
          43.84957055529,
          52.5625,
          62.32515282426083,
          73.2014590874939,
          85.25698808141527,
          98.55894833003205,
          113.17618758964554,
          129.1791928488491,
          146.64009032852954,
          165.63264548186584,
          186.23226299433105,
          208.51598678368984,
          232.5625
         ]
        },
        {
         "marker": {
          "color": "Pink",
          "line": {
           "color": "Red",
           "width": 1.5
          },
          "size": 8
         },
         "mode": "markers",
         "name": "gradient descent",
         "type": "scatter",
         "x": [
          0,
          0.192,
          0.321611169792,
          0.41476625007703916,
          0.484399357402807,
          0.5378607651302856,
          0.5797025409693026,
          0.6129221804005566,
          0.6395864322833308,
          0.6611720257665712,
          0.6787643639640795,
          0.6931796041306268,
          0.7050429480216448,
          0.7148406840679911,
          0.7229558551450462,
          0.7296933568949086,
          0.7352980085527695,
          0.7399678280473663,
          0.7438639578337697,
          0.7471182027127709,
          0.7498388329671164,
          0.7521151059988231,
          0.754020826726344,
          0.7556171769710084,
          0.7569549819780719,
          0.7580765386844751,
          0.7590170993410513,
          0.7598060816905482,
          0.7604680604855805,
          0.7610235829442967,
          0.7614898415842531,
          0.7618812309140888,
          0.7622098091139136,
          0.7624856816840104,
          0.7627173207894695,
          0.7629118314591696,
          0.7630751737520044,
          0.7632123483632988,
          0.7633275518213422,
          0.763424306350707,
          0.7635055686041118,
          0.7635738207483059,
          0.7636311468008588,
          0.7636792966294806,
          0.7637197396243427,
          0.7637537097214127,
          0.7637822431787565,
          0.7638062102780958,
          0.7638263419325819,
          0.7638432520221379,
          0.7638574561444322,
          0.7638693873581404,
          0.7638794094019533,
          0.7638878277947846,
          0.7638948991572906,
          0.7639008390400763,
          0.7639058284980681,
          0.7639100196120538,
          0.763913540126121,
          0.7639164973426396,
          0.763918981393721,
          0.7639210679890133,
          0.7639228207236848,
          0.7639242930170169,
          0.7639255297407403,
          0.7639265685867802,
          0.7639274412161217,
          0.7639281742238285,
          0.7639287899496391,
          0.763929307158852,
          0.7639297416142606,
          0.763930106556571,
          0.7639304131079473,
          0.7639306706109874,
          0.7639308869134592,
          0.7639310686074778,
          0.7639312212304127,
          0.7639313494336493,
          0.7639314571243476,
          0.76393154758452,
          0.7639316235710547,
          0.7639316873997367,
          0.7639317410158245,
          0.7639317860533348,
          0.7639318238848408,
          0.7639318556633041,
          0.7639318823572121,
          0.763931904780094,
          0.763931923615314,
          0.7639319394368985,
          0.7639319527270292,
          0.7639319638907387,
          0.7639319732682546,
          0.7639319811453678,
          0.7639319877621428,
          0.7639319933202338,
          0.7639319979890301,
          6,
          5.808,
          5.678388830208,
          5.585233749922961,
          5.515600642597193,
          5.462139234869714,
          5.420297459030698,
          5.387077819599443,
          5.360413567716669,
          5.3388279742334275,
          5.321235636035919,
          5.306820395869372,
          5.294957051978353,
          5.285159315932007,
          5.277044144854953,
          5.270306643105091,
          5.26470199144723,
          5.260032171952633,
          5.25613604216623,
          5.2528817972872295,
          5.250161167032884,
          5.247884894001176,
          5.245979173273655,
          5.244382823028991,
          5.2430450180219275,
          5.241923461315524,
          5.240982900658948,
          5.240193918309451,
          5.2395319395144195,
          5.238976417055703,
          5.238510158415746,
          5.238118769085911,
          5.237790190886086,
          5.23751431831599,
          5.23728267921053,
          5.23708816854083,
          5.2369248262479955,
          5.236787651636702,
          5.236672448178658,
          5.236575693649293,
          5.236494431395888,
          5.236426179251694,
          5.236368853199141,
          5.236320703370519,
          5.236280260375658,
          5.236246290278588,
          5.236217756821244,
          5.236193789721904,
          5.236173658067417,
          5.236156747977862,
          5.236142543855568,
          5.23613061264186,
          5.236120590598047,
          5.236112172205215,
          5.2361051008427095,
          5.236099160959924,
          5.236094171501932,
          5.236089980387947,
          5.23608645987388,
          5.236083502657361,
          5.23608101860628,
          5.2360789320109875,
          5.236077179276316,
          5.236075706982985,
          5.236074470259261,
          5.236073431413221,
          5.236072558783879,
          5.236071825776172,
          5.236071210050361,
          5.236070692841148,
          5.236070258385739,
          5.236069893443429,
          5.236069586892053,
          5.236069329389013,
          5.236069113086541,
          5.236068931392523,
          5.236068778769587,
          5.23606865056635,
          5.2360685428756515,
          5.23606845241548,
          5.236068376428945,
          5.236068312600263,
          5.236068258984176,
          5.236068213946666,
          5.23606817611516,
          5.236068144336697,
          5.236068117642788,
          5.236068095219906,
          5.236068076384686,
          5.236068060563102,
          5.236068047272971,
          5.236068036109262,
          5.236068026731746,
          5.236068018854633,
          5.236068012237857,
          5.2360680066797665,
          5.2360680020109704
         ],
         "y": [
          16,
          8.322440298496,
          4.725261778121252,
          2.833948489457753,
          1.7642390119101745,
          1.1281193124426045,
          0.7358891056339957,
          0.48740018123076906,
          0.3266719295114023,
          0.22100932899750894,
          0.15064868352246924,
          0.10331103419362013,
          0.07119711243563835,
          0.049263178240422235,
          0.034199118813478945,
          0.02380609956019057,
          0.016608793994279163,
          0.01160907515622473,
          0.008126993789324249,
          0.005696685832080367,
          0.003997435730478668,
          0.0028075688302799722,
          0.0019733537778344667,
          0.0013878796130313235,
          0.0009766220554699155,
          0.000687530688108128,
          0.0004841919050337374,
          0.0003410962642965588,
          0.0002403525622053059,
          0.00016940053646232286,
          0.00011941526832048829,
          0.00008419208560057227,
          0.00005936607614825216,
          0.000041865101323141954,
          0.000029526037851641277,
          0.00002082529335481006,
          0.000014689422833439196,
          0.000010361951435895216,
          0.000007309671636972903,
          0.000005156684434179636,
          0.000003637952226346832,
          0.0000025665809994782178,
          0.0000018107673536949746,
          0.0000012775516944995353,
          9.013659535268861e-7,
          6.359596525202341e-7,
          4.487069570883227e-7,
          3.165921169516862e-7,
          2.2337820436350144e-7,
          1.5761021238308264e-7,
          1.1120653660185038e-7,
          7.846541831360233e-8,
          5.536406481845422e-8,
          3.9064211825624325e-8,
          2.7563309392752815e-8,
          1.944843493697252e-8,
          1.372267571488649e-8,
          9.682637020849623e-9,
          6.8320195098039274e-9,
          4.820643821761583e-9,
          3.4014290069409792e-9,
          2.4000380691076225e-9,
          1.6934607933272075e-9,
          1.1949023392195956e-9,
          8.431209588428425e-10,
          5.949048850469651e-10,
          4.1976413802597833e-10,
          2.96185131950995e-10,
          2.089879660257357e-10,
          1.474617529182713e-10,
          1.0404892044399404e-10,
          7.341686347979117e-11,
          5.1802906404361693e-11,
          3.655211151684725e-11,
          2.5791158484537082e-11,
          1.8198234663627257e-11,
          1.2840670370887052e-11,
          9.06037464169926e-12,
          6.392998939216275e-12,
          4.510899216594187e-12,
          3.1828899911321185e-12,
          2.2458468839029764e-12,
          1.5846693894567176e-12,
          1.1181426172897867e-12,
          7.889613698557327e-13,
          5.566911067851964e-13,
          3.928012233493945e-13,
          2.7716053002797717e-13,
          1.955644625721256e-13,
          1.3799028034340817e-13,
          9.736593909430843e-14,
          6.870140506052784e-14,
          4.847571064414452e-14,
          3.420446074717139e-14,
          2.413466700095146e-14,
          1.702942072988357e-14,
          1.2015959204695608e-14,
          16,
          8.322440298496002,
          4.725261778121269,
          2.8339484894577485,
          1.764239011910172,
          1.1281193124425999,
          0.7358891056340017,
          0.4874001812307672,
          0.3266719295113993,
          0.22100932899750478,
          0.15064868352246236,
          0.1033110341936167,
          0.07119711243563384,
          0.0492631782404179,
          0.0341991188134773,
          0.023806099560189888,
          0.016608793994277674,
          0.011609075156224922,
          0.00812699378932409,
          0.005696685832080904,
          0.003997435730478611,
          0.0028075688302795013,
          0.00197335377783423,
          0.0013878796130308933,
          0.0009766220554696934,
          0.0006875306881079882,
          0.0004841919050336983,
          0.0003410962642964768,
          0.00024035256220527836,
          0.00016940053646227662,
          0.00011941526832044946,
          0.00008419208560058856,
          0.0000593660761482111,
          0.00004186510132313621,
          0.000029526037851631624,
          0.000020825293354781687,
          0.000014689422833456216,
          0.000010361951435906652,
          0.000007309671636987311,
          0.000005156684434179636,
          0.000003637952226351914,
          0.0000025665809994767948,
          0.0000018107673536997552,
          0.000001277551694501543,
          9.013659535336319e-7,
          6.359596525244839e-7,
          4.487069570883227e-7,
          3.1659211694868776e-7,
          2.23378204364341e-7,
          1.5761021238273003e-7,
          1.1120653660244274e-7,
          7.846541831385112e-8,
          5.536406481740929e-8,
          3.906421182421996e-8,
          2.7563309393195188e-8,
          1.9448434937715698e-8,
          1.372267571509458e-8,
          9.68263702093702e-9,
          6.832019510170994e-9,
          4.820643822316586e-9,
          3.4014290074071803e-9,
          2.4000380693686943e-9,
          1.693460793838908e-9,
          1.1949023395573173e-9,
          8.43120959229687e-10,
          5.949048852635977e-10,
          4.1976413798958404e-10,
          2.9618513193570945e-10,
          2.089879661412946e-10,
          1.474617529182713e-10,
          1.0404892042587442e-10,
          7.341686344173998e-11,
          5.180290641714689e-11,
          3.655211153295659e-11,
          2.5791158452962787e-11,
          1.8198234682571832e-11,
          1.2840670351790925e-11,
          9.060374596250483e-12,
          6.39299891451353e-12,
          4.51089922036697e-12,
          3.182889999054961e-12,
          2.2458468839029764e-12,
          1.5846693916928606e-12,
          1.1181426248032266e-12,
          7.889613840561332e-13,
          5.566911120866791e-13,
          3.9280122446270586e-13,
          2.7716053096315867e-13,
          1.9556446335767803e-13,
          1.3799028133320424e-13,
          9.736594020288001e-14,
          6.87014078541282e-14,
          4.8475711817456654e-14,
          3.420446173275358e-14,
          2.4134668242785006e-14,
          1.702942061397911e-14,
          1.2015959496774853e-14
         ]
        }
       ],
       "layout": {
        "legend": {
         "orientation": "h",
         "x": 0.5,
         "xanchor": "center"
        },
        "margin": {
         "b": 0,
         "l": 0,
         "r": 0,
         "t": 0
        },
        "template": {
         "data": {
          "bar": [
           {
            "error_x": {
             "color": "#2a3f5f"
            },
            "error_y": {
             "color": "#2a3f5f"
            },
            "marker": {
             "line": {
              "color": "#E5ECF6",
              "width": 0.5
             },
             "pattern": {
              "fillmode": "overlay",
              "size": 10,
              "solidity": 0.2
             }
            },
            "type": "bar"
           }
          ],
          "barpolar": [
           {
            "marker": {
             "line": {
              "color": "#E5ECF6",
              "width": 0.5
             },
             "pattern": {
              "fillmode": "overlay",
              "size": 10,
              "solidity": 0.2
             }
            },
            "type": "barpolar"
           }
          ],
          "carpet": [
           {
            "aaxis": {
             "endlinecolor": "#2a3f5f",
             "gridcolor": "white",
             "linecolor": "white",
             "minorgridcolor": "white",
             "startlinecolor": "#2a3f5f"
            },
            "baxis": {
             "endlinecolor": "#2a3f5f",
             "gridcolor": "white",
             "linecolor": "white",
             "minorgridcolor": "white",
             "startlinecolor": "#2a3f5f"
            },
            "type": "carpet"
           }
          ],
          "choropleth": [
           {
            "colorbar": {
             "outlinewidth": 0,
             "ticks": ""
            },
            "type": "choropleth"
           }
          ],
          "contour": [
           {
            "colorbar": {
             "outlinewidth": 0,
             "ticks": ""
            },
            "colorscale": [
             [
              0,
              "#0d0887"
             ],
             [
              0.1111111111111111,
              "#46039f"
             ],
             [
              0.2222222222222222,
              "#7201a8"
             ],
             [
              0.3333333333333333,
              "#9c179e"
             ],
             [
              0.4444444444444444,
              "#bd3786"
             ],
             [
              0.5555555555555556,
              "#d8576b"
             ],
             [
              0.6666666666666666,
              "#ed7953"
             ],
             [
              0.7777777777777778,
              "#fb9f3a"
             ],
             [
              0.8888888888888888,
              "#fdca26"
             ],
             [
              1,
              "#f0f921"
             ]
            ],
            "type": "contour"
           }
          ],
          "contourcarpet": [
           {
            "colorbar": {
             "outlinewidth": 0,
             "ticks": ""
            },
            "type": "contourcarpet"
           }
          ],
          "heatmap": [
           {
            "colorbar": {
             "outlinewidth": 0,
             "ticks": ""
            },
            "colorscale": [
             [
              0,
              "#0d0887"
             ],
             [
              0.1111111111111111,
              "#46039f"
             ],
             [
              0.2222222222222222,
              "#7201a8"
             ],
             [
              0.3333333333333333,
              "#9c179e"
             ],
             [
              0.4444444444444444,
              "#bd3786"
             ],
             [
              0.5555555555555556,
              "#d8576b"
             ],
             [
              0.6666666666666666,
              "#ed7953"
             ],
             [
              0.7777777777777778,
              "#fb9f3a"
             ],
             [
              0.8888888888888888,
              "#fdca26"
             ],
             [
              1,
              "#f0f921"
             ]
            ],
            "type": "heatmap"
           }
          ],
          "heatmapgl": [
           {
            "colorbar": {
             "outlinewidth": 0,
             "ticks": ""
            },
            "colorscale": [
             [
              0,
              "#0d0887"
             ],
             [
              0.1111111111111111,
              "#46039f"
             ],
             [
              0.2222222222222222,
              "#7201a8"
             ],
             [
              0.3333333333333333,
              "#9c179e"
             ],
             [
              0.4444444444444444,
              "#bd3786"
             ],
             [
              0.5555555555555556,
              "#d8576b"
             ],
             [
              0.6666666666666666,
              "#ed7953"
             ],
             [
              0.7777777777777778,
              "#fb9f3a"
             ],
             [
              0.8888888888888888,
              "#fdca26"
             ],
             [
              1,
              "#f0f921"
             ]
            ],
            "type": "heatmapgl"
           }
          ],
          "histogram": [
           {
            "marker": {
             "pattern": {
              "fillmode": "overlay",
              "size": 10,
              "solidity": 0.2
             }
            },
            "type": "histogram"
           }
          ],
          "histogram2d": [
           {
            "colorbar": {
             "outlinewidth": 0,
             "ticks": ""
            },
            "colorscale": [
             [
              0,
              "#0d0887"
             ],
             [
              0.1111111111111111,
              "#46039f"
             ],
             [
              0.2222222222222222,
              "#7201a8"
             ],
             [
              0.3333333333333333,
              "#9c179e"
             ],
             [
              0.4444444444444444,
              "#bd3786"
             ],
             [
              0.5555555555555556,
              "#d8576b"
             ],
             [
              0.6666666666666666,
              "#ed7953"
             ],
             [
              0.7777777777777778,
              "#fb9f3a"
             ],
             [
              0.8888888888888888,
              "#fdca26"
             ],
             [
              1,
              "#f0f921"
             ]
            ],
            "type": "histogram2d"
           }
          ],
          "histogram2dcontour": [
           {
            "colorbar": {
             "outlinewidth": 0,
             "ticks": ""
            },
            "colorscale": [
             [
              0,
              "#0d0887"
             ],
             [
              0.1111111111111111,
              "#46039f"
             ],
             [
              0.2222222222222222,
              "#7201a8"
             ],
             [
              0.3333333333333333,
              "#9c179e"
             ],
             [
              0.4444444444444444,
              "#bd3786"
             ],
             [
              0.5555555555555556,
              "#d8576b"
             ],
             [
              0.6666666666666666,
              "#ed7953"
             ],
             [
              0.7777777777777778,
              "#fb9f3a"
             ],
             [
              0.8888888888888888,
              "#fdca26"
             ],
             [
              1,
              "#f0f921"
             ]
            ],
            "type": "histogram2dcontour"
           }
          ],
          "mesh3d": [
           {
            "colorbar": {
             "outlinewidth": 0,
             "ticks": ""
            },
            "type": "mesh3d"
           }
          ],
          "parcoords": [
           {
            "line": {
             "colorbar": {
              "outlinewidth": 0,
              "ticks": ""
             }
            },
            "type": "parcoords"
           }
          ],
          "pie": [
           {
            "automargin": true,
            "type": "pie"
           }
          ],
          "scatter": [
           {
            "fillpattern": {
             "fillmode": "overlay",
             "size": 10,
             "solidity": 0.2
            },
            "type": "scatter"
           }
          ],
          "scatter3d": [
           {
            "line": {
             "colorbar": {
              "outlinewidth": 0,
              "ticks": ""
             }
            },
            "marker": {
             "colorbar": {
              "outlinewidth": 0,
              "ticks": ""
             }
            },
            "type": "scatter3d"
           }
          ],
          "scattercarpet": [
           {
            "marker": {
             "colorbar": {
              "outlinewidth": 0,
              "ticks": ""
             }
            },
            "type": "scattercarpet"
           }
          ],
          "scattergeo": [
           {
            "marker": {
             "colorbar": {
              "outlinewidth": 0,
              "ticks": ""
             }
            },
            "type": "scattergeo"
           }
          ],
          "scattergl": [
           {
            "marker": {
             "colorbar": {
              "outlinewidth": 0,
              "ticks": ""
             }
            },
            "type": "scattergl"
           }
          ],
          "scattermapbox": [
           {
            "marker": {
             "colorbar": {
              "outlinewidth": 0,
              "ticks": ""
             }
            },
            "type": "scattermapbox"
           }
          ],
          "scatterpolar": [
           {
            "marker": {
             "colorbar": {
              "outlinewidth": 0,
              "ticks": ""
             }
            },
            "type": "scatterpolar"
           }
          ],
          "scatterpolargl": [
           {
            "marker": {
             "colorbar": {
              "outlinewidth": 0,
              "ticks": ""
             }
            },
            "type": "scatterpolargl"
           }
          ],
          "scatterternary": [
           {
            "marker": {
             "colorbar": {
              "outlinewidth": 0,
              "ticks": ""
             }
            },
            "type": "scatterternary"
           }
          ],
          "surface": [
           {
            "colorbar": {
             "outlinewidth": 0,
             "ticks": ""
            },
            "colorscale": [
             [
              0,
              "#0d0887"
             ],
             [
              0.1111111111111111,
              "#46039f"
             ],
             [
              0.2222222222222222,
              "#7201a8"
             ],
             [
              0.3333333333333333,
              "#9c179e"
             ],
             [
              0.4444444444444444,
              "#bd3786"
             ],
             [
              0.5555555555555556,
              "#d8576b"
             ],
             [
              0.6666666666666666,
              "#ed7953"
             ],
             [
              0.7777777777777778,
              "#fb9f3a"
             ],
             [
              0.8888888888888888,
              "#fdca26"
             ],
             [
              1,
              "#f0f921"
             ]
            ],
            "type": "surface"
           }
          ],
          "table": [
           {
            "cells": {
             "fill": {
              "color": "#EBF0F8"
             },
             "line": {
              "color": "white"
             }
            },
            "header": {
             "fill": {
              "color": "#C8D4E3"
             },
             "line": {
              "color": "white"
             }
            },
            "type": "table"
           }
          ]
         },
         "layout": {
          "annotationdefaults": {
           "arrowcolor": "#2a3f5f",
           "arrowhead": 0,
           "arrowwidth": 1
          },
          "autotypenumbers": "strict",
          "coloraxis": {
           "colorbar": {
            "outlinewidth": 0,
            "ticks": ""
           }
          },
          "colorscale": {
           "diverging": [
            [
             0,
             "#8e0152"
            ],
            [
             0.1,
             "#c51b7d"
            ],
            [
             0.2,
             "#de77ae"
            ],
            [
             0.3,
             "#f1b6da"
            ],
            [
             0.4,
             "#fde0ef"
            ],
            [
             0.5,
             "#f7f7f7"
            ],
            [
             0.6,
             "#e6f5d0"
            ],
            [
             0.7,
             "#b8e186"
            ],
            [
             0.8,
             "#7fbc41"
            ],
            [
             0.9,
             "#4d9221"
            ],
            [
             1,
             "#276419"
            ]
           ],
           "sequential": [
            [
             0,
             "#0d0887"
            ],
            [
             0.1111111111111111,
             "#46039f"
            ],
            [
             0.2222222222222222,
             "#7201a8"
            ],
            [
             0.3333333333333333,
             "#9c179e"
            ],
            [
             0.4444444444444444,
             "#bd3786"
            ],
            [
             0.5555555555555556,
             "#d8576b"
            ],
            [
             0.6666666666666666,
             "#ed7953"
            ],
            [
             0.7777777777777778,
             "#fb9f3a"
            ],
            [
             0.8888888888888888,
             "#fdca26"
            ],
            [
             1,
             "#f0f921"
            ]
           ],
           "sequentialminus": [
            [
             0,
             "#0d0887"
            ],
            [
             0.1111111111111111,
             "#46039f"
            ],
            [
             0.2222222222222222,
             "#7201a8"
            ],
            [
             0.3333333333333333,
             "#9c179e"
            ],
            [
             0.4444444444444444,
             "#bd3786"
            ],
            [
             0.5555555555555556,
             "#d8576b"
            ],
            [
             0.6666666666666666,
             "#ed7953"
            ],
            [
             0.7777777777777778,
             "#fb9f3a"
            ],
            [
             0.8888888888888888,
             "#fdca26"
            ],
            [
             1,
             "#f0f921"
            ]
           ]
          },
          "colorway": [
           "#636efa",
           "#EF553B",
           "#00cc96",
           "#ab63fa",
           "#FFA15A",
           "#19d3f3",
           "#FF6692",
           "#B6E880",
           "#FF97FF",
           "#FECB52"
          ],
          "font": {
           "color": "#2a3f5f"
          },
          "geo": {
           "bgcolor": "white",
           "lakecolor": "white",
           "landcolor": "#E5ECF6",
           "showlakes": true,
           "showland": true,
           "subunitcolor": "white"
          },
          "hoverlabel": {
           "align": "left"
          },
          "hovermode": "closest",
          "mapbox": {
           "style": "light"
          },
          "paper_bgcolor": "white",
          "plot_bgcolor": "#E5ECF6",
          "polar": {
           "angularaxis": {
            "gridcolor": "white",
            "linecolor": "white",
            "ticks": ""
           },
           "bgcolor": "#E5ECF6",
           "radialaxis": {
            "gridcolor": "white",
            "linecolor": "white",
            "ticks": ""
           }
          },
          "scene": {
           "xaxis": {
            "backgroundcolor": "#E5ECF6",
            "gridcolor": "white",
            "gridwidth": 2,
            "linecolor": "white",
            "showbackground": true,
            "ticks": "",
            "zerolinecolor": "white"
           },
           "yaxis": {
            "backgroundcolor": "#E5ECF6",
            "gridcolor": "white",
            "gridwidth": 2,
            "linecolor": "white",
            "showbackground": true,
            "ticks": "",
            "zerolinecolor": "white"
           },
           "zaxis": {
            "backgroundcolor": "#E5ECF6",
            "gridcolor": "white",
            "gridwidth": 2,
            "linecolor": "white",
            "showbackground": true,
            "ticks": "",
            "zerolinecolor": "white"
           }
          },
          "shapedefaults": {
           "line": {
            "color": "#2a3f5f"
           }
          },
          "ternary": {
           "aaxis": {
            "gridcolor": "white",
            "linecolor": "white",
            "ticks": ""
           },
           "baxis": {
            "gridcolor": "white",
            "linecolor": "white",
            "ticks": ""
           },
           "bgcolor": "#E5ECF6",
           "caxis": {
            "gridcolor": "white",
            "linecolor": "white",
            "ticks": ""
           }
          },
          "title": {
           "x": 0.05
          },
          "xaxis": {
           "automargin": true,
           "gridcolor": "white",
           "linecolor": "white",
           "ticks": "",
           "title": {
            "standoff": 15
           },
           "zerolinecolor": "white",
           "zerolinewidth": 2
          },
          "yaxis": {
           "automargin": true,
           "gridcolor": "white",
           "linecolor": "white",
           "ticks": "",
           "title": {
            "standoff": 15
           },
           "zerolinecolor": "white",
           "zerolinewidth": 2
          }
         }
        }
       }
      }
     },
     "metadata": {},
     "output_type": "display_data"
    },
    {
     "name": "stdout",
     "output_type": "stream",
     "text": [
      "Корень квадратного уравнения x1 равен 0.763932, f(x1) = 0.000000\n",
      "Корень квадратного уравнения x2 равен 5.236068, f(x1) = 0.000000\n"
     ]
    }
   ],
   "source": [
    "solv.test()"
   ]
  },
  {
   "cell_type": "markdown",
   "metadata": {},
   "source": [
    "## Функция с 1 корнем"
   ]
  },
  {
   "cell_type": "code",
   "execution_count": 324,
   "metadata": {},
   "outputs": [],
   "source": [
    "solv = SolverQuad(func='(x**2)-(6*x)+9', deriv_sq='4*(x**3)-24*(x**2)+54*x-54', x1_start=0, x2_start=6)"
   ]
  },
  {
   "cell_type": "code",
   "execution_count": 325,
   "metadata": {},
   "outputs": [
    {
     "data": {
      "application/vnd.plotly.v1+json": {
       "config": {
        "plotlyServerURL": "https://plot.ly"
       },
       "data": [
        {
         "marker": {
          "color": "DarkGray"
         },
         "mode": "lines",
         "name": "f(x)=0",
         "type": "scatter",
         "x": [
          -0.7499999876796607,
          -0.7045454429718024,
          -0.6590908982639443,
          -0.613636353556086,
          -0.5681818088482278,
          -0.5227272641403695,
          -0.47727271943251137,
          -0.4318181747246531,
          -0.3863636300167949,
          -0.3409090853089367,
          -0.29545454060107845,
          -0.24999999589322025,
          -0.20454545118536205,
          -0.1590909064775038,
          -0.11363636176964553,
          -0.06818181706178739,
          -0.02272727235392913,
          0.02272727235392913,
          0.06818181706178728,
          0.11363636176964553,
          0.1590909064775038,
          0.20454545118536194,
          0.2499999958932202,
          0.29545454060107834,
          0.3409090853089366,
          0.38636363001679486,
          0.4318181747246531,
          0.47727271943251137,
          0.5227272641403696,
          0.5681818088482277,
          0.6136363535560859,
          0.6590908982639442,
          0.7045454429718024,
          0.7499999876796607,
          0.795454532387519,
          0.8409090770953772,
          0.8863636218032352,
          0.9318181665110935,
          0.9772727112189518,
          1.0227272559268101,
          1.0681818006346684,
          1.1136363453425266,
          1.1590908900503845,
          1.2045454347582427,
          1.249999979466101,
          1.2954545241739592,
          1.3409090688818175,
          1.3863636135896757,
          1.431818158297534,
          1.4772727030053923,
          1.5227272477132505,
          1.5681817924211088,
          1.613636337128967,
          1.6590908818368253,
          1.7045454265446836,
          1.7499999712525418,
          1.7954545159604,
          1.8409090606682583,
          1.8863636053761161,
          1.9318181500839744,
          1.9772726947918327,
          2.022727239499691,
          2.068181784207549,
          2.1136363289154074,
          2.1590908736232657,
          2.204545418331124,
          2.249999963038982,
          2.2954545077468405,
          2.3409090524546987,
          2.386363597162557,
          2.4318181418704152,
          2.477272686578273,
          2.5227272312861313,
          2.5681817759939896,
          2.613636320701848,
          2.659090865409706,
          2.7045454101175643,
          2.7499999548254226,
          2.795454499533281,
          2.840909044241139,
          2.8863635889489974,
          2.9318181336568556,
          2.977272678364714,
          3.022727223072572,
          3.06818176778043,
          3.113636312488288,
          3.1590908571961465,
          3.2045454019040047,
          3.249999946611863,
          3.2954544913197212,
          3.340909036027579,
          3.3863635807354378,
          3.4318181254432956,
          3.4772726701511543,
          3.522727214859012,
          3.568181759566871,
          3.6136363042747286,
          3.6590908489825873,
          3.704545393690445,
          3.7499999383983034
         ],
         "y": [
          0,
          0,
          0,
          0,
          0,
          0,
          0,
          0,
          0,
          0,
          0,
          0,
          0,
          0,
          0,
          0,
          0,
          0,
          0,
          0,
          0,
          0,
          0,
          0,
          0,
          0,
          0,
          0,
          0,
          0,
          0,
          0,
          0,
          0,
          0,
          0,
          0,
          0,
          0,
          0,
          0,
          0,
          0,
          0,
          0,
          0,
          0,
          0,
          0,
          0,
          0,
          0,
          0,
          0,
          0,
          0,
          0,
          0,
          0,
          0,
          0,
          0,
          0,
          0,
          0,
          0,
          0,
          0,
          0,
          0,
          0,
          0,
          0,
          0,
          0,
          0,
          0,
          0,
          0,
          0,
          0,
          0,
          0,
          0,
          0,
          0,
          0,
          0,
          0,
          0,
          0,
          0,
          0,
          0,
          0,
          0,
          0,
          0,
          0,
          0
         ]
        },
        {
         "marker": {
          "color": "Blue"
         },
         "mode": "lines",
         "name": "f(x)=x<sup>2</sup>",
         "type": "scatter",
         "x": [
          -0.7499999876796607,
          -0.7045454429718024,
          -0.6590908982639443,
          -0.613636353556086,
          -0.5681818088482278,
          -0.5227272641403695,
          -0.47727271943251137,
          -0.4318181747246531,
          -0.3863636300167949,
          -0.3409090853089367,
          -0.29545454060107845,
          -0.24999999589322025,
          -0.20454545118536205,
          -0.1590909064775038,
          -0.11363636176964553,
          -0.06818181706178739,
          -0.02272727235392913,
          0.02272727235392913,
          0.06818181706178728,
          0.11363636176964553,
          0.1590909064775038,
          0.20454545118536194,
          0.2499999958932202,
          0.29545454060107834,
          0.3409090853089366,
          0.38636363001679486,
          0.4318181747246531,
          0.47727271943251137,
          0.5227272641403696,
          0.5681818088482277,
          0.6136363535560859,
          0.6590908982639442,
          0.7045454429718024,
          0.7499999876796607,
          0.795454532387519,
          0.8409090770953772,
          0.8863636218032352,
          0.9318181665110935,
          0.9772727112189518,
          1.0227272559268101,
          1.0681818006346684,
          1.1136363453425266,
          1.1590908900503845,
          1.2045454347582427,
          1.249999979466101,
          1.2954545241739592,
          1.3409090688818175,
          1.3863636135896757,
          1.431818158297534,
          1.4772727030053923,
          1.5227272477132505,
          1.5681817924211088,
          1.613636337128967,
          1.6590908818368253,
          1.7045454265446836,
          1.7499999712525418,
          1.7954545159604,
          1.8409090606682583,
          1.8863636053761161,
          1.9318181500839744,
          1.9772726947918327,
          2.022727239499691,
          2.068181784207549,
          2.1136363289154074,
          2.1590908736232657,
          2.204545418331124,
          2.249999963038982,
          2.2954545077468405,
          2.3409090524546987,
          2.386363597162557,
          2.4318181418704152,
          2.477272686578273,
          2.5227272312861313,
          2.5681817759939896,
          2.613636320701848,
          2.659090865409706,
          2.7045454101175643,
          2.7499999548254226,
          2.795454499533281,
          2.840909044241139,
          2.8863635889489974,
          2.9318181336568556,
          2.977272678364714,
          3.022727223072572,
          3.06818176778043,
          3.113636312488288,
          3.1590908571961465,
          3.2045454019040047,
          3.249999946611863,
          3.2954544913197212,
          3.340909036027579,
          3.3863635807354378,
          3.4318181254432956,
          3.4772726701511543,
          3.522727214859012,
          3.568181759566871,
          3.6136363042747286,
          3.6590908489825873,
          3.704545393690445,
          3.7499999383983034
         ],
         "y": [
          197.75390365117846,
          188.33875978054718,
          179.26388039357101,
          170.52096687720152,
          162.1018230704018,
          153.99835526414654,
          146.20257220142193,
          138.7065850772258,
          131.50260753856762,
          124.58295568446826,
          117.94004806596027,
          111.56640568608783,
          105.4546519999065,
          99.59751291448364,
          93.98781678889803,
          88.6184944342401,
          83.48257911361176,
          78.57320654212663,
          73.88361488690977,
          69.4071447670979,
          65.1372392538393,
          61.06744387029378,
          57.19140659163274,
          53.502877845039194,
          49.99571050970767,
          46.66385991684431,
          43.501383849666794,
          40.50244254340442,
          37.661298685298036,
          34.972317414600035,
          32.42996632257444,
          30.028815452496787,
          27.76353729965422,
          25.628906811345463,
          23.619801386880784,
          21.73120087758205,
          19.9581875867827,
          18.295946269827702,
          16.739764134073646,
          15.285030838888686,
          13.92723849565253,
          12.66198166775648,
          11.484957370603407,
          10.391965071607732,
          9.378906690195468,
          8.441786597804208,
          7.5767116178831015,
          6.779891025892888,
          6.0476365493058495,
          5.376362367605877,
          4.76258511228842,
          4.202923866860494,
          3.694100166840686,
          3.2329379997591623,
          2.8163638051576743,
          2.441406474589527,
          2.105197351619599,
          1.8049702318243483,
          1.538061362791819,
          1.3019094441215966,
          1.0940556274248603,
          0.9121435163243623,
          0.7539191664544266,
          0.6172310854609402,
          0.5000302330013707,
          0.40037002074476247,
          0.31640631237172284,
          0.24639742357443747,
          0.18870412205666773,
          0.14178962753374078,
          0.1042196117325628,
          0.07466219839160645,
          0.051887963260924076,
          0.034769934102136225,
          0.02228359068843691,
          0.013506864804593842,
          0.007620140246948073,
          0.003906252823412015,
          0.0017504903534712798,
          0.0006405926681846213,
          0.00016675161018361393,
          0.00002161103367227685,
          2.668044275895966e-7,
          2.6679979936357173e-7,
          0.000021610908710157663,
          0.00016675103165536082,
          0.0006405910807029149,
          0.0017504869794940617,
          0.0039062466632425095,
          0.007620130078734255,
          0.01350684918432977,
          0.02228356794996033,
          0.03476990235713127,
          0.05188792039892043,
          0.07466214207997653,
          0.10421953941652544,
          0.14178953643635991,
          0.1887040091788524,
          0.24639728569494537,
          0.3164061460471502
         ]
        },
        {
         "marker": {
          "color": "Pink",
          "line": {
           "color": "Red",
           "width": 1.5
          },
          "size": 8
         },
         "mode": "markers",
         "name": "gradient descent",
         "type": "scatter",
         "x": [
          0,
          0.54,
          0.85208544,
          1.081464954079491,
          1.267576021181405,
          1.4272376637866948,
          1.5691193446931906,
          1.698172044037441,
          1.8173815838551373,
          1.9285822980357126,
          2.0328819307592836,
          2.130907592807877,
          2.22296340376118,
          2.3091422352069952,
          2.3894119254931243,
          2.463685167322651,
          2.5318762918714923,
          2.593945164146614,
          2.6499273924910667,
          2.6999504297311163,
          2.744236318472659,
          2.7830932057239535,
          2.8168988078757335,
          2.846079443234897,
          2.87108802350475,
          2.8923836754558425,
          2.9104147144394634,
          2.9256057617858673,
          2.9383490537473054,
          2.948999496385193,
          2.9578727670687726,
          2.965245695080198,
          2.971358205696275,
          2.9764162262397993,
          2.9805950868769644,
          2.984043077438022,
          2.986884931214081,
          2.989225093226347,
          2.9911506946497575,
          2.9927342001078165,
          2.994035724409641,
          2.995105033792495,
          2.995983257118017,
          2.9967043373222495,
          2.997296254668966,
          2.9977820523904954,
          2.9981806930816437,
          2.9985077713824957,
          2.9987761054570092,
          2.9989962267979373,
          2.9991767851074864,
          2.999324882488523,
          2.9994463489588585,
          2.9995459693695152,
          2.9996276701494886,
          2.999694672889103,
          2.9997496205832457,
          2.9997946813561067,
          2.999831633653664,
          2.9998619361945287,
          2.9998867853922246,
          2.9999071624835763,
          2.999923872202308,
          2.999937574510457,
          2.9999488106309515,
          2.9999580244029436,
          2.9999655797989826,
          2.9999717752929973,
          2.9999768556446624,
          2.999981021564344,
          2.999984437639541,
          2.9999872388353612,
          2.999989535825455,
          2.999991419363733,
          2.999992963869426,
          2.999994230366988,
          2.9999952688969356,
          2.9999961204928014,
          2.999996818802291,
          2.9999973914166644,
          2.999997860960848,
          2.9999982459873467,
          2.999998561709255,
          2.999998820601341,
          2.9999990328929327,
          2.9999992069720927,
          2.9999993497170405,
          2.999999466767923,
          2.9999995627496627,
          2.9999996414547003,
          2.999999705992839,
          2.999999758914118,
          2.99999980230957,
          2.9999998378938435,
          2.9999998670729484,
          2.999999890999816,
          2.999999910619848,
          2.9999999267082744,
          2.9999999399007846,
          2.999999950718643
         ],
         "y": [
          81,
          36.62186256,
          21.28472325415838,
          13.548117280347267,
          9.007758725755341,
          6.118604775266938,
          4.191926403137789,
          2.8721979908008297,
          1.956043689470173,
          1.3177568123310917,
          0.87481856364031,
          0.5705107379153187,
          0.36455737909929425,
          0.22780044733321628,
          0.13899310955862265,
          0.08273308770499012,
          0.048022254622798924,
          0.027185589080721884,
          0.015018706063128395,
          0.008105354916079626,
          0.0042791301779526066,
          0.0022135667537139542,
          0.001123995797764299,
          0.0005612889630862318,
          0.00027616781791112925,
          0.00013412589144372398,
          0.00006440902566678158,
          0.000030630719908966956,
          0.000014446378425503058,
          0.000006765468223992052,
          0.000003149573416032098,
          0.0000014589299115960297,
          6.729780289074119e-7,
          3.0935219365073244e-7,
          1.41790394508684e-7,
          6.483306444494953e-8,
          2.958573009125385e-8,
          1.3478888632793321e-8,
          6.132488235752582e-9,
          2.7869792230151673e-9,
          1.2654086840495284e-9,
          5.741148651981814e-10,
          2.6031316406083287e-10,
          1.179698467316848e-10,
          5.343959152186837e-11,
          2.419942980937648e-11,
          1.0955290141485317e-11,
          4.958398848293381e-12,
          2.2437578965962355e-12,
          1.0151784455783487e-12,
          4.592539227764517e-13,
          2.0773873959445527e-13,
          9.396031939932782e-14,
          4.2495272424420844e-14,
          1.921814291570205e-14,
          8.690834249748645e-15,
          3.930017262401067e-15,
          1.777106883802928e-15,
          8.035651658679819e-16,
          3.63345147691307e-16,
          1.642894889377091e-16,
          7.428383412782848e-17,
          3.3587131422278686e-17,
          1.5186166401970756e-17,
          6.866234956175561e-18,
          3.104469865506685e-18,
          1.4036285330860497e-18,
          6.346283530171162e-19,
          2.869339724514888e-19,
          1.2973178955651612e-19,
          5.865354456710196e-20,
          2.6519312572366166e-20,
          1.198985323973622e-20,
          5.420852413719366e-21,
          2.45094949621025e-21,
          1.1081526721535784e-21,
          5.009582292515513e-22,
          2.264812843131304e-22,
          1.0241247546968105e-22,
          4.6311060783965593e-23,
          2.093881704881546e-23,
          9.454848203315745e-24,
          4.282646968354351e-24,
          1.939512354238105e-24,
          8.796871944045382e-25,
          3.9319667415474024e-25,
          1.7873694846135597e-25,
          8.077935669463161e-26,
          3.6805094393991527e-26,
          1.63578197306629e-26,
          7.270142102516845e-27,
          3.4362781031427274e-27,
          1.669229675447661e-27,
          7.099748146989106e-28,
          2.5559093329160782e-28,
          2.0194839173657902e-28,
          7.888609052210118e-29,
          1.262177448353619e-29,
          2.8398992587956425e-29,
          3.1554436208840472e-30
         ]
        }
       ],
       "layout": {
        "legend": {
         "orientation": "h",
         "x": 0.5,
         "xanchor": "center"
        },
        "margin": {
         "b": 0,
         "l": 0,
         "r": 0,
         "t": 0
        },
        "template": {
         "data": {
          "bar": [
           {
            "error_x": {
             "color": "#2a3f5f"
            },
            "error_y": {
             "color": "#2a3f5f"
            },
            "marker": {
             "line": {
              "color": "#E5ECF6",
              "width": 0.5
             },
             "pattern": {
              "fillmode": "overlay",
              "size": 10,
              "solidity": 0.2
             }
            },
            "type": "bar"
           }
          ],
          "barpolar": [
           {
            "marker": {
             "line": {
              "color": "#E5ECF6",
              "width": 0.5
             },
             "pattern": {
              "fillmode": "overlay",
              "size": 10,
              "solidity": 0.2
             }
            },
            "type": "barpolar"
           }
          ],
          "carpet": [
           {
            "aaxis": {
             "endlinecolor": "#2a3f5f",
             "gridcolor": "white",
             "linecolor": "white",
             "minorgridcolor": "white",
             "startlinecolor": "#2a3f5f"
            },
            "baxis": {
             "endlinecolor": "#2a3f5f",
             "gridcolor": "white",
             "linecolor": "white",
             "minorgridcolor": "white",
             "startlinecolor": "#2a3f5f"
            },
            "type": "carpet"
           }
          ],
          "choropleth": [
           {
            "colorbar": {
             "outlinewidth": 0,
             "ticks": ""
            },
            "type": "choropleth"
           }
          ],
          "contour": [
           {
            "colorbar": {
             "outlinewidth": 0,
             "ticks": ""
            },
            "colorscale": [
             [
              0,
              "#0d0887"
             ],
             [
              0.1111111111111111,
              "#46039f"
             ],
             [
              0.2222222222222222,
              "#7201a8"
             ],
             [
              0.3333333333333333,
              "#9c179e"
             ],
             [
              0.4444444444444444,
              "#bd3786"
             ],
             [
              0.5555555555555556,
              "#d8576b"
             ],
             [
              0.6666666666666666,
              "#ed7953"
             ],
             [
              0.7777777777777778,
              "#fb9f3a"
             ],
             [
              0.8888888888888888,
              "#fdca26"
             ],
             [
              1,
              "#f0f921"
             ]
            ],
            "type": "contour"
           }
          ],
          "contourcarpet": [
           {
            "colorbar": {
             "outlinewidth": 0,
             "ticks": ""
            },
            "type": "contourcarpet"
           }
          ],
          "heatmap": [
           {
            "colorbar": {
             "outlinewidth": 0,
             "ticks": ""
            },
            "colorscale": [
             [
              0,
              "#0d0887"
             ],
             [
              0.1111111111111111,
              "#46039f"
             ],
             [
              0.2222222222222222,
              "#7201a8"
             ],
             [
              0.3333333333333333,
              "#9c179e"
             ],
             [
              0.4444444444444444,
              "#bd3786"
             ],
             [
              0.5555555555555556,
              "#d8576b"
             ],
             [
              0.6666666666666666,
              "#ed7953"
             ],
             [
              0.7777777777777778,
              "#fb9f3a"
             ],
             [
              0.8888888888888888,
              "#fdca26"
             ],
             [
              1,
              "#f0f921"
             ]
            ],
            "type": "heatmap"
           }
          ],
          "heatmapgl": [
           {
            "colorbar": {
             "outlinewidth": 0,
             "ticks": ""
            },
            "colorscale": [
             [
              0,
              "#0d0887"
             ],
             [
              0.1111111111111111,
              "#46039f"
             ],
             [
              0.2222222222222222,
              "#7201a8"
             ],
             [
              0.3333333333333333,
              "#9c179e"
             ],
             [
              0.4444444444444444,
              "#bd3786"
             ],
             [
              0.5555555555555556,
              "#d8576b"
             ],
             [
              0.6666666666666666,
              "#ed7953"
             ],
             [
              0.7777777777777778,
              "#fb9f3a"
             ],
             [
              0.8888888888888888,
              "#fdca26"
             ],
             [
              1,
              "#f0f921"
             ]
            ],
            "type": "heatmapgl"
           }
          ],
          "histogram": [
           {
            "marker": {
             "pattern": {
              "fillmode": "overlay",
              "size": 10,
              "solidity": 0.2
             }
            },
            "type": "histogram"
           }
          ],
          "histogram2d": [
           {
            "colorbar": {
             "outlinewidth": 0,
             "ticks": ""
            },
            "colorscale": [
             [
              0,
              "#0d0887"
             ],
             [
              0.1111111111111111,
              "#46039f"
             ],
             [
              0.2222222222222222,
              "#7201a8"
             ],
             [
              0.3333333333333333,
              "#9c179e"
             ],
             [
              0.4444444444444444,
              "#bd3786"
             ],
             [
              0.5555555555555556,
              "#d8576b"
             ],
             [
              0.6666666666666666,
              "#ed7953"
             ],
             [
              0.7777777777777778,
              "#fb9f3a"
             ],
             [
              0.8888888888888888,
              "#fdca26"
             ],
             [
              1,
              "#f0f921"
             ]
            ],
            "type": "histogram2d"
           }
          ],
          "histogram2dcontour": [
           {
            "colorbar": {
             "outlinewidth": 0,
             "ticks": ""
            },
            "colorscale": [
             [
              0,
              "#0d0887"
             ],
             [
              0.1111111111111111,
              "#46039f"
             ],
             [
              0.2222222222222222,
              "#7201a8"
             ],
             [
              0.3333333333333333,
              "#9c179e"
             ],
             [
              0.4444444444444444,
              "#bd3786"
             ],
             [
              0.5555555555555556,
              "#d8576b"
             ],
             [
              0.6666666666666666,
              "#ed7953"
             ],
             [
              0.7777777777777778,
              "#fb9f3a"
             ],
             [
              0.8888888888888888,
              "#fdca26"
             ],
             [
              1,
              "#f0f921"
             ]
            ],
            "type": "histogram2dcontour"
           }
          ],
          "mesh3d": [
           {
            "colorbar": {
             "outlinewidth": 0,
             "ticks": ""
            },
            "type": "mesh3d"
           }
          ],
          "parcoords": [
           {
            "line": {
             "colorbar": {
              "outlinewidth": 0,
              "ticks": ""
             }
            },
            "type": "parcoords"
           }
          ],
          "pie": [
           {
            "automargin": true,
            "type": "pie"
           }
          ],
          "scatter": [
           {
            "fillpattern": {
             "fillmode": "overlay",
             "size": 10,
             "solidity": 0.2
            },
            "type": "scatter"
           }
          ],
          "scatter3d": [
           {
            "line": {
             "colorbar": {
              "outlinewidth": 0,
              "ticks": ""
             }
            },
            "marker": {
             "colorbar": {
              "outlinewidth": 0,
              "ticks": ""
             }
            },
            "type": "scatter3d"
           }
          ],
          "scattercarpet": [
           {
            "marker": {
             "colorbar": {
              "outlinewidth": 0,
              "ticks": ""
             }
            },
            "type": "scattercarpet"
           }
          ],
          "scattergeo": [
           {
            "marker": {
             "colorbar": {
              "outlinewidth": 0,
              "ticks": ""
             }
            },
            "type": "scattergeo"
           }
          ],
          "scattergl": [
           {
            "marker": {
             "colorbar": {
              "outlinewidth": 0,
              "ticks": ""
             }
            },
            "type": "scattergl"
           }
          ],
          "scattermapbox": [
           {
            "marker": {
             "colorbar": {
              "outlinewidth": 0,
              "ticks": ""
             }
            },
            "type": "scattermapbox"
           }
          ],
          "scatterpolar": [
           {
            "marker": {
             "colorbar": {
              "outlinewidth": 0,
              "ticks": ""
             }
            },
            "type": "scatterpolar"
           }
          ],
          "scatterpolargl": [
           {
            "marker": {
             "colorbar": {
              "outlinewidth": 0,
              "ticks": ""
             }
            },
            "type": "scatterpolargl"
           }
          ],
          "scatterternary": [
           {
            "marker": {
             "colorbar": {
              "outlinewidth": 0,
              "ticks": ""
             }
            },
            "type": "scatterternary"
           }
          ],
          "surface": [
           {
            "colorbar": {
             "outlinewidth": 0,
             "ticks": ""
            },
            "colorscale": [
             [
              0,
              "#0d0887"
             ],
             [
              0.1111111111111111,
              "#46039f"
             ],
             [
              0.2222222222222222,
              "#7201a8"
             ],
             [
              0.3333333333333333,
              "#9c179e"
             ],
             [
              0.4444444444444444,
              "#bd3786"
             ],
             [
              0.5555555555555556,
              "#d8576b"
             ],
             [
              0.6666666666666666,
              "#ed7953"
             ],
             [
              0.7777777777777778,
              "#fb9f3a"
             ],
             [
              0.8888888888888888,
              "#fdca26"
             ],
             [
              1,
              "#f0f921"
             ]
            ],
            "type": "surface"
           }
          ],
          "table": [
           {
            "cells": {
             "fill": {
              "color": "#EBF0F8"
             },
             "line": {
              "color": "white"
             }
            },
            "header": {
             "fill": {
              "color": "#C8D4E3"
             },
             "line": {
              "color": "white"
             }
            },
            "type": "table"
           }
          ]
         },
         "layout": {
          "annotationdefaults": {
           "arrowcolor": "#2a3f5f",
           "arrowhead": 0,
           "arrowwidth": 1
          },
          "autotypenumbers": "strict",
          "coloraxis": {
           "colorbar": {
            "outlinewidth": 0,
            "ticks": ""
           }
          },
          "colorscale": {
           "diverging": [
            [
             0,
             "#8e0152"
            ],
            [
             0.1,
             "#c51b7d"
            ],
            [
             0.2,
             "#de77ae"
            ],
            [
             0.3,
             "#f1b6da"
            ],
            [
             0.4,
             "#fde0ef"
            ],
            [
             0.5,
             "#f7f7f7"
            ],
            [
             0.6,
             "#e6f5d0"
            ],
            [
             0.7,
             "#b8e186"
            ],
            [
             0.8,
             "#7fbc41"
            ],
            [
             0.9,
             "#4d9221"
            ],
            [
             1,
             "#276419"
            ]
           ],
           "sequential": [
            [
             0,
             "#0d0887"
            ],
            [
             0.1111111111111111,
             "#46039f"
            ],
            [
             0.2222222222222222,
             "#7201a8"
            ],
            [
             0.3333333333333333,
             "#9c179e"
            ],
            [
             0.4444444444444444,
             "#bd3786"
            ],
            [
             0.5555555555555556,
             "#d8576b"
            ],
            [
             0.6666666666666666,
             "#ed7953"
            ],
            [
             0.7777777777777778,
             "#fb9f3a"
            ],
            [
             0.8888888888888888,
             "#fdca26"
            ],
            [
             1,
             "#f0f921"
            ]
           ],
           "sequentialminus": [
            [
             0,
             "#0d0887"
            ],
            [
             0.1111111111111111,
             "#46039f"
            ],
            [
             0.2222222222222222,
             "#7201a8"
            ],
            [
             0.3333333333333333,
             "#9c179e"
            ],
            [
             0.4444444444444444,
             "#bd3786"
            ],
            [
             0.5555555555555556,
             "#d8576b"
            ],
            [
             0.6666666666666666,
             "#ed7953"
            ],
            [
             0.7777777777777778,
             "#fb9f3a"
            ],
            [
             0.8888888888888888,
             "#fdca26"
            ],
            [
             1,
             "#f0f921"
            ]
           ]
          },
          "colorway": [
           "#636efa",
           "#EF553B",
           "#00cc96",
           "#ab63fa",
           "#FFA15A",
           "#19d3f3",
           "#FF6692",
           "#B6E880",
           "#FF97FF",
           "#FECB52"
          ],
          "font": {
           "color": "#2a3f5f"
          },
          "geo": {
           "bgcolor": "white",
           "lakecolor": "white",
           "landcolor": "#E5ECF6",
           "showlakes": true,
           "showland": true,
           "subunitcolor": "white"
          },
          "hoverlabel": {
           "align": "left"
          },
          "hovermode": "closest",
          "mapbox": {
           "style": "light"
          },
          "paper_bgcolor": "white",
          "plot_bgcolor": "#E5ECF6",
          "polar": {
           "angularaxis": {
            "gridcolor": "white",
            "linecolor": "white",
            "ticks": ""
           },
           "bgcolor": "#E5ECF6",
           "radialaxis": {
            "gridcolor": "white",
            "linecolor": "white",
            "ticks": ""
           }
          },
          "scene": {
           "xaxis": {
            "backgroundcolor": "#E5ECF6",
            "gridcolor": "white",
            "gridwidth": 2,
            "linecolor": "white",
            "showbackground": true,
            "ticks": "",
            "zerolinecolor": "white"
           },
           "yaxis": {
            "backgroundcolor": "#E5ECF6",
            "gridcolor": "white",
            "gridwidth": 2,
            "linecolor": "white",
            "showbackground": true,
            "ticks": "",
            "zerolinecolor": "white"
           },
           "zaxis": {
            "backgroundcolor": "#E5ECF6",
            "gridcolor": "white",
            "gridwidth": 2,
            "linecolor": "white",
            "showbackground": true,
            "ticks": "",
            "zerolinecolor": "white"
           }
          },
          "shapedefaults": {
           "line": {
            "color": "#2a3f5f"
           }
          },
          "ternary": {
           "aaxis": {
            "gridcolor": "white",
            "linecolor": "white",
            "ticks": ""
           },
           "baxis": {
            "gridcolor": "white",
            "linecolor": "white",
            "ticks": ""
           },
           "bgcolor": "#E5ECF6",
           "caxis": {
            "gridcolor": "white",
            "linecolor": "white",
            "ticks": ""
           }
          },
          "title": {
           "x": 0.05
          },
          "xaxis": {
           "automargin": true,
           "gridcolor": "white",
           "linecolor": "white",
           "ticks": "",
           "title": {
            "standoff": 15
           },
           "zerolinecolor": "white",
           "zerolinewidth": 2
          },
          "yaxis": {
           "automargin": true,
           "gridcolor": "white",
           "linecolor": "white",
           "ticks": "",
           "title": {
            "standoff": 15
           },
           "zerolinecolor": "white",
           "zerolinewidth": 2
          }
         }
        }
       }
      }
     },
     "metadata": {},
     "output_type": "display_data"
    },
    {
     "name": "stdout",
     "output_type": "stream",
     "text": [
      "Корень квадратного уравнения x1 найден за 99 циклов (задана точность градиента 1e-06). Значение f(x) в этой точке 1.7763568394002505e-15\n",
      "x1 = 2.999999950718643; gradient x1 = -8.870643881664364e-07\n"
     ]
    }
   ],
   "source": [
    "solv.grad_x1(x1_start=None, LR= 0.01, iters=100)"
   ]
  },
  {
   "cell_type": "code",
   "execution_count": 326,
   "metadata": {},
   "outputs": [
    {
     "data": {
      "application/vnd.plotly.v1+json": {
       "config": {
        "plotlyServerURL": "https://plot.ly"
       },
       "data": [
        {
         "marker": {
          "color": "DarkGray"
         },
         "mode": "lines",
         "name": "f(x)=0",
         "type": "scatter",
         "x": [
          2.2500000685965595,
          2.2954546132196314,
          2.3409091578427037,
          2.3863637024657756,
          2.4318182470888474,
          2.4772727917119197,
          2.5227273363349916,
          2.5681818809580634,
          2.6136364255811357,
          2.6590909702042076,
          2.7045455148272795,
          2.7500000594503518,
          2.7954546040734236,
          2.8409091486964955,
          2.8863636933195673,
          2.9318182379426396,
          2.9772727825657115,
          3.0227273271887833,
          3.0681818718118556,
          3.1136364164349275,
          3.1590909610579994,
          3.2045455056810717,
          3.2500000503041435,
          3.2954545949272154,
          3.3409091395502877,
          3.3863636841733595,
          3.4318182287964314,
          3.4772727734195037,
          3.5227273180425756,
          3.5681818626656474,
          3.6136364072887197,
          3.6590909519117916,
          3.7045454965348634,
          3.7500000411579357,
          3.7954545857810076,
          3.8409091304040794,
          3.8863636750271517,
          3.9318182196502236,
          3.9772727642732955,
          4.022727308896368,
          4.068181853519439,
          4.1136363981425115,
          4.159090942765584,
          4.204545487388655,
          4.2500000320117275,
          4.2954545766348,
          4.340909121257871,
          4.3863636658809435,
          4.431818210504016,
          4.477272755127087,
          4.5227272997501595,
          4.568181844373232,
          4.613636388996303,
          4.6590909336193755,
          4.704545478242448,
          4.750000022865519,
          4.795454567488592,
          4.840909112111664,
          4.886363656734735,
          4.931818201357808,
          4.97727274598088,
          5.022727290603951,
          5.068181835227024,
          5.113636379850096,
          5.159090924473167,
          5.20454546909624,
          5.250000013719312,
          5.295454558342383,
          5.340909102965456,
          5.386363647588528,
          5.431818192211599,
          5.477272736834672,
          5.522727281457744,
          5.568181826080815,
          5.613636370703888,
          5.65909091532696,
          5.704545459950031,
          5.750000004573104,
          5.795454549196176,
          5.840909093819247,
          5.88636363844232,
          5.931818183065392,
          5.977272727688463,
          6.022727272311536,
          6.068181816934608,
          6.113636361557679,
          6.159090906180752,
          6.204545450803824,
          6.249999995426895,
          6.295454540049968,
          6.34090908467304,
          6.3863636292961115,
          6.431818173919184,
          6.477272718542256,
          6.5227272631653275,
          6.5681818077884,
          6.613636352411472,
          6.6590908970345435,
          6.704545441657616,
          6.749999986280688
         ],
         "y": [
          0,
          0,
          0,
          0,
          0,
          0,
          0,
          0,
          0,
          0,
          0,
          0,
          0,
          0,
          0,
          0,
          0,
          0,
          0,
          0,
          0,
          0,
          0,
          0,
          0,
          0,
          0,
          0,
          0,
          0,
          0,
          0,
          0,
          0,
          0,
          0,
          0,
          0,
          0,
          0,
          0,
          0,
          0,
          0,
          0,
          0,
          0,
          0,
          0,
          0,
          0,
          0,
          0,
          0,
          0,
          0,
          0,
          0,
          0,
          0,
          0,
          0,
          0,
          0,
          0,
          0,
          0,
          0,
          0,
          0,
          0,
          0,
          0,
          0,
          0,
          0,
          0,
          0,
          0,
          0,
          0,
          0,
          0,
          0,
          0,
          0,
          0,
          0,
          0,
          0,
          0,
          0,
          0,
          0,
          0,
          0,
          0,
          0,
          0,
          0
         ]
        },
        {
         "marker": {
          "color": "Blue"
         },
         "mode": "lines",
         "name": "f(x)=x<sup>2</sup>",
         "type": "scatter",
         "x": [
          2.2500000685965595,
          2.2954546132196314,
          2.3409091578427037,
          2.3863637024657756,
          2.4318182470888474,
          2.4772727917119197,
          2.5227273363349916,
          2.5681818809580634,
          2.6136364255811357,
          2.6590909702042076,
          2.7045455148272795,
          2.7500000594503518,
          2.7954546040734236,
          2.8409091486964955,
          2.8863636933195673,
          2.9318182379426396,
          2.9772727825657115,
          3.0227273271887833,
          3.0681818718118556,
          3.1136364164349275,
          3.1590909610579994,
          3.2045455056810717,
          3.2500000503041435,
          3.2954545949272154,
          3.3409091395502877,
          3.3863636841733595,
          3.4318182287964314,
          3.4772727734195037,
          3.5227273180425756,
          3.5681818626656474,
          3.6136364072887197,
          3.6590909519117916,
          3.7045454965348634,
          3.7500000411579357,
          3.7954545857810076,
          3.8409091304040794,
          3.8863636750271517,
          3.9318182196502236,
          3.9772727642732955,
          4.022727308896368,
          4.068181853519439,
          4.1136363981425115,
          4.159090942765584,
          4.204545487388655,
          4.2500000320117275,
          4.2954545766348,
          4.340909121257871,
          4.3863636658809435,
          4.431818210504016,
          4.477272755127087,
          4.5227272997501595,
          4.568181844373232,
          4.613636388996303,
          4.6590909336193755,
          4.704545478242448,
          4.750000022865519,
          4.795454567488592,
          4.840909112111664,
          4.886363656734735,
          4.931818201357808,
          4.97727274598088,
          5.022727290603951,
          5.068181835227024,
          5.113636379850096,
          5.159090924473167,
          5.20454546909624,
          5.250000013719312,
          5.295454558342383,
          5.340909102965456,
          5.386363647588528,
          5.431818192211599,
          5.477272736834672,
          5.522727281457744,
          5.568181826080815,
          5.613636370703888,
          5.65909091532696,
          5.704545459950031,
          5.750000004573104,
          5.795454549196176,
          5.840909093819247,
          5.88636363844232,
          5.931818183065392,
          5.977272727688463,
          6.022727272311536,
          6.068181816934608,
          6.113636361557679,
          6.159090906180752,
          6.204545450803824,
          6.249999995426895,
          6.295454540049968,
          6.34090908467304,
          6.3863636292961115,
          6.431818173919184,
          6.477272718542256,
          6.5227272631653275,
          6.5681818077884,
          6.613636352411472,
          6.6590908970345435,
          6.704545441657616,
          6.749999986280688
         ],
         "y": [
          0.31640613424332237,
          0.24639727602843287,
          0.18870400136227125,
          0.1417895302063971,
          0.10421953453318644,
          0.07466213832582132,
          0.05188791757828823,
          0.03476990029538661,
          0.022283566492724165,
          0.013506848196713918,
          0.007620129444579887,
          0.0039062462843544262,
          0.0017504867748763132,
          0.0006405909857943118,
          0.00016675099756526123,
          0.000021610901454204575,
          2.6679953460871677e-7,
          2.668046883684081e-7,
          0.000021611040605749273,
          0.00016675164178536026,
          0.0006405927535341556,
          0.0017504905319678712,
          0.0039062531440099075,
          0.007620140767392409,
          0.013506865590656593,
          0.022283591813150302,
          0.034769935645030954,
          0.051887965307266436,
          0.07466220103162713,
          0.10421961506069767,
          0.14178963164787048,
          0.18870412705734105,
          0.2463974295641178,
          0.31640631945402237,
          0.40037002902366964,
          0.500030242580498,
          0.6172310964427518,
          0.7539191789394725,
          0.9121435304105201,
          1.0940556432065678,
          1.3019094616890876,
          1.5380613822303502,
          1.8049702532134724,
          2.105197375032317,
          2.4414065000916203,
          2.8163638328069127,
          3.232938029604472,
          3.694100198921467,
          4.202923901205841,
          4.762585148916315,
          5.376362406522478,
          6.047636590504698,
          6.779891069354116,
          7.576711663572732,
          8.441786645673377,
          9.37890674017957,
          10.391965123625805,
          11.484957424557257,
          12.661981723529923,
          13.927238553110689,
          15.285030897877197,
          16.739764194417845,
          18.295946331331947,
          19.958187649229572,
          21.7312009407315,
          23.619801450469545,
          25.62890687508617,
          27.76353736323457,
          30.028815515578955,
          32.42996638479429,
          34.97231747556614,
          37.66129874459113,
          40.502442600576714,
          43.50138390424083,
          46.66385996831253,
          49.99571055753173,
          53.502877888648705,
          57.19140663042504,
          61.067443903632935,
          65.13723928105539,
          69.40714478748598,
          73.8836148997298,
          78.5732065466018,
          83.48257910892845,
          88.6184944195468,
          93.98781676330458,
          99.59751287706044,
          105.4546519496841,
          111.5664056220556,
          117.94004798706614,
          124.58295558961764,
          131.50260742662246,
          138.70658494700461,
          146.20257205169807,
          153.99835509364814,
          162.1018228778106,
          170.52096666115253,
          179.26388015265093,
          188.33875951329452,
          197.7539033560827
         ]
        },
        {
         "marker": {
          "color": "Pink",
          "line": {
           "color": "Red",
           "width": 1.5
          },
          "size": 8
         },
         "mode": "markers",
         "name": "gradient descent",
         "type": "scatter",
         "x": [
          6,
          3.3,
          3.2341199999999994,
          3.184887634021178,
          3.147253043638524,
          3.118017762507738,
          3.0950374312207787,
          3.0768125044470866,
          3.0622601061006502,
          3.0505784748993325,
          3.0411621920046636,
          3.03354688863078,
          3.027371891290489,
          3.022354224103053,
          3.0182700515779066,
          3.014941142981807,
          3.0122248152975617,
          3.0100063419328706,
          3.0081931450833372,
          3.0067103016537184,
          3.005497031892157,
          3.0045039334241825,
          3.0036907875033085,
          3.0030248091122025,
          3.0024792444285704,
          3.002032242223513,
          3.0016659426865386,
          3.0013657397742133,
          3.001119682683542,
          3.000917989301638,
          3.0007526500718766,
          3.0006171050640287,
          3.0005059804448644,
          3.0004148732376623,
          3.0003401753976506,
          3.0002789299381827,
          3.0002287132122123,
          3.000187538556368,
          3.0001537773954725,
          3.0001260946264434,
          3.0001033956856213,
          3.000084783179285,
          3.0000695213444066,
          3.0000570069224137,
          3.0000467452863973,
          3.000038330872627,
          3.000031431139241,
          3.0000257734156266,
          3.000021134121101,
          3.0000173299257042,
          3.0000142105030383,
          3.0000116525882587,
          3.0000095551060784,
          3.0000078351760284,
          3.0000064248369767,
          3.000005268361367,
          3.0000043200529904,
          3.000003542441213,
          3.0000029048002883,
          3.0000023819352237,
          3.0000019531862026,
          3.000001601612228,
          3.0000013133217194,
          3.0000010769236023,
          3.0000008830772145,
          3.0000007241232223,
          3.0000005937809795,
          3.000000486900361,
          3.0000003992582673,
          3.00000032739176,
          3.00000026846123,
          3.0000002201382,
          3.000000180513318,
          3.000000148020917,
          3.000000121377149,
          3.0000000995292604,
          3.0000000816139925,
          3.000000066923473,
          3.0000000548772476
         ],
         "y": [
          81,
          0.008100000000000294,
          0.0030043744624558538,
          0.0011685073797600015,
          0.0004701723881684455,
          0.0001939945398357359,
          0.0000815790712609149,
          0.0000348118979311985,
          0.000015025863034935168,
          0.000006544295775163111,
          0.0000028707407658333765,
          0.000001266511062847874,
          5.6133125695149e-7,
          2.4971141857540434e-7,
          1.1141895826666182e-7,
          4.983509463475494e-8,
          2.2334139512470816e-8,
          1.0025391873639292e-8,
          4.506118220335403e-9,
          2.027534138025751e-9,
          9.130888225553421e-10,
          4.1149811401626274e-10,
          1.855564973321678e-10,
          8.37128043256953e-11,
          3.778134233707792e-11,
          1.7056969847587803e-11,
          7.70265108558199e-12,
          3.4791394012653175e-12,
          1.571736887481228e-12,
          7.10150634740596e-13,
          3.2090200623067043e-13,
          1.450228519273585e-13,
          6.554429933289878e-14,
          2.962522714627062e-14,
          1.3390956168452801e-14,
          6.053137307284351e-15,
          2.7363083977494824e-15,
          1.2369788973457552e-15,
          5.592035821709683e-16,
          2.5280540982792764e-16,
          1.1429034230592845e-16,
          5.1670069712688473e-17,
          2.335999884595058e-17,
          1.0561145098806908e-17,
          4.774755607652661e-18,
          2.1587100785210995e-18,
          9.759805985917985e-19,
          4.412504662588364e-19,
          1.9949844929704493e-19,
          9.019623153526261e-20,
          4.077968210380122e-20,
          1.8437489317475985e-20,
          8.335907082044138e-21,
          3.7686235648371005e-21,
          1.703954209157561e-21,
          7.703719777548943e-22,
          3.483516640314736e-22,
          1.5750152286762103e-22,
          7.119469669619632e-23,
          3.217053342037446e-23,
          1.455891394417139e-23,
          6.579529089875679e-24,
          2.975081618957936e-24,
          1.3455095589375457e-24,
          6.108938850031515e-25,
          2.746024811074342e-25,
          1.2495872283062915e-25,
          5.665914565659395e-26,
          2.5559093329160782e-26,
          1.135959703518257e-26,
          5.3043007267060834e-27,
          2.473867798773093e-27,
          1.0223637331664313e-27,
          4.543838814073028e-28,
          1.5461673742331831e-28,
          7.888609052210118e-29,
          2.8398992587956425e-29,
          2.8398992587956425e-29,
          1.262177448353619e-29
         ]
        }
       ],
       "layout": {
        "legend": {
         "orientation": "h",
         "x": 0.5,
         "xanchor": "center"
        },
        "margin": {
         "b": 0,
         "l": 0,
         "r": 0,
         "t": 0
        },
        "template": {
         "data": {
          "bar": [
           {
            "error_x": {
             "color": "#2a3f5f"
            },
            "error_y": {
             "color": "#2a3f5f"
            },
            "marker": {
             "line": {
              "color": "#E5ECF6",
              "width": 0.5
             },
             "pattern": {
              "fillmode": "overlay",
              "size": 10,
              "solidity": 0.2
             }
            },
            "type": "bar"
           }
          ],
          "barpolar": [
           {
            "marker": {
             "line": {
              "color": "#E5ECF6",
              "width": 0.5
             },
             "pattern": {
              "fillmode": "overlay",
              "size": 10,
              "solidity": 0.2
             }
            },
            "type": "barpolar"
           }
          ],
          "carpet": [
           {
            "aaxis": {
             "endlinecolor": "#2a3f5f",
             "gridcolor": "white",
             "linecolor": "white",
             "minorgridcolor": "white",
             "startlinecolor": "#2a3f5f"
            },
            "baxis": {
             "endlinecolor": "#2a3f5f",
             "gridcolor": "white",
             "linecolor": "white",
             "minorgridcolor": "white",
             "startlinecolor": "#2a3f5f"
            },
            "type": "carpet"
           }
          ],
          "choropleth": [
           {
            "colorbar": {
             "outlinewidth": 0,
             "ticks": ""
            },
            "type": "choropleth"
           }
          ],
          "contour": [
           {
            "colorbar": {
             "outlinewidth": 0,
             "ticks": ""
            },
            "colorscale": [
             [
              0,
              "#0d0887"
             ],
             [
              0.1111111111111111,
              "#46039f"
             ],
             [
              0.2222222222222222,
              "#7201a8"
             ],
             [
              0.3333333333333333,
              "#9c179e"
             ],
             [
              0.4444444444444444,
              "#bd3786"
             ],
             [
              0.5555555555555556,
              "#d8576b"
             ],
             [
              0.6666666666666666,
              "#ed7953"
             ],
             [
              0.7777777777777778,
              "#fb9f3a"
             ],
             [
              0.8888888888888888,
              "#fdca26"
             ],
             [
              1,
              "#f0f921"
             ]
            ],
            "type": "contour"
           }
          ],
          "contourcarpet": [
           {
            "colorbar": {
             "outlinewidth": 0,
             "ticks": ""
            },
            "type": "contourcarpet"
           }
          ],
          "heatmap": [
           {
            "colorbar": {
             "outlinewidth": 0,
             "ticks": ""
            },
            "colorscale": [
             [
              0,
              "#0d0887"
             ],
             [
              0.1111111111111111,
              "#46039f"
             ],
             [
              0.2222222222222222,
              "#7201a8"
             ],
             [
              0.3333333333333333,
              "#9c179e"
             ],
             [
              0.4444444444444444,
              "#bd3786"
             ],
             [
              0.5555555555555556,
              "#d8576b"
             ],
             [
              0.6666666666666666,
              "#ed7953"
             ],
             [
              0.7777777777777778,
              "#fb9f3a"
             ],
             [
              0.8888888888888888,
              "#fdca26"
             ],
             [
              1,
              "#f0f921"
             ]
            ],
            "type": "heatmap"
           }
          ],
          "heatmapgl": [
           {
            "colorbar": {
             "outlinewidth": 0,
             "ticks": ""
            },
            "colorscale": [
             [
              0,
              "#0d0887"
             ],
             [
              0.1111111111111111,
              "#46039f"
             ],
             [
              0.2222222222222222,
              "#7201a8"
             ],
             [
              0.3333333333333333,
              "#9c179e"
             ],
             [
              0.4444444444444444,
              "#bd3786"
             ],
             [
              0.5555555555555556,
              "#d8576b"
             ],
             [
              0.6666666666666666,
              "#ed7953"
             ],
             [
              0.7777777777777778,
              "#fb9f3a"
             ],
             [
              0.8888888888888888,
              "#fdca26"
             ],
             [
              1,
              "#f0f921"
             ]
            ],
            "type": "heatmapgl"
           }
          ],
          "histogram": [
           {
            "marker": {
             "pattern": {
              "fillmode": "overlay",
              "size": 10,
              "solidity": 0.2
             }
            },
            "type": "histogram"
           }
          ],
          "histogram2d": [
           {
            "colorbar": {
             "outlinewidth": 0,
             "ticks": ""
            },
            "colorscale": [
             [
              0,
              "#0d0887"
             ],
             [
              0.1111111111111111,
              "#46039f"
             ],
             [
              0.2222222222222222,
              "#7201a8"
             ],
             [
              0.3333333333333333,
              "#9c179e"
             ],
             [
              0.4444444444444444,
              "#bd3786"
             ],
             [
              0.5555555555555556,
              "#d8576b"
             ],
             [
              0.6666666666666666,
              "#ed7953"
             ],
             [
              0.7777777777777778,
              "#fb9f3a"
             ],
             [
              0.8888888888888888,
              "#fdca26"
             ],
             [
              1,
              "#f0f921"
             ]
            ],
            "type": "histogram2d"
           }
          ],
          "histogram2dcontour": [
           {
            "colorbar": {
             "outlinewidth": 0,
             "ticks": ""
            },
            "colorscale": [
             [
              0,
              "#0d0887"
             ],
             [
              0.1111111111111111,
              "#46039f"
             ],
             [
              0.2222222222222222,
              "#7201a8"
             ],
             [
              0.3333333333333333,
              "#9c179e"
             ],
             [
              0.4444444444444444,
              "#bd3786"
             ],
             [
              0.5555555555555556,
              "#d8576b"
             ],
             [
              0.6666666666666666,
              "#ed7953"
             ],
             [
              0.7777777777777778,
              "#fb9f3a"
             ],
             [
              0.8888888888888888,
              "#fdca26"
             ],
             [
              1,
              "#f0f921"
             ]
            ],
            "type": "histogram2dcontour"
           }
          ],
          "mesh3d": [
           {
            "colorbar": {
             "outlinewidth": 0,
             "ticks": ""
            },
            "type": "mesh3d"
           }
          ],
          "parcoords": [
           {
            "line": {
             "colorbar": {
              "outlinewidth": 0,
              "ticks": ""
             }
            },
            "type": "parcoords"
           }
          ],
          "pie": [
           {
            "automargin": true,
            "type": "pie"
           }
          ],
          "scatter": [
           {
            "fillpattern": {
             "fillmode": "overlay",
             "size": 10,
             "solidity": 0.2
            },
            "type": "scatter"
           }
          ],
          "scatter3d": [
           {
            "line": {
             "colorbar": {
              "outlinewidth": 0,
              "ticks": ""
             }
            },
            "marker": {
             "colorbar": {
              "outlinewidth": 0,
              "ticks": ""
             }
            },
            "type": "scatter3d"
           }
          ],
          "scattercarpet": [
           {
            "marker": {
             "colorbar": {
              "outlinewidth": 0,
              "ticks": ""
             }
            },
            "type": "scattercarpet"
           }
          ],
          "scattergeo": [
           {
            "marker": {
             "colorbar": {
              "outlinewidth": 0,
              "ticks": ""
             }
            },
            "type": "scattergeo"
           }
          ],
          "scattergl": [
           {
            "marker": {
             "colorbar": {
              "outlinewidth": 0,
              "ticks": ""
             }
            },
            "type": "scattergl"
           }
          ],
          "scattermapbox": [
           {
            "marker": {
             "colorbar": {
              "outlinewidth": 0,
              "ticks": ""
             }
            },
            "type": "scattermapbox"
           }
          ],
          "scatterpolar": [
           {
            "marker": {
             "colorbar": {
              "outlinewidth": 0,
              "ticks": ""
             }
            },
            "type": "scatterpolar"
           }
          ],
          "scatterpolargl": [
           {
            "marker": {
             "colorbar": {
              "outlinewidth": 0,
              "ticks": ""
             }
            },
            "type": "scatterpolargl"
           }
          ],
          "scatterternary": [
           {
            "marker": {
             "colorbar": {
              "outlinewidth": 0,
              "ticks": ""
             }
            },
            "type": "scatterternary"
           }
          ],
          "surface": [
           {
            "colorbar": {
             "outlinewidth": 0,
             "ticks": ""
            },
            "colorscale": [
             [
              0,
              "#0d0887"
             ],
             [
              0.1111111111111111,
              "#46039f"
             ],
             [
              0.2222222222222222,
              "#7201a8"
             ],
             [
              0.3333333333333333,
              "#9c179e"
             ],
             [
              0.4444444444444444,
              "#bd3786"
             ],
             [
              0.5555555555555556,
              "#d8576b"
             ],
             [
              0.6666666666666666,
              "#ed7953"
             ],
             [
              0.7777777777777778,
              "#fb9f3a"
             ],
             [
              0.8888888888888888,
              "#fdca26"
             ],
             [
              1,
              "#f0f921"
             ]
            ],
            "type": "surface"
           }
          ],
          "table": [
           {
            "cells": {
             "fill": {
              "color": "#EBF0F8"
             },
             "line": {
              "color": "white"
             }
            },
            "header": {
             "fill": {
              "color": "#C8D4E3"
             },
             "line": {
              "color": "white"
             }
            },
            "type": "table"
           }
          ]
         },
         "layout": {
          "annotationdefaults": {
           "arrowcolor": "#2a3f5f",
           "arrowhead": 0,
           "arrowwidth": 1
          },
          "autotypenumbers": "strict",
          "coloraxis": {
           "colorbar": {
            "outlinewidth": 0,
            "ticks": ""
           }
          },
          "colorscale": {
           "diverging": [
            [
             0,
             "#8e0152"
            ],
            [
             0.1,
             "#c51b7d"
            ],
            [
             0.2,
             "#de77ae"
            ],
            [
             0.3,
             "#f1b6da"
            ],
            [
             0.4,
             "#fde0ef"
            ],
            [
             0.5,
             "#f7f7f7"
            ],
            [
             0.6,
             "#e6f5d0"
            ],
            [
             0.7,
             "#b8e186"
            ],
            [
             0.8,
             "#7fbc41"
            ],
            [
             0.9,
             "#4d9221"
            ],
            [
             1,
             "#276419"
            ]
           ],
           "sequential": [
            [
             0,
             "#0d0887"
            ],
            [
             0.1111111111111111,
             "#46039f"
            ],
            [
             0.2222222222222222,
             "#7201a8"
            ],
            [
             0.3333333333333333,
             "#9c179e"
            ],
            [
             0.4444444444444444,
             "#bd3786"
            ],
            [
             0.5555555555555556,
             "#d8576b"
            ],
            [
             0.6666666666666666,
             "#ed7953"
            ],
            [
             0.7777777777777778,
             "#fb9f3a"
            ],
            [
             0.8888888888888888,
             "#fdca26"
            ],
            [
             1,
             "#f0f921"
            ]
           ],
           "sequentialminus": [
            [
             0,
             "#0d0887"
            ],
            [
             0.1111111111111111,
             "#46039f"
            ],
            [
             0.2222222222222222,
             "#7201a8"
            ],
            [
             0.3333333333333333,
             "#9c179e"
            ],
            [
             0.4444444444444444,
             "#bd3786"
            ],
            [
             0.5555555555555556,
             "#d8576b"
            ],
            [
             0.6666666666666666,
             "#ed7953"
            ],
            [
             0.7777777777777778,
             "#fb9f3a"
            ],
            [
             0.8888888888888888,
             "#fdca26"
            ],
            [
             1,
             "#f0f921"
            ]
           ]
          },
          "colorway": [
           "#636efa",
           "#EF553B",
           "#00cc96",
           "#ab63fa",
           "#FFA15A",
           "#19d3f3",
           "#FF6692",
           "#B6E880",
           "#FF97FF",
           "#FECB52"
          ],
          "font": {
           "color": "#2a3f5f"
          },
          "geo": {
           "bgcolor": "white",
           "lakecolor": "white",
           "landcolor": "#E5ECF6",
           "showlakes": true,
           "showland": true,
           "subunitcolor": "white"
          },
          "hoverlabel": {
           "align": "left"
          },
          "hovermode": "closest",
          "mapbox": {
           "style": "light"
          },
          "paper_bgcolor": "white",
          "plot_bgcolor": "#E5ECF6",
          "polar": {
           "angularaxis": {
            "gridcolor": "white",
            "linecolor": "white",
            "ticks": ""
           },
           "bgcolor": "#E5ECF6",
           "radialaxis": {
            "gridcolor": "white",
            "linecolor": "white",
            "ticks": ""
           }
          },
          "scene": {
           "xaxis": {
            "backgroundcolor": "#E5ECF6",
            "gridcolor": "white",
            "gridwidth": 2,
            "linecolor": "white",
            "showbackground": true,
            "ticks": "",
            "zerolinecolor": "white"
           },
           "yaxis": {
            "backgroundcolor": "#E5ECF6",
            "gridcolor": "white",
            "gridwidth": 2,
            "linecolor": "white",
            "showbackground": true,
            "ticks": "",
            "zerolinecolor": "white"
           },
           "zaxis": {
            "backgroundcolor": "#E5ECF6",
            "gridcolor": "white",
            "gridwidth": 2,
            "linecolor": "white",
            "showbackground": true,
            "ticks": "",
            "zerolinecolor": "white"
           }
          },
          "shapedefaults": {
           "line": {
            "color": "#2a3f5f"
           }
          },
          "ternary": {
           "aaxis": {
            "gridcolor": "white",
            "linecolor": "white",
            "ticks": ""
           },
           "baxis": {
            "gridcolor": "white",
            "linecolor": "white",
            "ticks": ""
           },
           "bgcolor": "#E5ECF6",
           "caxis": {
            "gridcolor": "white",
            "linecolor": "white",
            "ticks": ""
           }
          },
          "title": {
           "x": 0.05
          },
          "xaxis": {
           "automargin": true,
           "gridcolor": "white",
           "linecolor": "white",
           "ticks": "",
           "title": {
            "standoff": 15
           },
           "zerolinecolor": "white",
           "zerolinewidth": 2
          },
          "yaxis": {
           "automargin": true,
           "gridcolor": "white",
           "linecolor": "white",
           "ticks": "",
           "title": {
            "standoff": 15
           },
           "zerolinecolor": "white",
           "zerolinewidth": 2
          }
         }
        }
       }
      }
     },
     "metadata": {},
     "output_type": "display_data"
    },
    {
     "name": "stdout",
     "output_type": "stream",
     "text": [
      "Корень квадратного уравнения x2 найден за 78 циклов (задана точность градиента 1e-06). Значение f(x) в этой точке 3.552713678800501e-15\n",
      "x1 = 3.0000000548772476; gradient x2 = 9.87790485851292e-07\n"
     ]
    }
   ],
   "source": [
    "solv.grad_x2(x2_start=None, LR= 0.01, iters=100)"
   ]
  },
  {
   "cell_type": "code",
   "execution_count": 327,
   "metadata": {},
   "outputs": [
    {
     "data": {
      "application/vnd.plotly.v1+json": {
       "config": {
        "plotlyServerURL": "https://plot.ly"
       },
       "data": [
        {
         "marker": {
          "color": "DarkGray"
         },
         "mode": "lines",
         "name": "f(x)=0",
         "type": "scatter",
         "x": [
          -1.5,
          -1.4090909090909092,
          -1.3181818181818181,
          -1.2272727272727273,
          -1.1363636363636362,
          -1.0454545454545454,
          -0.9545454545454546,
          -0.8636363636363636,
          -0.7727272727272727,
          -0.6818181818181818,
          -0.5909090909090908,
          -0.5,
          -0.40909090909090917,
          -0.3181818181818181,
          -0.2272727272727273,
          -0.13636363636363624,
          -0.045454545454545414,
          0.045454545454545414,
          0.13636363636363646,
          0.2272727272727273,
          0.31818181818181834,
          0.40909090909090917,
          0.5,
          0.5909090909090908,
          0.6818181818181817,
          0.7727272727272729,
          0.8636363636363638,
          0.9545454545454546,
          1.0454545454545454,
          1.1363636363636362,
          1.2272727272727275,
          1.3181818181818183,
          1.4090909090909092,
          1.5,
          1.5909090909090908,
          1.681818181818182,
          1.772727272727273,
          1.8636363636363638,
          1.9545454545454546,
          2.0454545454545454,
          2.1363636363636367,
          2.2272727272727275,
          2.3181818181818183,
          2.409090909090909,
          2.5,
          2.590909090909091,
          2.6818181818181817,
          2.7727272727272725,
          2.8636363636363633,
          2.954545454545455,
          3.045454545454546,
          3.1363636363636367,
          3.2272727272727275,
          3.3181818181818183,
          3.409090909090909,
          3.5,
          3.590909090909091,
          3.6818181818181817,
          3.7727272727272725,
          3.863636363636364,
          3.954545454545455,
          4.045454545454546,
          4.136363636363637,
          4.2272727272727275,
          4.318181818181818,
          4.409090909090909,
          4.5,
          4.590909090909091,
          4.681818181818182,
          4.7727272727272725,
          4.863636363636364,
          4.954545454545455,
          5.045454545454546,
          5.136363636363637,
          5.2272727272727275,
          5.318181818181818,
          5.409090909090909,
          5.5,
          5.590909090909091,
          5.681818181818182,
          5.772727272727273,
          5.863636363636364,
          5.954545454545455,
          6.045454545454546,
          6.136363636363637,
          6.2272727272727275,
          6.318181818181818,
          6.409090909090909,
          6.5,
          6.590909090909092,
          6.681818181818182,
          6.772727272727273,
          6.863636363636363,
          6.954545454545455,
          7.045454545454545,
          7.136363636363637,
          7.227272727272727,
          7.318181818181818,
          7.40909090909091,
          7.5
         ],
         "y": [
          0,
          0,
          0,
          0,
          0,
          0,
          0,
          0,
          0,
          0,
          0,
          0,
          0,
          0,
          0,
          0,
          0,
          0,
          0,
          0,
          0,
          0,
          0,
          0,
          0,
          0,
          0,
          0,
          0,
          0,
          0,
          0,
          0,
          0,
          0,
          0,
          0,
          0,
          0,
          0,
          0,
          0,
          0,
          0,
          0,
          0,
          0,
          0,
          0,
          0,
          0,
          0,
          0,
          0,
          0,
          0,
          0,
          0,
          0,
          0,
          0,
          0,
          0,
          0,
          0,
          0,
          0,
          0,
          0,
          0,
          0,
          0,
          0,
          0,
          0,
          0,
          0,
          0,
          0,
          0,
          0,
          0,
          0,
          0,
          0,
          0,
          0,
          0,
          0,
          0,
          0,
          0,
          0,
          0,
          0,
          0,
          0,
          0,
          0,
          0
         ]
        },
        {
         "marker": {
          "color": "Blue"
         },
         "mode": "lines",
         "name": "f(x)=x<sup>2</sup>",
         "type": "scatter",
         "x": [
          -1.5,
          -1.4090909090909092,
          -1.3181818181818181,
          -1.2272727272727273,
          -1.1363636363636362,
          -1.0454545454545454,
          -0.9545454545454546,
          -0.8636363636363636,
          -0.7727272727272727,
          -0.6818181818181818,
          -0.5909090909090908,
          -0.5,
          -0.40909090909090917,
          -0.3181818181818181,
          -0.2272727272727273,
          -0.13636363636363624,
          -0.045454545454545414,
          0.045454545454545414,
          0.13636363636363646,
          0.2272727272727273,
          0.31818181818181834,
          0.40909090909090917,
          0.5,
          0.5909090909090908,
          0.6818181818181817,
          0.7727272727272729,
          0.8636363636363638,
          0.9545454545454546,
          1.0454545454545454,
          1.1363636363636362,
          1.2272727272727275,
          1.3181818181818183,
          1.4090909090909092,
          1.5,
          1.5909090909090908,
          1.681818181818182,
          1.772727272727273,
          1.8636363636363638,
          1.9545454545454546,
          2.0454545454545454,
          2.1363636363636367,
          2.2272727272727275,
          2.3181818181818183,
          2.409090909090909,
          2.5,
          2.590909090909091,
          2.6818181818181817,
          2.7727272727272725,
          2.8636363636363633,
          2.954545454545455,
          3.045454545454546,
          3.1363636363636367,
          3.2272727272727275,
          3.3181818181818183,
          3.409090909090909,
          3.5,
          3.590909090909091,
          3.6818181818181817,
          3.7727272727272725,
          3.863636363636364,
          3.954545454545455,
          4.045454545454546,
          4.136363636363637,
          4.2272727272727275,
          4.318181818181818,
          4.409090909090909,
          4.5,
          4.590909090909091,
          4.681818181818182,
          4.7727272727272725,
          4.863636363636364,
          4.954545454545455,
          5.045454545454546,
          5.136363636363637,
          5.2272727272727275,
          5.318181818181818,
          5.409090909090909,
          5.5,
          5.590909090909091,
          5.681818181818182,
          5.772727272727273,
          5.863636363636364,
          5.954545454545455,
          6.045454545454546,
          6.136363636363637,
          6.2272727272727275,
          6.318181818181818,
          6.409090909090909,
          6.5,
          6.590909090909092,
          6.681818181818182,
          6.772727272727273,
          6.863636363636363,
          6.954545454545455,
          7.045454545454545,
          7.136363636363637,
          7.227272727272727,
          7.318181818181818,
          7.40909090909091,
          7.5
         ],
         "y": [
          410.0625,
          377.9168132299706,
          347.69920514309126,
          319.33099258930406,
          292.73513165084347,
          267.83621764223756,
          244.5604851103067,
          222.83580783416437,
          202.59169882521687,
          183.75931032716343,
          166.27143381599612,
          150.0625,
          135.0685788197528,
          121.22737944812513,
          108.47825029028073,
          96.76217898367598,
          86.02179239806023,
          76.20135663547572,
          67.24677703025749,
          59.10559814903354,
          51.727003790724666,
          45.06181698654463,
          39.0625,
          33.68315432689024,
          28.879520695307704,
          24.608979065637584,
          20.830548630558017,
          17.504887815039957,
          14.594294276347249,
          12.062704904036613,
          9.87569581995765,
          8.000482378252848,
          6.405919165357555,
          5.0625,
          3.9423579332012877,
          3.0192652482753832,
          2.268633460829179,
          1.6675133187623763,
          1.1945948022676072,
          0.8302071238303387,
          0.556318728228945,
          0.35653729253466315,
          0.21610972611160498,
          0.12192217061676154,
          0.0625,
          0.028007820504063575,
          0.010249470664572283,
          0.002668021310020059,
          0.0003457755617785627,
          0.0000042688340960332695,
          0.000004268834096040609,
          0.0003457755617785627,
          0.0026680213100196922,
          0.010249470664572283,
          0.028007820504064765,
          0.0625,
          0.1219221706167603,
          0.21610972611160498,
          0.35653729253466526,
          0.556318728228945,
          0.8302071238303419,
          1.1945948022676112,
          1.667513318762381,
          2.268633460829171,
          3.019265248275395,
          3.9423579332012877,
          5.0625,
          6.405919165357551,
          8.000482378252853,
          9.875695819957663,
          12.0627049040366,
          14.594294276347261,
          17.50488781503997,
          20.83054863055803,
          24.60897906563759,
          28.879520695307715,
          33.683154326890275,
          39.0625,
          45.06181698654459,
          51.72700379072462,
          59.105598149033575,
          67.24677703025746,
          76.20135663547565,
          86.02179239806033,
          96.76217898367601,
          108.47825029028077,
          121.22737944812525,
          135.06857881975287,
          150.0625,
          166.2714338159965,
          183.75931032716323,
          202.59169882521698,
          222.83580783416426,
          244.5604851103067,
          267.83621764223756,
          292.7351316508436,
          319.3309925893038,
          347.6992051430914,
          377.9168132299709,
          410.0625
         ]
        },
        {
         "marker": {
          "color": "Pink",
          "line": {
           "color": "Red",
           "width": 1.5
          },
          "size": 8
         },
         "mode": "markers",
         "name": "gradient descent",
         "type": "scatter",
         "x": [
          0,
          0.54,
          0.85208544,
          1.081464954079491,
          1.267576021181405,
          1.4272376637866948,
          1.5691193446931906,
          1.698172044037441,
          1.8173815838551373,
          1.9285822980357126,
          2.0328819307592836,
          2.130907592807877,
          2.22296340376118,
          2.3091422352069952,
          2.3894119254931243,
          2.463685167322651,
          2.5318762918714923,
          2.593945164146614,
          2.6499273924910667,
          2.6999504297311163,
          2.744236318472659,
          2.7830932057239535,
          2.8168988078757335,
          2.846079443234897,
          2.87108802350475,
          2.8923836754558425,
          2.9104147144394634,
          2.9256057617858673,
          2.9383490537473054,
          2.948999496385193,
          2.9578727670687726,
          2.965245695080198,
          2.971358205696275,
          2.9764162262397993,
          2.9805950868769644,
          2.984043077438022,
          2.986884931214081,
          2.989225093226347,
          2.9911506946497575,
          2.9927342001078165,
          2.994035724409641,
          2.995105033792495,
          2.995983257118017,
          2.9967043373222495,
          2.997296254668966,
          2.9977820523904954,
          2.9981806930816437,
          2.9985077713824957,
          2.9987761054570092,
          2.9989962267979373,
          2.9991767851074864,
          2.999324882488523,
          2.9994463489588585,
          2.9995459693695152,
          2.9996276701494886,
          2.999694672889103,
          2.9997496205832457,
          2.9997946813561067,
          2.999831633653664,
          2.9998619361945287,
          2.9998867853922246,
          2.9999071624835763,
          2.999923872202308,
          2.999937574510457,
          2.9999488106309515,
          2.9999580244029436,
          2.9999655797989826,
          2.9999717752929973,
          2.9999768556446624,
          2.999981021564344,
          2.999984437639541,
          2.9999872388353612,
          2.999989535825455,
          2.999991419363733,
          2.999992963869426,
          2.999994230366988,
          2.9999952688969356,
          2.9999961204928014,
          2.999996818802291,
          2.9999973914166644,
          2.999997860960848,
          2.9999982459873467,
          2.999998561709255,
          2.999998820601341,
          2.9999990328929327,
          2.9999992069720927,
          2.9999993497170405,
          2.999999466767923,
          2.9999995627496627,
          2.9999996414547003,
          2.999999705992839,
          2.999999758914118,
          2.99999980230957,
          2.9999998378938435,
          2.9999998670729484,
          2.999999890999816,
          2.999999910619848,
          2.9999999267082744,
          2.9999999399007846,
          2.999999950718643,
          6,
          3.3,
          3.2341199999999994,
          3.184887634021178,
          3.147253043638524,
          3.118017762507738,
          3.0950374312207787,
          3.0768125044470866,
          3.0622601061006502,
          3.0505784748993325,
          3.0411621920046636,
          3.03354688863078,
          3.027371891290489,
          3.022354224103053,
          3.0182700515779066,
          3.014941142981807,
          3.0122248152975617,
          3.0100063419328706,
          3.0081931450833372,
          3.0067103016537184,
          3.005497031892157,
          3.0045039334241825,
          3.0036907875033085,
          3.0030248091122025,
          3.0024792444285704,
          3.002032242223513,
          3.0016659426865386,
          3.0013657397742133,
          3.001119682683542,
          3.000917989301638,
          3.0007526500718766,
          3.0006171050640287,
          3.0005059804448644,
          3.0004148732376623,
          3.0003401753976506,
          3.0002789299381827,
          3.0002287132122123,
          3.000187538556368,
          3.0001537773954725,
          3.0001260946264434,
          3.0001033956856213,
          3.000084783179285,
          3.0000695213444066,
          3.0000570069224137,
          3.0000467452863973,
          3.000038330872627,
          3.000031431139241,
          3.0000257734156266,
          3.000021134121101,
          3.0000173299257042,
          3.0000142105030383,
          3.0000116525882587,
          3.0000095551060784,
          3.0000078351760284,
          3.0000064248369767,
          3.000005268361367,
          3.0000043200529904,
          3.000003542441213,
          3.0000029048002883,
          3.0000023819352237,
          3.0000019531862026,
          3.000001601612228,
          3.0000013133217194,
          3.0000010769236023,
          3.0000008830772145,
          3.0000007241232223,
          3.0000005937809795,
          3.000000486900361,
          3.0000003992582673,
          3.00000032739176,
          3.00000026846123,
          3.0000002201382,
          3.000000180513318,
          3.000000148020917,
          3.000000121377149,
          3.0000000995292604,
          3.0000000816139925,
          3.000000066923473,
          3.0000000548772476
         ],
         "y": [
          81,
          36.62186256,
          21.28472325415838,
          13.548117280347267,
          9.007758725755341,
          6.118604775266938,
          4.191926403137789,
          2.8721979908008297,
          1.956043689470173,
          1.3177568123310917,
          0.87481856364031,
          0.5705107379153187,
          0.36455737909929425,
          0.22780044733321628,
          0.13899310955862265,
          0.08273308770499012,
          0.048022254622798924,
          0.027185589080721884,
          0.015018706063128395,
          0.008105354916079626,
          0.0042791301779526066,
          0.0022135667537139542,
          0.001123995797764299,
          0.0005612889630862318,
          0.00027616781791112925,
          0.00013412589144372398,
          0.00006440902566678158,
          0.000030630719908966956,
          0.000014446378425503058,
          0.000006765468223992052,
          0.000003149573416032098,
          0.0000014589299115960297,
          6.729780289074119e-7,
          3.0935219365073244e-7,
          1.41790394508684e-7,
          6.483306444494953e-8,
          2.958573009125385e-8,
          1.3478888632793321e-8,
          6.132488235752582e-9,
          2.7869792230151673e-9,
          1.2654086840495284e-9,
          5.741148651981814e-10,
          2.6031316406083287e-10,
          1.179698467316848e-10,
          5.343959152186837e-11,
          2.419942980937648e-11,
          1.0955290141485317e-11,
          4.958398848293381e-12,
          2.2437578965962355e-12,
          1.0151784455783487e-12,
          4.592539227764517e-13,
          2.0773873959445527e-13,
          9.396031939932782e-14,
          4.2495272424420844e-14,
          1.921814291570205e-14,
          8.690834249748645e-15,
          3.930017262401067e-15,
          1.777106883802928e-15,
          8.035651658679819e-16,
          3.63345147691307e-16,
          1.642894889377091e-16,
          7.428383412782848e-17,
          3.3587131422278686e-17,
          1.5186166401970756e-17,
          6.866234956175561e-18,
          3.104469865506685e-18,
          1.4036285330860497e-18,
          6.346283530171162e-19,
          2.869339724514888e-19,
          1.2973178955651612e-19,
          5.865354456710196e-20,
          2.6519312572366166e-20,
          1.198985323973622e-20,
          5.420852413719366e-21,
          2.45094949621025e-21,
          1.1081526721535784e-21,
          5.009582292515513e-22,
          2.264812843131304e-22,
          1.0241247546968105e-22,
          4.6311060783965593e-23,
          2.093881704881546e-23,
          9.454848203315745e-24,
          4.282646968354351e-24,
          1.939512354238105e-24,
          8.796871944045382e-25,
          3.9319667415474024e-25,
          1.7873694846135597e-25,
          8.077935669463161e-26,
          3.6805094393991527e-26,
          1.63578197306629e-26,
          7.270142102516845e-27,
          3.4362781031427274e-27,
          1.669229675447661e-27,
          7.099748146989106e-28,
          2.5559093329160782e-28,
          2.0194839173657902e-28,
          7.888609052210118e-29,
          1.262177448353619e-29,
          2.8398992587956425e-29,
          3.1554436208840472e-30,
          81,
          0.008100000000000294,
          0.0030043744624558538,
          0.0011685073797600015,
          0.0004701723881684455,
          0.0001939945398357359,
          0.0000815790712609149,
          0.0000348118979311985,
          0.000015025863034935168,
          0.000006544295775163111,
          0.0000028707407658333765,
          0.000001266511062847874,
          5.6133125695149e-7,
          2.4971141857540434e-7,
          1.1141895826666182e-7,
          4.983509463475494e-8,
          2.2334139512470816e-8,
          1.0025391873639292e-8,
          4.506118220335403e-9,
          2.027534138025751e-9,
          9.130888225553421e-10,
          4.1149811401626274e-10,
          1.855564973321678e-10,
          8.37128043256953e-11,
          3.778134233707792e-11,
          1.7056969847587803e-11,
          7.70265108558199e-12,
          3.4791394012653175e-12,
          1.571736887481228e-12,
          7.10150634740596e-13,
          3.2090200623067043e-13,
          1.450228519273585e-13,
          6.554429933289878e-14,
          2.962522714627062e-14,
          1.3390956168452801e-14,
          6.053137307284351e-15,
          2.7363083977494824e-15,
          1.2369788973457552e-15,
          5.592035821709683e-16,
          2.5280540982792764e-16,
          1.1429034230592845e-16,
          5.1670069712688473e-17,
          2.335999884595058e-17,
          1.0561145098806908e-17,
          4.774755607652661e-18,
          2.1587100785210995e-18,
          9.759805985917985e-19,
          4.412504662588364e-19,
          1.9949844929704493e-19,
          9.019623153526261e-20,
          4.077968210380122e-20,
          1.8437489317475985e-20,
          8.335907082044138e-21,
          3.7686235648371005e-21,
          1.703954209157561e-21,
          7.703719777548943e-22,
          3.483516640314736e-22,
          1.5750152286762103e-22,
          7.119469669619632e-23,
          3.217053342037446e-23,
          1.455891394417139e-23,
          6.579529089875679e-24,
          2.975081618957936e-24,
          1.3455095589375457e-24,
          6.108938850031515e-25,
          2.746024811074342e-25,
          1.2495872283062915e-25,
          5.665914565659395e-26,
          2.5559093329160782e-26,
          1.135959703518257e-26,
          5.3043007267060834e-27,
          2.473867798773093e-27,
          1.0223637331664313e-27,
          4.543838814073028e-28,
          1.5461673742331831e-28,
          7.888609052210118e-29,
          2.8398992587956425e-29,
          2.8398992587956425e-29,
          1.262177448353619e-29
         ]
        }
       ],
       "layout": {
        "legend": {
         "orientation": "h",
         "x": 0.5,
         "xanchor": "center"
        },
        "margin": {
         "b": 0,
         "l": 0,
         "r": 0,
         "t": 0
        },
        "template": {
         "data": {
          "bar": [
           {
            "error_x": {
             "color": "#2a3f5f"
            },
            "error_y": {
             "color": "#2a3f5f"
            },
            "marker": {
             "line": {
              "color": "#E5ECF6",
              "width": 0.5
             },
             "pattern": {
              "fillmode": "overlay",
              "size": 10,
              "solidity": 0.2
             }
            },
            "type": "bar"
           }
          ],
          "barpolar": [
           {
            "marker": {
             "line": {
              "color": "#E5ECF6",
              "width": 0.5
             },
             "pattern": {
              "fillmode": "overlay",
              "size": 10,
              "solidity": 0.2
             }
            },
            "type": "barpolar"
           }
          ],
          "carpet": [
           {
            "aaxis": {
             "endlinecolor": "#2a3f5f",
             "gridcolor": "white",
             "linecolor": "white",
             "minorgridcolor": "white",
             "startlinecolor": "#2a3f5f"
            },
            "baxis": {
             "endlinecolor": "#2a3f5f",
             "gridcolor": "white",
             "linecolor": "white",
             "minorgridcolor": "white",
             "startlinecolor": "#2a3f5f"
            },
            "type": "carpet"
           }
          ],
          "choropleth": [
           {
            "colorbar": {
             "outlinewidth": 0,
             "ticks": ""
            },
            "type": "choropleth"
           }
          ],
          "contour": [
           {
            "colorbar": {
             "outlinewidth": 0,
             "ticks": ""
            },
            "colorscale": [
             [
              0,
              "#0d0887"
             ],
             [
              0.1111111111111111,
              "#46039f"
             ],
             [
              0.2222222222222222,
              "#7201a8"
             ],
             [
              0.3333333333333333,
              "#9c179e"
             ],
             [
              0.4444444444444444,
              "#bd3786"
             ],
             [
              0.5555555555555556,
              "#d8576b"
             ],
             [
              0.6666666666666666,
              "#ed7953"
             ],
             [
              0.7777777777777778,
              "#fb9f3a"
             ],
             [
              0.8888888888888888,
              "#fdca26"
             ],
             [
              1,
              "#f0f921"
             ]
            ],
            "type": "contour"
           }
          ],
          "contourcarpet": [
           {
            "colorbar": {
             "outlinewidth": 0,
             "ticks": ""
            },
            "type": "contourcarpet"
           }
          ],
          "heatmap": [
           {
            "colorbar": {
             "outlinewidth": 0,
             "ticks": ""
            },
            "colorscale": [
             [
              0,
              "#0d0887"
             ],
             [
              0.1111111111111111,
              "#46039f"
             ],
             [
              0.2222222222222222,
              "#7201a8"
             ],
             [
              0.3333333333333333,
              "#9c179e"
             ],
             [
              0.4444444444444444,
              "#bd3786"
             ],
             [
              0.5555555555555556,
              "#d8576b"
             ],
             [
              0.6666666666666666,
              "#ed7953"
             ],
             [
              0.7777777777777778,
              "#fb9f3a"
             ],
             [
              0.8888888888888888,
              "#fdca26"
             ],
             [
              1,
              "#f0f921"
             ]
            ],
            "type": "heatmap"
           }
          ],
          "heatmapgl": [
           {
            "colorbar": {
             "outlinewidth": 0,
             "ticks": ""
            },
            "colorscale": [
             [
              0,
              "#0d0887"
             ],
             [
              0.1111111111111111,
              "#46039f"
             ],
             [
              0.2222222222222222,
              "#7201a8"
             ],
             [
              0.3333333333333333,
              "#9c179e"
             ],
             [
              0.4444444444444444,
              "#bd3786"
             ],
             [
              0.5555555555555556,
              "#d8576b"
             ],
             [
              0.6666666666666666,
              "#ed7953"
             ],
             [
              0.7777777777777778,
              "#fb9f3a"
             ],
             [
              0.8888888888888888,
              "#fdca26"
             ],
             [
              1,
              "#f0f921"
             ]
            ],
            "type": "heatmapgl"
           }
          ],
          "histogram": [
           {
            "marker": {
             "pattern": {
              "fillmode": "overlay",
              "size": 10,
              "solidity": 0.2
             }
            },
            "type": "histogram"
           }
          ],
          "histogram2d": [
           {
            "colorbar": {
             "outlinewidth": 0,
             "ticks": ""
            },
            "colorscale": [
             [
              0,
              "#0d0887"
             ],
             [
              0.1111111111111111,
              "#46039f"
             ],
             [
              0.2222222222222222,
              "#7201a8"
             ],
             [
              0.3333333333333333,
              "#9c179e"
             ],
             [
              0.4444444444444444,
              "#bd3786"
             ],
             [
              0.5555555555555556,
              "#d8576b"
             ],
             [
              0.6666666666666666,
              "#ed7953"
             ],
             [
              0.7777777777777778,
              "#fb9f3a"
             ],
             [
              0.8888888888888888,
              "#fdca26"
             ],
             [
              1,
              "#f0f921"
             ]
            ],
            "type": "histogram2d"
           }
          ],
          "histogram2dcontour": [
           {
            "colorbar": {
             "outlinewidth": 0,
             "ticks": ""
            },
            "colorscale": [
             [
              0,
              "#0d0887"
             ],
             [
              0.1111111111111111,
              "#46039f"
             ],
             [
              0.2222222222222222,
              "#7201a8"
             ],
             [
              0.3333333333333333,
              "#9c179e"
             ],
             [
              0.4444444444444444,
              "#bd3786"
             ],
             [
              0.5555555555555556,
              "#d8576b"
             ],
             [
              0.6666666666666666,
              "#ed7953"
             ],
             [
              0.7777777777777778,
              "#fb9f3a"
             ],
             [
              0.8888888888888888,
              "#fdca26"
             ],
             [
              1,
              "#f0f921"
             ]
            ],
            "type": "histogram2dcontour"
           }
          ],
          "mesh3d": [
           {
            "colorbar": {
             "outlinewidth": 0,
             "ticks": ""
            },
            "type": "mesh3d"
           }
          ],
          "parcoords": [
           {
            "line": {
             "colorbar": {
              "outlinewidth": 0,
              "ticks": ""
             }
            },
            "type": "parcoords"
           }
          ],
          "pie": [
           {
            "automargin": true,
            "type": "pie"
           }
          ],
          "scatter": [
           {
            "fillpattern": {
             "fillmode": "overlay",
             "size": 10,
             "solidity": 0.2
            },
            "type": "scatter"
           }
          ],
          "scatter3d": [
           {
            "line": {
             "colorbar": {
              "outlinewidth": 0,
              "ticks": ""
             }
            },
            "marker": {
             "colorbar": {
              "outlinewidth": 0,
              "ticks": ""
             }
            },
            "type": "scatter3d"
           }
          ],
          "scattercarpet": [
           {
            "marker": {
             "colorbar": {
              "outlinewidth": 0,
              "ticks": ""
             }
            },
            "type": "scattercarpet"
           }
          ],
          "scattergeo": [
           {
            "marker": {
             "colorbar": {
              "outlinewidth": 0,
              "ticks": ""
             }
            },
            "type": "scattergeo"
           }
          ],
          "scattergl": [
           {
            "marker": {
             "colorbar": {
              "outlinewidth": 0,
              "ticks": ""
             }
            },
            "type": "scattergl"
           }
          ],
          "scattermapbox": [
           {
            "marker": {
             "colorbar": {
              "outlinewidth": 0,
              "ticks": ""
             }
            },
            "type": "scattermapbox"
           }
          ],
          "scatterpolar": [
           {
            "marker": {
             "colorbar": {
              "outlinewidth": 0,
              "ticks": ""
             }
            },
            "type": "scatterpolar"
           }
          ],
          "scatterpolargl": [
           {
            "marker": {
             "colorbar": {
              "outlinewidth": 0,
              "ticks": ""
             }
            },
            "type": "scatterpolargl"
           }
          ],
          "scatterternary": [
           {
            "marker": {
             "colorbar": {
              "outlinewidth": 0,
              "ticks": ""
             }
            },
            "type": "scatterternary"
           }
          ],
          "surface": [
           {
            "colorbar": {
             "outlinewidth": 0,
             "ticks": ""
            },
            "colorscale": [
             [
              0,
              "#0d0887"
             ],
             [
              0.1111111111111111,
              "#46039f"
             ],
             [
              0.2222222222222222,
              "#7201a8"
             ],
             [
              0.3333333333333333,
              "#9c179e"
             ],
             [
              0.4444444444444444,
              "#bd3786"
             ],
             [
              0.5555555555555556,
              "#d8576b"
             ],
             [
              0.6666666666666666,
              "#ed7953"
             ],
             [
              0.7777777777777778,
              "#fb9f3a"
             ],
             [
              0.8888888888888888,
              "#fdca26"
             ],
             [
              1,
              "#f0f921"
             ]
            ],
            "type": "surface"
           }
          ],
          "table": [
           {
            "cells": {
             "fill": {
              "color": "#EBF0F8"
             },
             "line": {
              "color": "white"
             }
            },
            "header": {
             "fill": {
              "color": "#C8D4E3"
             },
             "line": {
              "color": "white"
             }
            },
            "type": "table"
           }
          ]
         },
         "layout": {
          "annotationdefaults": {
           "arrowcolor": "#2a3f5f",
           "arrowhead": 0,
           "arrowwidth": 1
          },
          "autotypenumbers": "strict",
          "coloraxis": {
           "colorbar": {
            "outlinewidth": 0,
            "ticks": ""
           }
          },
          "colorscale": {
           "diverging": [
            [
             0,
             "#8e0152"
            ],
            [
             0.1,
             "#c51b7d"
            ],
            [
             0.2,
             "#de77ae"
            ],
            [
             0.3,
             "#f1b6da"
            ],
            [
             0.4,
             "#fde0ef"
            ],
            [
             0.5,
             "#f7f7f7"
            ],
            [
             0.6,
             "#e6f5d0"
            ],
            [
             0.7,
             "#b8e186"
            ],
            [
             0.8,
             "#7fbc41"
            ],
            [
             0.9,
             "#4d9221"
            ],
            [
             1,
             "#276419"
            ]
           ],
           "sequential": [
            [
             0,
             "#0d0887"
            ],
            [
             0.1111111111111111,
             "#46039f"
            ],
            [
             0.2222222222222222,
             "#7201a8"
            ],
            [
             0.3333333333333333,
             "#9c179e"
            ],
            [
             0.4444444444444444,
             "#bd3786"
            ],
            [
             0.5555555555555556,
             "#d8576b"
            ],
            [
             0.6666666666666666,
             "#ed7953"
            ],
            [
             0.7777777777777778,
             "#fb9f3a"
            ],
            [
             0.8888888888888888,
             "#fdca26"
            ],
            [
             1,
             "#f0f921"
            ]
           ],
           "sequentialminus": [
            [
             0,
             "#0d0887"
            ],
            [
             0.1111111111111111,
             "#46039f"
            ],
            [
             0.2222222222222222,
             "#7201a8"
            ],
            [
             0.3333333333333333,
             "#9c179e"
            ],
            [
             0.4444444444444444,
             "#bd3786"
            ],
            [
             0.5555555555555556,
             "#d8576b"
            ],
            [
             0.6666666666666666,
             "#ed7953"
            ],
            [
             0.7777777777777778,
             "#fb9f3a"
            ],
            [
             0.8888888888888888,
             "#fdca26"
            ],
            [
             1,
             "#f0f921"
            ]
           ]
          },
          "colorway": [
           "#636efa",
           "#EF553B",
           "#00cc96",
           "#ab63fa",
           "#FFA15A",
           "#19d3f3",
           "#FF6692",
           "#B6E880",
           "#FF97FF",
           "#FECB52"
          ],
          "font": {
           "color": "#2a3f5f"
          },
          "geo": {
           "bgcolor": "white",
           "lakecolor": "white",
           "landcolor": "#E5ECF6",
           "showlakes": true,
           "showland": true,
           "subunitcolor": "white"
          },
          "hoverlabel": {
           "align": "left"
          },
          "hovermode": "closest",
          "mapbox": {
           "style": "light"
          },
          "paper_bgcolor": "white",
          "plot_bgcolor": "#E5ECF6",
          "polar": {
           "angularaxis": {
            "gridcolor": "white",
            "linecolor": "white",
            "ticks": ""
           },
           "bgcolor": "#E5ECF6",
           "radialaxis": {
            "gridcolor": "white",
            "linecolor": "white",
            "ticks": ""
           }
          },
          "scene": {
           "xaxis": {
            "backgroundcolor": "#E5ECF6",
            "gridcolor": "white",
            "gridwidth": 2,
            "linecolor": "white",
            "showbackground": true,
            "ticks": "",
            "zerolinecolor": "white"
           },
           "yaxis": {
            "backgroundcolor": "#E5ECF6",
            "gridcolor": "white",
            "gridwidth": 2,
            "linecolor": "white",
            "showbackground": true,
            "ticks": "",
            "zerolinecolor": "white"
           },
           "zaxis": {
            "backgroundcolor": "#E5ECF6",
            "gridcolor": "white",
            "gridwidth": 2,
            "linecolor": "white",
            "showbackground": true,
            "ticks": "",
            "zerolinecolor": "white"
           }
          },
          "shapedefaults": {
           "line": {
            "color": "#2a3f5f"
           }
          },
          "ternary": {
           "aaxis": {
            "gridcolor": "white",
            "linecolor": "white",
            "ticks": ""
           },
           "baxis": {
            "gridcolor": "white",
            "linecolor": "white",
            "ticks": ""
           },
           "bgcolor": "#E5ECF6",
           "caxis": {
            "gridcolor": "white",
            "linecolor": "white",
            "ticks": ""
           }
          },
          "title": {
           "x": 0.05
          },
          "xaxis": {
           "automargin": true,
           "gridcolor": "white",
           "linecolor": "white",
           "ticks": "",
           "title": {
            "standoff": 15
           },
           "zerolinecolor": "white",
           "zerolinewidth": 2
          },
          "yaxis": {
           "automargin": true,
           "gridcolor": "white",
           "linecolor": "white",
           "ticks": "",
           "title": {
            "standoff": 15
           },
           "zerolinecolor": "white",
           "zerolinewidth": 2
          }
         }
        }
       }
      }
     },
     "metadata": {},
     "output_type": "display_data"
    },
    {
     "name": "stdout",
     "output_type": "stream",
     "text": [
      "У квадратного уравнения 1 корень, который равен 3.000000, f(x) = 0.000000\n"
     ]
    }
   ],
   "source": [
    "solv.test()"
   ]
  },
  {
   "cell_type": "markdown",
   "metadata": {},
   "source": [
    "## Функция без корней"
   ]
  },
  {
   "cell_type": "code",
   "execution_count": 394,
   "metadata": {},
   "outputs": [],
   "source": [
    "solv = SolverQuad(func='(x**2)-(6*x)+10', deriv_sq='4*(x**3)-36*(x**2)+112*x-120', x1_start=0, x2_start=6)"
   ]
  },
  {
   "cell_type": "code",
   "execution_count": 398,
   "metadata": {},
   "outputs": [
    {
     "data": {
      "application/vnd.plotly.v1+json": {
       "config": {
        "plotlyServerURL": "https://plot.ly"
       },
       "data": [
        {
         "marker": {
          "color": "DarkGray"
         },
         "mode": "lines",
         "name": "f(x)=0",
         "type": "scatter",
         "x": [
          -0.7499999410635426,
          -0.7045453991809036,
          -0.6590908572982648,
          -0.6136363154156258,
          -0.5681817735329868,
          -0.5227272316503478,
          -0.4772726897677089,
          -0.43181814788507,
          -0.386363606002431,
          -0.34090906411979205,
          -0.2954545222371531,
          -0.2499999803545142,
          -0.20454543847187523,
          -0.15909089658923625,
          -0.11363635470659739,
          -0.06818181282395841,
          -0.022727270941319433,
          0.022727270941319544,
          0.06818181282395852,
          0.11363635470659739,
          0.15909089658923636,
          0.20454543847187534,
          0.2499999803545142,
          0.2954545222371533,
          0.34090906411979216,
          0.386363606002431,
          0.4318181478850701,
          0.477272689767709,
          0.5227272316503478,
          0.5681817735329869,
          0.6136363154156258,
          0.6590908572982649,
          0.7045453991809038,
          0.7499999410635426,
          0.7954544829461817,
          0.8409090248288206,
          0.8863635667114597,
          0.9318181085940985,
          0.9772726504767374,
          1.0227271923593766,
          1.0681817342420152,
          1.1136362761246543,
          1.1590908180072934,
          1.204545359889932,
          1.2499999017725711,
          1.2954544436552102,
          1.3409089855378493,
          1.386363527420488,
          1.431818069303127,
          1.4772726111857661,
          1.5227271530684048,
          1.5681816949510439,
          1.613636236833683,
          1.6590907787163216,
          1.7045453205989607,
          1.7499998624815998,
          1.7954544043642384,
          1.8409089462468775,
          1.8863634881295166,
          1.9318180300121557,
          1.9772725718947943,
          2.0227271137774334,
          2.0681816556600725,
          2.113636197542711,
          2.1590907394253502,
          2.2045452813079893,
          2.249999823190628,
          2.295454365073267,
          2.340908906955906,
          2.386363448838545,
          2.431817990721184,
          2.477272532603823,
          2.522727074486462,
          2.5681816163691007,
          2.61363615825174,
          2.659090700134379,
          2.7045452420170175,
          2.7499997838996566,
          2.7954543257822957,
          2.8409088676649343,
          2.8863634095475734,
          2.9318179514302125,
          2.977272493312851,
          3.0227270351954902,
          3.0681815770781293,
          3.113636118960768,
          3.159090660843407,
          3.204545202726046,
          3.249999744608685,
          3.2954542864913243,
          3.340908828373963,
          3.3863633702566016,
          3.431817912139241,
          3.47727245402188,
          3.5227269959045184,
          3.568181537787158,
          3.6136360796697966,
          3.6590906215524353,
          3.704545163435075,
          3.749999705317713
         ],
         "y": [
          0,
          0,
          0,
          0,
          0,
          0,
          0,
          0,
          0,
          0,
          0,
          0,
          0,
          0,
          0,
          0,
          0,
          0,
          0,
          0,
          0,
          0,
          0,
          0,
          0,
          0,
          0,
          0,
          0,
          0,
          0,
          0,
          0,
          0,
          0,
          0,
          0,
          0,
          0,
          0,
          0,
          0,
          0,
          0,
          0,
          0,
          0,
          0,
          0,
          0,
          0,
          0,
          0,
          0,
          0,
          0,
          0,
          0,
          0,
          0,
          0,
          0,
          0,
          0,
          0,
          0,
          0,
          0,
          0,
          0,
          0,
          0,
          0,
          0,
          0,
          0,
          0,
          0,
          0,
          0,
          0,
          0,
          0,
          0,
          0,
          0,
          0,
          0,
          0,
          0,
          0,
          0,
          0,
          0,
          0,
          0,
          0,
          0,
          0,
          0
         ]
        },
        {
         "marker": {
          "color": "Blue"
         },
         "mode": "lines",
         "name": "f(x)=x<sup>2</sup>",
         "type": "scatter",
         "x": [
          -0.7499999410635426,
          -0.7045453991809036,
          -0.6590908572982648,
          -0.6136363154156258,
          -0.5681817735329868,
          -0.5227272316503478,
          -0.4772726897677089,
          -0.43181814788507,
          -0.386363606002431,
          -0.34090906411979205,
          -0.2954545222371531,
          -0.2499999803545142,
          -0.20454543847187523,
          -0.15909089658923625,
          -0.11363635470659739,
          -0.06818181282395841,
          -0.022727270941319433,
          0.022727270941319544,
          0.06818181282395852,
          0.11363635470659739,
          0.15909089658923636,
          0.20454543847187534,
          0.2499999803545142,
          0.2954545222371533,
          0.34090906411979216,
          0.386363606002431,
          0.4318181478850701,
          0.477272689767709,
          0.5227272316503478,
          0.5681817735329869,
          0.6136363154156258,
          0.6590908572982649,
          0.7045453991809038,
          0.7499999410635426,
          0.7954544829461817,
          0.8409090248288206,
          0.8863635667114597,
          0.9318181085940985,
          0.9772726504767374,
          1.0227271923593766,
          1.0681817342420152,
          1.1136362761246543,
          1.1590908180072934,
          1.204545359889932,
          1.2499999017725711,
          1.2954544436552102,
          1.3409089855378493,
          1.386363527420488,
          1.431818069303127,
          1.4772726111857661,
          1.5227271530684048,
          1.5681816949510439,
          1.613636236833683,
          1.6590907787163216,
          1.7045453205989607,
          1.7499998624815998,
          1.7954544043642384,
          1.8409089462468775,
          1.8863634881295166,
          1.9318180300121557,
          1.9772725718947943,
          2.0227271137774334,
          2.0681816556600725,
          2.113636197542711,
          2.1590907394253502,
          2.2045452813079893,
          2.249999823190628,
          2.295454365073267,
          2.340908906955906,
          2.386363448838545,
          2.431817990721184,
          2.477272532603823,
          2.522727074486462,
          2.5681816163691007,
          2.61363615825174,
          2.659090700134379,
          2.7045452420170175,
          2.7499997838996566,
          2.7954543257822957,
          2.8409088676649343,
          2.8863634095475734,
          2.9318179514302125,
          2.977272493312851,
          3.0227270351954902,
          3.0681815770781293,
          3.113636118960768,
          3.159090660843407,
          3.204545202726046,
          3.249999744608685,
          3.2954542864913243,
          3.340908828373963,
          3.3863633702566016,
          3.431817912139241,
          3.47727245402188,
          3.5227269959045184,
          3.568181537787158,
          3.6136360796697966,
          3.6590906215524353,
          3.704545163435075,
          3.749999705317713
         ],
         "y": [
          226.87889293404444,
          216.78606410443055,
          207.04176416963944,
          197.63769451826542,
          188.56565899088912,
          179.8175638800772,
          171.38541793038237,
          163.2613323383435,
          155.43752075248548,
          147.90629927331946,
          140.66008645334253,
          133.69140329703797,
          126.99287326087504,
          120.55722225330929,
          114.37727863478226,
          108.44597321772156,
          102.75633926654098,
          97.30151249764039,
          92.07473107940574,
          87.06933563220906,
          82.27876922840859,
          77.69657739234852,
          73.31640810035923,
          69.13201178075718,
          65.13724131384495,
          61.32605203191122,
          57.69250171923074,
          54.2307506120644,
          50.93506139865917,
          47.79979921924808,
          44.81943166605037,
          41.98852878327126,
          39.301763067102186,
          36.75390946572057,
          34.33984537929001,
          32.054550659960206,
          29.893107611866906,
          27.850700991132026,
          25.92261800586354,
          24.10424831615552,
          22.391084034088173,
          20.77871972372778,
          19.262852401126715,
          17.8392815343235,
          16.503909043342702,
          15.252739300195026,
          14.081879128877253,
          12.987537805372305,
          11.966027057649155,
          11.013761065662912,
          10.127256461354778,
          9.303132328652039,
          8.538110203468111,
          7.829014073702501,
          7.172770379240794,
          6.566408011954716,
          6.007058315702074,
          5.491955086326753,
          5.018434571658789,
          4.583935471514284,
          4.185998937695436,
          3.8222685739905864,
          3.4904904361741296,
          3.1885130320065747,
          2.914287321234559,
          2.6658667155907994,
          2.4414070787940925,
          2.239166726549388,
          2.0575064265476968,
          1.894889398466131,
          1.7498813139679315,
          1.6211502967024185,
          1.5074669223050103,
          1.407704218397249,
          1.3208376645867637,
          1.2459451924672684,
          1.1822071856186123,
          1.128906479606728,
          1.0854283619836351,
          1.0512605722874884,
          1.0259933020425174,
          1.0093191947590494,
          1.001033345933546,
          1.0010333030485339,
          1.0093190655726476,
          1.0259930849606524,
          1.0512602646533782,
          1.0854279600777674,
          1.1289059786468816,
          1.1822065797598584,
          1.2459444748019473,
          1.320836827144507,
          1.4077032521449815,
          1.507465817146924,
          1.6211490414799976,
          1.7498798964599547,
          1.894887805388642,
          2.057504643554038,
          2.2391647382301874,
          2.4414048686772447
         ]
        },
        {
         "marker": {
          "color": "Pink",
          "line": {
           "color": "Red",
           "width": 1.5
          },
          "size": 8
         },
         "mode": "markers",
         "name": "gradient descent",
         "type": "scatter",
         "x": [
          0,
          2.76,
          2.7833518079999995,
          2.80421896157357,
          2.8229212154041488,
          2.8397233065611953,
          2.8548475527455337,
          2.868482936959515,
          2.880791789846415,
          2.8919147950092707,
          2.9019748018862375,
          2.911079776586619,
          2.91932512003768,
          2.9267955151870804,
          2.9335664189542046,
          2.9397052827498023,
          2.9452725630086083,
          2.9503225672748283,
          2.9549041699469227,
          2.9590614234853607,
          2.9628340848015857,
          2.9662580720474367,
          2.969365863671042,
          2.972186849085859,
          2.9747476383920115,
          2.9770723371332375,
          2.979182790952651,
          2.9810988041415207,
          2.982838335395156,
          2.9844176735528336,
          2.9858515956705034,
          2.987153509430298,
          2.988335581610636,
          2.989408854110605,
          2.990383348831551,
          2.9912681625590367,
          2.9920715528534165,
          2.992801015842264,
          2.993463356709059,
          2.9940647535870344,
          2.994610815492554,
          2.995106634867056,
          2.9955568352390873,
          2.9959656144669338,
          2.9963367839771298,
          2.9966738043736996,
          2.9969798177568854,
          2.9972576770577226,
          2.997509972665745,
          2.997739056600861,
          2.9979470644568837,
          2.9981359353228525,
          2.998307429869047,
          2.9984631467671905,
          2.9986045375985615,
          2.998732920389494,
          2.998849491900814,
          2.9989553387860455,
          2.999051447722615,
          2.999138714610653,
          2.9992179529252527,
          2.999289901300133,
          2.9993552304134625,
          2.9994145492400848,
          2.9994684107284586,
          2.99951731695526,
          2.999561723805721,
          2.999602045223339,
          2.9996386570685916,
          2.9996719006226216,
          2.9997020857685905,
          2.9997294938803134,
          2.999754380445145,
          2.999776977445555,
          2.9997974955215856,
          2.999816125934364,
          2.9998330423489743,
          2.9998484024532974,
          2.999862349427913,
          2.9998750132807857,
          2.999886512059133,
          2.999896952949827,
          2.999906433278544,
          2.9999150414169926,
          2.9999228576066863,
          2.9999299547069147,
          2.9999363988739094,
          2.999942250177533,
          2.9999475631612182,
          2.999952387350399,
          2.9999567677141714,
          2.9999607450844747,
          2.9999643565367093,
          2.999967635735336,
          2.9999706132476884,
          2.9999733168289033,
          2.999975771680647,
          2.9999780006860295,
          2.999980024622915,
          2.9999818623576084,
          2.999983531020709,
          2.9999850461668043,
          2.9999864219194587,
          2.9999876711028683,
          2.9999888053614043,
          2.9999898352681558,
          2.999990770423485,
          2.999991619544523,
          2.9999923905464274,
          2.999993090616156,
          2.999993726279468,
          2.9999943034617567,
          2.999994827543277,
          2.999995303409295,
          2.99999573549564,
          2.999996127830042,
          2.999996484069678,
          2.999996807535267,
          2.9999971012420237,
          2.9999973679277567,
          2.999997610078405,
          2.9999978299511914,
          2.99999802959568,
          2.999998210872877,
          2.9999983754725728,
          2.9999985249290964,
          2.9999986606356206,
          2.999998783857143,
          2.999998895742285,
          2.9999989973339947,
          2.999999089579268,
          2.999999173337976,
          2.999999249390883,
          2.999999318446921,
          2.9999993811498036,
          2.9999994380840214,
          2.9999994897802917,
          2.9999995367205066,
          2.9999995793422185,
          2.999999618042736,
          2.9999996531828037,
          2.9999996850899864,
          2.9999997140617074,
          2.9999997403680303,
          2.9999997642541705
         ],
         "y": [
          100,
          1.1185177600000016,
          1.0960759075088298,
          1.0781296353971708,
          1.0636970468317555,
          1.0520371420377208,
          1.0425823784647703,
          1.0348926528825586,
          1.0286231358135964,
          1.0235013018151178,
          1.0193102106481264,
          1.0158761298469736,
          1.01305923225638,
          1.0107465109661846,
          1.0088463196633246,
          1.0072841223745552,
          1.005999155297534,
          1.004941784914733,
          1.0040714034431444,
          1.0033547429596341,
          1.00276451850927,
          1.002278331626468,
          1.0018777813062258,
          1.001547741140197,
          1.0012757701715977,
          1.0010516317861309,
          1.0008669001826298,
          1.0007146380410423,
          1.0005891322076577,
          1.0004856767511716,
          1.0004003947611124,
          1.0003300918755813,
          1.0002721358246836,
          1.0002243573251433,
          1.0001849685119413,
          1.0001524957834884,
          1.000125724499729,
          1.000103653431676,
          1.0000854572366815,
          1.0000704555409177,
          1.0000580874628222,
          1.0000478906180157,
          1.0000394838159206,
          1.000032552798176,
          1.0000268384833335,
          1.0000221272770926,
          1.000018243084768,
          1.0000150407267971,
          1.0000124005106903,
          1.0000102237562354,
          1.0000084291064535,
          1.000006949486318,
          1.000005729595504,
          1.0000047238412941,
          1.000003894634419,
          1.0000032109840529,
          1.0000026473395216,
          1.000002182635293,
          1.0000017995036532,
          1.0000014836255953,
          1.0000012231956295,
          1.0000010084805793,
          1.0000008314558095,
          1.000000685505299,
          1.0000005651743837,
          1.0000004659658943,
          1.0000003841720804,
          1.000000316736035,
          1.0000002611374434,
          1.000000215298411,
          1.0000001775057832,
          1.0000001463471246,
          1.0000001206579334,
          1.0000000994781206,
          1.0000000820161308,
          1.0000000676193477,
          1.0000000557497166,
          1.0000000459636316,
          1.0000000378953584,
          1.0000000312433601,
          1.0000000257590254,
          1.0000000212373907,
          1.0000000175094605,
          1.0000000144359191,
          1.0000000119018964,
          1.000000009812684,
          1.0000000080902076,
          1.000000006670085,
          1.000000005499242,
          1.0000000045339306,
          1.0000000037380588,
          1.000000003081901,
          1.000000002540915,
          1.0000000020948896,
          1.0000000017271624,
          1.0000000014239845,
          1.0000000011740262,
          1.0000000009679404,
          1.0000000007980283,
          1.0000000006579448,
          1.0000000005424532,
          1.0000000004472334,
          1.000000000368729,
          1.0000000003040022,
          1.0000000002506404,
          1.0000000002066436,
          1.0000000001703704,
          1.0000000001404672,
          1.0000000001158078,
          1.0000000000954792,
          1.000000000078721,
          1.000000000064901,
          1.000000000053511,
          1.0000000000441212,
          1.0000000000363691,
          1.000000000029985,
          1.0000000000247233,
          1.000000000020382,
          1.0000000000168043,
          1.0000000000138556,
          1.0000000000114255,
          1.0000000000094147,
          1.0000000000077662,
          1.0000000000064055,
          1.0000000000052758,
          1.0000000000043556,
          1.0000000000035882,
          1.0000000000029559,
          1.0000000000024407,
          1.0000000000020108,
          1.0000000000016556,
          1.0000000000013678,
          1.0000000000011227,
          1.0000000000009273,
          1.0000000000007674,
          1.0000000000006324,
          1.0000000000005222,
          1.0000000000004299,
          1.0000000000003588,
          1.0000000000002913,
          1.0000000000002451,
          1.0000000000001954,
          1.000000000000167,
          1.000000000000135,
          1.0000000000001101
         ]
        }
       ],
       "layout": {
        "legend": {
         "orientation": "h",
         "x": 0.5,
         "xanchor": "center"
        },
        "margin": {
         "b": 0,
         "l": 0,
         "r": 0,
         "t": 0
        },
        "template": {
         "data": {
          "bar": [
           {
            "error_x": {
             "color": "#2a3f5f"
            },
            "error_y": {
             "color": "#2a3f5f"
            },
            "marker": {
             "line": {
              "color": "#E5ECF6",
              "width": 0.5
             },
             "pattern": {
              "fillmode": "overlay",
              "size": 10,
              "solidity": 0.2
             }
            },
            "type": "bar"
           }
          ],
          "barpolar": [
           {
            "marker": {
             "line": {
              "color": "#E5ECF6",
              "width": 0.5
             },
             "pattern": {
              "fillmode": "overlay",
              "size": 10,
              "solidity": 0.2
             }
            },
            "type": "barpolar"
           }
          ],
          "carpet": [
           {
            "aaxis": {
             "endlinecolor": "#2a3f5f",
             "gridcolor": "white",
             "linecolor": "white",
             "minorgridcolor": "white",
             "startlinecolor": "#2a3f5f"
            },
            "baxis": {
             "endlinecolor": "#2a3f5f",
             "gridcolor": "white",
             "linecolor": "white",
             "minorgridcolor": "white",
             "startlinecolor": "#2a3f5f"
            },
            "type": "carpet"
           }
          ],
          "choropleth": [
           {
            "colorbar": {
             "outlinewidth": 0,
             "ticks": ""
            },
            "type": "choropleth"
           }
          ],
          "contour": [
           {
            "colorbar": {
             "outlinewidth": 0,
             "ticks": ""
            },
            "colorscale": [
             [
              0,
              "#0d0887"
             ],
             [
              0.1111111111111111,
              "#46039f"
             ],
             [
              0.2222222222222222,
              "#7201a8"
             ],
             [
              0.3333333333333333,
              "#9c179e"
             ],
             [
              0.4444444444444444,
              "#bd3786"
             ],
             [
              0.5555555555555556,
              "#d8576b"
             ],
             [
              0.6666666666666666,
              "#ed7953"
             ],
             [
              0.7777777777777778,
              "#fb9f3a"
             ],
             [
              0.8888888888888888,
              "#fdca26"
             ],
             [
              1,
              "#f0f921"
             ]
            ],
            "type": "contour"
           }
          ],
          "contourcarpet": [
           {
            "colorbar": {
             "outlinewidth": 0,
             "ticks": ""
            },
            "type": "contourcarpet"
           }
          ],
          "heatmap": [
           {
            "colorbar": {
             "outlinewidth": 0,
             "ticks": ""
            },
            "colorscale": [
             [
              0,
              "#0d0887"
             ],
             [
              0.1111111111111111,
              "#46039f"
             ],
             [
              0.2222222222222222,
              "#7201a8"
             ],
             [
              0.3333333333333333,
              "#9c179e"
             ],
             [
              0.4444444444444444,
              "#bd3786"
             ],
             [
              0.5555555555555556,
              "#d8576b"
             ],
             [
              0.6666666666666666,
              "#ed7953"
             ],
             [
              0.7777777777777778,
              "#fb9f3a"
             ],
             [
              0.8888888888888888,
              "#fdca26"
             ],
             [
              1,
              "#f0f921"
             ]
            ],
            "type": "heatmap"
           }
          ],
          "heatmapgl": [
           {
            "colorbar": {
             "outlinewidth": 0,
             "ticks": ""
            },
            "colorscale": [
             [
              0,
              "#0d0887"
             ],
             [
              0.1111111111111111,
              "#46039f"
             ],
             [
              0.2222222222222222,
              "#7201a8"
             ],
             [
              0.3333333333333333,
              "#9c179e"
             ],
             [
              0.4444444444444444,
              "#bd3786"
             ],
             [
              0.5555555555555556,
              "#d8576b"
             ],
             [
              0.6666666666666666,
              "#ed7953"
             ],
             [
              0.7777777777777778,
              "#fb9f3a"
             ],
             [
              0.8888888888888888,
              "#fdca26"
             ],
             [
              1,
              "#f0f921"
             ]
            ],
            "type": "heatmapgl"
           }
          ],
          "histogram": [
           {
            "marker": {
             "pattern": {
              "fillmode": "overlay",
              "size": 10,
              "solidity": 0.2
             }
            },
            "type": "histogram"
           }
          ],
          "histogram2d": [
           {
            "colorbar": {
             "outlinewidth": 0,
             "ticks": ""
            },
            "colorscale": [
             [
              0,
              "#0d0887"
             ],
             [
              0.1111111111111111,
              "#46039f"
             ],
             [
              0.2222222222222222,
              "#7201a8"
             ],
             [
              0.3333333333333333,
              "#9c179e"
             ],
             [
              0.4444444444444444,
              "#bd3786"
             ],
             [
              0.5555555555555556,
              "#d8576b"
             ],
             [
              0.6666666666666666,
              "#ed7953"
             ],
             [
              0.7777777777777778,
              "#fb9f3a"
             ],
             [
              0.8888888888888888,
              "#fdca26"
             ],
             [
              1,
              "#f0f921"
             ]
            ],
            "type": "histogram2d"
           }
          ],
          "histogram2dcontour": [
           {
            "colorbar": {
             "outlinewidth": 0,
             "ticks": ""
            },
            "colorscale": [
             [
              0,
              "#0d0887"
             ],
             [
              0.1111111111111111,
              "#46039f"
             ],
             [
              0.2222222222222222,
              "#7201a8"
             ],
             [
              0.3333333333333333,
              "#9c179e"
             ],
             [
              0.4444444444444444,
              "#bd3786"
             ],
             [
              0.5555555555555556,
              "#d8576b"
             ],
             [
              0.6666666666666666,
              "#ed7953"
             ],
             [
              0.7777777777777778,
              "#fb9f3a"
             ],
             [
              0.8888888888888888,
              "#fdca26"
             ],
             [
              1,
              "#f0f921"
             ]
            ],
            "type": "histogram2dcontour"
           }
          ],
          "mesh3d": [
           {
            "colorbar": {
             "outlinewidth": 0,
             "ticks": ""
            },
            "type": "mesh3d"
           }
          ],
          "parcoords": [
           {
            "line": {
             "colorbar": {
              "outlinewidth": 0,
              "ticks": ""
             }
            },
            "type": "parcoords"
           }
          ],
          "pie": [
           {
            "automargin": true,
            "type": "pie"
           }
          ],
          "scatter": [
           {
            "fillpattern": {
             "fillmode": "overlay",
             "size": 10,
             "solidity": 0.2
            },
            "type": "scatter"
           }
          ],
          "scatter3d": [
           {
            "line": {
             "colorbar": {
              "outlinewidth": 0,
              "ticks": ""
             }
            },
            "marker": {
             "colorbar": {
              "outlinewidth": 0,
              "ticks": ""
             }
            },
            "type": "scatter3d"
           }
          ],
          "scattercarpet": [
           {
            "marker": {
             "colorbar": {
              "outlinewidth": 0,
              "ticks": ""
             }
            },
            "type": "scattercarpet"
           }
          ],
          "scattergeo": [
           {
            "marker": {
             "colorbar": {
              "outlinewidth": 0,
              "ticks": ""
             }
            },
            "type": "scattergeo"
           }
          ],
          "scattergl": [
           {
            "marker": {
             "colorbar": {
              "outlinewidth": 0,
              "ticks": ""
             }
            },
            "type": "scattergl"
           }
          ],
          "scattermapbox": [
           {
            "marker": {
             "colorbar": {
              "outlinewidth": 0,
              "ticks": ""
             }
            },
            "type": "scattermapbox"
           }
          ],
          "scatterpolar": [
           {
            "marker": {
             "colorbar": {
              "outlinewidth": 0,
              "ticks": ""
             }
            },
            "type": "scatterpolar"
           }
          ],
          "scatterpolargl": [
           {
            "marker": {
             "colorbar": {
              "outlinewidth": 0,
              "ticks": ""
             }
            },
            "type": "scatterpolargl"
           }
          ],
          "scatterternary": [
           {
            "marker": {
             "colorbar": {
              "outlinewidth": 0,
              "ticks": ""
             }
            },
            "type": "scatterternary"
           }
          ],
          "surface": [
           {
            "colorbar": {
             "outlinewidth": 0,
             "ticks": ""
            },
            "colorscale": [
             [
              0,
              "#0d0887"
             ],
             [
              0.1111111111111111,
              "#46039f"
             ],
             [
              0.2222222222222222,
              "#7201a8"
             ],
             [
              0.3333333333333333,
              "#9c179e"
             ],
             [
              0.4444444444444444,
              "#bd3786"
             ],
             [
              0.5555555555555556,
              "#d8576b"
             ],
             [
              0.6666666666666666,
              "#ed7953"
             ],
             [
              0.7777777777777778,
              "#fb9f3a"
             ],
             [
              0.8888888888888888,
              "#fdca26"
             ],
             [
              1,
              "#f0f921"
             ]
            ],
            "type": "surface"
           }
          ],
          "table": [
           {
            "cells": {
             "fill": {
              "color": "#EBF0F8"
             },
             "line": {
              "color": "white"
             }
            },
            "header": {
             "fill": {
              "color": "#C8D4E3"
             },
             "line": {
              "color": "white"
             }
            },
            "type": "table"
           }
          ]
         },
         "layout": {
          "annotationdefaults": {
           "arrowcolor": "#2a3f5f",
           "arrowhead": 0,
           "arrowwidth": 1
          },
          "autotypenumbers": "strict",
          "coloraxis": {
           "colorbar": {
            "outlinewidth": 0,
            "ticks": ""
           }
          },
          "colorscale": {
           "diverging": [
            [
             0,
             "#8e0152"
            ],
            [
             0.1,
             "#c51b7d"
            ],
            [
             0.2,
             "#de77ae"
            ],
            [
             0.3,
             "#f1b6da"
            ],
            [
             0.4,
             "#fde0ef"
            ],
            [
             0.5,
             "#f7f7f7"
            ],
            [
             0.6,
             "#e6f5d0"
            ],
            [
             0.7,
             "#b8e186"
            ],
            [
             0.8,
             "#7fbc41"
            ],
            [
             0.9,
             "#4d9221"
            ],
            [
             1,
             "#276419"
            ]
           ],
           "sequential": [
            [
             0,
             "#0d0887"
            ],
            [
             0.1111111111111111,
             "#46039f"
            ],
            [
             0.2222222222222222,
             "#7201a8"
            ],
            [
             0.3333333333333333,
             "#9c179e"
            ],
            [
             0.4444444444444444,
             "#bd3786"
            ],
            [
             0.5555555555555556,
             "#d8576b"
            ],
            [
             0.6666666666666666,
             "#ed7953"
            ],
            [
             0.7777777777777778,
             "#fb9f3a"
            ],
            [
             0.8888888888888888,
             "#fdca26"
            ],
            [
             1,
             "#f0f921"
            ]
           ],
           "sequentialminus": [
            [
             0,
             "#0d0887"
            ],
            [
             0.1111111111111111,
             "#46039f"
            ],
            [
             0.2222222222222222,
             "#7201a8"
            ],
            [
             0.3333333333333333,
             "#9c179e"
            ],
            [
             0.4444444444444444,
             "#bd3786"
            ],
            [
             0.5555555555555556,
             "#d8576b"
            ],
            [
             0.6666666666666666,
             "#ed7953"
            ],
            [
             0.7777777777777778,
             "#fb9f3a"
            ],
            [
             0.8888888888888888,
             "#fdca26"
            ],
            [
             1,
             "#f0f921"
            ]
           ]
          },
          "colorway": [
           "#636efa",
           "#EF553B",
           "#00cc96",
           "#ab63fa",
           "#FFA15A",
           "#19d3f3",
           "#FF6692",
           "#B6E880",
           "#FF97FF",
           "#FECB52"
          ],
          "font": {
           "color": "#2a3f5f"
          },
          "geo": {
           "bgcolor": "white",
           "lakecolor": "white",
           "landcolor": "#E5ECF6",
           "showlakes": true,
           "showland": true,
           "subunitcolor": "white"
          },
          "hoverlabel": {
           "align": "left"
          },
          "hovermode": "closest",
          "mapbox": {
           "style": "light"
          },
          "paper_bgcolor": "white",
          "plot_bgcolor": "#E5ECF6",
          "polar": {
           "angularaxis": {
            "gridcolor": "white",
            "linecolor": "white",
            "ticks": ""
           },
           "bgcolor": "#E5ECF6",
           "radialaxis": {
            "gridcolor": "white",
            "linecolor": "white",
            "ticks": ""
           }
          },
          "scene": {
           "xaxis": {
            "backgroundcolor": "#E5ECF6",
            "gridcolor": "white",
            "gridwidth": 2,
            "linecolor": "white",
            "showbackground": true,
            "ticks": "",
            "zerolinecolor": "white"
           },
           "yaxis": {
            "backgroundcolor": "#E5ECF6",
            "gridcolor": "white",
            "gridwidth": 2,
            "linecolor": "white",
            "showbackground": true,
            "ticks": "",
            "zerolinecolor": "white"
           },
           "zaxis": {
            "backgroundcolor": "#E5ECF6",
            "gridcolor": "white",
            "gridwidth": 2,
            "linecolor": "white",
            "showbackground": true,
            "ticks": "",
            "zerolinecolor": "white"
           }
          },
          "shapedefaults": {
           "line": {
            "color": "#2a3f5f"
           }
          },
          "ternary": {
           "aaxis": {
            "gridcolor": "white",
            "linecolor": "white",
            "ticks": ""
           },
           "baxis": {
            "gridcolor": "white",
            "linecolor": "white",
            "ticks": ""
           },
           "bgcolor": "#E5ECF6",
           "caxis": {
            "gridcolor": "white",
            "linecolor": "white",
            "ticks": ""
           }
          },
          "title": {
           "x": 0.05
          },
          "xaxis": {
           "automargin": true,
           "gridcolor": "white",
           "linecolor": "white",
           "ticks": "",
           "title": {
            "standoff": 15
           },
           "zerolinecolor": "white",
           "zerolinewidth": 2
          },
          "yaxis": {
           "automargin": true,
           "gridcolor": "white",
           "linecolor": "white",
           "ticks": "",
           "title": {
            "standoff": 15
           },
           "zerolinecolor": "white",
           "zerolinewidth": 2
          }
         }
        }
       }
      }
     },
     "metadata": {},
     "output_type": "display_data"
    },
    {
     "name": "stdout",
     "output_type": "stream",
     "text": [
      "Найден локальный минимум x1 за 144 циклов (задана точность градиента 1e-06), который не является корнем уравнения. Значение f(x) в этой точке 1.000000000000055\n",
      "x1 = 2.9999997642541705; gradient x1 = -9.42983319873747e-07\n"
     ]
    }
   ],
   "source": [
    "solv.grad_x1(x1_start=None, LR= 0.023, iters=100)"
   ]
  },
  {
   "cell_type": "code",
   "execution_count": 397,
   "metadata": {},
   "outputs": [
    {
     "data": {
      "application/vnd.plotly.v1+json": {
       "config": {
        "plotlyServerURL": "https://plot.ly"
       },
       "data": [
        {
         "marker": {
          "color": "DarkGray"
         },
         "mode": "lines",
         "name": "f(x)=0",
         "type": "scatter",
         "x": [
          2.2500002898741207,
          2.2954548318150403,
          2.3409093737559603,
          2.38636391569688,
          2.4318184576378,
          2.4772729995787195,
          2.522727541519639,
          2.568182083460559,
          2.6136366254014787,
          2.6590911673423987,
          2.7045457092833183,
          2.750000251224238,
          2.795454793165158,
          2.8409093351060775,
          2.886363877046997,
          2.931818418987917,
          2.9772729609288366,
          3.0227275028697567,
          3.0681820448106762,
          3.1136365867515963,
          3.159091128692516,
          3.2045456706334354,
          3.2500002125743555,
          3.295454754515275,
          3.3409092964561946,
          3.3863638383971146,
          3.431818380338034,
          3.477272922278954,
          3.522727464219874,
          3.568182006160794,
          3.613636548101713,
          3.659091090042633,
          3.704545631983553,
          3.7500001739244726,
          3.795454715865392,
          3.840909257806312,
          3.886363799747232,
          3.9318183416881514,
          3.9772728836290714,
          4.022727425569991,
          4.0681819675109105,
          4.113636509451831,
          4.159091051392751,
          4.20454559333367,
          4.25000013527459,
          4.29545467721551,
          4.34090921915643,
          4.386363761097349,
          4.431818303038269,
          4.477272844979188,
          4.522727386920108,
          4.568181928861028,
          4.613636470801948,
          4.659091012742868,
          4.704545554683787,
          4.7500000966247065,
          4.7954546385656265,
          4.8409091805065465,
          4.8863637224474665,
          4.9318182643883866,
          4.977272806329306,
          5.022727348270226,
          5.068181890211145,
          5.113636432152065,
          5.159090974092985,
          5.204545516033905,
          5.250000057974825,
          5.295454599915744,
          5.340909141856664,
          5.386363683797583,
          5.431818225738503,
          5.477272767679423,
          5.522727309620343,
          5.568181851561263,
          5.6136363935021825,
          5.659090935443102,
          5.704545477384022,
          5.750000019324942,
          5.795454561265862,
          5.840909103206782,
          5.886363645147701,
          5.931818187088621,
          5.97727272902954,
          6.02272727097046,
          6.06818181291138,
          6.1136363548523,
          6.15909089679322,
          6.204545438734139,
          6.249999980675058,
          6.295454522615978,
          6.340909064556898,
          6.386363606497818,
          6.4318181484387384,
          6.4772726903796585,
          6.522727232320577,
          6.568181774261497,
          6.613636316202417,
          6.659090858143337,
          6.704545400084257,
          6.749999942025176
         ],
         "y": [
          0,
          0,
          0,
          0,
          0,
          0,
          0,
          0,
          0,
          0,
          0,
          0,
          0,
          0,
          0,
          0,
          0,
          0,
          0,
          0,
          0,
          0,
          0,
          0,
          0,
          0,
          0,
          0,
          0,
          0,
          0,
          0,
          0,
          0,
          0,
          0,
          0,
          0,
          0,
          0,
          0,
          0,
          0,
          0,
          0,
          0,
          0,
          0,
          0,
          0,
          0,
          0,
          0,
          0,
          0,
          0,
          0,
          0,
          0,
          0,
          0,
          0,
          0,
          0,
          0,
          0,
          0,
          0,
          0,
          0,
          0,
          0,
          0,
          0,
          0,
          0,
          0,
          0,
          0,
          0,
          0,
          0,
          0,
          0,
          0,
          0,
          0,
          0,
          0,
          0,
          0,
          0,
          0,
          0,
          0,
          0,
          0,
          0,
          0,
          0
         ]
        },
        {
         "marker": {
          "color": "Blue"
         },
         "mode": "lines",
         "name": "f(x)=x<sup>2</sup>",
         "type": "scatter",
         "x": [
          2.2500002898741207,
          2.2954548318150403,
          2.3409093737559603,
          2.38636391569688,
          2.4318184576378,
          2.4772729995787195,
          2.522727541519639,
          2.568182083460559,
          2.6136366254014787,
          2.6590911673423987,
          2.7045457092833183,
          2.750000251224238,
          2.795454793165158,
          2.8409093351060775,
          2.886363877046997,
          2.931818418987917,
          2.9772729609288366,
          3.0227275028697567,
          3.0681820448106762,
          3.1136365867515963,
          3.159091128692516,
          3.2045456706334354,
          3.2500002125743555,
          3.295454754515275,
          3.3409092964561946,
          3.3863638383971146,
          3.431818380338034,
          3.477272922278954,
          3.522727464219874,
          3.568182006160794,
          3.613636548101713,
          3.659091090042633,
          3.704545631983553,
          3.7500001739244726,
          3.795454715865392,
          3.840909257806312,
          3.886363799747232,
          3.9318183416881514,
          3.9772728836290714,
          4.022727425569991,
          4.0681819675109105,
          4.113636509451831,
          4.159091051392751,
          4.20454559333367,
          4.25000013527459,
          4.29545467721551,
          4.34090921915643,
          4.386363761097349,
          4.431818303038269,
          4.477272844979188,
          4.522727386920108,
          4.568181928861028,
          4.613636470801948,
          4.659091012742868,
          4.704545554683787,
          4.7500000966247065,
          4.7954546385656265,
          4.8409091805065465,
          4.8863637224474665,
          4.9318182643883866,
          4.977272806329306,
          5.022727348270226,
          5.068181890211145,
          5.113636432152065,
          5.159090974092985,
          5.204545516033905,
          5.250000057974825,
          5.295454599915744,
          5.340909141856664,
          5.386363683797583,
          5.431818225738503,
          5.477272767679423,
          5.522727309620343,
          5.568181851561263,
          5.6136363935021825,
          5.659090935443102,
          5.704545477384022,
          5.750000019324942,
          5.795454561265862,
          5.840909103206782,
          5.886363645147701,
          5.931818187088621,
          5.97727272902954,
          6.02272727097046,
          6.06818181291138,
          6.1136363548523,
          6.15909089679322,
          6.204545438734139,
          6.249999980675058,
          6.295454522615978,
          6.340909064556898,
          6.386363606497818,
          6.4318181484387384,
          6.4772726903796585,
          6.522727232320577,
          6.568181774261497,
          6.613636316202417,
          6.659090858143337,
          6.704545400084257,
          6.749999942025176
         ],
         "y": [
          2.4414048912155155,
          2.23916475826083,
          2.057504661295806,
          1.8948878210437263,
          1.7498799102145002,
          1.6211490535046829,
          1.507465827597432,
          1.4077032611625337,
          1.3208368348564223,
          1.245944481322141,
          1.1822065851893644,
          1.128905983074397,
          1.0854279635801594,
          1.0512602672962135,
          1.0259930867987295,
          1.00931906665053,
          1.0010333034010421,
          1.0010333455863272,
          1.0093191937290733,
          1.0259933003385953,
          1.0512605699108344,
          1.0854283589283586,
          1.128906475860363,
          1.182207181162665,
          1.2459451872777205,
          1.3208376586346005,
          1.4077042116490106,
          1.5074669147232622,
          1.621150288246336,
          1.7498813045937964,
          1.8948893881278608,
          2.05750641519736,
          2.23916671413775,
          2.4414070652711297,
          2.66586670090621,
          2.914287305338331,
          3.18851301484945,
          3.4904904177081866,
          3.8222685541697503,
          4.18599891647599,
          4.583935448855374,
          5.018434547523009,
          5.491955060680643,
          6.007058288516596,
          6.566407983205886,
          7.172770348910106,
          7.829014041777489,
          8.538110169942877,
          9.303132293527801,
          10.127256424640334,
          11.01376102737526,
          11.966027017813929,
          12.987537764024335,
          14.0818790860611,
          15.25273925596542,
          16.503908997765276,
          17.83928148747512,
          19.26285235309608,
          20.778719674615942,
          22.39108398400903,
          24.10424826523638,
          25.92261795424563,
          27.850700938971002,
          29.893107559333462,
          32.05455060724049,
          34.33984532658627,
          36.753909413251485,
          39.30176301510353,
          41.98852873199657,
          44.81943161577106,
          47.79979917025446,
          50.9350613512606,
          54.23075056658994,
          57.69250167602975,
          61.326051991353694,
          65.13724127632219,
          69.13201174668244,
          73.316408070168,
          77.69657736649916,
          82.27876920738282,
          87.0693356165124,
          92.07473106956834,
          97.30151249421716,
          102.75633927011258,
          108.44597322889447,
          114.37727865418954,
          120.55722228161109,
          126.99287329875904,
          133.6914033452196,
          140.66008651256666,
          147.90629934435967,
          155.43752083614524,
          163.2613324354561,
          171.38541804181207,
          179.81756400671935,
          188.5656591336712,
          197.63769467814703,
          207.04176434761303,
          216.78606430152223,
          226.87889315131346
         ]
        },
        {
         "marker": {
          "color": "Pink",
          "line": {
           "color": "Red",
           "width": 1.5
          },
          "size": 8
         },
         "mode": "markers",
         "name": "gradient descent",
         "type": "scatter",
         "x": [
          6,
          3.6,
          3.534720000000001,
          3.4797111942551964,
          3.4325028989104838,
          3.3914303906045355,
          3.3553180326362004,
          3.3233038521900835,
          3.2947360673526753,
          3.269108899531245,
          3.2460210868640633,
          3.225148138746444,
          3.206223236575665,
          3.1890237563207426,
          3.173361550605594,
          3.159075806762382,
          3.146027707729081,
          3.1340963784555442,
          3.1231757642231304,
          3.1131721946200197,
          3.1040024587851294,
          3.095592266579555,
          3.0878750043893812,
          3.080790718260253,
          3.074285274212115,
          3.068309657989176,
          3.062819385576723,
          3.0577740025238924,
          3.0531366551132653,
          3.0488737201790475,
          3.044954483224836,
          3.0413508566656344,
          3.0380371316880064,
          3.03498975851203,
          3.032187150841184,
          3.0296095110701793,
          3.027238673437069,
          3.025057962793577,
          3.0230520670554997,
          3.0212069217056503,
          3.0195096049721006,
          3.0179482425073507,
          3.0165119205598643,
          3.0151906067656222,
          3.0139750778002616,
          3.012856853226495,
          3.011828134950712,
          3.0108817517696487,
          3.010011108545224,
          3.009210139594704,
          3.0084732659258893,
          3.0077953559839306,
          3.0071716896088256,
          3.006597924931124,
          3.006070067958641,
          3.005584444629466,
          3.00513767512658,
          3.004726650267449,
          3.0043485097981217,
          3.0040006224360067,
          3.0036805675187357,
          3.0033861181285095,
          3.0031152255722664,
          3.0028660051079163,
          3.0026367228159763,
          3.0024257835241936,
          3.0022317197003106,
          3.0020531812350666,
          3.0018889260438373,
          3.001737811421148,
          3.0015987860876026,
          3.0014708828736594,
          3.0013532119891866,
          3.001244954831813,
          3.0011453582909016,
          3.0010537295074275,
          3.0009694310532335,
          3.000891876496091,
          3.0008205263196484,
          3.0007548841698823,
          3.0006944934018778,
          3.000638933902929,
          3.000587819169828,
          3.000540793619993,
          3.0004975301177415,
          3.0004577276984694,
          3.0004211094749187,
          3.00038742071095,
          3.000356427049422,
          3.000327912881846,
          3.000301679848478,
          3.000277545458402,
          3.000255341820019,
          3.000234914473086,
          3.0002161213142027,
          3.0001988316082597,
          3.0001829250789696,
          3.0001682910721623,
          3.000154827786009,
          3.0001424415628306,
          3.0001310462375725,
          3.0001205625383873,
          3.0001109175351766,
          3.000102044132255,
          3.0000938806015895,
          3.000086370153396,
          3.000079460541072,
          3.0000731036977464,
          3.000067255401896,
          3.00006187496972,
          3.000056924972123,
          3.000052370974338,
          3.0000481812963793,
          3.00004432679266,
          3.00004078064924,
          3.000037518197295,
          3.0000345167415077,
          3.0000317554021847,
          3.0000292149700067,
          3.000026877772404,
          3.000024727550611,
          3.0000227493465608,
          3.0000209293988354,
          3.000019255046928,
          3.0000177146431732,
          3.000016297471719,
          3.00001499367398,
          3.00001379418006,
          3.000012690645654,
          3.0000116753940023,
          3.000010741362483,
          3.000009882053484,
          3.0000090914892046,
          3.000008364170067,
          3.0000076950364614,
          3.0000070794335447,
          3.000006513078861,
          3.000005992032552,
          3.0000055126699476,
          3.000005071656351,
          3.0000046659238424,
          3.000004292649934,
          3.0000039492379384,
          3.000003633298904,
          3.000003342634992,
          3.000003075224192,
          3.0000028292062564,
          3.000002602869756,
          3.0000023946401755,
          3.0000022030689624,
          3.0000020268234455,
          3.0000018646775692,
          3.0000017155033634,
          3.0000015782630944,
          3.0000014520020466,
          3.000001335841883,
          3.0000012289745324,
          3.00000113065657,
          3.0000010402040456,
          3.000000956987722,
          3.0000008804287055,
          3.0000008099944093,
          3.000000745194856,
          3.0000006855792676,
          3.0000006307329263,
          3.0000005802742935,
          3.0000005338523503,
          3.0000004911441627,
          3.000000451852631,
          3.0000004157044216,
          3.000000382448068,
          3.000000351852222,
          3.000000323704045,
          3.0000002978077203,
          3.000000273983102,
          3.000000252064453,
          3.0000002318992967
         ],
         "y": [
          100,
          1.8495999999999984,
          1.6536043359982673,
          1.513202176625803,
          1.4091084939140672,
          1.3299111805037798,
          1.2684410994736413,
          1.219976316921839,
          1.1812849826619602,
          1.150083798050028,
          1.1247161924561946,
          1.1039530156273614,
          1.0868646793736112,
          1.0727365924104237,
          1.0610117110310513,
          1.0512505733025705,
          1.043102899724305,
          1.0362870239533524,
          1.0305747355272372,
          1.025779934741616,
          1.0217500197862897,
          1.018359263736656,
          1.015503662330098,
          1.013096883872645,
          1.0110670555861179,
          1.0093541922591198,
          1.007908123496462,
          1.006686811880204,
          1.0056549804087505,
          1.004782986651834,
          1.0040458951833127,
          1.0034227104292188,
          1.002895740072018,
          1.002450065270814,
          1.0020730986808153,
          1.001754214935101,
          1.0014844411440933,
          1.0012561972590204,
          1.0010630779746779,
          1.0008996693167025,
          1.0007613942474831,
          1.0006443825920095,
          1.000545361375638,
          1.0004615623154665,
          1.0003906437422276,
          1.0003306246734287,
          1.0002798291261685,
          1.0002368390646783,
          1.0002004546331191,
          1.00016966053827,
          1.0001435976256015,
          1.0001215388425284,
          1.0001028689090554,
          1.0000870671218856,
          1.0000736928076517,
          1.0000623730162082,
          1.0000527921081463,
          1.0000446829446286,
          1.0000378194325001,
          1.0000320102159088,
          1.0000270933380278,
          1.0000229317234284,
          1.00001940935491,
          1.0000164280380268,
          1.0000139046627545,
          1.0000117688860382,
          1.000009961170446,
          1.0000084311241368,
          1.0000071360959255,
          1.0000060399861899,
          1.0000051122404374,
          1.000004326997539,
          1.0000036623687296,
          1.000003099827471,
          1.0000026236929513,
          1.0000022206929842,
          1.0000018795940187,
          1.0000015908880013,
          1.000001346527336,
          1.000001139700545,
          1.000000964642398,
          1.0000008164732284,
          1.000000691062875,
          1.0000005849155686,
          1.0000004950724959,
          1.0000004190293352,
          1.0000003546664114,
          1.0000003001896378,
          1.000000254080499,
          1.0000002150537322,
          1.000000182021471,
          1.0000001540629693,
          1.0000001303988924,
          1.0000001103696259,
          1.0000000934168498,
          1.0000000790680141,
          1.0000000669231721,
          1.0000000566437715,
          1.0000000479432856,
          1.0000000405791991,
          1.0000000343462363,
          1.0000000290706554,
          1.0000000246053988,
          1.0000000208260111,
          1.0000000176271335,
          1.0000000149196033,
          1.0000000126279538,
          1.0000000106883,
          1.0000000090465804,
          1.0000000076570252,
          1.000000006480903,
          1.000000005485436,
          1.000000004642871,
          1.0000000039297277,
          1.0000000033261216,
          1.0000000028152307,
          1.0000000023828122,
          1.0000000020168116,
          1.0000000017070256,
          1.0000000014448283,
          1.0000000012229044,
          1.000000001035069,
          1.0000000008760814,
          1.0000000007415117,
          1.0000000006276153,
          1.000000000531216,
          1.0000000004496208,
          1.000000000380556,
          1.0000000003221068,
          1.0000000002726317,
          1.0000000002307559,
          1.0000000001953069,
          1.0000000001653078,
          1.00000000013992,
          1.0000000001184297,
          1.0000000001002363,
          1.0000000000848424,
          1.0000000000718074,
          1.0000000000607763,
          1.0000000000514397,
          1.000000000043542,
          1.0000000000368487,
          1.0000000000311964,
          1.0000000000264038,
          1.0000000000223466,
          1.0000000000189146,
          1.0000000000160085,
          1.00000000001355,
          1.0000000000114682,
          1.0000000000097096,
          1.0000000000082139,
          1.0000000000069562,
          1.0000000000058833,
          1.0000000000049845,
          1.0000000000042135,
          1.0000000000035705,
          1.0000000000030234,
          1.0000000000025615,
          1.0000000000021636,
          1.0000000000018368,
          1.0000000000015525,
          1.000000000001311,
          1.0000000000011156,
          1.0000000000009415,
          1.0000000000007994,
          1.0000000000006715,
          1.000000000000572,
          1.0000000000004867,
          1.0000000000004121,
          1.0000000000003482,
          1.0000000000002913,
          1.0000000000002487,
          1.0000000000002096,
          1.000000000000174,
          1.0000000000001457,
          1.000000000000128,
          1.0000000000001066
         ]
        }
       ],
       "layout": {
        "legend": {
         "orientation": "h",
         "x": 0.5,
         "xanchor": "center"
        },
        "margin": {
         "b": 0,
         "l": 0,
         "r": 0,
         "t": 0
        },
        "template": {
         "data": {
          "bar": [
           {
            "error_x": {
             "color": "#2a3f5f"
            },
            "error_y": {
             "color": "#2a3f5f"
            },
            "marker": {
             "line": {
              "color": "#E5ECF6",
              "width": 0.5
             },
             "pattern": {
              "fillmode": "overlay",
              "size": 10,
              "solidity": 0.2
             }
            },
            "type": "bar"
           }
          ],
          "barpolar": [
           {
            "marker": {
             "line": {
              "color": "#E5ECF6",
              "width": 0.5
             },
             "pattern": {
              "fillmode": "overlay",
              "size": 10,
              "solidity": 0.2
             }
            },
            "type": "barpolar"
           }
          ],
          "carpet": [
           {
            "aaxis": {
             "endlinecolor": "#2a3f5f",
             "gridcolor": "white",
             "linecolor": "white",
             "minorgridcolor": "white",
             "startlinecolor": "#2a3f5f"
            },
            "baxis": {
             "endlinecolor": "#2a3f5f",
             "gridcolor": "white",
             "linecolor": "white",
             "minorgridcolor": "white",
             "startlinecolor": "#2a3f5f"
            },
            "type": "carpet"
           }
          ],
          "choropleth": [
           {
            "colorbar": {
             "outlinewidth": 0,
             "ticks": ""
            },
            "type": "choropleth"
           }
          ],
          "contour": [
           {
            "colorbar": {
             "outlinewidth": 0,
             "ticks": ""
            },
            "colorscale": [
             [
              0,
              "#0d0887"
             ],
             [
              0.1111111111111111,
              "#46039f"
             ],
             [
              0.2222222222222222,
              "#7201a8"
             ],
             [
              0.3333333333333333,
              "#9c179e"
             ],
             [
              0.4444444444444444,
              "#bd3786"
             ],
             [
              0.5555555555555556,
              "#d8576b"
             ],
             [
              0.6666666666666666,
              "#ed7953"
             ],
             [
              0.7777777777777778,
              "#fb9f3a"
             ],
             [
              0.8888888888888888,
              "#fdca26"
             ],
             [
              1,
              "#f0f921"
             ]
            ],
            "type": "contour"
           }
          ],
          "contourcarpet": [
           {
            "colorbar": {
             "outlinewidth": 0,
             "ticks": ""
            },
            "type": "contourcarpet"
           }
          ],
          "heatmap": [
           {
            "colorbar": {
             "outlinewidth": 0,
             "ticks": ""
            },
            "colorscale": [
             [
              0,
              "#0d0887"
             ],
             [
              0.1111111111111111,
              "#46039f"
             ],
             [
              0.2222222222222222,
              "#7201a8"
             ],
             [
              0.3333333333333333,
              "#9c179e"
             ],
             [
              0.4444444444444444,
              "#bd3786"
             ],
             [
              0.5555555555555556,
              "#d8576b"
             ],
             [
              0.6666666666666666,
              "#ed7953"
             ],
             [
              0.7777777777777778,
              "#fb9f3a"
             ],
             [
              0.8888888888888888,
              "#fdca26"
             ],
             [
              1,
              "#f0f921"
             ]
            ],
            "type": "heatmap"
           }
          ],
          "heatmapgl": [
           {
            "colorbar": {
             "outlinewidth": 0,
             "ticks": ""
            },
            "colorscale": [
             [
              0,
              "#0d0887"
             ],
             [
              0.1111111111111111,
              "#46039f"
             ],
             [
              0.2222222222222222,
              "#7201a8"
             ],
             [
              0.3333333333333333,
              "#9c179e"
             ],
             [
              0.4444444444444444,
              "#bd3786"
             ],
             [
              0.5555555555555556,
              "#d8576b"
             ],
             [
              0.6666666666666666,
              "#ed7953"
             ],
             [
              0.7777777777777778,
              "#fb9f3a"
             ],
             [
              0.8888888888888888,
              "#fdca26"
             ],
             [
              1,
              "#f0f921"
             ]
            ],
            "type": "heatmapgl"
           }
          ],
          "histogram": [
           {
            "marker": {
             "pattern": {
              "fillmode": "overlay",
              "size": 10,
              "solidity": 0.2
             }
            },
            "type": "histogram"
           }
          ],
          "histogram2d": [
           {
            "colorbar": {
             "outlinewidth": 0,
             "ticks": ""
            },
            "colorscale": [
             [
              0,
              "#0d0887"
             ],
             [
              0.1111111111111111,
              "#46039f"
             ],
             [
              0.2222222222222222,
              "#7201a8"
             ],
             [
              0.3333333333333333,
              "#9c179e"
             ],
             [
              0.4444444444444444,
              "#bd3786"
             ],
             [
              0.5555555555555556,
              "#d8576b"
             ],
             [
              0.6666666666666666,
              "#ed7953"
             ],
             [
              0.7777777777777778,
              "#fb9f3a"
             ],
             [
              0.8888888888888888,
              "#fdca26"
             ],
             [
              1,
              "#f0f921"
             ]
            ],
            "type": "histogram2d"
           }
          ],
          "histogram2dcontour": [
           {
            "colorbar": {
             "outlinewidth": 0,
             "ticks": ""
            },
            "colorscale": [
             [
              0,
              "#0d0887"
             ],
             [
              0.1111111111111111,
              "#46039f"
             ],
             [
              0.2222222222222222,
              "#7201a8"
             ],
             [
              0.3333333333333333,
              "#9c179e"
             ],
             [
              0.4444444444444444,
              "#bd3786"
             ],
             [
              0.5555555555555556,
              "#d8576b"
             ],
             [
              0.6666666666666666,
              "#ed7953"
             ],
             [
              0.7777777777777778,
              "#fb9f3a"
             ],
             [
              0.8888888888888888,
              "#fdca26"
             ],
             [
              1,
              "#f0f921"
             ]
            ],
            "type": "histogram2dcontour"
           }
          ],
          "mesh3d": [
           {
            "colorbar": {
             "outlinewidth": 0,
             "ticks": ""
            },
            "type": "mesh3d"
           }
          ],
          "parcoords": [
           {
            "line": {
             "colorbar": {
              "outlinewidth": 0,
              "ticks": ""
             }
            },
            "type": "parcoords"
           }
          ],
          "pie": [
           {
            "automargin": true,
            "type": "pie"
           }
          ],
          "scatter": [
           {
            "fillpattern": {
             "fillmode": "overlay",
             "size": 10,
             "solidity": 0.2
            },
            "type": "scatter"
           }
          ],
          "scatter3d": [
           {
            "line": {
             "colorbar": {
              "outlinewidth": 0,
              "ticks": ""
             }
            },
            "marker": {
             "colorbar": {
              "outlinewidth": 0,
              "ticks": ""
             }
            },
            "type": "scatter3d"
           }
          ],
          "scattercarpet": [
           {
            "marker": {
             "colorbar": {
              "outlinewidth": 0,
              "ticks": ""
             }
            },
            "type": "scattercarpet"
           }
          ],
          "scattergeo": [
           {
            "marker": {
             "colorbar": {
              "outlinewidth": 0,
              "ticks": ""
             }
            },
            "type": "scattergeo"
           }
          ],
          "scattergl": [
           {
            "marker": {
             "colorbar": {
              "outlinewidth": 0,
              "ticks": ""
             }
            },
            "type": "scattergl"
           }
          ],
          "scattermapbox": [
           {
            "marker": {
             "colorbar": {
              "outlinewidth": 0,
              "ticks": ""
             }
            },
            "type": "scattermapbox"
           }
          ],
          "scatterpolar": [
           {
            "marker": {
             "colorbar": {
              "outlinewidth": 0,
              "ticks": ""
             }
            },
            "type": "scatterpolar"
           }
          ],
          "scatterpolargl": [
           {
            "marker": {
             "colorbar": {
              "outlinewidth": 0,
              "ticks": ""
             }
            },
            "type": "scatterpolargl"
           }
          ],
          "scatterternary": [
           {
            "marker": {
             "colorbar": {
              "outlinewidth": 0,
              "ticks": ""
             }
            },
            "type": "scatterternary"
           }
          ],
          "surface": [
           {
            "colorbar": {
             "outlinewidth": 0,
             "ticks": ""
            },
            "colorscale": [
             [
              0,
              "#0d0887"
             ],
             [
              0.1111111111111111,
              "#46039f"
             ],
             [
              0.2222222222222222,
              "#7201a8"
             ],
             [
              0.3333333333333333,
              "#9c179e"
             ],
             [
              0.4444444444444444,
              "#bd3786"
             ],
             [
              0.5555555555555556,
              "#d8576b"
             ],
             [
              0.6666666666666666,
              "#ed7953"
             ],
             [
              0.7777777777777778,
              "#fb9f3a"
             ],
             [
              0.8888888888888888,
              "#fdca26"
             ],
             [
              1,
              "#f0f921"
             ]
            ],
            "type": "surface"
           }
          ],
          "table": [
           {
            "cells": {
             "fill": {
              "color": "#EBF0F8"
             },
             "line": {
              "color": "white"
             }
            },
            "header": {
             "fill": {
              "color": "#C8D4E3"
             },
             "line": {
              "color": "white"
             }
            },
            "type": "table"
           }
          ]
         },
         "layout": {
          "annotationdefaults": {
           "arrowcolor": "#2a3f5f",
           "arrowhead": 0,
           "arrowwidth": 1
          },
          "autotypenumbers": "strict",
          "coloraxis": {
           "colorbar": {
            "outlinewidth": 0,
            "ticks": ""
           }
          },
          "colorscale": {
           "diverging": [
            [
             0,
             "#8e0152"
            ],
            [
             0.1,
             "#c51b7d"
            ],
            [
             0.2,
             "#de77ae"
            ],
            [
             0.3,
             "#f1b6da"
            ],
            [
             0.4,
             "#fde0ef"
            ],
            [
             0.5,
             "#f7f7f7"
            ],
            [
             0.6,
             "#e6f5d0"
            ],
            [
             0.7,
             "#b8e186"
            ],
            [
             0.8,
             "#7fbc41"
            ],
            [
             0.9,
             "#4d9221"
            ],
            [
             1,
             "#276419"
            ]
           ],
           "sequential": [
            [
             0,
             "#0d0887"
            ],
            [
             0.1111111111111111,
             "#46039f"
            ],
            [
             0.2222222222222222,
             "#7201a8"
            ],
            [
             0.3333333333333333,
             "#9c179e"
            ],
            [
             0.4444444444444444,
             "#bd3786"
            ],
            [
             0.5555555555555556,
             "#d8576b"
            ],
            [
             0.6666666666666666,
             "#ed7953"
            ],
            [
             0.7777777777777778,
             "#fb9f3a"
            ],
            [
             0.8888888888888888,
             "#fdca26"
            ],
            [
             1,
             "#f0f921"
            ]
           ],
           "sequentialminus": [
            [
             0,
             "#0d0887"
            ],
            [
             0.1111111111111111,
             "#46039f"
            ],
            [
             0.2222222222222222,
             "#7201a8"
            ],
            [
             0.3333333333333333,
             "#9c179e"
            ],
            [
             0.4444444444444444,
             "#bd3786"
            ],
            [
             0.5555555555555556,
             "#d8576b"
            ],
            [
             0.6666666666666666,
             "#ed7953"
            ],
            [
             0.7777777777777778,
             "#fb9f3a"
            ],
            [
             0.8888888888888888,
             "#fdca26"
            ],
            [
             1,
             "#f0f921"
            ]
           ]
          },
          "colorway": [
           "#636efa",
           "#EF553B",
           "#00cc96",
           "#ab63fa",
           "#FFA15A",
           "#19d3f3",
           "#FF6692",
           "#B6E880",
           "#FF97FF",
           "#FECB52"
          ],
          "font": {
           "color": "#2a3f5f"
          },
          "geo": {
           "bgcolor": "white",
           "lakecolor": "white",
           "landcolor": "#E5ECF6",
           "showlakes": true,
           "showland": true,
           "subunitcolor": "white"
          },
          "hoverlabel": {
           "align": "left"
          },
          "hovermode": "closest",
          "mapbox": {
           "style": "light"
          },
          "paper_bgcolor": "white",
          "plot_bgcolor": "#E5ECF6",
          "polar": {
           "angularaxis": {
            "gridcolor": "white",
            "linecolor": "white",
            "ticks": ""
           },
           "bgcolor": "#E5ECF6",
           "radialaxis": {
            "gridcolor": "white",
            "linecolor": "white",
            "ticks": ""
           }
          },
          "scene": {
           "xaxis": {
            "backgroundcolor": "#E5ECF6",
            "gridcolor": "white",
            "gridwidth": 2,
            "linecolor": "white",
            "showbackground": true,
            "ticks": "",
            "zerolinecolor": "white"
           },
           "yaxis": {
            "backgroundcolor": "#E5ECF6",
            "gridcolor": "white",
            "gridwidth": 2,
            "linecolor": "white",
            "showbackground": true,
            "ticks": "",
            "zerolinecolor": "white"
           },
           "zaxis": {
            "backgroundcolor": "#E5ECF6",
            "gridcolor": "white",
            "gridwidth": 2,
            "linecolor": "white",
            "showbackground": true,
            "ticks": "",
            "zerolinecolor": "white"
           }
          },
          "shapedefaults": {
           "line": {
            "color": "#2a3f5f"
           }
          },
          "ternary": {
           "aaxis": {
            "gridcolor": "white",
            "linecolor": "white",
            "ticks": ""
           },
           "baxis": {
            "gridcolor": "white",
            "linecolor": "white",
            "ticks": ""
           },
           "bgcolor": "#E5ECF6",
           "caxis": {
            "gridcolor": "white",
            "linecolor": "white",
            "ticks": ""
           }
          },
          "title": {
           "x": 0.05
          },
          "xaxis": {
           "automargin": true,
           "gridcolor": "white",
           "linecolor": "white",
           "ticks": "",
           "title": {
            "standoff": 15
           },
           "zerolinecolor": "white",
           "zerolinewidth": 2
          },
          "yaxis": {
           "automargin": true,
           "gridcolor": "white",
           "linecolor": "white",
           "ticks": "",
           "title": {
            "standoff": 15
           },
           "zerolinecolor": "white",
           "zerolinewidth": 2
          }
         }
        }
       }
      }
     },
     "metadata": {},
     "output_type": "display_data"
    },
    {
     "name": "stdout",
     "output_type": "stream",
     "text": [
      "Найден локальный минимум x2 за 176 циклов (задана точность градиента 1e-06), который не является корнем уравнения. Значение f(x) в этой точке 1.0000000000000533\n",
      "x1 = 3.0000002318992967; gradient x2 = 9.275971706301789e-07\n"
     ]
    }
   ],
   "source": [
    "solv.grad_x2(x2_start=None, LR= 0.02, iters=100)"
   ]
  },
  {
   "cell_type": "code",
   "execution_count": 399,
   "metadata": {},
   "outputs": [
    {
     "data": {
      "application/vnd.plotly.v1+json": {
       "config": {
        "plotlyServerURL": "https://plot.ly"
       },
       "data": [
        {
         "marker": {
          "color": "DarkGray"
         },
         "mode": "lines",
         "name": "f(x)=0",
         "type": "scatter",
         "x": [
          -1.5,
          -1.4090909090909092,
          -1.3181818181818181,
          -1.2272727272727273,
          -1.1363636363636362,
          -1.0454545454545454,
          -0.9545454545454546,
          -0.8636363636363636,
          -0.7727272727272727,
          -0.6818181818181818,
          -0.5909090909090908,
          -0.5,
          -0.40909090909090917,
          -0.3181818181818181,
          -0.2272727272727273,
          -0.13636363636363624,
          -0.045454545454545414,
          0.045454545454545414,
          0.13636363636363646,
          0.2272727272727273,
          0.31818181818181834,
          0.40909090909090917,
          0.5,
          0.5909090909090908,
          0.6818181818181817,
          0.7727272727272729,
          0.8636363636363638,
          0.9545454545454546,
          1.0454545454545454,
          1.1363636363636362,
          1.2272727272727275,
          1.3181818181818183,
          1.4090909090909092,
          1.5,
          1.5909090909090908,
          1.681818181818182,
          1.772727272727273,
          1.8636363636363638,
          1.9545454545454546,
          2.0454545454545454,
          2.1363636363636367,
          2.2272727272727275,
          2.3181818181818183,
          2.409090909090909,
          2.5,
          2.590909090909091,
          2.6818181818181817,
          2.7727272727272725,
          2.8636363636363633,
          2.954545454545455,
          3.045454545454546,
          3.1363636363636367,
          3.2272727272727275,
          3.3181818181818183,
          3.409090909090909,
          3.5,
          3.590909090909091,
          3.6818181818181817,
          3.7727272727272725,
          3.863636363636364,
          3.954545454545455,
          4.045454545454546,
          4.136363636363637,
          4.2272727272727275,
          4.318181818181818,
          4.409090909090909,
          4.5,
          4.590909090909091,
          4.681818181818182,
          4.7727272727272725,
          4.863636363636364,
          4.954545454545455,
          5.045454545454546,
          5.136363636363637,
          5.2272727272727275,
          5.318181818181818,
          5.409090909090909,
          5.5,
          5.590909090909091,
          5.681818181818182,
          5.772727272727273,
          5.863636363636364,
          5.954545454545455,
          6.045454545454546,
          6.136363636363637,
          6.2272727272727275,
          6.318181818181818,
          6.409090909090909,
          6.5,
          6.590909090909092,
          6.681818181818182,
          6.772727272727273,
          6.863636363636363,
          6.954545454545455,
          7.045454545454545,
          7.136363636363637,
          7.227272727272727,
          7.318181818181818,
          7.40909090909091,
          7.5
         ],
         "y": [
          0,
          0,
          0,
          0,
          0,
          0,
          0,
          0,
          0,
          0,
          0,
          0,
          0,
          0,
          0,
          0,
          0,
          0,
          0,
          0,
          0,
          0,
          0,
          0,
          0,
          0,
          0,
          0,
          0,
          0,
          0,
          0,
          0,
          0,
          0,
          0,
          0,
          0,
          0,
          0,
          0,
          0,
          0,
          0,
          0,
          0,
          0,
          0,
          0,
          0,
          0,
          0,
          0,
          0,
          0,
          0,
          0,
          0,
          0,
          0,
          0,
          0,
          0,
          0,
          0,
          0,
          0,
          0,
          0,
          0,
          0,
          0,
          0,
          0,
          0,
          0,
          0,
          0,
          0,
          0,
          0,
          0,
          0,
          0,
          0,
          0,
          0,
          0,
          0,
          0,
          0,
          0,
          0,
          0,
          0,
          0,
          0,
          0,
          0,
          0
         ]
        },
        {
         "marker": {
          "color": "Blue"
         },
         "mode": "lines",
         "name": "f(x)=x<sup>2</sup>",
         "type": "scatter",
         "x": [
          -1.5,
          -1.4090909090909092,
          -1.3181818181818181,
          -1.2272727272727273,
          -1.1363636363636362,
          -1.0454545454545454,
          -0.9545454545454546,
          -0.8636363636363636,
          -0.7727272727272727,
          -0.6818181818181818,
          -0.5909090909090908,
          -0.5,
          -0.40909090909090917,
          -0.3181818181818181,
          -0.2272727272727273,
          -0.13636363636363624,
          -0.045454545454545414,
          0.045454545454545414,
          0.13636363636363646,
          0.2272727272727273,
          0.31818181818181834,
          0.40909090909090917,
          0.5,
          0.5909090909090908,
          0.6818181818181817,
          0.7727272727272729,
          0.8636363636363638,
          0.9545454545454546,
          1.0454545454545454,
          1.1363636363636362,
          1.2272727272727275,
          1.3181818181818183,
          1.4090909090909092,
          1.5,
          1.5909090909090908,
          1.681818181818182,
          1.772727272727273,
          1.8636363636363638,
          1.9545454545454546,
          2.0454545454545454,
          2.1363636363636367,
          2.2272727272727275,
          2.3181818181818183,
          2.409090909090909,
          2.5,
          2.590909090909091,
          2.6818181818181817,
          2.7727272727272725,
          2.8636363636363633,
          2.954545454545455,
          3.045454545454546,
          3.1363636363636367,
          3.2272727272727275,
          3.3181818181818183,
          3.409090909090909,
          3.5,
          3.590909090909091,
          3.6818181818181817,
          3.7727272727272725,
          3.863636363636364,
          3.954545454545455,
          4.045454545454546,
          4.136363636363637,
          4.2272727272727275,
          4.318181818181818,
          4.409090909090909,
          4.5,
          4.590909090909091,
          4.681818181818182,
          4.7727272727272725,
          4.863636363636364,
          4.954545454545455,
          5.045454545454546,
          5.136363636363637,
          5.2272727272727275,
          5.318181818181818,
          5.409090909090909,
          5.5,
          5.590909090909091,
          5.681818181818182,
          5.772727272727273,
          5.863636363636364,
          5.954545454545455,
          6.045454545454546,
          6.136363636363637,
          6.2272727272727275,
          6.318181818181818,
          6.409090909090909,
          6.5,
          6.590909090909092,
          6.681818181818182,
          6.772727272727273,
          6.863636363636363,
          6.954545454545455,
          7.045454545454545,
          7.136363636363637,
          7.227272727272727,
          7.318181818181818,
          7.40909090909091,
          7.5
         ],
         "y": [
          451.5625,
          417.7969785192268,
          385.99259357284336,
          356.07066201079164,
          327.9541399153063,
          301.56762260091523,
          276.8373446144389,
          253.6911797349908,
          232.0586409739772,
          211.87088057509732,
          193.06069001434324,
          175.5625,
          159.31238047264534,
          144.24804060514992,
          130.30882880267743,
          117.43573270268425,
          105.57137917491973,
          94.66003432142612,
          84.64760347653848,
          75.48163120688476,
          67.11130131138583,
          59.48743682125537,
          52.5625,
          46.29059234341917,
          40.62745457960523,
          35.53046666894337,
          30.958647804111735,
          26.87265641008128,
          23.234790144115845,
          20.00898589577215,
          17.1608197868998,
          14.657507171641276,
          12.467902636431933,
          10.5625,
          8.91343231336658,
          7.494471859845627,
          6.281030155044055,
          5.250157946861547,
          4.38054521549075,
          3.6525211734171146,
          3.048054265419026,
          2.5507521685677212,
          2.1458617922273087,
          1.8202692780547791,
          1.5625,
          1.3627185643057143,
          1.2127288095075495,
          1.105973806433992,
          1.0375358582064065,
          1.0041365002390554,
          1.004136500239059,
          1.0375358582064065,
          1.1059738064339844,
          1.2127288095075495,
          1.3627185643057227,
          1.5625,
          1.8202692780547745,
          2.1458617922273087,
          2.550752168567727,
          3.048054265419026,
          3.6525211734171217,
          4.380545215490757,
          5.250157946861556,
          6.281030155044042,
          7.494471859845646,
          8.91343231336658,
          10.5625,
          12.467902636431928,
          14.657507171641283,
          17.160819786899815,
          20.008985895772135,
          23.234790144115863,
          26.872656410081298,
          30.958647804111752,
          35.530466668943376,
          40.627454579605235,
          46.290592343419206,
          52.5625,
          59.48743682125533,
          67.11130131138577,
          75.48163120688483,
          84.64760347653845,
          94.66003432142605,
          105.57137917491984,
          117.43573270268428,
          130.30882880267745,
          144.24804060515007,
          159.31238047264543,
          175.5625,
          193.06069001434363,
          211.87088057509712,
          232.0586409739773,
          253.6911797349907,
          276.8373446144389,
          301.56762260091523,
          327.9541399153064,
          356.07066201079135,
          385.9925935728435,
          417.7969785192271,
          451.5625
         ]
        },
        {
         "marker": {
          "color": "Pink",
          "line": {
           "color": "Red",
           "width": 1.5
          },
          "size": 8
         },
         "mode": "markers",
         "name": "gradient descent",
         "type": "scatter",
         "x": [
          0,
          2.76,
          2.7833518079999995,
          2.80421896157357,
          2.8229212154041488,
          2.8397233065611953,
          2.8548475527455337,
          2.868482936959515,
          2.880791789846415,
          2.8919147950092707,
          2.9019748018862375,
          2.911079776586619,
          2.91932512003768,
          2.9267955151870804,
          2.9335664189542046,
          2.9397052827498023,
          2.9452725630086083,
          2.9503225672748283,
          2.9549041699469227,
          2.9590614234853607,
          2.9628340848015857,
          2.9662580720474367,
          2.969365863671042,
          2.972186849085859,
          2.9747476383920115,
          2.9770723371332375,
          2.979182790952651,
          2.9810988041415207,
          2.982838335395156,
          2.9844176735528336,
          2.9858515956705034,
          2.987153509430298,
          2.988335581610636,
          2.989408854110605,
          2.990383348831551,
          2.9912681625590367,
          2.9920715528534165,
          2.992801015842264,
          2.993463356709059,
          2.9940647535870344,
          2.994610815492554,
          2.995106634867056,
          2.9955568352390873,
          2.9959656144669338,
          2.9963367839771298,
          2.9966738043736996,
          2.9969798177568854,
          2.9972576770577226,
          2.997509972665745,
          2.997739056600861,
          2.9979470644568837,
          2.9981359353228525,
          2.998307429869047,
          2.9984631467671905,
          2.9986045375985615,
          2.998732920389494,
          2.998849491900814,
          2.9989553387860455,
          2.999051447722615,
          2.999138714610653,
          2.9992179529252527,
          2.999289901300133,
          2.9993552304134625,
          2.9994145492400848,
          2.9994684107284586,
          2.99951731695526,
          2.999561723805721,
          2.999602045223339,
          2.9996386570685916,
          2.9996719006226216,
          2.9997020857685905,
          2.9997294938803134,
          2.999754380445145,
          2.999776977445555,
          2.9997974955215856,
          2.999816125934364,
          2.9998330423489743,
          2.9998484024532974,
          2.999862349427913,
          2.9998750132807857,
          2.999886512059133,
          2.999896952949827,
          2.999906433278544,
          2.9999150414169926,
          2.9999228576066863,
          2.9999299547069147,
          2.9999363988739094,
          2.999942250177533,
          2.9999475631612182,
          2.999952387350399,
          2.9999567677141714,
          2.9999607450844747,
          2.9999643565367093,
          2.999967635735336,
          2.9999706132476884,
          2.9999733168289033,
          2.999975771680647,
          2.9999780006860295,
          2.999980024622915,
          2.9999818623576084,
          2.999983531020709,
          2.9999850461668043,
          2.9999864219194587,
          2.9999876711028683,
          2.9999888053614043,
          2.9999898352681558,
          2.999990770423485,
          2.999991619544523,
          2.9999923905464274,
          2.999993090616156,
          2.999993726279468,
          2.9999943034617567,
          2.999994827543277,
          2.999995303409295,
          2.99999573549564,
          2.999996127830042,
          2.999996484069678,
          2.999996807535267,
          2.9999971012420237,
          2.9999973679277567,
          2.999997610078405,
          2.9999978299511914,
          2.99999802959568,
          2.999998210872877,
          2.9999983754725728,
          2.9999985249290964,
          2.9999986606356206,
          2.999998783857143,
          2.999998895742285,
          2.9999989973339947,
          2.999999089579268,
          2.999999173337976,
          2.999999249390883,
          2.999999318446921,
          2.9999993811498036,
          2.9999994380840214,
          2.9999994897802917,
          2.9999995367205066,
          2.9999995793422185,
          2.999999618042736,
          2.9999996531828037,
          2.9999996850899864,
          2.9999997140617074,
          2.9999997403680303,
          2.9999997642541705,
          6,
          3.6,
          3.534720000000001,
          3.4797111942551964,
          3.4325028989104838,
          3.3914303906045355,
          3.3553180326362004,
          3.3233038521900835,
          3.2947360673526753,
          3.269108899531245,
          3.2460210868640633,
          3.225148138746444,
          3.206223236575665,
          3.1890237563207426,
          3.173361550605594,
          3.159075806762382,
          3.146027707729081,
          3.1340963784555442,
          3.1231757642231304,
          3.1131721946200197,
          3.1040024587851294,
          3.095592266579555,
          3.0878750043893812,
          3.080790718260253,
          3.074285274212115,
          3.068309657989176,
          3.062819385576723,
          3.0577740025238924,
          3.0531366551132653,
          3.0488737201790475,
          3.044954483224836,
          3.0413508566656344,
          3.0380371316880064,
          3.03498975851203,
          3.032187150841184,
          3.0296095110701793,
          3.027238673437069,
          3.025057962793577,
          3.0230520670554997,
          3.0212069217056503,
          3.0195096049721006,
          3.0179482425073507,
          3.0165119205598643,
          3.0151906067656222,
          3.0139750778002616,
          3.012856853226495,
          3.011828134950712,
          3.0108817517696487,
          3.010011108545224,
          3.009210139594704,
          3.0084732659258893,
          3.0077953559839306,
          3.0071716896088256,
          3.006597924931124,
          3.006070067958641,
          3.005584444629466,
          3.00513767512658,
          3.004726650267449,
          3.0043485097981217,
          3.0040006224360067,
          3.0036805675187357,
          3.0033861181285095,
          3.0031152255722664,
          3.0028660051079163,
          3.0026367228159763,
          3.0024257835241936,
          3.0022317197003106,
          3.0020531812350666,
          3.0018889260438373,
          3.001737811421148,
          3.0015987860876026,
          3.0014708828736594,
          3.0013532119891866,
          3.001244954831813,
          3.0011453582909016,
          3.0010537295074275,
          3.0009694310532335,
          3.000891876496091,
          3.0008205263196484,
          3.0007548841698823,
          3.0006944934018778,
          3.000638933902929,
          3.000587819169828,
          3.000540793619993,
          3.0004975301177415,
          3.0004577276984694,
          3.0004211094749187,
          3.00038742071095,
          3.000356427049422,
          3.000327912881846,
          3.000301679848478,
          3.000277545458402,
          3.000255341820019,
          3.000234914473086,
          3.0002161213142027,
          3.0001988316082597,
          3.0001829250789696,
          3.0001682910721623,
          3.000154827786009,
          3.0001424415628306,
          3.0001310462375725,
          3.0001205625383873,
          3.0001109175351766,
          3.000102044132255,
          3.0000938806015895,
          3.000086370153396,
          3.000079460541072,
          3.0000731036977464,
          3.000067255401896,
          3.00006187496972,
          3.000056924972123,
          3.000052370974338,
          3.0000481812963793,
          3.00004432679266,
          3.00004078064924,
          3.000037518197295,
          3.0000345167415077,
          3.0000317554021847,
          3.0000292149700067,
          3.000026877772404,
          3.000024727550611,
          3.0000227493465608,
          3.0000209293988354,
          3.000019255046928,
          3.0000177146431732,
          3.000016297471719,
          3.00001499367398,
          3.00001379418006,
          3.000012690645654,
          3.0000116753940023,
          3.000010741362483,
          3.000009882053484,
          3.0000090914892046,
          3.000008364170067,
          3.0000076950364614,
          3.0000070794335447,
          3.000006513078861,
          3.000005992032552,
          3.0000055126699476,
          3.000005071656351,
          3.0000046659238424,
          3.000004292649934,
          3.0000039492379384,
          3.000003633298904,
          3.000003342634992,
          3.000003075224192,
          3.0000028292062564,
          3.000002602869756,
          3.0000023946401755,
          3.0000022030689624,
          3.0000020268234455,
          3.0000018646775692,
          3.0000017155033634,
          3.0000015782630944,
          3.0000014520020466,
          3.000001335841883,
          3.0000012289745324,
          3.00000113065657,
          3.0000010402040456,
          3.000000956987722,
          3.0000008804287055,
          3.0000008099944093,
          3.000000745194856,
          3.0000006855792676,
          3.0000006307329263,
          3.0000005802742935,
          3.0000005338523503,
          3.0000004911441627,
          3.000000451852631,
          3.0000004157044216,
          3.000000382448068,
          3.000000351852222,
          3.000000323704045,
          3.0000002978077203,
          3.000000273983102,
          3.000000252064453,
          3.0000002318992967
         ],
         "y": [
          100,
          1.1185177600000016,
          1.0960759075088298,
          1.0781296353971708,
          1.0636970468317555,
          1.0520371420377208,
          1.0425823784647703,
          1.0348926528825586,
          1.0286231358135964,
          1.0235013018151178,
          1.0193102106481264,
          1.0158761298469736,
          1.01305923225638,
          1.0107465109661846,
          1.0088463196633246,
          1.0072841223745552,
          1.005999155297534,
          1.004941784914733,
          1.0040714034431444,
          1.0033547429596341,
          1.00276451850927,
          1.002278331626468,
          1.0018777813062258,
          1.001547741140197,
          1.0012757701715977,
          1.0010516317861309,
          1.0008669001826298,
          1.0007146380410423,
          1.0005891322076577,
          1.0004856767511716,
          1.0004003947611124,
          1.0003300918755813,
          1.0002721358246836,
          1.0002243573251433,
          1.0001849685119413,
          1.0001524957834884,
          1.000125724499729,
          1.000103653431676,
          1.0000854572366815,
          1.0000704555409177,
          1.0000580874628222,
          1.0000478906180157,
          1.0000394838159206,
          1.000032552798176,
          1.0000268384833335,
          1.0000221272770926,
          1.000018243084768,
          1.0000150407267971,
          1.0000124005106903,
          1.0000102237562354,
          1.0000084291064535,
          1.000006949486318,
          1.000005729595504,
          1.0000047238412941,
          1.000003894634419,
          1.0000032109840529,
          1.0000026473395216,
          1.000002182635293,
          1.0000017995036532,
          1.0000014836255953,
          1.0000012231956295,
          1.0000010084805793,
          1.0000008314558095,
          1.000000685505299,
          1.0000005651743837,
          1.0000004659658943,
          1.0000003841720804,
          1.000000316736035,
          1.0000002611374434,
          1.000000215298411,
          1.0000001775057832,
          1.0000001463471246,
          1.0000001206579334,
          1.0000000994781206,
          1.0000000820161308,
          1.0000000676193477,
          1.0000000557497166,
          1.0000000459636316,
          1.0000000378953584,
          1.0000000312433601,
          1.0000000257590254,
          1.0000000212373907,
          1.0000000175094605,
          1.0000000144359191,
          1.0000000119018964,
          1.000000009812684,
          1.0000000080902076,
          1.000000006670085,
          1.000000005499242,
          1.0000000045339306,
          1.0000000037380588,
          1.000000003081901,
          1.000000002540915,
          1.0000000020948896,
          1.0000000017271624,
          1.0000000014239845,
          1.0000000011740262,
          1.0000000009679404,
          1.0000000007980283,
          1.0000000006579448,
          1.0000000005424532,
          1.0000000004472334,
          1.000000000368729,
          1.0000000003040022,
          1.0000000002506404,
          1.0000000002066436,
          1.0000000001703704,
          1.0000000001404672,
          1.0000000001158078,
          1.0000000000954792,
          1.000000000078721,
          1.000000000064901,
          1.000000000053511,
          1.0000000000441212,
          1.0000000000363691,
          1.000000000029985,
          1.0000000000247233,
          1.000000000020382,
          1.0000000000168043,
          1.0000000000138556,
          1.0000000000114255,
          1.0000000000094147,
          1.0000000000077662,
          1.0000000000064055,
          1.0000000000052758,
          1.0000000000043556,
          1.0000000000035882,
          1.0000000000029559,
          1.0000000000024407,
          1.0000000000020108,
          1.0000000000016556,
          1.0000000000013678,
          1.0000000000011227,
          1.0000000000009273,
          1.0000000000007674,
          1.0000000000006324,
          1.0000000000005222,
          1.0000000000004299,
          1.0000000000003588,
          1.0000000000002913,
          1.0000000000002451,
          1.0000000000001954,
          1.000000000000167,
          1.000000000000135,
          1.0000000000001101,
          100,
          1.8495999999999984,
          1.6536043359982673,
          1.513202176625803,
          1.4091084939140672,
          1.3299111805037798,
          1.2684410994736413,
          1.219976316921839,
          1.1812849826619602,
          1.150083798050028,
          1.1247161924561946,
          1.1039530156273614,
          1.0868646793736112,
          1.0727365924104237,
          1.0610117110310513,
          1.0512505733025705,
          1.043102899724305,
          1.0362870239533524,
          1.0305747355272372,
          1.025779934741616,
          1.0217500197862897,
          1.018359263736656,
          1.015503662330098,
          1.013096883872645,
          1.0110670555861179,
          1.0093541922591198,
          1.007908123496462,
          1.006686811880204,
          1.0056549804087505,
          1.004782986651834,
          1.0040458951833127,
          1.0034227104292188,
          1.002895740072018,
          1.002450065270814,
          1.0020730986808153,
          1.001754214935101,
          1.0014844411440933,
          1.0012561972590204,
          1.0010630779746779,
          1.0008996693167025,
          1.0007613942474831,
          1.0006443825920095,
          1.000545361375638,
          1.0004615623154665,
          1.0003906437422276,
          1.0003306246734287,
          1.0002798291261685,
          1.0002368390646783,
          1.0002004546331191,
          1.00016966053827,
          1.0001435976256015,
          1.0001215388425284,
          1.0001028689090554,
          1.0000870671218856,
          1.0000736928076517,
          1.0000623730162082,
          1.0000527921081463,
          1.0000446829446286,
          1.0000378194325001,
          1.0000320102159088,
          1.0000270933380278,
          1.0000229317234284,
          1.00001940935491,
          1.0000164280380268,
          1.0000139046627545,
          1.0000117688860382,
          1.000009961170446,
          1.0000084311241368,
          1.0000071360959255,
          1.0000060399861899,
          1.0000051122404374,
          1.000004326997539,
          1.0000036623687296,
          1.000003099827471,
          1.0000026236929513,
          1.0000022206929842,
          1.0000018795940187,
          1.0000015908880013,
          1.000001346527336,
          1.000001139700545,
          1.000000964642398,
          1.0000008164732284,
          1.000000691062875,
          1.0000005849155686,
          1.0000004950724959,
          1.0000004190293352,
          1.0000003546664114,
          1.0000003001896378,
          1.000000254080499,
          1.0000002150537322,
          1.000000182021471,
          1.0000001540629693,
          1.0000001303988924,
          1.0000001103696259,
          1.0000000934168498,
          1.0000000790680141,
          1.0000000669231721,
          1.0000000566437715,
          1.0000000479432856,
          1.0000000405791991,
          1.0000000343462363,
          1.0000000290706554,
          1.0000000246053988,
          1.0000000208260111,
          1.0000000176271335,
          1.0000000149196033,
          1.0000000126279538,
          1.0000000106883,
          1.0000000090465804,
          1.0000000076570252,
          1.000000006480903,
          1.000000005485436,
          1.000000004642871,
          1.0000000039297277,
          1.0000000033261216,
          1.0000000028152307,
          1.0000000023828122,
          1.0000000020168116,
          1.0000000017070256,
          1.0000000014448283,
          1.0000000012229044,
          1.000000001035069,
          1.0000000008760814,
          1.0000000007415117,
          1.0000000006276153,
          1.000000000531216,
          1.0000000004496208,
          1.000000000380556,
          1.0000000003221068,
          1.0000000002726317,
          1.0000000002307559,
          1.0000000001953069,
          1.0000000001653078,
          1.00000000013992,
          1.0000000001184297,
          1.0000000001002363,
          1.0000000000848424,
          1.0000000000718074,
          1.0000000000607763,
          1.0000000000514397,
          1.000000000043542,
          1.0000000000368487,
          1.0000000000311964,
          1.0000000000264038,
          1.0000000000223466,
          1.0000000000189146,
          1.0000000000160085,
          1.00000000001355,
          1.0000000000114682,
          1.0000000000097096,
          1.0000000000082139,
          1.0000000000069562,
          1.0000000000058833,
          1.0000000000049845,
          1.0000000000042135,
          1.0000000000035705,
          1.0000000000030234,
          1.0000000000025615,
          1.0000000000021636,
          1.0000000000018368,
          1.0000000000015525,
          1.000000000001311,
          1.0000000000011156,
          1.0000000000009415,
          1.0000000000007994,
          1.0000000000006715,
          1.000000000000572,
          1.0000000000004867,
          1.0000000000004121,
          1.0000000000003482,
          1.0000000000002913,
          1.0000000000002487,
          1.0000000000002096,
          1.000000000000174,
          1.0000000000001457,
          1.000000000000128,
          1.0000000000001066
         ]
        }
       ],
       "layout": {
        "legend": {
         "orientation": "h",
         "x": 0.5,
         "xanchor": "center"
        },
        "margin": {
         "b": 0,
         "l": 0,
         "r": 0,
         "t": 0
        },
        "template": {
         "data": {
          "bar": [
           {
            "error_x": {
             "color": "#2a3f5f"
            },
            "error_y": {
             "color": "#2a3f5f"
            },
            "marker": {
             "line": {
              "color": "#E5ECF6",
              "width": 0.5
             },
             "pattern": {
              "fillmode": "overlay",
              "size": 10,
              "solidity": 0.2
             }
            },
            "type": "bar"
           }
          ],
          "barpolar": [
           {
            "marker": {
             "line": {
              "color": "#E5ECF6",
              "width": 0.5
             },
             "pattern": {
              "fillmode": "overlay",
              "size": 10,
              "solidity": 0.2
             }
            },
            "type": "barpolar"
           }
          ],
          "carpet": [
           {
            "aaxis": {
             "endlinecolor": "#2a3f5f",
             "gridcolor": "white",
             "linecolor": "white",
             "minorgridcolor": "white",
             "startlinecolor": "#2a3f5f"
            },
            "baxis": {
             "endlinecolor": "#2a3f5f",
             "gridcolor": "white",
             "linecolor": "white",
             "minorgridcolor": "white",
             "startlinecolor": "#2a3f5f"
            },
            "type": "carpet"
           }
          ],
          "choropleth": [
           {
            "colorbar": {
             "outlinewidth": 0,
             "ticks": ""
            },
            "type": "choropleth"
           }
          ],
          "contour": [
           {
            "colorbar": {
             "outlinewidth": 0,
             "ticks": ""
            },
            "colorscale": [
             [
              0,
              "#0d0887"
             ],
             [
              0.1111111111111111,
              "#46039f"
             ],
             [
              0.2222222222222222,
              "#7201a8"
             ],
             [
              0.3333333333333333,
              "#9c179e"
             ],
             [
              0.4444444444444444,
              "#bd3786"
             ],
             [
              0.5555555555555556,
              "#d8576b"
             ],
             [
              0.6666666666666666,
              "#ed7953"
             ],
             [
              0.7777777777777778,
              "#fb9f3a"
             ],
             [
              0.8888888888888888,
              "#fdca26"
             ],
             [
              1,
              "#f0f921"
             ]
            ],
            "type": "contour"
           }
          ],
          "contourcarpet": [
           {
            "colorbar": {
             "outlinewidth": 0,
             "ticks": ""
            },
            "type": "contourcarpet"
           }
          ],
          "heatmap": [
           {
            "colorbar": {
             "outlinewidth": 0,
             "ticks": ""
            },
            "colorscale": [
             [
              0,
              "#0d0887"
             ],
             [
              0.1111111111111111,
              "#46039f"
             ],
             [
              0.2222222222222222,
              "#7201a8"
             ],
             [
              0.3333333333333333,
              "#9c179e"
             ],
             [
              0.4444444444444444,
              "#bd3786"
             ],
             [
              0.5555555555555556,
              "#d8576b"
             ],
             [
              0.6666666666666666,
              "#ed7953"
             ],
             [
              0.7777777777777778,
              "#fb9f3a"
             ],
             [
              0.8888888888888888,
              "#fdca26"
             ],
             [
              1,
              "#f0f921"
             ]
            ],
            "type": "heatmap"
           }
          ],
          "heatmapgl": [
           {
            "colorbar": {
             "outlinewidth": 0,
             "ticks": ""
            },
            "colorscale": [
             [
              0,
              "#0d0887"
             ],
             [
              0.1111111111111111,
              "#46039f"
             ],
             [
              0.2222222222222222,
              "#7201a8"
             ],
             [
              0.3333333333333333,
              "#9c179e"
             ],
             [
              0.4444444444444444,
              "#bd3786"
             ],
             [
              0.5555555555555556,
              "#d8576b"
             ],
             [
              0.6666666666666666,
              "#ed7953"
             ],
             [
              0.7777777777777778,
              "#fb9f3a"
             ],
             [
              0.8888888888888888,
              "#fdca26"
             ],
             [
              1,
              "#f0f921"
             ]
            ],
            "type": "heatmapgl"
           }
          ],
          "histogram": [
           {
            "marker": {
             "pattern": {
              "fillmode": "overlay",
              "size": 10,
              "solidity": 0.2
             }
            },
            "type": "histogram"
           }
          ],
          "histogram2d": [
           {
            "colorbar": {
             "outlinewidth": 0,
             "ticks": ""
            },
            "colorscale": [
             [
              0,
              "#0d0887"
             ],
             [
              0.1111111111111111,
              "#46039f"
             ],
             [
              0.2222222222222222,
              "#7201a8"
             ],
             [
              0.3333333333333333,
              "#9c179e"
             ],
             [
              0.4444444444444444,
              "#bd3786"
             ],
             [
              0.5555555555555556,
              "#d8576b"
             ],
             [
              0.6666666666666666,
              "#ed7953"
             ],
             [
              0.7777777777777778,
              "#fb9f3a"
             ],
             [
              0.8888888888888888,
              "#fdca26"
             ],
             [
              1,
              "#f0f921"
             ]
            ],
            "type": "histogram2d"
           }
          ],
          "histogram2dcontour": [
           {
            "colorbar": {
             "outlinewidth": 0,
             "ticks": ""
            },
            "colorscale": [
             [
              0,
              "#0d0887"
             ],
             [
              0.1111111111111111,
              "#46039f"
             ],
             [
              0.2222222222222222,
              "#7201a8"
             ],
             [
              0.3333333333333333,
              "#9c179e"
             ],
             [
              0.4444444444444444,
              "#bd3786"
             ],
             [
              0.5555555555555556,
              "#d8576b"
             ],
             [
              0.6666666666666666,
              "#ed7953"
             ],
             [
              0.7777777777777778,
              "#fb9f3a"
             ],
             [
              0.8888888888888888,
              "#fdca26"
             ],
             [
              1,
              "#f0f921"
             ]
            ],
            "type": "histogram2dcontour"
           }
          ],
          "mesh3d": [
           {
            "colorbar": {
             "outlinewidth": 0,
             "ticks": ""
            },
            "type": "mesh3d"
           }
          ],
          "parcoords": [
           {
            "line": {
             "colorbar": {
              "outlinewidth": 0,
              "ticks": ""
             }
            },
            "type": "parcoords"
           }
          ],
          "pie": [
           {
            "automargin": true,
            "type": "pie"
           }
          ],
          "scatter": [
           {
            "fillpattern": {
             "fillmode": "overlay",
             "size": 10,
             "solidity": 0.2
            },
            "type": "scatter"
           }
          ],
          "scatter3d": [
           {
            "line": {
             "colorbar": {
              "outlinewidth": 0,
              "ticks": ""
             }
            },
            "marker": {
             "colorbar": {
              "outlinewidth": 0,
              "ticks": ""
             }
            },
            "type": "scatter3d"
           }
          ],
          "scattercarpet": [
           {
            "marker": {
             "colorbar": {
              "outlinewidth": 0,
              "ticks": ""
             }
            },
            "type": "scattercarpet"
           }
          ],
          "scattergeo": [
           {
            "marker": {
             "colorbar": {
              "outlinewidth": 0,
              "ticks": ""
             }
            },
            "type": "scattergeo"
           }
          ],
          "scattergl": [
           {
            "marker": {
             "colorbar": {
              "outlinewidth": 0,
              "ticks": ""
             }
            },
            "type": "scattergl"
           }
          ],
          "scattermapbox": [
           {
            "marker": {
             "colorbar": {
              "outlinewidth": 0,
              "ticks": ""
             }
            },
            "type": "scattermapbox"
           }
          ],
          "scatterpolar": [
           {
            "marker": {
             "colorbar": {
              "outlinewidth": 0,
              "ticks": ""
             }
            },
            "type": "scatterpolar"
           }
          ],
          "scatterpolargl": [
           {
            "marker": {
             "colorbar": {
              "outlinewidth": 0,
              "ticks": ""
             }
            },
            "type": "scatterpolargl"
           }
          ],
          "scatterternary": [
           {
            "marker": {
             "colorbar": {
              "outlinewidth": 0,
              "ticks": ""
             }
            },
            "type": "scatterternary"
           }
          ],
          "surface": [
           {
            "colorbar": {
             "outlinewidth": 0,
             "ticks": ""
            },
            "colorscale": [
             [
              0,
              "#0d0887"
             ],
             [
              0.1111111111111111,
              "#46039f"
             ],
             [
              0.2222222222222222,
              "#7201a8"
             ],
             [
              0.3333333333333333,
              "#9c179e"
             ],
             [
              0.4444444444444444,
              "#bd3786"
             ],
             [
              0.5555555555555556,
              "#d8576b"
             ],
             [
              0.6666666666666666,
              "#ed7953"
             ],
             [
              0.7777777777777778,
              "#fb9f3a"
             ],
             [
              0.8888888888888888,
              "#fdca26"
             ],
             [
              1,
              "#f0f921"
             ]
            ],
            "type": "surface"
           }
          ],
          "table": [
           {
            "cells": {
             "fill": {
              "color": "#EBF0F8"
             },
             "line": {
              "color": "white"
             }
            },
            "header": {
             "fill": {
              "color": "#C8D4E3"
             },
             "line": {
              "color": "white"
             }
            },
            "type": "table"
           }
          ]
         },
         "layout": {
          "annotationdefaults": {
           "arrowcolor": "#2a3f5f",
           "arrowhead": 0,
           "arrowwidth": 1
          },
          "autotypenumbers": "strict",
          "coloraxis": {
           "colorbar": {
            "outlinewidth": 0,
            "ticks": ""
           }
          },
          "colorscale": {
           "diverging": [
            [
             0,
             "#8e0152"
            ],
            [
             0.1,
             "#c51b7d"
            ],
            [
             0.2,
             "#de77ae"
            ],
            [
             0.3,
             "#f1b6da"
            ],
            [
             0.4,
             "#fde0ef"
            ],
            [
             0.5,
             "#f7f7f7"
            ],
            [
             0.6,
             "#e6f5d0"
            ],
            [
             0.7,
             "#b8e186"
            ],
            [
             0.8,
             "#7fbc41"
            ],
            [
             0.9,
             "#4d9221"
            ],
            [
             1,
             "#276419"
            ]
           ],
           "sequential": [
            [
             0,
             "#0d0887"
            ],
            [
             0.1111111111111111,
             "#46039f"
            ],
            [
             0.2222222222222222,
             "#7201a8"
            ],
            [
             0.3333333333333333,
             "#9c179e"
            ],
            [
             0.4444444444444444,
             "#bd3786"
            ],
            [
             0.5555555555555556,
             "#d8576b"
            ],
            [
             0.6666666666666666,
             "#ed7953"
            ],
            [
             0.7777777777777778,
             "#fb9f3a"
            ],
            [
             0.8888888888888888,
             "#fdca26"
            ],
            [
             1,
             "#f0f921"
            ]
           ],
           "sequentialminus": [
            [
             0,
             "#0d0887"
            ],
            [
             0.1111111111111111,
             "#46039f"
            ],
            [
             0.2222222222222222,
             "#7201a8"
            ],
            [
             0.3333333333333333,
             "#9c179e"
            ],
            [
             0.4444444444444444,
             "#bd3786"
            ],
            [
             0.5555555555555556,
             "#d8576b"
            ],
            [
             0.6666666666666666,
             "#ed7953"
            ],
            [
             0.7777777777777778,
             "#fb9f3a"
            ],
            [
             0.8888888888888888,
             "#fdca26"
            ],
            [
             1,
             "#f0f921"
            ]
           ]
          },
          "colorway": [
           "#636efa",
           "#EF553B",
           "#00cc96",
           "#ab63fa",
           "#FFA15A",
           "#19d3f3",
           "#FF6692",
           "#B6E880",
           "#FF97FF",
           "#FECB52"
          ],
          "font": {
           "color": "#2a3f5f"
          },
          "geo": {
           "bgcolor": "white",
           "lakecolor": "white",
           "landcolor": "#E5ECF6",
           "showlakes": true,
           "showland": true,
           "subunitcolor": "white"
          },
          "hoverlabel": {
           "align": "left"
          },
          "hovermode": "closest",
          "mapbox": {
           "style": "light"
          },
          "paper_bgcolor": "white",
          "plot_bgcolor": "#E5ECF6",
          "polar": {
           "angularaxis": {
            "gridcolor": "white",
            "linecolor": "white",
            "ticks": ""
           },
           "bgcolor": "#E5ECF6",
           "radialaxis": {
            "gridcolor": "white",
            "linecolor": "white",
            "ticks": ""
           }
          },
          "scene": {
           "xaxis": {
            "backgroundcolor": "#E5ECF6",
            "gridcolor": "white",
            "gridwidth": 2,
            "linecolor": "white",
            "showbackground": true,
            "ticks": "",
            "zerolinecolor": "white"
           },
           "yaxis": {
            "backgroundcolor": "#E5ECF6",
            "gridcolor": "white",
            "gridwidth": 2,
            "linecolor": "white",
            "showbackground": true,
            "ticks": "",
            "zerolinecolor": "white"
           },
           "zaxis": {
            "backgroundcolor": "#E5ECF6",
            "gridcolor": "white",
            "gridwidth": 2,
            "linecolor": "white",
            "showbackground": true,
            "ticks": "",
            "zerolinecolor": "white"
           }
          },
          "shapedefaults": {
           "line": {
            "color": "#2a3f5f"
           }
          },
          "ternary": {
           "aaxis": {
            "gridcolor": "white",
            "linecolor": "white",
            "ticks": ""
           },
           "baxis": {
            "gridcolor": "white",
            "linecolor": "white",
            "ticks": ""
           },
           "bgcolor": "#E5ECF6",
           "caxis": {
            "gridcolor": "white",
            "linecolor": "white",
            "ticks": ""
           }
          },
          "title": {
           "x": 0.05
          },
          "xaxis": {
           "automargin": true,
           "gridcolor": "white",
           "linecolor": "white",
           "ticks": "",
           "title": {
            "standoff": 15
           },
           "zerolinecolor": "white",
           "zerolinewidth": 2
          },
          "yaxis": {
           "automargin": true,
           "gridcolor": "white",
           "linecolor": "white",
           "ticks": "",
           "title": {
            "standoff": 15
           },
           "zerolinecolor": "white",
           "zerolinewidth": 2
          }
         }
        }
       }
      }
     },
     "metadata": {},
     "output_type": "display_data"
    },
    {
     "name": "stdout",
     "output_type": "stream",
     "text": [
      "Найден локальный минимум в точке 3.000000, который не является корнем уравнения, f(x) = 1.000000\n"
     ]
    }
   ],
   "source": [
    "solv.test()"
   ]
  },
  {
   "cell_type": "code",
   "execution_count": null,
   "metadata": {},
   "outputs": [],
   "source": []
  }
 ],
 "metadata": {
  "kernelspec": {
   "display_name": "Python 3",
   "language": "python",
   "name": "python3"
  },
  "language_info": {
   "codemirror_mode": {
    "name": "ipython",
    "version": 3
   },
   "file_extension": ".py",
   "mimetype": "text/x-python",
   "name": "python",
   "nbconvert_exporter": "python",
   "pygments_lexer": "ipython3",
   "version": "3.10.8"
  },
  "orig_nbformat": 4,
  "vscode": {
   "interpreter": {
    "hash": "3b7e9cb8e453d6cda0fe8c8dd13f891a1f09162f0e7c66ffeae7751a7aecf00d"
   }
  }
 },
 "nbformat": 4,
 "nbformat_minor": 2
}
