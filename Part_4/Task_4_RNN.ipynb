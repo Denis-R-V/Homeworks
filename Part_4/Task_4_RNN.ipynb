{
 "cells": [
  {
   "cell_type": "markdown",
   "metadata": {},
   "source": [
    "[![Open In Colab](https://colab.research.google.com/assets/colab-badge.svg)](https://colab.research.google.com/github/Denis-R-V/Homeworks/blob/main/Part_4/Task_4_RNN.ipynb)"
   ]
  },
  {
   "cell_type": "markdown",
   "metadata": {},
   "source": [
    "# Домашнее задание 4\n",
    "- Сравнить LSTM, RNN и GRU на задаче предсказания части речи (качество предсказания, скорость обучения, время инференса модели)\n",
    "- *к первой задаче добавить bidirectional\n"
   ]
  },
  {
   "cell_type": "code",
   "execution_count": 12,
   "metadata": {},
   "outputs": [],
   "source": [
    "import pandas as pd\n",
    "import datetime\n",
    "import torch\n",
    "import torch.nn as nn\n",
    "from torch.utils.data import Dataset\n",
    "from torch.nn.utils.rnn import pad_sequence\n",
    "from torch.utils.data import DataLoader"
   ]
  },
  {
   "cell_type": "markdown",
   "metadata": {},
   "source": [
    "### Загрузчик данных"
   ]
  },
  {
   "cell_type": "code",
   "execution_count": 13,
   "metadata": {},
   "outputs": [],
   "source": [
    "# Формирование кастомного класса DatasetSeq на базе класса Dataset\n",
    "class DatasetSeq(Dataset):\n",
    "    #def __init__(self, data_dir, train_lang='en'):                 # при хранении файла на диске в colab\n",
    "    def __init__(self, dataset_dir):\n",
    "\t#open file\n",
    "        #with open(data_dir + train_lang + '.train', 'r') as f:     # при хранении файла на диске в colab\n",
    "        with open(dataset_dir, 'r', encoding=\"utf-8\") as f:         # датасет читает исходный файл\n",
    "            train = f.read().split('\\n\\n')                          # и разбивает его на блока (абзацы)\n",
    "                                                                    # добавлена кодировка - Python ругается\n",
    "\n",
    "        # delete extra tag markup\n",
    "        train = [x for x in train if not '_ ' in x]\n",
    "\t    #init vocabs of tokens for encoding {<str> token: <int> id}\n",
    "        \n",
    "        # формирование словарей токенов: таргет, слова и буквы (можно обрабатывать слова или буквы)     \n",
    "        # паддинг выполняет роль как в свертках (привести последовательности к одной длине)\n",
    "        self.target_vocab = {'<pad>': 0} # {p: 1, a: 2, r: 3, pu: 4}\n",
    "        self.word_vocab = {'<pad>': 0} # {cat: 1, sat: 2, on: 3, mat: 4, '.': 5}\n",
    "        self.char_vocab = {'<pad>': 0} # {c: 1, a: 2, t: 3, ' ': 4, s: 5}\n",
    "\t    \n",
    "        # Cat sat on mat. -> [1, 2, 3, 4, 5]\n",
    "        # p    a  r  p pu -> [1, 2, 3, 1, 4]\n",
    "        # chars  -> [1, 2, 3, 4, 5, 2, 3, 4]\n",
    "\t    \n",
    "        #init encoded sequences lists (processed data)\n",
    "        self.encoded_sequences = []\n",
    "        self.encoded_targets = []\n",
    "        self.encoded_char_sequences = []\n",
    "        # n=1 because first value is padding\n",
    "        n_word = 1\n",
    "        n_target = 1\n",
    "        n_char = 1\n",
    "        # для каждого абзаца\n",
    "        for line in train:\n",
    "            # последовательность, таргет и символы - пустые списки\n",
    "            sequence = []\n",
    "            target = []\n",
    "            chars = []\n",
    "            # для каждой строки абзаца\n",
    "            for item in line.split('\\n'):\n",
    "                # если строка не пуста\n",
    "                if item != '':\n",
    "                    # по пробелу разбиваем строку на слово и таргет\n",
    "                    word, label = item.split(' ')\n",
    "                    # если слова нет в словаре, оно добавляется в словарь с очередным номером (ключем/индексом)\n",
    "                    if self.word_vocab.get(word) is None:\n",
    "                        self.word_vocab[word] = n_word\n",
    "                        n_word += 1\n",
    "                    # если таргета нет в словаре, он добавляется в словарь с очередным номером (ключем/индексом)\n",
    "                    if self.target_vocab.get(label) is None:\n",
    "                        self.target_vocab[label] = n_target\n",
    "                        n_target += 1\n",
    "                    # для каждого символа в слове\n",
    "                    for char in word:\n",
    "                        # если символа нет в словаре, он добавляется в словарь с очередным номером (ключем/индексом)\n",
    "                        if self.char_vocab.get(char) is None:\n",
    "                            self.char_vocab[char] = n_char\n",
    "                            n_char += 1\n",
    "                    # к последовательности, таргету и символам добавляются слово, таргет и символы\n",
    "                    sequence.append(self.word_vocab[word])\n",
    "                    target.append(self.target_vocab[label])\n",
    "                    chars.append([self.char_vocab[char] for char in word])\n",
    "            # к словарям токенов добавляются полученные ранее последовательность, таргет и символы\n",
    "            self.encoded_sequences.append(sequence)\n",
    "            self.encoded_targets.append(target)\n",
    "            self.encoded_char_sequences.append(chars)\n",
    "\n",
    "    def __len__(self):\n",
    "        return len(self.encoded_sequences)\n",
    "\n",
    "    def __getitem__(self, index):\n",
    "        return {\n",
    "            'data': self.encoded_sequences[index], # [1, 2, 3, 4, 6] len=5\n",
    "            'char': self.encoded_char_sequences[index],# [[1,2,3], [4,5], [1,2], [2,6,5,4], []] len=5\n",
    "            'target': self.encoded_targets[index], # [1, 2, 3, 4, 6] len=5\n",
    "        }"
   ]
  },
  {
   "cell_type": "code",
   "execution_count": 14,
   "metadata": {},
   "outputs": [
    {
     "data": {
      "text/plain": [
       "{'data': [67, 91, 92, 60, 61, 62, 15, 93, 21, 94, 95, 96, 26],\n",
       " 'char': [[33, 22, 15],\n",
       "  [25, 22, 4, 3, 20],\n",
       "  [28, 2, 6],\n",
       "  [23, 15, 4, 13, 34],\n",
       "  [3, 5, 13],\n",
       "  [23, 30],\n",
       "  [25, 22, 15],\n",
       "  [22, 15, 2, 20],\n",
       "  [18, 17],\n",
       "  [2, 13],\n",
       "  [4, 13, 42, 15, 6, 25, 12, 15, 13, 25],\n",
       "  [17, 4, 3, 12],\n",
       "  [31]],\n",
       " 'target': [6, 3, 8, 8, 5, 7, 6, 4, 7, 6, 4, 4, 2]}"
      ]
     },
     "execution_count": 14,
     "metadata": {},
     "output_type": "execute_result"
    }
   ],
   "source": [
    "dataset_dir = 'en2.train'\n",
    "dataset = DatasetSeq(dataset_dir)\n",
    "dataset.__getitem__(6)"
   ]
  },
  {
   "cell_type": "markdown",
   "metadata": {},
   "source": [
    "### Формирование батча"
   ]
  },
  {
   "cell_type": "code",
   "execution_count": 15,
   "metadata": {},
   "outputs": [],
   "source": [
    "def collate_fn(batch):\n",
    "    data = []\n",
    "    target = []\n",
    "    for item in batch:\n",
    "        data.append(torch.as_tensor(item['data']))\n",
    "        target.append(torch.as_tensor(item['target']))\n",
    "    # pad_sequence встроенная функция по дополнению батчей паддингом\n",
    "    data = pad_sequence(data, batch_first=True, padding_value=0)\n",
    "    target = pad_sequence(target, batch_first=True, padding_value=0)\n",
    "\n",
    "    return {'data': data, 'target': target}"
   ]
  },
  {
   "cell_type": "markdown",
   "metadata": {},
   "source": [
    "### Гиперпараметры"
   ]
  },
  {
   "cell_type": "code",
   "execution_count": 16,
   "metadata": {},
   "outputs": [],
   "source": [
    "vocab_size = len(dataset.word_vocab) + 1\n",
    "n_classes = len(dataset.target_vocab) + 1\n",
    "n_chars = len(dataset.char_vocab) + 1\n",
    "emb_dim = 256\n",
    "hidden = 256\n",
    "n_epochs = 10\n",
    "batch_size = 64               \n",
    "cuda_device = -1\n",
    "device = f'cuda:{cuda_device}' if cuda_device != -1 else 'mps'"
   ]
  },
  {
   "cell_type": "markdown",
   "metadata": {},
   "source": [
    "## Модель LSTM"
   ]
  },
  {
   "cell_type": "markdown",
   "metadata": {},
   "source": [
    "### Архитектура модели"
   ]
  },
  {
   "cell_type": "code",
   "execution_count": 17,
   "metadata": {},
   "outputs": [],
   "source": [
    "class LSTMPredictor(nn.Module):\n",
    "    def __init__(self, vocab_size, emb_dim, hidden_dim, n_classes):\n",
    "        super().__init__()\n",
    "        self.word_emb = nn.Embedding(vocab_size, emb_dim)\n",
    "        # делается эмбеддинг последовательности и целиком передается в LSTM\n",
    "        self.rnn = nn.LSTM(emb_dim, hidden_dim, batch_first=True)\n",
    "        self.clf = nn.Linear(hidden_dim, n_classes)\n",
    "        self.do = nn.Dropout(0.1)\n",
    "    \n",
    "    def forward(self, x):\n",
    "        emb = self.word_emb(x) # B x T x Emb_dim\n",
    "        # последовательность целиком передается в LSTM\n",
    "        hidden, _ = self.rnn(emb)   # B x T x Hid, B x 1 x Hid\n",
    "        pred = self.clf(self.do(hidden)) # B x T x N_classes\n",
    "\n",
    "        return pred"
   ]
  },
  {
   "cell_type": "markdown",
   "metadata": {},
   "source": [
    "### Инициализация модели, задание оптимизатора и функции потерь"
   ]
  },
  {
   "cell_type": "code",
   "execution_count": 18,
   "metadata": {},
   "outputs": [],
   "source": [
    "LSTM_model = LSTMPredictor(vocab_size, emb_dim, hidden, n_classes).to(device)\n",
    "LSTM_model.train()\n",
    "optim = torch.optim.Adam(LSTM_model.parameters(), lr=0.001)\n",
    "loss_func = nn.CrossEntropyLoss()"
   ]
  },
  {
   "cell_type": "markdown",
   "metadata": {},
   "source": [
    "### Трейн луп"
   ]
  },
  {
   "cell_type": "code",
   "execution_count": 19,
   "metadata": {},
   "outputs": [
    {
     "ename": "",
     "evalue": "",
     "output_type": "error",
     "traceback": [
      "\u001b[1;31mПри выполнении кода в текущей ячейке или предыдущей ячейке ядро аварийно завершило работу. Проверьте код в ячейках, чтобы определить возможную причину сбоя. Щелкните <a href=\"https://aka.ms/vscodeJupyterKernelCrash\">здесь</a> для получения дополнительных сведений. Подробнее см. в <a href='command:jupyter.viewOutput'>журнале Jupyter</a>."
     ]
    },
    {
     "ename": "",
     "evalue": "",
     "output_type": "error",
     "traceback": [
      "\u001b[1;31mCanceled future for execute_request message before replies were done"
     ]
    }
   ],
   "source": [
    "start = datetime.datetime.now()\n",
    "for epoch in range(n_epochs):\n",
    "    dataloader = DataLoader(dataset, \n",
    "                            batch_size, \n",
    "                            shuffle=True, \n",
    "                            collate_fn=collate_fn,\n",
    "                            drop_last = True,\n",
    "                            )\n",
    "    for i, batch in enumerate(dataloader):\n",
    "        optim.zero_grad()\n",
    "\n",
    "        predict = LSTM_model(batch['data'].to(device))\n",
    "        loss = loss_func(predict.view(-1, n_classes),           # loss function ожидает число предиктов и число классов\n",
    "                         batch['target'].to(device).view(-1),   # батч таргета вытягивается в 1 длинный тензор\n",
    "                         )\n",
    "        loss.backward()\n",
    "        optim.step()\n",
    "        if i % 100 == 0:\n",
    "            print(f'epoch: {epoch}, step: {i}, loss: {loss.item()}')\n",
    "LSTM_train_time = datetime.datetime.now() - start\n",
    "LSTM_train_loss = loss.item()\n",
    "print(f\"Время обучения модели LSTM: {LSTM_train_time}\")\n",
    "print(f\"Итоговый loss LSTM на обучающей выборке: {LSTM_train_loss}\")"
   ]
  },
  {
   "cell_type": "markdown",
   "metadata": {},
   "source": [
    "### Инференс"
   ]
  },
  {
   "cell_type": "code",
   "execution_count": null,
   "metadata": {},
   "outputs": [
    {
     "name": "stdout",
     "output_type": "stream",
     "text": [
      "['ADV', 'PUNCT', 'PROPN', 'PUNCT', 'ADP', 'ADV', 'PRON', 'VERB', 'PRON']\n",
      "Время инференса модели LSTM: 0:00:00.001068\n"
     ]
    }
   ],
   "source": [
    "phrase = 'So , Marius . At last I find you'\n",
    "words = phrase.split(' ')\n",
    "tokens = [dataset.word_vocab[w] for w in words]\n",
    "\n",
    "start = datetime.datetime.now()\n",
    "with torch.no_grad():\n",
    "    LSTM_model.eval()\n",
    "    predict = LSTM_model(torch.tensor(tokens).unsqueeze(0).to(device)) # 1 x T x N_classes\n",
    "    labels = torch.argmax(predict, dim=-1).squeeze().cpu().detach().tolist()\n",
    "    LSTM_inference_time = datetime.datetime.now() - start\n",
    "\n",
    "target_labels = list(dataset.target_vocab.keys())\n",
    "print([target_labels[l] for l in labels])\n",
    "print(f'Время инференса модели LSTM: {LSTM_inference_time}')"
   ]
  },
  {
   "cell_type": "markdown",
   "metadata": {},
   "source": [
    "## Модель RNN"
   ]
  },
  {
   "cell_type": "markdown",
   "metadata": {},
   "source": [
    "### Архитектура модели"
   ]
  },
  {
   "cell_type": "code",
   "execution_count": null,
   "metadata": {},
   "outputs": [],
   "source": [
    "class RNNPredictor(nn.Module):\n",
    "    def __init__(self, vocab_size, emb_dim, hidden_dim, n_classes):\n",
    "        super().__init__()\n",
    "        self.word_emb = nn.Embedding(vocab_size, emb_dim)\n",
    "        # делается эмбеддинг последовательности и целиком передается в RNN\n",
    "        self.rnn = nn.RNN(emb_dim, hidden_dim, batch_first=True)\n",
    "        self.clf = nn.Linear(hidden_dim, n_classes)\n",
    "        self.do = nn.Dropout(0.1)\n",
    "\n",
    "    def forward(self, x):\n",
    "        emb = self.word_emb(x) # B x T x Emb_dim\n",
    "        # последовательность целиком передается в RNN\n",
    "        hidden, _ = self.rnn(emb)   # B x T x Hid, B x 1 x Hid\n",
    "        pred = self.clf(self.do(hidden)) # B x T x N_classes\n",
    "\n",
    "        return pred"
   ]
  },
  {
   "cell_type": "markdown",
   "metadata": {},
   "source": [
    "### Инициализация модели, задание оптимизатора и функции потерь"
   ]
  },
  {
   "cell_type": "code",
   "execution_count": null,
   "metadata": {},
   "outputs": [],
   "source": [
    "RNN_model = RNNPredictor(vocab_size, emb_dim, hidden, n_classes).to(device)\n",
    "RNN_model.train()\n",
    "optim = torch.optim.Adam(RNN_model.parameters(), lr=0.001)\n",
    "loss_func = nn.CrossEntropyLoss()"
   ]
  },
  {
   "cell_type": "markdown",
   "metadata": {},
   "source": [
    "### Трейн луп"
   ]
  },
  {
   "cell_type": "code",
   "execution_count": null,
   "metadata": {},
   "outputs": [
    {
     "name": "stdout",
     "output_type": "stream",
     "text": [
      "epoch: 0, step: 0, loss: 2.8042259216308594\n",
      "epoch: 0, step: 100, loss: 0.3486815094947815\n",
      "epoch: 0, step: 200, loss: 0.3580535054206848\n",
      "epoch: 0, step: 300, loss: 0.31640636920928955\n",
      "epoch: 0, step: 400, loss: 0.19755469262599945\n",
      "epoch: 0, step: 500, loss: 0.23074661195278168\n",
      "epoch: 0, step: 600, loss: 0.1698443591594696\n",
      "epoch: 1, step: 0, loss: 0.1784626841545105\n",
      "epoch: 1, step: 100, loss: 0.2175973355770111\n",
      "epoch: 1, step: 200, loss: 0.20303227007389069\n",
      "epoch: 1, step: 300, loss: 0.12040041387081146\n",
      "epoch: 1, step: 400, loss: 0.11950891464948654\n",
      "epoch: 1, step: 500, loss: 0.09436146914958954\n",
      "epoch: 1, step: 600, loss: 0.18151012063026428\n",
      "epoch: 2, step: 0, loss: 0.11333384364843369\n",
      "epoch: 2, step: 100, loss: 0.11395061016082764\n",
      "epoch: 2, step: 200, loss: 0.11779937148094177\n",
      "epoch: 2, step: 300, loss: 0.10672499239444733\n",
      "epoch: 2, step: 400, loss: 0.1002691239118576\n",
      "epoch: 2, step: 500, loss: 0.10298236459493637\n",
      "epoch: 2, step: 600, loss: 0.09638312458992004\n",
      "epoch: 3, step: 0, loss: 0.13321691751480103\n",
      "epoch: 3, step: 100, loss: 0.0755477324128151\n",
      "epoch: 3, step: 200, loss: 0.10936527699232101\n",
      "epoch: 3, step: 300, loss: 0.12586547434329987\n",
      "epoch: 3, step: 400, loss: 0.08057311177253723\n",
      "epoch: 3, step: 500, loss: 0.073363296687603\n",
      "epoch: 3, step: 600, loss: 0.08348238468170166\n",
      "epoch: 4, step: 0, loss: 0.04522223770618439\n",
      "epoch: 4, step: 100, loss: 0.050418805330991745\n",
      "epoch: 4, step: 200, loss: 0.06056591868400574\n",
      "epoch: 4, step: 300, loss: 0.10432817041873932\n",
      "epoch: 4, step: 400, loss: 0.09057652205228806\n",
      "epoch: 4, step: 500, loss: 0.08589901030063629\n",
      "epoch: 4, step: 600, loss: 0.05808614566922188\n",
      "epoch: 5, step: 0, loss: 0.0777263194322586\n",
      "epoch: 5, step: 100, loss: 0.061845630407333374\n",
      "epoch: 5, step: 200, loss: 0.04635920748114586\n",
      "epoch: 5, step: 300, loss: 0.047293875366449356\n",
      "epoch: 5, step: 400, loss: 0.04900754243135452\n",
      "epoch: 5, step: 500, loss: 0.06875297427177429\n",
      "epoch: 5, step: 600, loss: 0.056073758751153946\n",
      "epoch: 6, step: 0, loss: 0.07639140635728836\n",
      "epoch: 6, step: 100, loss: 0.039922118186950684\n",
      "epoch: 6, step: 200, loss: 0.0517914704978466\n",
      "epoch: 6, step: 300, loss: 0.04545523226261139\n",
      "epoch: 6, step: 400, loss: 0.07676316797733307\n",
      "epoch: 6, step: 500, loss: 0.044210974127054214\n",
      "epoch: 6, step: 600, loss: 0.04216507449746132\n",
      "epoch: 7, step: 0, loss: 0.03940805792808533\n",
      "epoch: 7, step: 100, loss: 0.061308301985263824\n",
      "epoch: 7, step: 200, loss: 0.06477168202400208\n",
      "epoch: 7, step: 300, loss: 0.04074263200163841\n",
      "epoch: 7, step: 400, loss: 0.07649973034858704\n",
      "epoch: 7, step: 500, loss: 0.04030267894268036\n",
      "epoch: 7, step: 600, loss: 0.07448818534612656\n",
      "epoch: 8, step: 0, loss: 0.04031307250261307\n",
      "epoch: 8, step: 100, loss: 0.028456298634409904\n",
      "epoch: 8, step: 200, loss: 0.04585530236363411\n",
      "epoch: 8, step: 300, loss: 0.055654339492321014\n",
      "epoch: 8, step: 400, loss: 0.051890358328819275\n",
      "epoch: 8, step: 500, loss: 0.044310811907052994\n",
      "epoch: 8, step: 600, loss: 0.029801350086927414\n",
      "epoch: 9, step: 0, loss: 0.040345266461372375\n",
      "epoch: 9, step: 100, loss: 0.023852039128541946\n",
      "epoch: 9, step: 200, loss: 0.04908887669444084\n",
      "epoch: 9, step: 300, loss: 0.04495692625641823\n",
      "epoch: 9, step: 400, loss: 0.04475601390004158\n",
      "epoch: 9, step: 500, loss: 0.03908705338835716\n",
      "epoch: 9, step: 600, loss: 0.037651482969522476\n",
      "Время обучения модели RNN: 0:03:34.871725\n",
      "Итоговый loss RNN на обучающей выборке: 0.025090210139751434\n"
     ]
    }
   ],
   "source": [
    "start = datetime.datetime.now()\n",
    "for epoch in range(n_epochs):\n",
    "    dataloader = DataLoader(dataset, \n",
    "                            batch_size, \n",
    "                            shuffle=True, \n",
    "                            collate_fn=collate_fn,\n",
    "                            drop_last = True,\n",
    "                            )\n",
    "    for i, batch in enumerate(dataloader):\n",
    "        optim.zero_grad()\n",
    "\n",
    "        predict = RNN_model(batch['data'].to(device))\n",
    "        loss = loss_func(predict.view(-1, n_classes),           # loss function ожидает число предиктов и число классов\n",
    "                         batch['target'].to(device).view(-1),   # батч таргета вытягивается в 1 длинный тензор\n",
    "                         )\n",
    "        loss.backward()\n",
    "        optim.step()\n",
    "        if i % 100 == 0:\n",
    "            print(f'epoch: {epoch}, step: {i}, loss: {loss.item()}')\n",
    "RNN_train_time = datetime.datetime.now() - start\n",
    "RNN_train_loss = loss.item()\n",
    "print(f\"Время обучения модели RNN: {RNN_train_time}\")\n",
    "print(f\"Итоговый loss RNN на обучающей выборке: {RNN_train_loss}\")"
   ]
  },
  {
   "cell_type": "markdown",
   "metadata": {},
   "source": [
    "### Инференс"
   ]
  },
  {
   "cell_type": "code",
   "execution_count": null,
   "metadata": {},
   "outputs": [
    {
     "name": "stdout",
     "output_type": "stream",
     "text": [
      "['ADV', 'PUNCT', 'PROPN', 'PUNCT', 'ADP', 'ADV', 'PRON', 'VERB', 'PRON']\n",
      "Время инференса модели RNN: 0:00:00.001003\n"
     ]
    }
   ],
   "source": [
    "phrase = 'So , Marius . At last I find you'\n",
    "words = phrase.split(' ')\n",
    "tokens = [dataset.word_vocab[w] for w in words]\n",
    "\n",
    "start = datetime.datetime.now()\n",
    "with torch.no_grad():\n",
    "    RNN_model.eval()\n",
    "    predict = RNN_model(torch.tensor(tokens).unsqueeze(0).to(device)) # 1 x T x N_classes\n",
    "    labels = torch.argmax(predict, dim=-1).squeeze().cpu().detach().tolist()\n",
    "    RNN_inference_time = datetime.datetime.now() - start\n",
    "\n",
    "target_labels = list(dataset.target_vocab.keys())\n",
    "print([target_labels[l] for l in labels])\n",
    "print(f'Время инференса модели RNN: {RNN_inference_time}')"
   ]
  },
  {
   "cell_type": "markdown",
   "metadata": {},
   "source": [
    "## Модель GRU"
   ]
  },
  {
   "cell_type": "markdown",
   "metadata": {},
   "source": [
    "### Архитектура модели"
   ]
  },
  {
   "cell_type": "code",
   "execution_count": null,
   "metadata": {},
   "outputs": [],
   "source": [
    "class GRUPredictor(nn.Module):\n",
    "    def __init__(self, vocab_size, emb_dim, hidden_dim, n_classes):\n",
    "        super().__init__()\n",
    "        self.word_emb = nn.Embedding(vocab_size, emb_dim)\n",
    "        # делается эмбеддинг последовательности и целиком передается в RNN\n",
    "        self.rnn = nn.GRU(emb_dim, hidden_dim, batch_first=True)\n",
    "        self.clf = nn.Linear(hidden_dim, n_classes)\n",
    "        self.do = nn.Dropout(0.1)\n",
    "\n",
    "    def forward(self, x):\n",
    "        emb = self.word_emb(x) # B x T x Emb_dim\n",
    "        # последовательность целиком передается в RNN\n",
    "        hidden, _ = self.rnn(emb)   # B x T x Hid, B x 1 x Hid\n",
    "        pred = self.clf(self.do(hidden)) # B x T x N_classes\n",
    "\n",
    "        return pred"
   ]
  },
  {
   "cell_type": "markdown",
   "metadata": {},
   "source": [
    "### Инициализация модели, задание оптимизатора и функции потерь"
   ]
  },
  {
   "cell_type": "code",
   "execution_count": null,
   "metadata": {},
   "outputs": [],
   "source": [
    "GRU_model = GRUPredictor(vocab_size, emb_dim, hidden, n_classes).to(device)\n",
    "GRU_model.train()\n",
    "optim = torch.optim.Adam(GRU_model.parameters(), lr=0.001)\n",
    "loss_func = nn.CrossEntropyLoss()"
   ]
  },
  {
   "cell_type": "markdown",
   "metadata": {},
   "source": [
    "### Трейн луп"
   ]
  },
  {
   "cell_type": "code",
   "execution_count": null,
   "metadata": {},
   "outputs": [
    {
     "name": "stdout",
     "output_type": "stream",
     "text": [
      "epoch: 0, step: 0, loss: 2.8086624145507812\n",
      "epoch: 0, step: 100, loss: 0.4318646192550659\n",
      "epoch: 0, step: 200, loss: 0.15787436068058014\n",
      "epoch: 0, step: 300, loss: 0.260681688785553\n",
      "epoch: 0, step: 400, loss: 0.16748176515102386\n",
      "epoch: 0, step: 500, loss: 0.16750140488147736\n",
      "epoch: 0, step: 600, loss: 0.14108377695083618\n",
      "epoch: 1, step: 0, loss: 0.16056150197982788\n",
      "epoch: 1, step: 100, loss: 0.20027072727680206\n",
      "epoch: 1, step: 200, loss: 0.09813416004180908\n",
      "epoch: 1, step: 300, loss: 0.07271181792020798\n",
      "epoch: 1, step: 400, loss: 0.11731588840484619\n",
      "epoch: 1, step: 500, loss: 0.11948800832033157\n",
      "epoch: 1, step: 600, loss: 0.13200443983078003\n",
      "epoch: 2, step: 0, loss: 0.10379897058010101\n",
      "epoch: 2, step: 100, loss: 0.09704423695802689\n",
      "epoch: 2, step: 200, loss: 0.1100924164056778\n",
      "epoch: 2, step: 300, loss: 0.1122499480843544\n",
      "epoch: 2, step: 400, loss: 0.09471801668405533\n",
      "epoch: 2, step: 500, loss: 0.10598248243331909\n",
      "epoch: 2, step: 600, loss: 0.06777076423168182\n",
      "epoch: 3, step: 0, loss: 0.10722864419221878\n",
      "epoch: 3, step: 100, loss: 0.0967787355184555\n",
      "epoch: 3, step: 200, loss: 0.06847880035638809\n",
      "epoch: 3, step: 300, loss: 0.06719767302274704\n",
      "epoch: 3, step: 400, loss: 0.06472910940647125\n",
      "epoch: 3, step: 500, loss: 0.08114476501941681\n",
      "epoch: 3, step: 600, loss: 0.10984192043542862\n",
      "epoch: 4, step: 0, loss: 0.05297054350376129\n",
      "epoch: 4, step: 100, loss: 0.05184304341673851\n",
      "epoch: 4, step: 200, loss: 0.034986983984708786\n",
      "epoch: 4, step: 300, loss: 0.09968898445367813\n",
      "epoch: 4, step: 400, loss: 0.0574033297598362\n",
      "epoch: 4, step: 500, loss: 0.07502675801515579\n",
      "epoch: 4, step: 600, loss: 0.08229248970746994\n",
      "epoch: 5, step: 0, loss: 0.07219317555427551\n",
      "epoch: 5, step: 100, loss: 0.07216951996088028\n",
      "epoch: 5, step: 200, loss: 0.05299552530050278\n",
      "epoch: 5, step: 300, loss: 0.04684770479798317\n",
      "epoch: 5, step: 400, loss: 0.04479936137795448\n",
      "epoch: 5, step: 500, loss: 0.09727878868579865\n",
      "epoch: 5, step: 600, loss: 0.08142286539077759\n",
      "epoch: 6, step: 0, loss: 0.05381312221288681\n",
      "epoch: 6, step: 100, loss: 0.04511946439743042\n",
      "epoch: 6, step: 200, loss: 0.05681964382529259\n",
      "epoch: 6, step: 300, loss: 0.03770675137639046\n",
      "epoch: 6, step: 400, loss: 0.04577972739934921\n",
      "epoch: 6, step: 500, loss: 0.05431928113102913\n",
      "epoch: 6, step: 600, loss: 0.05189560726284981\n",
      "epoch: 7, step: 0, loss: 0.03410740941762924\n",
      "epoch: 7, step: 100, loss: 0.04273167625069618\n",
      "epoch: 7, step: 200, loss: 0.034987978637218475\n",
      "epoch: 7, step: 300, loss: 0.024469371885061264\n",
      "epoch: 7, step: 400, loss: 0.029384935274720192\n",
      "epoch: 7, step: 500, loss: 0.03618757426738739\n",
      "epoch: 7, step: 600, loss: 0.03834059089422226\n",
      "epoch: 8, step: 0, loss: 0.020032143220305443\n",
      "epoch: 8, step: 100, loss: 0.04678289592266083\n",
      "epoch: 8, step: 200, loss: 0.03154819831252098\n",
      "epoch: 8, step: 300, loss: 0.05054390802979469\n",
      "epoch: 8, step: 400, loss: 0.045400284230709076\n",
      "epoch: 8, step: 500, loss: 0.04168054088950157\n",
      "epoch: 8, step: 600, loss: 0.050801750272512436\n",
      "epoch: 9, step: 0, loss: 0.03145525977015495\n",
      "epoch: 9, step: 100, loss: 0.028084751218557358\n",
      "epoch: 9, step: 200, loss: 0.023397615179419518\n",
      "epoch: 9, step: 300, loss: 0.017536737024784088\n",
      "epoch: 9, step: 400, loss: 0.021143054589629173\n",
      "epoch: 9, step: 500, loss: 0.02423040382564068\n",
      "epoch: 9, step: 600, loss: 0.04247302561998367\n",
      "Время обучения модели GRU: 0:03:46.469728\n",
      "Итоговый loss GRU на обучающей выборке: 0.03770429641008377\n"
     ]
    }
   ],
   "source": [
    "start = datetime.datetime.now()\n",
    "for epoch in range(n_epochs):\n",
    "    dataloader = DataLoader(dataset, \n",
    "                            batch_size, \n",
    "                            shuffle=True, \n",
    "                            collate_fn=collate_fn,\n",
    "                            drop_last = True,\n",
    "                            )\n",
    "    for i, batch in enumerate(dataloader):\n",
    "        optim.zero_grad()\n",
    "\n",
    "        predict = GRU_model(batch['data'].to(device))\n",
    "        loss = loss_func(predict.view(-1, n_classes),           # loss function ожидает число предиктов и число классов\n",
    "                         batch['target'].to(device).view(-1),   # батч таргета вытягивается в 1 длинный тензор\n",
    "                         )\n",
    "        loss.backward()\n",
    "        optim.step()\n",
    "        if i % 100 == 0:\n",
    "            print(f'epoch: {epoch}, step: {i}, loss: {loss.item()}')\n",
    "GRU_train_time = datetime.datetime.now() - start\n",
    "GRU_train_loss = loss.item()\n",
    "print(f\"Время обучения модели GRU: {GRU_train_time}\")\n",
    "print(f\"Итоговый loss GRU на обучающей выборке: {GRU_train_loss}\")"
   ]
  },
  {
   "cell_type": "markdown",
   "metadata": {},
   "source": [
    "### Инференс"
   ]
  },
  {
   "cell_type": "code",
   "execution_count": null,
   "metadata": {},
   "outputs": [
    {
     "name": "stdout",
     "output_type": "stream",
     "text": [
      "['ADV', 'PUNCT', 'PROPN', 'PUNCT', 'ADP', 'ADV', 'PRON', 'VERB', 'PRON']\n",
      "Время инференса модели GRU: 0:00:00.000997\n"
     ]
    }
   ],
   "source": [
    "phrase = 'So , Marius . At last I find you'\n",
    "words = phrase.split(' ')\n",
    "tokens = [dataset.word_vocab[w] for w in words]\n",
    "\n",
    "start = datetime.datetime.now()\n",
    "with torch.no_grad():\n",
    "    GRU_model.eval()\n",
    "    predict = GRU_model(torch.tensor(tokens).unsqueeze(0).to(device)) # 1 x T x N_classes\n",
    "    labels = torch.argmax(predict, dim=-1).squeeze().cpu().detach().tolist()\n",
    "    GRU_inference_time = datetime.datetime.now() - start\n",
    "\n",
    "target_labels = list(dataset.target_vocab.keys())\n",
    "print([target_labels[l] for l in labels])\n",
    "print(f'Время инференса модели GRU: {GRU_inference_time}')"
   ]
  },
  {
   "cell_type": "markdown",
   "metadata": {},
   "source": [
    "## Модель Bidirectional LSTM"
   ]
  },
  {
   "cell_type": "markdown",
   "metadata": {},
   "source": [
    "### Архитектура модели"
   ]
  },
  {
   "cell_type": "code",
   "execution_count": null,
   "metadata": {},
   "outputs": [],
   "source": [
    "class BidirLSTMPredictor(nn.Module):\n",
    "    def __init__(self, vocab_size, emb_dim, hidden_dim, n_classes):\n",
    "        super().__init__()\n",
    "        self.word_emb = nn.Embedding(vocab_size, emb_dim)\n",
    "        # делается эмбеддинг последовательности и целиком передается в RNN\n",
    "        self.rnn = nn.LSTM(emb_dim, hidden_dim, batch_first=True, bidirectional=True)\n",
    "        self.clf = nn.Linear(hidden_dim * 2, n_classes)\n",
    "        self.do = nn.Dropout(0.1)\n",
    "\n",
    "    def forward(self, x):\n",
    "        emb = self.word_emb(x) # B x T x Emb_dim\n",
    "        # последовательность целиком передается в RNN\n",
    "        hidden, _ = self.rnn(emb)   # B x T x Hid, B x 1 x Hid\n",
    "        pred = self.clf(self.do(hidden)) # B x T x N_classes\n",
    "\n",
    "        return pred"
   ]
  },
  {
   "cell_type": "markdown",
   "metadata": {},
   "source": [
    "### Инициализация модели, задание оптимизатора и функции потерь"
   ]
  },
  {
   "cell_type": "code",
   "execution_count": null,
   "metadata": {},
   "outputs": [],
   "source": [
    "BidirLSTM_model = BidirLSTMPredictor(vocab_size, emb_dim, hidden, n_classes).to(device)\n",
    "BidirLSTM_model.train()\n",
    "optim = torch.optim.Adam(BidirLSTM_model.parameters(), lr=0.001)\n",
    "loss_func = nn.CrossEntropyLoss()"
   ]
  },
  {
   "cell_type": "markdown",
   "metadata": {},
   "source": [
    "### Трейн луп"
   ]
  },
  {
   "cell_type": "code",
   "execution_count": null,
   "metadata": {},
   "outputs": [],
   "source": [
    "start = datetime.datetime.now()\n",
    "for epoch in range(n_epochs):\n",
    "    dataloader = DataLoader(dataset, \n",
    "                            batch_size, \n",
    "                            shuffle=True, \n",
    "                            collate_fn=collate_fn,\n",
    "                            drop_last = True,\n",
    "                            )\n",
    "    for i, batch in enumerate(dataloader):\n",
    "        optim.zero_grad()\n",
    "\n",
    "        predict = BidirLSTM_model(batch['data'].to(device))\n",
    "        loss = loss_func(predict.view(-1, n_classes),           # loss function ожидает число предиктов и число классов\n",
    "                         batch['target'].to(device).view(-1),   # батч таргета вытягивается в 1 длинный тензор\n",
    "                         )\n",
    "        loss.backward()\n",
    "        optim.step()\n",
    "        if i % 100 == 0:\n",
    "            print(f'epoch: {epoch}, step: {i}, loss: {loss.item()}')\n",
    "BidirLSTM_train_time = datetime.datetime.now() - start\n",
    "BidirLSTM_train_loss = loss.item()\n",
    "print(f\"Время обучения модели GRU: {BidirLSTM_train_time}\")\n",
    "print(f\"Итоговый loss GRU на обучающей выборке: {BidirLSTM_train_loss}\")"
   ]
  },
  {
   "cell_type": "markdown",
   "metadata": {},
   "source": [
    "### Инференс"
   ]
  },
  {
   "cell_type": "code",
   "execution_count": null,
   "metadata": {},
   "outputs": [],
   "source": [
    "phrase = 'So , Marius . At last I find you'\n",
    "words = phrase.split(' ')\n",
    "tokens = [dataset.word_vocab[w] for w in words]\n",
    "\n",
    "start = datetime.datetime.now()\n",
    "with torch.no_grad():\n",
    "    BidirLSTM_model.eval()\n",
    "    predict = BidirLSTM_model(torch.tensor(tokens).unsqueeze(0).to(device)) # 1 x T x N_classes\n",
    "    labels = torch.argmax(predict, dim=-1).squeeze().cpu().detach().tolist()\n",
    "    BidirLSTM_inference_time = datetime.datetime.now() - start\n",
    "\n",
    "target_labels = list(dataset.target_vocab.keys())\n",
    "print([target_labels[l] for l in labels])\n",
    "print(f'Время инференса модели RNN: {BidirLSTM_inference_time}')"
   ]
  },
  {
   "cell_type": "markdown",
   "metadata": {},
   "source": [
    "## Модель Bidirectional RNN"
   ]
  },
  {
   "cell_type": "markdown",
   "metadata": {},
   "source": [
    "### Архитектура модели"
   ]
  },
  {
   "cell_type": "code",
   "execution_count": null,
   "metadata": {},
   "outputs": [],
   "source": [
    "class BidirRNNPredictor(nn.Module):\n",
    "    def __init__(self, vocab_size, emb_dim, hidden_dim, n_classes):\n",
    "        super().__init__()\n",
    "        self.word_emb = nn.Embedding(vocab_size, emb_dim)\n",
    "        # делается эмбеддинг последовательности и целиком передается в RNN\n",
    "        self.rnn = nn.RNN(emb_dim, hidden_dim, batch_first=True, bidirectional=True)\n",
    "        self.clf = nn.Linear(hidden_dim * 2, n_classes)\n",
    "        self.do = nn.Dropout(0.1)\n",
    "\n",
    "    def forward(self, x):\n",
    "        emb = self.word_emb(x) # B x T x Emb_dim\n",
    "        # последовательность целиком передается в RNN\n",
    "        hidden, _ = self.rnn(emb)   # B x T x Hid, B x 1 x Hid\n",
    "        pred = self.clf(self.do(hidden)) # B x T x N_classes\n",
    "\n",
    "        return pred"
   ]
  },
  {
   "cell_type": "markdown",
   "metadata": {},
   "source": [
    "### Инициализация модели, задание оптимизатора и функции потерь"
   ]
  },
  {
   "cell_type": "code",
   "execution_count": null,
   "metadata": {},
   "outputs": [],
   "source": [
    "BidirRNN_model = BidirRNNPredictor(vocab_size, emb_dim, hidden, n_classes).to(device)\n",
    "BidirRNN_model.train()\n",
    "optim = torch.optim.Adam(BidirRNN_model.parameters(), lr=0.001)\n",
    "loss_func = nn.CrossEntropyLoss()"
   ]
  },
  {
   "cell_type": "markdown",
   "metadata": {},
   "source": [
    "### Трейн луп"
   ]
  },
  {
   "cell_type": "code",
   "execution_count": null,
   "metadata": {},
   "outputs": [],
   "source": [
    "start = datetime.datetime.now()\n",
    "for epoch in range(n_epochs):\n",
    "    dataloader = DataLoader(dataset, \n",
    "                            batch_size, \n",
    "                            shuffle=True, \n",
    "                            collate_fn=collate_fn,\n",
    "                            drop_last = True,\n",
    "                            )\n",
    "    for i, batch in enumerate(dataloader):\n",
    "        optim.zero_grad()\n",
    "\n",
    "        predict = BidirRNN_model(batch['data'].to(device))\n",
    "        loss = loss_func(predict.view(-1, n_classes),           # loss function ожидает число предиктов и число классов\n",
    "                         batch['target'].to(device).view(-1),   # батч таргета вытягивается в 1 длинный тензор\n",
    "                         )\n",
    "        loss.backward()\n",
    "        optim.step()\n",
    "        if i % 100 == 0:\n",
    "            print(f'epoch: {epoch}, step: {i}, loss: {loss.item()}')\n",
    "BidirRNN_train_time = datetime.datetime.now() - start\n",
    "BidirRNN_train_loss = loss.item()\n",
    "print(f\"Время обучения модели GRU: {BidirRNN_train_time}\")\n",
    "print(f\"Итоговый loss GRU на обучающей выборке: {BidirRNN_train_loss}\")"
   ]
  },
  {
   "cell_type": "code",
   "execution_count": null,
   "metadata": {},
   "outputs": [],
   "source": [
    "phrase = 'So , Marius . At last I find you'\n",
    "words = phrase.split(' ')\n",
    "tokens = [dataset.word_vocab[w] for w in words]\n",
    "\n",
    "start = datetime.datetime.now()\n",
    "with torch.no_grad():\n",
    "    BidirRNN_model.eval()\n",
    "    predict = BidirRNN_model(torch.tensor(tokens).unsqueeze(0).to(device)) # 1 x T x N_classes\n",
    "    labels = torch.argmax(predict, dim=-1).squeeze().cpu().detach().tolist()\n",
    "    BidirRNN_inference_time = datetime.datetime.now() - start\n",
    "\n",
    "target_labels = list(dataset.target_vocab.keys())\n",
    "print([target_labels[l] for l in labels])\n",
    "print(f'Время инференса модели RNN: {BidirRNN_inference_time}')"
   ]
  },
  {
   "cell_type": "markdown",
   "metadata": {},
   "source": [
    "## Модель Bidirectional GRU"
   ]
  },
  {
   "cell_type": "markdown",
   "metadata": {},
   "source": [
    "### Архитектура модели"
   ]
  },
  {
   "cell_type": "code",
   "execution_count": null,
   "metadata": {},
   "outputs": [],
   "source": [
    "class BidirGRUPredictor(nn.Module):\n",
    "    def __init__(self, vocab_size, emb_dim, hidden_dim, n_classes):\n",
    "        super().__init__()\n",
    "        self.word_emb = nn.Embedding(vocab_size, emb_dim)\n",
    "        # делается эмбеддинг последовательности и целиком передается в RNN\n",
    "        self.rnn = nn.GRU(emb_dim, hidden_dim, batch_first=True, bidirectional=True)\n",
    "        self.clf = nn.Linear(hidden_dim * 2, n_classes)\n",
    "        self.do = nn.Dropout(0.1)\n",
    "\n",
    "    def forward(self, x):\n",
    "        emb = self.word_emb(x) # B x T x Emb_dim\n",
    "        # последовательность целиком передается в RNN\n",
    "        hidden, _ = self.rnn(emb)   # B x T x Hid, B x 1 x Hid\n",
    "        pred = self.clf(self.do(hidden)) # B x T x N_classes\n",
    "\n",
    "        return pred"
   ]
  },
  {
   "cell_type": "markdown",
   "metadata": {},
   "source": [
    "### Инициализация модели, задание оптимизатора и функции потерь"
   ]
  },
  {
   "cell_type": "code",
   "execution_count": null,
   "metadata": {},
   "outputs": [],
   "source": [
    "BidirGRU_model = BidirGRUPredictor(vocab_size, emb_dim, hidden, n_classes).to(device)\n",
    "BidirGRU_model.train()\n",
    "optim = torch.optim.Adam(BidirGRU_model.parameters(), lr=0.001)\n",
    "loss_func = nn.CrossEntropyLoss()"
   ]
  },
  {
   "cell_type": "markdown",
   "metadata": {},
   "source": [
    "### Трейн луп"
   ]
  },
  {
   "cell_type": "code",
   "execution_count": null,
   "metadata": {},
   "outputs": [],
   "source": [
    "start = datetime.datetime.now()\n",
    "for epoch in range(n_epochs):\n",
    "    dataloader = DataLoader(dataset, \n",
    "                            batch_size, \n",
    "                            shuffle=True, \n",
    "                            collate_fn=collate_fn,\n",
    "                            drop_last = True,\n",
    "                            )\n",
    "    for i, batch in enumerate(dataloader):\n",
    "        optim.zero_grad()\n",
    "\n",
    "        predict = BidirGRU_model(batch['data'].to(device))\n",
    "        loss = loss_func(predict.view(-1, n_classes),           # loss function ожидает число предиктов и число классов\n",
    "                         batch['target'].to(device).view(-1),   # батч таргета вытягивается в 1 длинный тензор\n",
    "                         )\n",
    "        loss.backward()\n",
    "        optim.step()\n",
    "        if i % 100 == 0:\n",
    "            print(f'epoch: {epoch}, step: {i}, loss: {loss.item()}')\n",
    "BidirGRU_train_time = datetime.datetime.now() - start\n",
    "BidirGRU_train_loss = loss.item()\n",
    "print(f\"Время обучения модели GRU: {BidirGRU_train_time}\")\n",
    "print(f\"Итоговый loss GRU на обучающей выборке: {BidirGRU_train_loss}\")"
   ]
  },
  {
   "cell_type": "markdown",
   "metadata": {},
   "source": [
    "### Инференс"
   ]
  },
  {
   "cell_type": "code",
   "execution_count": null,
   "metadata": {},
   "outputs": [],
   "source": [
    "phrase = 'So , Marius . At last I find you'\n",
    "words = phrase.split(' ')\n",
    "tokens = [dataset.word_vocab[w] for w in words]\n",
    "\n",
    "start = datetime.datetime.now()\n",
    "with torch.no_grad():\n",
    "    BidirGRU_model.eval()\n",
    "    predict = BidirGRU_model(torch.tensor(tokens).unsqueeze(0).to(device)) # 1 x T x N_classes\n",
    "    labels = torch.argmax(predict, dim=-1).squeeze().cpu().detach().tolist()\n",
    "    BidirGRU_inference_time = datetime.datetime.now() - start\n",
    "\n",
    "target_labels = list(dataset.target_vocab.keys())\n",
    "print([target_labels[l] for l in labels])\n",
    "print(f'Время инференса модели RNN: {BidirGRU_inference_time}')"
   ]
  },
  {
   "cell_type": "markdown",
   "metadata": {},
   "source": [
    "## Сведем результаты в таблицу"
   ]
  },
  {
   "cell_type": "code",
   "execution_count": null,
   "metadata": {},
   "outputs": [],
   "source": [
    "result = pd.DataFrame(data=[[LSTM_train_time, LSTM_train_loss, LSTM_inference_time],\n",
    "                            [BidirLSTM_train_time, BidirLSTM_train_loss, BidirLSTM_inference_time],\n",
    "                            [RNN_train_time, RNN_train_loss, RNN_inference_time],\n",
    "                            [BidirRNN_train_time, BidirRNN_train_loss, BidirRNN_inference_time],\n",
    "                            [GRU_train_time, GRU_train_loss, GRU_inference_time],\n",
    "                            [BidirGRU_train_time, BidirGRU_train_loss, BidirGRU_inference_time]],\n",
    "                      index = ['LSTM','Bidirectional LSTM','RNN','Bidirectional RNN','GRU','Bidirectional GRU'],\n",
    "                      columns = ['Время обучения', 'Loss на обучающей выборке', 'Время инференса'])\n",
    "result"
   ]
  },
  {
   "cell_type": "raw",
   "metadata": {},
   "source": [
    "emb_dim = 256\n",
    "hidden = 256\n",
    "n_epochs = 10\n",
    "batch_size = 64  \n",
    "        Время обучения\t        Loss на обучающей выборке\tВремя инференса\n",
    "LSTM\t0 days 00:03:28.561591\t0.035101\t                0 days 00:00:00.001994\n",
    "RNN\t0 days 00:02:38.664945\t0.027867\t                0 days 00:00:00.003990\n",
    "GRU\t0 days 00:03:12.231247\t0.009496\t                0 days 00:00:00.002990\n",
    "\n",
    "emb_dim = 256\n",
    "hidden = 256\n",
    "n_epochs = 10\n",
    "batch_size = 128\n",
    "\n",
    "        Время обучения\t        Loss на обучающей выборке\tВремя инференса\n",
    "LSTM\t0 days 00:02:26.290662\t0.026478\t                0 days 00:00:00.001994\n",
    "RNN\t0 days 00:01:44.315202\t0.045033\t                0 days 00:00:00.001995\n",
    "GRU\t0 days 00:02:17.878500\t0.037534\t                0 days 00:00:00.001995\n",
    "\n",
    "\n",
    "emb_dim = 256\n",
    "hidden = 256\n",
    "n_epochs = 10\n",
    "batch_size = 32\n",
    "\n",
    "\tВремя обучения\t        Loss на обучающей выборке\tВремя инференса\n",
    "LSTM\t0 days 00:04:04.160447\t0.017666\t                0 days 00:00:00.001994\n",
    "RNN\t0 days 00:03:48.225566\t0.019504\t                0 days 00:00:00.001995\n",
    "GRU\t0 days 00:04:35.424888\t0.009340\t                0 days 00:00:00.000997\n",
    "\n",
    "emb_dim = 256\n",
    "hidden = 128\n",
    "n_epochs = 10\n",
    "batch_size = 32   \n",
    "\n",
    "\tВремя обучения\t        Loss на обучающей выборке\tВремя инференса\n",
    "LSTM\t0 days 00:04:12.847231\t0.038909\t                0 days 00:00:00.001068\n",
    "RNN\t0 days 00:03:34.871725\t0.025090\t                0 days 00:00:00.001003\n",
    "GRU\t0 days 00:03:46.469728\t0.037704\t                0 days 00:00:00.000997"
   ]
  },
  {
   "cell_type": "markdown",
   "metadata": {},
   "source": [
    "Выводы:\n",
    "- уменьшение размера батча уменьшило loss (для обучаеющей выборки), но увеличило время обучения"
   ]
  },
  {
   "cell_type": "markdown",
   "metadata": {},
   "source": []
  }
 ],
 "metadata": {
  "kernelspec": {
   "display_name": "Python 3.10.6 ('ds_env')",
   "language": "python",
   "name": "python3"
  },
  "language_info": {
   "codemirror_mode": {
    "name": "ipython",
    "version": 3
   },
   "file_extension": ".py",
   "mimetype": "text/x-python",
   "name": "python",
   "nbconvert_exporter": "python",
   "pygments_lexer": "ipython3",
   "version": "3.10.6"
  },
  "orig_nbformat": 4,
  "vscode": {
   "interpreter": {
    "hash": "412736b7ad9a6211ebe07fddd452488530ba48e4d95dcf46d993658ed665f40c"
   }
  }
 },
 "nbformat": 4,
 "nbformat_minor": 2
}
