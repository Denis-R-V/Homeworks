{
 "cells": [
  {
   "cell_type": "markdown",
   "metadata": {},
   "source": [
    "# Домашнее задание 2\n",
    "- Обучить полносвязную модель на MNIST\n",
    "- Обучить глубокую сверточную сеть на MNIST\n",
    "- *обучить с нуля глубокую сеть на небольшом датасете. Сравнить результат с дообучением предобученной сети\n"
   ]
  },
  {
   "cell_type": "code",
   "execution_count": 20,
   "metadata": {},
   "outputs": [],
   "source": [
    "import numpy\n",
    "import torch\n",
    "import torch.nn as nn\n",
    "import torchvision.models as models\n",
    "from torchvision import datasets, transforms\n",
    "from torch.utils.data import DataLoader\n",
    "import matplotlib.pyplot as plt"
   ]
  },
  {
   "cell_type": "markdown",
   "metadata": {},
   "source": [
    "# Задание 1\n",
    "Обучить полносвязную модель на MNIST"
   ]
  },
  {
   "cell_type": "markdown",
   "metadata": {},
   "source": [
    "### Архитектура модели"
   ]
  },
  {
   "cell_type": "code",
   "execution_count": 22,
   "metadata": {},
   "outputs": [],
   "source": [
    "class LinearModel(nn.Module):\n",
    "    def __init__(self, input_dim, hidden_dim, output_dim, dropout_p=0.2):\n",
    "        super().__init__()\n",
    "        self.linear1 = nn.Linear(input_dim, hidden_dim)\n",
    "        nn.init.xavier_normal_(self.linear1.weight)         # Инициализация весов\n",
    "        self.activation1 = nn.Sigmoid()\n",
    "        self.do1 = nn.Dropout(dropout_p)\n",
    "        self.linear2 = nn.Linear(hidden_dim, hidden_dim)\n",
    "        self.activation2 = nn.Sigmoid()\n",
    "        self.do2 = nn.Dropout(dropout_p)\n",
    "        self.linear3 = nn.Linear(hidden_dim, output_dim)\n",
    "\n",
    "    def forward(self, x):                                   # на форвард приходят фичи x - картинка, вытянутая в вектор\n",
    "        x = self.linear1(x)\n",
    "        x = self.activation1(x)\n",
    "        x = self.do1(x)\n",
    "        x = self.linear2(x)\n",
    "        x = self.activation2(x)\n",
    "        x = self.do2(x)\n",
    "        x = self.linear3(x)     \n",
    "\n",
    "        return x"
   ]
  },
  {
   "cell_type": "markdown",
   "metadata": {},
   "source": [
    "### Загрузчик данных"
   ]
  },
  {
   "cell_type": "code",
   "execution_count": 23,
   "metadata": {},
   "outputs": [],
   "source": [
    "# без разделения на тестовую и обучающую выборки\n",
    "#dataset = datasets.MNIST('.', download=True)"
   ]
  },
  {
   "cell_type": "code",
   "execution_count": 24,
   "metadata": {},
   "outputs": [],
   "source": [
    "# скачивание обучающего датасета\n",
    "dataset_train = datasets.MNIST('.', train=True, download=True)\n",
    "\n",
    "# скачивание тестового датасета\n",
    "dataset_test = datasets.MNIST('.', train=False, download=True)"
   ]
  },
  {
   "cell_type": "markdown",
   "metadata": {},
   "source": [
    "### Формирование батча"
   ]
  },
  {
   "cell_type": "code",
   "execution_count": 25,
   "metadata": {},
   "outputs": [],
   "source": [
    "def collate_fn(data: list):   # collate_fn принимает на вход список элементов датасета\n",
    "                              # которые складываются в торчтензоры (удобно передавать их в словарь),\n",
    "                              # в котором под ключем data лежат упакованные в батч картинки,\n",
    "                              # под ключем target - в том же порядке соответствующие таргеты\n",
    "  # data = [(pic, target)...]\n",
    "  \n",
    "  # в цикле формируются списки с картинками и таргетами для каждого индекса, поданного на вход  \n",
    "  pics = []\n",
    "  target = []\n",
    "  for item in data:\n",
    "    pics.append(numpy.array(item[0]))\n",
    "    target.append(item[1])\n",
    "  \n",
    "  # картинки преобразовываются в торчтензор, который имеет размер батч x ширина x высота\n",
    "  # нормирование данных (интенсивность 0-255 приводится к 0-1)\n",
    "  pics = torch.from_numpy(numpy.array(pics)).float() / 255 # B x W x H или Батч x 784\n",
    "  target = torch.from_numpy(numpy.array(target))\n",
    "\n",
    "  return {'data': pics.view(pics.size(0), -1), # преобразуем матрицу 28х28 в вектор 784 (линейный слой не работает с матрицами)\n",
    "          'target': target.long(),\n",
    "          }"
   ]
  },
  {
   "cell_type": "markdown",
   "metadata": {},
   "source": [
    "### Гиперпараметры"
   ]
  },
  {
   "cell_type": "code",
   "execution_count": 26,
   "metadata": {},
   "outputs": [],
   "source": [
    "inp_dim = 28 * 28\n",
    "hidden = 256\n",
    "out_dim = 10\n",
    "device_id = -1\n",
    "device = 'mps' if device_id == -1 else f'cuda:{device_id}' # 'cuda:1' id GPU\n",
    "n_epochs = 20\n",
    "batch_size = 128"
   ]
  },
  {
   "cell_type": "markdown",
   "metadata": {},
   "source": [
    "### Инициализация модели, задание оптимизатора и функции потерь"
   ]
  },
  {
   "cell_type": "code",
   "execution_count": 27,
   "metadata": {},
   "outputs": [],
   "source": [
    "model = LinearModel(inp_dim, hidden, out_dim).to(device)\n",
    "optim = torch.optim.Adam(model.parameters()) # Adam с параметрами по умолчанию\n",
    "loss_func = nn.CrossEntropyLoss()   # функция потерь CrossEntropyLoss (для многоклассовой классификации)"
   ]
  },
  {
   "cell_type": "markdown",
   "metadata": {},
   "source": [
    "### Трейн луп"
   ]
  },
  {
   "cell_type": "code",
   "execution_count": 28,
   "metadata": {},
   "outputs": [
    {
     "name": "stdout",
     "output_type": "stream",
     "text": [
      "epoch: 0, step: 0, loss_dataset_train: 2.3273849487304688\n",
      "epoch: 0, step: 200, loss_dataset_train: 0.44924288988113403\n",
      "epoch: 0, step: 400, loss_dataset_train: 0.3409607410430908\n",
      "epoch: 0, loss_dataset_test: 0.27338212728500366\n",
      "\n",
      "epoch: 1, step: 0, loss_dataset_train: 0.2593865692615509\n",
      "epoch: 1, step: 200, loss_dataset_train: 0.2722008228302002\n",
      "epoch: 1, step: 400, loss_dataset_train: 0.2623645067214966\n",
      "epoch: 1, loss_dataset_test: 0.19757750630378723\n",
      "\n",
      "epoch: 2, step: 0, loss_dataset_train: 0.10369203239679337\n",
      "epoch: 2, step: 200, loss_dataset_train: 0.196613609790802\n",
      "epoch: 2, step: 400, loss_dataset_train: 0.12480802834033966\n",
      "epoch: 2, loss_dataset_test: 0.1541953682899475\n",
      "\n",
      "epoch: 3, step: 0, loss_dataset_train: 0.18442487716674805\n",
      "epoch: 3, step: 200, loss_dataset_train: 0.14036999642848969\n",
      "epoch: 3, step: 400, loss_dataset_train: 0.12086138129234314\n",
      "epoch: 3, loss_dataset_test: 0.1275346726179123\n",
      "\n",
      "epoch: 4, step: 0, loss_dataset_train: 0.10452403873205185\n",
      "epoch: 4, step: 200, loss_dataset_train: 0.09924802929162979\n",
      "epoch: 4, step: 400, loss_dataset_train: 0.21102944016456604\n",
      "epoch: 4, loss_dataset_test: 0.1149592250585556\n",
      "\n",
      "epoch: 5, step: 0, loss_dataset_train: 0.04291307181119919\n",
      "epoch: 5, step: 200, loss_dataset_train: 0.08046285808086395\n",
      "epoch: 5, step: 400, loss_dataset_train: 0.05650869384407997\n",
      "epoch: 5, loss_dataset_test: 0.09911734610795975\n",
      "\n",
      "epoch: 6, step: 0, loss_dataset_train: 0.08630973845720291\n",
      "epoch: 6, step: 200, loss_dataset_train: 0.1742827445268631\n",
      "epoch: 6, step: 400, loss_dataset_train: 0.03850212320685387\n",
      "epoch: 6, loss_dataset_test: 0.09267692267894745\n",
      "\n",
      "epoch: 7, step: 0, loss_dataset_train: 0.058834291994571686\n",
      "epoch: 7, step: 200, loss_dataset_train: 0.1191076710820198\n",
      "epoch: 7, step: 400, loss_dataset_train: 0.053318701684474945\n",
      "epoch: 7, loss_dataset_test: 0.08351235836744308\n",
      "\n",
      "epoch: 8, step: 0, loss_dataset_train: 0.13213232159614563\n",
      "epoch: 8, step: 200, loss_dataset_train: 0.0679686963558197\n",
      "epoch: 8, step: 400, loss_dataset_train: 0.18097488582134247\n",
      "epoch: 8, loss_dataset_test: 0.08374649286270142\n",
      "\n",
      "epoch: 9, step: 0, loss_dataset_train: 0.10377722233533859\n",
      "epoch: 9, step: 200, loss_dataset_train: 0.11368153989315033\n",
      "epoch: 9, step: 400, loss_dataset_train: 0.11918012797832489\n",
      "epoch: 9, loss_dataset_test: 0.07754378765821457\n",
      "\n",
      "epoch: 10, step: 0, loss_dataset_train: 0.10462504625320435\n",
      "epoch: 10, step: 200, loss_dataset_train: 0.06741424649953842\n",
      "epoch: 10, step: 400, loss_dataset_train: 0.08604585379362106\n",
      "epoch: 10, loss_dataset_test: 0.07236439734697342\n",
      "\n",
      "epoch: 11, step: 0, loss_dataset_train: 0.018510710448026657\n",
      "epoch: 11, step: 200, loss_dataset_train: 0.1313208043575287\n",
      "epoch: 11, step: 400, loss_dataset_train: 0.03356507420539856\n",
      "epoch: 11, loss_dataset_test: 0.06818199902772903\n",
      "\n",
      "epoch: 12, step: 0, loss_dataset_train: 0.0725765973329544\n",
      "epoch: 12, step: 200, loss_dataset_train: 0.04841306060552597\n",
      "epoch: 12, step: 400, loss_dataset_train: 0.017246950417757034\n",
      "epoch: 12, loss_dataset_test: 0.06535699963569641\n",
      "\n",
      "epoch: 13, step: 0, loss_dataset_train: 0.05362723767757416\n",
      "epoch: 13, step: 200, loss_dataset_train: 0.030270520597696304\n",
      "epoch: 13, step: 400, loss_dataset_train: 0.04762393608689308\n",
      "epoch: 13, loss_dataset_test: 0.06809015572071075\n",
      "\n",
      "epoch: 14, step: 0, loss_dataset_train: 0.014747250825166702\n",
      "epoch: 14, step: 200, loss_dataset_train: 0.12582524120807648\n",
      "epoch: 14, step: 400, loss_dataset_train: 0.01904008537530899\n",
      "epoch: 14, loss_dataset_test: 0.06608351320028305\n",
      "\n",
      "epoch: 15, step: 0, loss_dataset_train: 0.04524653032422066\n",
      "epoch: 15, step: 200, loss_dataset_train: 0.008124733343720436\n",
      "epoch: 15, step: 400, loss_dataset_train: 0.04588673636317253\n",
      "epoch: 15, loss_dataset_test: 0.06504213809967041\n",
      "\n",
      "epoch: 16, step: 0, loss_dataset_train: 0.051004186272621155\n",
      "epoch: 16, step: 200, loss_dataset_train: 0.02121630311012268\n",
      "epoch: 16, step: 400, loss_dataset_train: 0.058599043637514114\n",
      "epoch: 16, loss_dataset_test: 0.06393931061029434\n",
      "\n",
      "epoch: 17, step: 0, loss_dataset_train: 0.04373303800821304\n",
      "epoch: 17, step: 200, loss_dataset_train: 0.03277203440666199\n",
      "epoch: 17, step: 400, loss_dataset_train: 0.009981341660022736\n",
      "epoch: 17, loss_dataset_test: 0.0672314390540123\n",
      "\n",
      "epoch: 18, step: 0, loss_dataset_train: 0.026432033628225327\n",
      "epoch: 18, step: 200, loss_dataset_train: 0.013316563330590725\n",
      "epoch: 18, step: 400, loss_dataset_train: 0.022488975897431374\n",
      "epoch: 18, loss_dataset_test: 0.06612053513526917\n",
      "\n",
      "epoch: 19, step: 0, loss_dataset_train: 0.026650650426745415\n",
      "epoch: 19, step: 200, loss_dataset_train: 0.012705379165709019\n",
      "epoch: 19, step: 400, loss_dataset_train: 0.05121934413909912\n",
      "epoch: 19, loss_dataset_test: 0.07026119530200958\n",
      "\n"
     ]
    }
   ],
   "source": [
    "# для каждой эпохи\n",
    "for epoch in range(n_epochs):\n",
    "    \n",
    "    # случайное разбиение обучающей выборки на батчи\n",
    "    trainloader = DataLoader(dataset_train, \n",
    "                             batch_size,\n",
    "                             shuffle=True, \n",
    "                             collate_fn=collate_fn, \n",
    "                             drop_last = True)\n",
    "    \n",
    "    # перевод модель в режим обучения\n",
    "    model.train()\n",
    "    # итератор по батчам (у метода DataLoader)\n",
    "    for i, batch in enumerate(trainloader):\n",
    "        # обнуление градиентов (в торче они накапливаются с каждым бэквордом)\n",
    "        optim.zero_grad()\n",
    "        # передача в модель батча - выполнение предсказания\n",
    "        predict = model(batch['data'].to(device))\n",
    "        # расчет функции потерь (по предсказанию и таргету батча)\n",
    "        loss = loss_func(predict, batch['target'].to(device))\n",
    "        # расчет градиентов (в торче работает autograd)\n",
    "        loss.backward()\n",
    "        # обновление весов (встроенный в оптимизатор метод)\n",
    "        optim.step()\n",
    "        # каждые 200 шагов выводим статистику по модели\n",
    "        if i % 200 == 0:\n",
    "            print(f'epoch: {epoch}, step: {i}, loss_dataset_train: {loss.item()}')\n",
    "    \n",
    "    # случайное разбиение тестовой выборки на батчи\n",
    "    testloader = DataLoader(dataset_test, \n",
    "                            batch_size=len(dataset_test.data),\n",
    "                            shuffle=True, \n",
    "                            collate_fn=collate_fn, \n",
    "                            drop_last = False)\n",
    "    \n",
    "    # перевод модель в режим инференса\n",
    "    model.eval()\n",
    "    for i, batch in enumerate(testloader):\n",
    "        # передача в модель батча (батч 1) - выполнение предсказания        \n",
    "        predict = model(batch['data'].to(device))\n",
    "        # расчет функции потерь (по предсказанию и таргету батча)\n",
    "        loss = loss_func(predict, batch['target'].to(device))\n",
    "        # выводим loss по тестовой выборке\n",
    "        print(f'epoch: {epoch}, loss_dataset_test: {loss.item()}')\n",
    "        print()"
   ]
  },
  {
   "cell_type": "markdown",
   "metadata": {},
   "source": [
    "Loss для тестовой выборки значительно больше, чем для обучающей (что логично для распознавания картинок линейным слоем)"
   ]
  },
  {
   "cell_type": "markdown",
   "metadata": {},
   "source": [
    "### Посмотрим результаты предсказания на обучающей выборке и на тестовой выборках"
   ]
  },
  {
   "cell_type": "code",
   "execution_count": 29,
   "metadata": {},
   "outputs": [],
   "source": [
    "# Функция вывода по номеру элемента (может быть случайным) изображения предсказанного и реального значения\n",
    "def result(train_or_test, n_item=None):\n",
    "    if train_or_test == \"train\":\n",
    "        if n_item == None:\n",
    "            n_item = torch.randint(0, len(dataset_train)-1, (1, 1)).squeeze().tolist()\n",
    "        else:\n",
    "            n_item = n_item\n",
    "        image = dataset_train.data[n_item].detach().numpy()\n",
    "        data = dataset_train.data[n_item].unsqueeze(0).view(1, -1).to(device).float()\n",
    "        target = dataset_train.targets[n_item].tolist()\n",
    "        print(f\"Обучающая выборка, элемент № {n_item}\")\n",
    "    elif train_or_test == \"test\":\n",
    "        if n_item == None:\n",
    "            n_item = torch.randint(0, len(dataset_test)-1, (1, 1)).squeeze().tolist()\n",
    "        else:\n",
    "            n_item = n_item\n",
    "        image = dataset_test.data[n_item].detach().numpy()\n",
    "        data = dataset_test.data[n_item].unsqueeze(0).view(1, -1).to(device).float()\n",
    "        target = dataset_test.targets[n_item].tolist()\n",
    "        print(f\"Тестовая выборка, элемент № {n_item}\")\n",
    "    else:\n",
    "        print(\"Нужно указать датасет: 'train' или 'test'\") \n",
    "    if train_or_test == \"train\" or train_or_test == \"test\":       \n",
    "        model.eval()\n",
    "        plt.imshow(image)\n",
    "        plt.show()\n",
    "        predict = torch.argmax(model(data)).squeeze().cpu().detach().tolist()\n",
    "        print(f\"predict: {predict}\")\n",
    "        print(f\"true:    {target}\")"
   ]
  },
  {
   "cell_type": "code",
   "execution_count": 30,
   "metadata": {},
   "outputs": [
    {
     "name": "stdout",
     "output_type": "stream",
     "text": [
      "Обучающая выборка, элемент № 13077\n"
     ]
    },
    {
     "data": {
      "image/png": "[encoded data removed]",
      "text/plain": [
       "<Figure size 640x480 with 1 Axes>"
      ]
     },
     "metadata": {},
     "output_type": "display_data"
    },
    {
     "name": "stdout",
     "output_type": "stream",
     "text": [
      "predict: 0\n",
      "true:    0\n"
     ]
    }
   ],
   "source": [
    "result('train')"
   ]
  },
  {
   "cell_type": "code",
   "execution_count": 31,
   "metadata": {},
   "outputs": [
    {
     "name": "stdout",
     "output_type": "stream",
     "text": [
      "Тестовая выборка, элемент № 5129\n"
     ]
    },
    {
     "data": {
      "image/png": "[encoded data removed]",
      "text/plain": [
       "<Figure size 640x480 with 1 Axes>"
      ]
     },
     "metadata": {},
     "output_type": "display_data"
    },
    {
     "name": "stdout",
     "output_type": "stream",
     "text": [
      "predict: 8\n",
      "true:    8\n"
     ]
    }
   ],
   "source": [
    "result('test')"
   ]
  },
  {
   "cell_type": "markdown",
   "metadata": {},
   "source": [
    "Посчитаем количество неправильно предсказанных элементов на обучающей и на тестовой выборках"
   ]
  },
  {
   "cell_type": "code",
   "execution_count": 33,
   "metadata": {},
   "outputs": [
    {
     "name": "stdout",
     "output_type": "stream",
     "text": [
      "Общее количество элементов обучающей выборки:                        60000\n",
      "Количество неправильно предсказанных элементов на обучающей выборке: 395\n",
      "Процент правильно предсказанных элементов на обучающей выборке:      99.34%\n"
     ]
    }
   ],
   "source": [
    "uncorrect_items = []\n",
    "with torch.no_grad():\n",
    "    model.eval()\n",
    "    for i in range(len(dataset_train)):\n",
    "        target_predict = torch.argmax(model(dataset_train.data[i].unsqueeze(0).view(1, -1).to(device).float())).squeeze().cpu().detach().tolist()\n",
    "        target_true = dataset_train.targets[i].tolist()\n",
    "        if target_predict != target_true:\n",
    "            uncorrect_items.append(i)\n",
    "print(f\"Общее количество элементов обучающей выборки:                        {len(dataset_train)}\")\n",
    "print(f\"Количество неправильно предсказанных элементов на обучающей выборке: {len(uncorrect_items)}\")\n",
    "print(f\"Процент правильно предсказанных элементов на обучающей выборке:      {(1-len(uncorrect_items)/len(dataset_train)):.2%}\")"
   ]
  },
  {
   "cell_type": "code",
   "execution_count": 34,
   "metadata": {},
   "outputs": [
    {
     "name": "stdout",
     "output_type": "stream",
     "text": [
      "Общее количество элементов тестовой выборки:                        10000\n",
      "Количество неправильно предсказанных элементов на тестовой выборке: 223\n",
      "Процент правильно предсказанных элементов на тестовой выборке:      97.77%\n",
      "Номера неправильно предсказанных элементов на тестовой выборке:\n",
      "[73, 115, 199, 247, 259, 266, 274, 321, 340, 381, 391, 445, 495, 582, 674, 691, 710, 720, 900, 944, 947, 951, 965, 1003, 1014, 1039, 1044, 1112, 1128, 1156, 1182, 1226, 1232, 1242, 1247, 1281, 1289, 1299, 1319, 1328, 1378, 1393, 1395, 1414, 1522, 1530, 1549, 1553, 1554, 1678, 1681, 1709, 1717, 1790, 1800, 1901, 1941, 1984, 2004, 2016, 2024, 2029, 2035, 2040, 2053, 2070, 2073, 2093, 2118, 2135, 2162, 2182, 2189, 2272, 2339, 2369, 2387, 2406, 2414, 2454, 2462, 2488, 2514, 2582, 2597, 2648, 2654, 2720, 2743, 2758, 2810, 2877, 2896, 2921, 2927, 2939, 2970, 3073, 3115, 3117, 3206, 3422, 3441, 3503, 3520, 3533, 3549, 3558, 3567, 3597, 3604, 3629, 3662, 3702, 3749, 3751, 3757, 3767, 3776, 3780, 3811, 3838, 3853, 3869, 3893, 3906, 3941, 3984, 4065, 4067, 4075, 4078, 4152, 4154, 4163, 4196, 4199, 4224, 4248, 4289, 4314, 4355, 4360, 4369, 4419, 4443, 4497, 4500, 4536, 4548, 4571, 4731, 4807, 4814, 4880, 4890, 4966, 4990, 5331, 5457, 5547, 5642, 5654, 5676, 5734, 5749, 5757, 5887, 5936, 5937, 5955, 5972, 5973, 5981, 5982, 6011, 6023, 6028, 6059, 6071, 6166, 6505, 6555, 6558, 6560, 6571, 6574, 6597, 6625, 6706, 6783, 7434, 7842, 7850, 7918, 7921, 8062, 8105, 8311, 8325, 8408, 8502, 8527, 8863, 9009, 9015, 9024, 9422, 9482, 9530, 9587, 9634, 9664, 9669, 9692, 9729, 9749, 9768, 9770, 9777, 9792, 9808, 9839]\n"
     ]
    }
   ],
   "source": [
    "uncorrect_items = []\n",
    "with torch.no_grad():\n",
    "    model.eval()\n",
    "    for i in range(len(dataset_test)):\n",
    "        target_predict = torch.argmax(model(dataset_test.data[i].unsqueeze(0).view(1, -1).to(device).float())).squeeze().cpu().detach().tolist()\n",
    "        target_true = dataset_test.targets[i].tolist()\n",
    "        if target_predict != target_true:\n",
    "            uncorrect_items.append(i)\n",
    "print(f\"Общее количество элементов тестовой выборки:                        {len(dataset_test)}\")\n",
    "print(f\"Количество неправильно предсказанных элементов на тестовой выборке: {len(uncorrect_items)}\")\n",
    "print(f\"Процент правильно предсказанных элементов на тестовой выборке:      {(1-len(uncorrect_items)/len(dataset_test)):.2%}\")\n",
    "print(\"Номера неправильно предсказанных элементов на тестовой выборке:\")\n",
    "print(uncorrect_items)"
   ]
  },
  {
   "cell_type": "markdown",
   "metadata": {},
   "source": [
    "# Задание 2\n",
    "Обучить глубокую сверточную сеть на MNIST"
   ]
  },
  {
   "cell_type": "markdown",
   "metadata": {},
   "source": [
    "### Архитектура модели"
   ]
  },
  {
   "cell_type": "code",
   "execution_count": 56,
   "metadata": {},
   "outputs": [],
   "source": [
    "class ConvModel(nn.Module):\n",
    "  def __init__(self, input_ch, hidden_ch, output_dim, dropout_p=0.2):\n",
    "    super().__init__()\n",
    "    # уменьшит размер картинки в 2 раза\n",
    "    self.conv1 = nn.Conv2d(input_ch, hidden_ch, kernel_size=5, padding=2, stride=2) # число каналов на входе \n",
    "                                                                                    # число каналов на выходе\n",
    "                                                                                    # размер ядра, размер паддинга и страйд\n",
    "    self.bn1 = nn.BatchNorm2d(hidden_ch)                                            # батчнорм от предыдущего выхода\n",
    "    self.activation1 = nn.Sigmoid()\n",
    "    self.do1 = nn.Dropout(dropout_p)\n",
    "    self.conv2 = nn.Conv2d(hidden_ch, hidden_ch, kernel_size=3, padding=1, stride=1)\n",
    "    self.bn2 = nn.BatchNorm2d(hidden_ch)\n",
    "    self.activation2 = nn.Sigmoid()    \n",
    "    self.do2 = nn.Dropout(dropout_p)\n",
    "    self.conv3 = nn.Conv2d(hidden_ch, hidden_ch, kernel_size=3, padding=1, stride=1)\n",
    "    self.bn3 = nn.BatchNorm2d(hidden_ch)\n",
    "    self.activation3 = nn.Sigmoid()    \n",
    "    self.do3 = nn.Dropout(dropout_p)     \n",
    "    self.conv4 = nn.Conv2d(hidden_ch, 15, kernel_size=3, padding=1, stride=1)        # на выходе 5 каналов\n",
    "    self.classifier = nn.Linear(15 * 14 *14, output_dim)                             # на входе классификатора 5 каналов\n",
    "\n",
    "\n",
    "  def forward(self, x):\n",
    "    x = self.conv1(x)\n",
    "    x = self.bn1(x)\n",
    "    x = self.activation1(x)\n",
    "    x = self.do1(x)\n",
    "    x = self.conv2(x)\n",
    "    x = self.bn2(x)\n",
    "    x = self.activation2(x)\n",
    "    x = self.do2(x)\n",
    "    x = self.conv3(x)\n",
    "    x = self.bn3(x)\n",
    "    x = self.activation3(x)\n",
    "    x = self.do3(x)\n",
    "    x = self.conv4(x)\n",
    "    x = self.classifier(x.view(x.size(0), -1))  # на вход классификатора подаются batch_size векторов\n",
    "\n",
    "    return x"
   ]
  },
  {
   "cell_type": "markdown",
   "metadata": {},
   "source": [
    "### Загрузчик данных\n",
    "Остается из предыдущего примера"
   ]
  },
  {
   "cell_type": "markdown",
   "metadata": {},
   "source": [
    "### Формирование батча"
   ]
  },
  {
   "cell_type": "code",
   "execution_count": 57,
   "metadata": {},
   "outputs": [],
   "source": [
    "def collate_fn_conv(data: list):\n",
    "  # data = [(pic, target)...]\n",
    "  pics = []\n",
    "  target = []\n",
    "  for item in data:\n",
    "    pics.append(numpy.array(item[0]))\n",
    "    target.append(item[1])\n",
    "  pics = torch.from_numpy(numpy.array(pics)).float() / 255 # B x W x H\n",
    "  target = torch.from_numpy(numpy.array(target))\n",
    "\n",
    "  return {\n",
    "      # метод unsqueeze добавляет метод измерения в тензоре\n",
    "      # сверточный слой ждет число каналов (изображения подаются поканально)\n",
    "      'data': pics.unsqueeze(1), # B x 1 x W x H\n",
    "      'target': target.long(),\n",
    "      }"
   ]
  },
  {
   "cell_type": "markdown",
   "metadata": {},
   "source": [
    "### Гиперпараметры"
   ]
  },
  {
   "cell_type": "code",
   "execution_count": 58,
   "metadata": {},
   "outputs": [],
   "source": [
    "input_ch = 1\n",
    "hidden_ch = 128\n",
    "out_dim = 10\n",
    "device_id = -1\n",
    "device = 'mps' if device_id == -1 else f'cuda:{device_id}'\n",
    "n_epochs = 30\n",
    "batch_size = 128"
   ]
  },
  {
   "cell_type": "markdown",
   "metadata": {},
   "source": [
    "### Инициализация модели, задание оптимизатора и функции потерь"
   ]
  },
  {
   "cell_type": "code",
   "execution_count": 59,
   "metadata": {},
   "outputs": [],
   "source": [
    "model_conv = ConvModel(input_ch, hidden_ch, out_dim).to(device)\n",
    "optim = torch.optim.Adam(model_conv.parameters())\n",
    "loss_func = nn.CrossEntropyLoss()"
   ]
  },
  {
   "cell_type": "code",
   "execution_count": 60,
   "metadata": {},
   "outputs": [
    {
     "name": "stdout",
     "output_type": "stream",
     "text": [
      "epoch: 0, step: 0, loss_dataset_train: 2.3341121673583984\n",
      "epoch: 0, step: 200, loss_dataset_train: 0.24013137817382812\n",
      "epoch: 0, step: 400, loss_dataset_train: 0.29354095458984375\n",
      "epoch: 0, loss_dataset_test: 0.1142905205488205\n",
      "\n",
      "epoch: 1, step: 0, loss_dataset_train: 0.11480720341205597\n",
      "epoch: 1, step: 200, loss_dataset_train: 0.15109416842460632\n",
      "epoch: 1, step: 400, loss_dataset_train: 0.1405705213546753\n",
      "epoch: 1, loss_dataset_test: 0.09727016091346741\n",
      "\n",
      "epoch: 2, step: 0, loss_dataset_train: 0.0657680332660675\n",
      "epoch: 2, step: 200, loss_dataset_train: 0.08009779453277588\n",
      "epoch: 2, step: 400, loss_dataset_train: 0.1731330007314682\n",
      "epoch: 2, loss_dataset_test: 0.07427169382572174\n",
      "\n",
      "epoch: 3, step: 0, loss_dataset_train: 0.06371697783470154\n",
      "epoch: 3, step: 200, loss_dataset_train: 0.07795406132936478\n",
      "epoch: 3, step: 400, loss_dataset_train: 0.08013313263654709\n",
      "epoch: 3, loss_dataset_test: 0.06510334461927414\n",
      "\n",
      "epoch: 4, step: 0, loss_dataset_train: 0.05399704724550247\n",
      "epoch: 4, step: 200, loss_dataset_train: 0.11332537233829498\n",
      "epoch: 4, step: 400, loss_dataset_train: 0.05187970772385597\n",
      "epoch: 4, loss_dataset_test: 0.05616655573248863\n",
      "\n",
      "epoch: 5, step: 0, loss_dataset_train: 0.08317607641220093\n",
      "epoch: 5, step: 200, loss_dataset_train: 0.07861330360174179\n",
      "epoch: 5, step: 400, loss_dataset_train: 0.08482253551483154\n",
      "epoch: 5, loss_dataset_test: 0.051909562200307846\n",
      "\n",
      "epoch: 6, step: 0, loss_dataset_train: 0.015995875000953674\n",
      "epoch: 6, step: 200, loss_dataset_train: 0.09514842927455902\n",
      "epoch: 6, step: 400, loss_dataset_train: 0.13746939599514008\n",
      "epoch: 6, loss_dataset_test: 0.0597858801484108\n",
      "\n",
      "epoch: 7, step: 0, loss_dataset_train: 0.0572386160492897\n",
      "epoch: 7, step: 200, loss_dataset_train: 0.06370887160301208\n",
      "epoch: 7, step: 400, loss_dataset_train: 0.014894089661538601\n",
      "epoch: 7, loss_dataset_test: 0.05134430155158043\n",
      "\n",
      "epoch: 8, step: 0, loss_dataset_train: 0.014879632741212845\n",
      "epoch: 8, step: 200, loss_dataset_train: 0.08564687520265579\n",
      "epoch: 8, step: 400, loss_dataset_train: 0.030165430158376694\n",
      "epoch: 8, loss_dataset_test: 0.04242090508341789\n",
      "\n",
      "epoch: 9, step: 0, loss_dataset_train: 0.048174649477005005\n",
      "epoch: 9, step: 200, loss_dataset_train: 0.07145636528730392\n",
      "epoch: 9, step: 400, loss_dataset_train: 0.07492590695619583\n",
      "epoch: 9, loss_dataset_test: 0.0442851297557354\n",
      "\n",
      "epoch: 10, step: 0, loss_dataset_train: 0.04002474993467331\n",
      "epoch: 10, step: 200, loss_dataset_train: 0.04113053157925606\n",
      "epoch: 10, step: 400, loss_dataset_train: 0.022539665922522545\n",
      "epoch: 10, loss_dataset_test: 0.03481808677315712\n",
      "\n",
      "epoch: 11, step: 0, loss_dataset_train: 0.12501926720142365\n",
      "epoch: 11, step: 200, loss_dataset_train: 0.14491426944732666\n",
      "epoch: 11, step: 400, loss_dataset_train: 0.00819650012999773\n",
      "epoch: 11, loss_dataset_test: 0.06005765497684479\n",
      "\n",
      "epoch: 12, step: 0, loss_dataset_train: 0.14416784048080444\n",
      "epoch: 12, step: 200, loss_dataset_train: 0.16438071429729462\n",
      "epoch: 12, step: 400, loss_dataset_train: 0.011254725977778435\n",
      "epoch: 12, loss_dataset_test: 0.03267526626586914\n",
      "\n",
      "epoch: 13, step: 0, loss_dataset_train: 0.016382034868001938\n",
      "epoch: 13, step: 200, loss_dataset_train: 0.02673495188355446\n",
      "epoch: 13, step: 400, loss_dataset_train: 0.024054469540715218\n",
      "epoch: 13, loss_dataset_test: 0.04184846952557564\n",
      "\n",
      "epoch: 14, step: 0, loss_dataset_train: 0.07296653091907501\n",
      "epoch: 14, step: 200, loss_dataset_train: 0.0009357922826893628\n",
      "epoch: 14, step: 400, loss_dataset_train: 0.10108013451099396\n",
      "epoch: 14, loss_dataset_test: 0.03622671216726303\n",
      "\n",
      "epoch: 15, step: 0, loss_dataset_train: 0.020007692277431488\n",
      "epoch: 15, step: 200, loss_dataset_train: 0.06453925371170044\n",
      "epoch: 15, step: 400, loss_dataset_train: 0.016320431604981422\n",
      "epoch: 15, loss_dataset_test: 0.04211823269724846\n",
      "\n",
      "epoch: 16, step: 0, loss_dataset_train: 0.02428688481450081\n",
      "epoch: 16, step: 200, loss_dataset_train: 0.07327321171760559\n",
      "epoch: 16, step: 400, loss_dataset_train: 0.04894409328699112\n",
      "epoch: 16, loss_dataset_test: 0.04327461123466492\n",
      "\n",
      "epoch: 17, step: 0, loss_dataset_train: 0.07020894438028336\n",
      "epoch: 17, step: 200, loss_dataset_train: 0.11368170380592346\n",
      "epoch: 17, step: 400, loss_dataset_train: 0.024022450670599937\n",
      "epoch: 17, loss_dataset_test: 0.03366615250706673\n",
      "\n",
      "epoch: 18, step: 0, loss_dataset_train: 0.042478740215301514\n",
      "epoch: 18, step: 200, loss_dataset_train: 0.16341881453990936\n",
      "epoch: 18, step: 400, loss_dataset_train: 0.08061376214027405\n",
      "epoch: 18, loss_dataset_test: 0.03725922852754593\n",
      "\n",
      "epoch: 19, step: 0, loss_dataset_train: 0.021010220050811768\n",
      "epoch: 19, step: 200, loss_dataset_train: 0.032567888498306274\n",
      "epoch: 19, step: 400, loss_dataset_train: 0.047585129737854004\n",
      "epoch: 19, loss_dataset_test: 0.03624889254570007\n",
      "\n",
      "epoch: 20, step: 0, loss_dataset_train: 0.005645144730806351\n",
      "epoch: 20, step: 200, loss_dataset_train: 0.07387738674879074\n",
      "epoch: 20, step: 400, loss_dataset_train: 0.02183946780860424\n",
      "epoch: 20, loss_dataset_test: 0.060851164162158966\n",
      "\n",
      "epoch: 21, step: 0, loss_dataset_train: 0.08112364262342453\n",
      "epoch: 21, step: 200, loss_dataset_train: 0.09162632375955582\n",
      "epoch: 21, step: 400, loss_dataset_train: 0.023614341393113136\n",
      "epoch: 21, loss_dataset_test: 0.032777734100818634\n",
      "\n",
      "epoch: 22, step: 0, loss_dataset_train: 0.061950452625751495\n",
      "epoch: 22, step: 200, loss_dataset_train: 0.09111544489860535\n",
      "epoch: 22, step: 400, loss_dataset_train: 0.001731459517031908\n",
      "epoch: 22, loss_dataset_test: 0.03017561137676239\n",
      "\n",
      "epoch: 23, step: 0, loss_dataset_train: 0.03495416045188904\n",
      "epoch: 23, step: 200, loss_dataset_train: 0.005170966032892466\n",
      "epoch: 23, step: 400, loss_dataset_train: 0.04337923601269722\n",
      "epoch: 23, loss_dataset_test: 0.04691249504685402\n",
      "\n",
      "epoch: 24, step: 0, loss_dataset_train: 0.039212826639413834\n",
      "epoch: 24, step: 200, loss_dataset_train: 0.026238447055220604\n",
      "epoch: 24, step: 400, loss_dataset_train: 0.13167549669742584\n",
      "epoch: 24, loss_dataset_test: 0.03882874920964241\n",
      "\n",
      "epoch: 25, step: 0, loss_dataset_train: 0.05832057446241379\n",
      "epoch: 25, step: 200, loss_dataset_train: 0.035786788910627365\n",
      "epoch: 25, step: 400, loss_dataset_train: 0.01136680506169796\n",
      "epoch: 25, loss_dataset_test: 0.024764949455857277\n",
      "\n",
      "epoch: 26, step: 0, loss_dataset_train: 0.0023065705318003893\n",
      "epoch: 26, step: 200, loss_dataset_train: 0.03776925429701805\n",
      "epoch: 26, step: 400, loss_dataset_train: 0.007139701396226883\n",
      "epoch: 26, loss_dataset_test: 0.04637229070067406\n",
      "\n",
      "epoch: 27, step: 0, loss_dataset_train: 0.09926049411296844\n",
      "epoch: 27, step: 200, loss_dataset_train: 0.023888278752565384\n",
      "epoch: 27, step: 400, loss_dataset_train: 0.09148560464382172\n",
      "epoch: 27, loss_dataset_test: 0.040164269506931305\n",
      "\n",
      "epoch: 28, step: 0, loss_dataset_train: 0.0005811635637655854\n",
      "epoch: 28, step: 200, loss_dataset_train: 0.026005789637565613\n",
      "epoch: 28, step: 400, loss_dataset_train: 0.030053183436393738\n",
      "epoch: 28, loss_dataset_test: 0.03260244429111481\n",
      "\n",
      "epoch: 29, step: 0, loss_dataset_train: 0.04059812054038048\n",
      "epoch: 29, step: 200, loss_dataset_train: 0.004454922396689653\n",
      "epoch: 29, step: 400, loss_dataset_train: 0.009668148122727871\n",
      "epoch: 29, loss_dataset_test: 0.02769075520336628\n",
      "\n"
     ]
    }
   ],
   "source": [
    "# для каждой эпохи\n",
    "for epoch in range(n_epochs):\n",
    "    \n",
    "    # случайное разбиение обучающей выборки на батчи\n",
    "    trainloader = DataLoader(dataset_train, \n",
    "                             batch_size,\n",
    "                             shuffle=True, \n",
    "                             collate_fn=collate_fn_conv, \n",
    "                             drop_last = True)\n",
    "    \n",
    "    # перевод модель в режим обучения\n",
    "    model_conv.train()\n",
    "    # итератор по батчам (у метода DataLoader)\n",
    "    for i, batch in enumerate(trainloader):\n",
    "        # обнуление градиентов (в торче они накапливаются с каждым бэквордом)\n",
    "        optim.zero_grad()\n",
    "        # передача в модель батча - выполнение предсказания\n",
    "        predict = model_conv(batch['data'].to(device))\n",
    "        # расчет функции потерь (по предсказанию и таргету батча)\n",
    "        loss = loss_func(predict, batch['target'].to(device))\n",
    "        # расчет градиентов (в торче работает autograd)\n",
    "        loss.backward()\n",
    "        # обновление весов (встроенный в оптимизатор метод)\n",
    "        optim.step()\n",
    "        # каждые 200 шагов выводим статистику по модели\n",
    "        if i % 200 == 0:\n",
    "            print(f'epoch: {epoch}, step: {i}, loss_dataset_train: {loss.item()}')\n",
    "    \n",
    "    # случайное разбиение тестовой выборки на батчи\n",
    "    testloader = DataLoader(dataset_test, \n",
    "                            batch_size=len(dataset_test.data),\n",
    "                            shuffle=True, \n",
    "                            collate_fn=collate_fn_conv, \n",
    "                            drop_last = False)\n",
    "    \n",
    "    # перевод модель в режим инференса\n",
    "    model_conv.eval()\n",
    "    for i, batch in enumerate(testloader):\n",
    "        # передача в модель батча (батч 1) - выполнение предсказания        \n",
    "        predict = model_conv(batch['data'].to(device))\n",
    "        # расчет функции потерь (по предсказанию и таргету батча)\n",
    "        loss = loss_func(predict, batch['target'].to(device))\n",
    "        # выводим loss по тестовой выборке\n",
    "        print(f'epoch: {epoch}, loss_dataset_test: {loss.item()}')\n",
    "        print()"
   ]
  },
  {
   "cell_type": "markdown",
   "metadata": {},
   "source": [
    "### Посмотрим результаты предсказания на обучающей выборке и на тестовой выборках"
   ]
  },
  {
   "cell_type": "code",
   "execution_count": 61,
   "metadata": {},
   "outputs": [],
   "source": [
    "# Функция вывода по номеру элемента (может быть случайным) изображения предсказанного и реального значения\n",
    "def result(model, train_or_test, n_item=None):\n",
    "    if train_or_test == \"train\":\n",
    "        if n_item == None:\n",
    "            n_item = torch.randint(0, len(dataset_train)-1, (1, 1)).squeeze().tolist()\n",
    "        else:\n",
    "            n_item = n_item\n",
    "        image = dataset_train.data[n_item].detach().numpy()\n",
    "        data = dataset_train.data[n_item].unsqueeze(0).unsqueeze(0).to(device).float()\n",
    "        target = dataset_train.targets[n_item].tolist()\n",
    "        print(f\"Обучающая выборка, элемент № {n_item}\")\n",
    "    elif train_or_test == \"test\":\n",
    "        if n_item == None:\n",
    "            n_item = torch.randint(0, len(dataset_test)-1, (1, 1)).squeeze().tolist()\n",
    "        else:\n",
    "            n_item = n_item\n",
    "        image = dataset_test.data[n_item].detach().numpy()\n",
    "        #data = dataset_test.data[n_item].unsqueeze(0).view(1, -1).to(device).float()\n",
    "        data = dataset_test.data[n_item].unsqueeze(0).unsqueeze(0).to(device).float()\n",
    "        target = dataset_test.targets[n_item].tolist()\n",
    "        print(f\"Тестовая выборка, элемент № {n_item}\")\n",
    "    else:\n",
    "        print(\"Нужно указать датасет: 'train' или 'test'\") \n",
    "    if train_or_test == \"train\" or train_or_test == \"test\":       \n",
    "        model.eval()\n",
    "        plt.imshow(image)\n",
    "        plt.show()\n",
    "        predict = torch.argmax(model_conv(data)).squeeze().cpu().detach().tolist()\n",
    "        print(f\"predict: {predict}\")\n",
    "        print(f\"true:    {target}\")"
   ]
  },
  {
   "cell_type": "code",
   "execution_count": 62,
   "metadata": {},
   "outputs": [
    {
     "name": "stdout",
     "output_type": "stream",
     "text": [
      "Обучающая выборка, элемент № 28677\n"
     ]
    },
    {
     "data": {
      "image/png": "[encoded data removed]",
      "text/plain": [
       "<Figure size 640x480 with 1 Axes>"
      ]
     },
     "metadata": {},
     "output_type": "display_data"
    },
    {
     "name": "stdout",
     "output_type": "stream",
     "text": [
      "predict: 9\n",
      "true:    9\n"
     ]
    }
   ],
   "source": [
    "result(model_conv, 'train')"
   ]
  },
  {
   "cell_type": "code",
   "execution_count": 63,
   "metadata": {},
   "outputs": [
    {
     "name": "stdout",
     "output_type": "stream",
     "text": [
      "Тестовая выборка, элемент № 1623\n"
     ]
    },
    {
     "data": {
      "image/png": "[encoded data removed]",
      "text/plain": [
       "<Figure size 640x480 with 1 Axes>"
      ]
     },
     "metadata": {},
     "output_type": "display_data"
    },
    {
     "name": "stdout",
     "output_type": "stream",
     "text": [
      "predict: 0\n",
      "true:    0\n"
     ]
    }
   ],
   "source": [
    "result(model_conv, 'test')"
   ]
  },
  {
   "cell_type": "markdown",
   "metadata": {},
   "source": [
    "Посчитаем количество неправильно предсказанных элементов на обучающей и на тестовой выборках"
   ]
  },
  {
   "cell_type": "code",
   "execution_count": 64,
   "metadata": {},
   "outputs": [
    {
     "name": "stdout",
     "output_type": "stream",
     "text": [
      "Общее количество элементов обучающей выборки:                        60000\n",
      "Количество неправильно предсказанных элементов на обучающей выборке: 400\n",
      "Процент правильно предсказанных элементов на обучающей выборке:      99.33%\n"
     ]
    }
   ],
   "source": [
    "uncorrect_items = []\n",
    "with torch.no_grad():\n",
    "    model_conv.eval()\n",
    "    for i in range(len(dataset_train)):\n",
    "        target_predict = torch.argmax(model_conv(dataset_train.data[i].unsqueeze(0).unsqueeze(0).to(device).float())).squeeze().cpu().detach().tolist()\n",
    "        target_true = dataset_train.targets[i].tolist()\n",
    "        if target_predict != target_true:\n",
    "            uncorrect_items.append(i)\n",
    "print(f\"Общее количество элементов обучающей выборки:                        {len(dataset_train)}\")\n",
    "print(f\"Количество неправильно предсказанных элементов на обучающей выборке: {len(uncorrect_items)}\")\n",
    "print(f\"Процент правильно предсказанных элементов на обучающей выборке:      {(1-len(uncorrect_items)/len(dataset_train)):.2%}\")"
   ]
  },
  {
   "cell_type": "code",
   "execution_count": 65,
   "metadata": {},
   "outputs": [
    {
     "name": "stdout",
     "output_type": "stream",
     "text": [
      "Общее количество элементов тестовой выборки:                        10000\n",
      "Количество неправильно предсказанных элементов на тестовой выборке: 90\n",
      "Процент правильно предсказанных элементов на тестовой выборке:      99.10%\n",
      "Номера неправильно предсказанных элементов на тестовой выборке:\n",
      "[8, 247, 358, 449, 543, 582, 674, 716, 740, 938, 947, 1039, 1112, 1232, 1247, 1319, 1364, 1522, 1611, 1621, 1681, 1686, 1737, 1773, 1790, 1878, 1901, 2018, 2035, 2040, 2070, 2118, 2129, 2130, 2182, 2266, 2343, 2369, 2414, 2597, 2654, 2896, 2927, 2939, 2953, 3062, 3073, 3225, 3289, 3384, 3451, 3457, 3475, 3520, 3534, 3558, 3601, 3626, 3808, 3818, 3906, 3926, 4176, 4400, 4443, 4477, 4507, 4571, 4639, 4731, 4740, 4761, 4783, 4807, 5331, 5937, 5955, 6572, 6625, 6783, 8325, 8376, 8408, 9009, 9015, 9664, 9729, 9749, 9770, 9850]\n"
     ]
    }
   ],
   "source": [
    "uncorrect_items = []\n",
    "with torch.no_grad():\n",
    "    model_conv.eval()\n",
    "    for i in range(len(dataset_test)):\n",
    "        target_predict = torch.argmax(model_conv(dataset_test.data[i].unsqueeze(0).unsqueeze(0).to(device).float())).squeeze().cpu().detach().tolist()\n",
    "        target_true = dataset_test.targets[i].tolist()\n",
    "        if target_predict != target_true:\n",
    "            uncorrect_items.append(i)\n",
    "print(f\"Общее количество элементов тестовой выборки:                        {len(dataset_test)}\")\n",
    "print(f\"Количество неправильно предсказанных элементов на тестовой выборке: {len(uncorrect_items)}\")\n",
    "print(f\"Процент правильно предсказанных элементов на тестовой выборке:      {(1-len(uncorrect_items)/len(dataset_test)):.2%}\")\n",
    "print(\"Номера неправильно предсказанных элементов на тестовой выборке:\")\n",
    "print(uncorrect_items)"
   ]
  },
  {
   "cell_type": "markdown",
   "metadata": {},
   "source": [
    "Выводы:\n",
    "- метрика на обучающей выборке на моделях сопроставима;\n",
    "- на тестовых данных сверточная сеть показывает значительно лучшее значение метрики"
   ]
  }
 ],
 "metadata": {
  "kernelspec": {
   "display_name": "Python 3.10.6 ('ds_env')",
   "language": "python",
   "name": "python3"
  },
  "language_info": {
   "codemirror_mode": {
    "name": "ipython",
    "version": 3
   },
   "file_extension": ".py",
   "mimetype": "text/x-python",
   "name": "python",
   "nbconvert_exporter": "python",
   "pygments_lexer": "ipython3",
   "version": "3.10.6"
  },
  "orig_nbformat": 4,
  "vscode": {
   "interpreter": {
    "hash": "412736b7ad9a6211ebe07fddd452488530ba48e4d95dcf46d993658ed665f40c"
   }
  }
 },
 "nbformat": 4,
 "nbformat_minor": 2
}
